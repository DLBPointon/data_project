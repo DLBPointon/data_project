{
 "cells": [
  {
   "cell_type": "code",
   "execution_count": 37,
   "metadata": {},
   "outputs": [
    {
     "name": "stderr",
     "output_type": "stream",
     "text": [
      "<ipython-input-37-3e4fd2172445>:37: SettingWithCopyWarning:\n",
      "\n",
      "\n",
      "A value is trying to be set on a copy of a slice from a DataFrame.\n",
      "Try using .loc[row_indexer,col_indexer] = value instead\n",
      "\n",
      "See the caveats in the documentation: https://pandas.pydata.org/pandas-docs/stable/user_guide/indexing.html#returning-a-view-versus-a-copy\n",
      "\n",
      "<ipython-input-37-3e4fd2172445>:38: SettingWithCopyWarning:\n",
      "\n",
      "\n",
      "A value is trying to be set on a copy of a slice from a DataFrame.\n",
      "Try using .loc[row_indexer,col_indexer] = value instead\n",
      "\n",
      "See the caveats in the documentation: https://pandas.pydata.org/pandas-docs/stable/user_guide/indexing.html#returning-a-view-versus-a-copy\n",
      "\n"
     ]
    },
    {
     "data": {
      "application/vnd.plotly.v1+json": {
       "config": {
        "plotlyServerURL": "https://plot.ly"
       },
       "data": [
        {
         "hovertemplate": "color=idMyoTess1_1.0<br>x=%{x}<br>y=%{y}<extra></extra>",
         "legendgroup": "idMyoTess1_1.0",
         "marker": {
          "color": "#636efa",
          "symbol": "circle"
         },
         "mode": "markers",
         "name": "idMyoTess1_1.0",
         "orientation": "h",
         "showlegend": true,
         "type": "scatter",
         "x": [
          249257482
         ],
         "xaxis": "x",
         "y": [
          "0.4"
         ],
         "yaxis": "y"
        },
        {
         "hovertemplate": "color=idBomDisc1_1<br>x=%{x}<br>y=%{y}<extra></extra>",
         "legendgroup": "idBomDisc1_1",
         "marker": {
          "color": "#EF553B",
          "symbol": "circle"
         },
         "mode": "markers",
         "name": "idBomDisc1_1",
         "orientation": "h",
         "showlegend": true,
         "type": "scatter",
         "x": [
          279827877
         ],
         "xaxis": "x",
         "y": [
          "0.4"
         ],
         "yaxis": "y"
        },
        {
         "hovertemplate": "color=idCluTigr1_1.0<br>x=%{x}<br>y=%{y}<extra></extra>",
         "legendgroup": "idCluTigr1_1.0",
         "marker": {
          "color": "#00cc96",
          "symbol": "circle"
         },
         "mode": "markers",
         "name": "idCluTigr1_1.0",
         "orientation": "h",
         "showlegend": true,
         "type": "scatter",
         "x": [
          1216377468
         ],
         "xaxis": "x",
         "y": [
          "0.6"
         ],
         "yaxis": "y"
        },
        {
         "hovertemplate": "color=idBraLaph1_1.0<br>x=%{x}<br>y=%{y}<extra></extra>",
         "legendgroup": "idBraLaph1_1.0",
         "marker": {
          "color": "#ab63fa",
          "symbol": "circle"
         },
         "mode": "markers",
         "name": "idBraLaph1_1.0",
         "orientation": "h",
         "showlegend": true,
         "type": "scatter",
         "x": [
          1071394021
         ],
         "xaxis": "x",
         "y": [
          "0.6"
         ],
         "yaxis": "y"
        },
        {
         "hovertemplate": "color=idVolInan1_1<br>x=%{x}<br>y=%{y}<extra></extra>",
         "legendgroup": "idVolInan1_1",
         "marker": {
          "color": "#FFA15A",
          "symbol": "circle"
         },
         "mode": "markers",
         "name": "idVolInan1_1",
         "orientation": "h",
         "showlegend": true,
         "type": "scatter",
         "x": [
          961446857
         ],
         "xaxis": "x",
         "y": [
          "0.6"
         ],
         "yaxis": "y"
        },
        {
         "hovertemplate": "color=idCriBerb1_1<br>x=%{x}<br>y=%{y}<extra></extra>",
         "legendgroup": "idCriBerb1_1",
         "marker": {
          "color": "#19d3f3",
          "symbol": "circle"
         },
         "mode": "markers",
         "name": "idCriBerb1_1",
         "orientation": "h",
         "showlegend": true,
         "type": "scatter",
         "x": [
          410379867
         ],
         "xaxis": "x",
         "y": [
          "0.7"
         ],
         "yaxis": "y"
        },
        {
         "hovertemplate": "color=idCheVulp2_1.0<br>x=%{x}<br>y=%{y}<extra></extra>",
         "legendgroup": "idCheVulp2_1.0",
         "marker": {
          "color": "#FF6692",
          "symbol": "circle"
         },
         "mode": "markers",
         "name": "idCheVulp2_1.0",
         "orientation": "h",
         "showlegend": true,
         "type": "scatter",
         "x": [
          405365642
         ],
         "xaxis": "x",
         "y": [
          "0.7"
         ],
         "yaxis": "y"
        },
        {
         "hovertemplate": "color=idPhyMeln1_1.0<br>x=%{x}<br>y=%{y}<extra></extra>",
         "legendgroup": "idPhyMeln1_1.0",
         "marker": {
          "color": "#B6E880",
          "symbol": "circle"
         },
         "mode": "markers",
         "name": "idPhyMeln1_1.0",
         "orientation": "h",
         "showlegend": true,
         "type": "scatter",
         "x": [
          739740587
         ],
         "xaxis": "x",
         "y": [
          "0.8"
         ],
         "yaxis": "y"
        },
        {
         "hovertemplate": "color=idXylSylv2_1<br>x=%{x}<br>y=%{y}<extra></extra>",
         "legendgroup": "idXylSylv2_1",
         "marker": {
          "color": "#FF97FF",
          "symbol": "circle"
         },
         "mode": "markers",
         "name": "idXylSylv2_1",
         "orientation": "h",
         "showlegend": true,
         "type": "scatter",
         "x": [
          534819879
         ],
         "xaxis": "x",
         "y": [
          "0.8"
         ],
         "yaxis": "y"
        },
        {
         "hovertemplate": "color=idTheAcut1_1.0<br>x=%{x}<br>y=%{y}<extra></extra>",
         "legendgroup": "idTheAcut1_1.0",
         "marker": {
          "color": "#FECB52",
          "symbol": "circle"
         },
         "mode": "markers",
         "name": "idTheAcut1_1.0",
         "orientation": "h",
         "showlegend": true,
         "type": "scatter",
         "x": [
          692880428
         ],
         "xaxis": "x",
         "y": [
          "0.8"
         ],
         "yaxis": "y"
        },
        {
         "hovertemplate": "color=idTacLuri1_1.0<br>x=%{x}<br>y=%{y}<extra></extra>",
         "legendgroup": "idTacLuri1_1.0",
         "marker": {
          "color": "#636efa",
          "symbol": "circle"
         },
         "mode": "markers",
         "name": "idTacLuri1_1.0",
         "orientation": "h",
         "showlegend": true,
         "type": "scatter",
         "x": [
          899158429
         ],
         "xaxis": "x",
         "y": [
          "0.9"
         ],
         "yaxis": "y"
        },
        {
         "hovertemplate": "color=idCorMarg1_1<br>x=%{x}<br>y=%{y}<extra></extra>",
         "legendgroup": "idCorMarg1_1",
         "marker": {
          "color": "#EF553B",
          "symbol": "circle"
         },
         "mode": "markers",
         "name": "idCorMarg1_1",
         "orientation": "h",
         "showlegend": true,
         "type": "scatter",
         "x": [
          979662365
         ],
         "xaxis": "x",
         "y": [
          "0.9"
         ],
         "yaxis": "y"
        },
        {
         "hovertemplate": "color=idVolInfl1_1.0<br>x=%{x}<br>y=%{y}<extra></extra>",
         "legendgroup": "idVolInfl1_1.0",
         "marker": {
          "color": "#00cc96",
          "symbol": "circle"
         },
         "mode": "markers",
         "name": "idVolInfl1_1.0",
         "orientation": "h",
         "showlegend": true,
         "type": "scatter",
         "x": [
          753463946
         ],
         "xaxis": "x",
         "y": [
          "0.9"
         ],
         "yaxis": "y"
        },
        {
         "hovertemplate": "color=idPolAngu1_1.0<br>x=%{x}<br>y=%{y}<extra></extra>",
         "legendgroup": "idPolAngu1_1.0",
         "marker": {
          "color": "#ab63fa",
          "symbol": "circle"
         },
         "mode": "markers",
         "name": "idPolAngu1_1.0",
         "orientation": "h",
         "showlegend": true,
         "type": "scatter",
         "x": [
          1370491206
         ],
         "xaxis": "x",
         "y": [
          "0.9"
         ],
         "yaxis": "y"
        },
        {
         "hovertemplate": "color=idBomMajo1_1.0<br>x=%{x}<br>y=%{y}<extra></extra>",
         "legendgroup": "idBomMajo1_1.0",
         "marker": {
          "color": "#FFA15A",
          "symbol": "circle"
         },
         "mode": "markers",
         "name": "idBomMajo1_1.0",
         "orientation": "h",
         "showlegend": true,
         "type": "scatter",
         "x": [
          304311880
         ],
         "xaxis": "x",
         "y": [
          "1.0"
         ],
         "yaxis": "y"
        },
        {
         "hovertemplate": "color=idMyaFlor2_1.0<br>x=%{x}<br>y=%{y}<extra></extra>",
         "legendgroup": "idMyaFlor2_1.0",
         "marker": {
          "color": "#19d3f3",
          "symbol": "circle"
         },
         "mode": "markers",
         "name": "idMyaFlor2_1.0",
         "orientation": "h",
         "showlegend": true,
         "type": "scatter",
         "x": [
          485087974
         ],
         "xaxis": "x",
         "y": [
          "1.0"
         ],
         "yaxis": "y"
        },
        {
         "hovertemplate": "color=idMacAtri3_1.0<br>x=%{x}<br>y=%{y}<extra></extra>",
         "legendgroup": "idMacAtri3_1.0",
         "marker": {
          "color": "#FF6692",
          "symbol": "circle"
         },
         "mode": "markers",
         "name": "idMacAtri3_1.0",
         "orientation": "h",
         "showlegend": true,
         "type": "scatter",
         "x": [
          268627744
         ],
         "xaxis": "x",
         "y": [
          "1.1"
         ],
         "yaxis": "y"
        },
        {
         "hovertemplate": "color=idPolAmen1_1.0<br>x=%{x}<br>y=%{y}<extra></extra>",
         "legendgroup": "idPolAmen1_1.0",
         "marker": {
          "color": "#B6E880",
          "symbol": "circle"
         },
         "mode": "markers",
         "name": "idPolAmen1_1.0",
         "orientation": "h",
         "showlegend": true,
         "type": "scatter",
         "x": [
          1270755911
         ],
         "xaxis": "x",
         "y": [
          "1.1"
         ],
         "yaxis": "y"
        },
        {
         "hovertemplate": "color=idEriPert2_1<br>x=%{x}<br>y=%{y}<extra></extra>",
         "legendgroup": "idEriPert2_1",
         "marker": {
          "color": "#FF97FF",
          "symbol": "circle"
         },
         "mode": "markers",
         "name": "idEriPert2_1",
         "orientation": "h",
         "showlegend": true,
         "type": "scatter",
         "x": [
          482075123
         ],
         "xaxis": "x",
         "y": [
          "1.1"
         ],
         "yaxis": "y"
        },
        {
         "hovertemplate": "color=idLeuLate1_1.0<br>x=%{x}<br>y=%{y}<extra></extra>",
         "legendgroup": "idLeuLate1_1.0",
         "marker": {
          "color": "#FECB52",
          "symbol": "circle"
         },
         "mode": "markers",
         "name": "idLeuLate1_1.0",
         "orientation": "h",
         "showlegend": true,
         "type": "scatter",
         "x": [
          613542547
         ],
         "xaxis": "x",
         "y": [
          "1.1"
         ],
         "yaxis": "y"
        },
        {
         "hovertemplate": "color=idProAzur1_1.0<br>x=%{x}<br>y=%{y}<extra></extra>",
         "legendgroup": "idProAzur1_1.0",
         "marker": {
          "color": "#636efa",
          "symbol": "circle"
         },
         "mode": "markers",
         "name": "idProAzur1_1.0",
         "orientation": "h",
         "showlegend": true,
         "type": "scatter",
         "x": [
          874236519
         ],
         "xaxis": "x",
         "y": [
          "1.2"
         ],
         "yaxis": "y"
        },
        {
         "hovertemplate": "color=idBibMarc1_1<br>x=%{x}<br>y=%{y}<extra></extra>",
         "legendgroup": "idBibMarc1_1",
         "marker": {
          "color": "#EF553B",
          "symbol": "circle"
         },
         "mode": "markers",
         "name": "idBibMarc1_1",
         "orientation": "h",
         "showlegend": true,
         "type": "scatter",
         "x": [
          340009463
         ],
         "xaxis": "x",
         "y": [
          "1.2"
         ],
         "yaxis": "y"
        },
        {
         "hovertemplate": "color=idNowFero1_1.0<br>x=%{x}<br>y=%{y}<extra></extra>",
         "legendgroup": "idNowFero1_1.0",
         "marker": {
          "color": "#00cc96",
          "symbol": "circle"
         },
         "mode": "markers",
         "name": "idNowFero1_1.0",
         "orientation": "h",
         "showlegend": true,
         "type": "scatter",
         "x": [
          670697881
         ],
         "xaxis": "x",
         "y": [
          "1.3"
         ],
         "yaxis": "y"
        },
        {
         "hovertemplate": "color=idBelPand1_2.0<br>x=%{x}<br>y=%{y}<extra></extra>",
         "legendgroup": "idBelPand1_2.0",
         "marker": {
          "color": "#ab63fa",
          "symbol": "circle"
         },
         "mode": "markers",
         "name": "idBelPand1_2.0",
         "orientation": "h",
         "showlegend": true,
         "type": "scatter",
         "x": [
          617022296
         ],
         "xaxis": "x",
         "y": [
          "1.3"
         ],
         "yaxis": "y"
        },
        {
         "hovertemplate": "color=idEpiGros1_1.0<br>x=%{x}<br>y=%{y}<extra></extra>",
         "legendgroup": "idEpiGros1_1.0",
         "marker": {
          "color": "#FFA15A",
          "symbol": "circle"
         },
         "mode": "markers",
         "name": "idEpiGros1_1.0",
         "orientation": "h",
         "showlegend": true,
         "type": "scatter",
         "x": [
          556592610
         ],
         "xaxis": "x",
         "y": [
          "1.3"
         ],
         "yaxis": "y"
        },
        {
         "hovertemplate": "color=idEriTena2_1<br>x=%{x}<br>y=%{y}<extra></extra>",
         "legendgroup": "idEriTena2_1",
         "marker": {
          "color": "#19d3f3",
          "symbol": "circle"
         },
         "mode": "markers",
         "name": "idEriTena2_1",
         "orientation": "h",
         "showlegend": true,
         "type": "scatter",
         "x": [
          487002646
         ],
         "xaxis": "x",
         "y": [
          "1.3"
         ],
         "yaxis": "y"
        },
        {
         "hovertemplate": "color=idEpiSucc1_1.0<br>x=%{x}<br>y=%{y}<extra></extra>",
         "legendgroup": "idEpiSucc1_1.0",
         "marker": {
          "color": "#FF6692",
          "symbol": "circle"
         },
         "mode": "markers",
         "name": "idEpiSucc1_1.0",
         "orientation": "h",
         "showlegend": true,
         "type": "scatter",
         "x": [
          398107694
         ],
         "xaxis": "x",
         "y": [
          "1.3"
         ],
         "yaxis": "y"
        },
        {
         "hovertemplate": "color=idXanPedi1_1<br>x=%{x}<br>y=%{y}<extra></extra>",
         "legendgroup": "idXanPedi1_1",
         "marker": {
          "color": "#B6E880",
          "symbol": "circle"
         },
         "mode": "markers",
         "name": "idXanPedi1_1",
         "orientation": "h",
         "showlegend": true,
         "type": "scatter",
         "x": [
          977153996
         ],
         "xaxis": "x",
         "y": [
          "1.4"
         ],
         "yaxis": "y"
        },
        {
         "hovertemplate": "color=idSyrPipi1_1<br>x=%{x}<br>y=%{y}<extra></extra>",
         "legendgroup": "idSyrPipi1_1",
         "marker": {
          "color": "#FF97FF",
          "symbol": "circle"
         },
         "mode": "markers",
         "name": "idSyrPipi1_1",
         "orientation": "h",
         "showlegend": true,
         "type": "scatter",
         "x": [
          318506762
         ],
         "xaxis": "x",
         "y": [
          "1.4"
         ],
         "yaxis": "y"
        },
        {
         "hovertemplate": "color=idSicFerr1_1<br>x=%{x}<br>y=%{y}<extra></extra>",
         "legendgroup": "idSicFerr1_1",
         "marker": {
          "color": "#FECB52",
          "symbol": "circle"
         },
         "mode": "markers",
         "name": "idSicFerr1_1",
         "orientation": "h",
         "showlegend": true,
         "type": "scatter",
         "x": [
          311916451
         ],
         "xaxis": "x",
         "y": [
          "1.4"
         ],
         "yaxis": "y"
        },
        {
         "hovertemplate": "color=idStoLuna1_1<br>x=%{x}<br>y=%{y}<extra></extra>",
         "legendgroup": "idStoLuna1_1",
         "marker": {
          "color": "#636efa",
          "symbol": "circle"
         },
         "mode": "markers",
         "name": "idStoLuna1_1",
         "orientation": "h",
         "showlegend": true,
         "type": "scatter",
         "x": [
          728083889
         ],
         "xaxis": "x",
         "y": [
          "1.7"
         ],
         "yaxis": "y"
        },
        {
         "hovertemplate": "color=idTacFera2_1<br>x=%{x}<br>y=%{y}<extra></extra>",
         "legendgroup": "idTacFera2_1",
         "marker": {
          "color": "#EF553B",
          "symbol": "circle"
         },
         "mode": "markers",
         "name": "idTacFera2_1",
         "orientation": "h",
         "showlegend": true,
         "type": "scatter",
         "x": [
          751720058
         ],
         "xaxis": "x",
         "y": [
          "1.7"
         ],
         "yaxis": "y"
        },
        {
         "hovertemplate": "color=idEupLati1_1.0<br>x=%{x}<br>y=%{y}<extra></extra>",
         "legendgroup": "idEupLati1_1.0",
         "marker": {
          "color": "#00cc96",
          "symbol": "circle"
         },
         "mode": "markers",
         "name": "idEupLati1_1.0",
         "orientation": "h",
         "showlegend": true,
         "type": "scatter",
         "x": [
          846338106
         ],
         "xaxis": "x",
         "y": [
          "1.8"
         ],
         "yaxis": "y"
        },
        {
         "hovertemplate": "color=idSphTaen1_1.0<br>x=%{x}<br>y=%{y}<extra></extra>",
         "legendgroup": "idSphTaen1_1.0",
         "marker": {
          "color": "#ab63fa",
          "symbol": "circle"
         },
         "mode": "markers",
         "name": "idSphTaen1_1.0",
         "orientation": "h",
         "showlegend": true,
         "type": "scatter",
         "x": [
          609254214
         ],
         "xaxis": "x",
         "y": [
          "2.0"
         ],
         "yaxis": "y"
        },
        {
         "hovertemplate": "color=idGymRotn1_2.0<br>x=%{x}<br>y=%{y}<extra></extra>",
         "legendgroup": "idGymRotn1_2.0",
         "marker": {
          "color": "#FFA15A",
          "symbol": "circle"
         },
         "mode": "markers",
         "name": "idGymRotn1_2.0",
         "orientation": "h",
         "showlegend": true,
         "type": "scatter",
         "x": [
          779127282
         ],
         "xaxis": "x",
         "y": [
          "2.0"
         ],
         "yaxis": "y"
        },
        {
         "hovertemplate": "color=idScaPyra1_1<br>x=%{x}<br>y=%{y}<extra></extra>",
         "legendgroup": "idScaPyra1_1",
         "marker": {
          "color": "#19d3f3",
          "symbol": "circle"
         },
         "mode": "markers",
         "name": "idScaPyra1_1",
         "orientation": "h",
         "showlegend": true,
         "type": "scatter",
         "x": [
          320029822
         ],
         "xaxis": "x",
         "y": [
          "2.1"
         ],
         "yaxis": "y"
        },
        {
         "hovertemplate": "color=idDasAlbo1_1.0<br>x=%{x}<br>y=%{y}<extra></extra>",
         "legendgroup": "idDasAlbo1_1.0",
         "marker": {
          "color": "#FF6692",
          "symbol": "circle"
         },
         "mode": "markers",
         "name": "idDasAlbo1_1.0",
         "orientation": "h",
         "showlegend": true,
         "type": "scatter",
         "x": [
          662539497
         ],
         "xaxis": "x",
         "y": [
          "2.2"
         ],
         "yaxis": "y"
        },
        {
         "hovertemplate": "color=idRhiCamp1_1.0<br>x=%{x}<br>y=%{y}<extra></extra>",
         "legendgroup": "idRhiCamp1_1.0",
         "marker": {
          "color": "#B6E880",
          "symbol": "circle"
         },
         "mode": "markers",
         "name": "idRhiCamp1_1.0",
         "orientation": "h",
         "showlegend": true,
         "type": "scatter",
         "x": [
          719858466
         ],
         "xaxis": "x",
         "y": [
          "2.2"
         ],
         "yaxis": "y"
        },
        {
         "hovertemplate": "color=idNepFlae1_1.0<br>x=%{x}<br>y=%{y}<extra></extra>",
         "legendgroup": "idNepFlae1_1.0",
         "marker": {
          "color": "#FF97FF",
          "symbol": "circle"
         },
         "mode": "markers",
         "name": "idNepFlae1_1.0",
         "orientation": "h",
         "showlegend": true,
         "type": "scatter",
         "x": [
          1051332770
         ],
         "xaxis": "x",
         "y": [
          "2.2"
         ],
         "yaxis": "y"
        },
        {
         "hovertemplate": "color=idEpiBalt1_1.0<br>x=%{x}<br>y=%{y}<extra></extra>",
         "legendgroup": "idEpiBalt1_1.0",
         "marker": {
          "color": "#FECB52",
          "symbol": "circle"
         },
         "mode": "markers",
         "name": "idEpiBalt1_1.0",
         "orientation": "h",
         "showlegend": true,
         "type": "scatter",
         "x": [
          535345329
         ],
         "xaxis": "x",
         "y": [
          "2.3"
         ],
         "yaxis": "y"
        },
        {
         "hovertemplate": "color=idTheAtra2_1.0<br>x=%{x}<br>y=%{y}<extra></extra>",
         "legendgroup": "idTheAtra2_1.0",
         "marker": {
          "color": "#636efa",
          "symbol": "circle"
         },
         "mode": "markers",
         "name": "idTheAtra2_1.0",
         "orientation": "h",
         "showlegend": true,
         "type": "scatter",
         "x": [
          354229183
         ],
         "xaxis": "x",
         "y": [
          "2.3"
         ],
         "yaxis": "y"
        },
        {
         "hovertemplate": "color=idPlaAlba1_1<br>x=%{x}<br>y=%{y}<extra></extra>",
         "legendgroup": "idPlaAlba1_1",
         "marker": {
          "color": "#EF553B",
          "symbol": "circle"
         },
         "mode": "markers",
         "name": "idPlaAlba1_1",
         "orientation": "h",
         "showlegend": true,
         "type": "scatter",
         "x": [
          677768813
         ],
         "xaxis": "x",
         "y": [
          "2.3"
         ],
         "yaxis": "y"
        },
        {
         "hovertemplate": "color=idPheCory1_1.0<br>x=%{x}<br>y=%{y}<extra></extra>",
         "legendgroup": "idPheCory1_1.0",
         "marker": {
          "color": "#00cc96",
          "symbol": "circle"
         },
         "mode": "markers",
         "name": "idPheCory1_1.0",
         "orientation": "h",
         "showlegend": true,
         "type": "scatter",
         "x": [
          862951653
         ],
         "xaxis": "x",
         "y": [
          "2.4"
         ],
         "yaxis": "y"
        },
        {
         "hovertemplate": "color=idCheUrba1_1.0<br>x=%{x}<br>y=%{y}<extra></extra>",
         "legendgroup": "idCheUrba1_1.0",
         "marker": {
          "color": "#ab63fa",
          "symbol": "circle"
         },
         "mode": "markers",
         "name": "idCheUrba1_1.0",
         "orientation": "h",
         "showlegend": true,
         "type": "scatter",
         "x": [
          546942332
         ],
         "xaxis": "x",
         "y": [
          "2.4"
         ],
         "yaxis": "y"
        },
        {
         "hovertemplate": "color=idSarCaer1_1.0<br>x=%{x}<br>y=%{y}<extra></extra>",
         "legendgroup": "idSarCaer1_1.0",
         "marker": {
          "color": "#FFA15A",
          "symbol": "circle"
         },
         "mode": "markers",
         "name": "idSarCaer1_1.0",
         "orientation": "h",
         "showlegend": true,
         "type": "scatter",
         "x": [
          597302449
         ],
         "xaxis": "x",
         "y": [
          "2.5"
         ],
         "yaxis": "y"
        },
        {
         "hovertemplate": "color=idEriArbu1_1.0<br>x=%{x}<br>y=%{y}<extra></extra>",
         "legendgroup": "idEriArbu1_1.0",
         "marker": {
          "color": "#19d3f3",
          "symbol": "circle"
         },
         "mode": "markers",
         "name": "idEriArbu1_1.0",
         "orientation": "h",
         "showlegend": true,
         "type": "scatter",
         "x": [
          451027004
         ],
         "xaxis": "x",
         "y": [
          "2.5"
         ],
         "yaxis": "y"
        },
        {
         "hovertemplate": "color=idEriSepu1_1.0<br>x=%{x}<br>y=%{y}<extra></extra>",
         "legendgroup": "idEriSepu1_1.0",
         "marker": {
          "color": "#FF6692",
          "symbol": "circle"
         },
         "mode": "markers",
         "name": "idEriSepu1_1.0",
         "orientation": "h",
         "showlegend": true,
         "type": "scatter",
         "x": [
          376833488
         ],
         "xaxis": "x",
         "y": [
          "2.6"
         ],
         "yaxis": "y"
        },
        {
         "hovertemplate": "color=idCalVomi1_1.0<br>x=%{x}<br>y=%{y}<extra></extra>",
         "legendgroup": "idCalVomi1_1.0",
         "marker": {
          "color": "#B6E880",
          "symbol": "circle"
         },
         "mode": "markers",
         "name": "idCalVomi1_1.0",
         "orientation": "h",
         "showlegend": true,
         "type": "scatter",
         "x": [
          706662258
         ],
         "xaxis": "x",
         "y": [
          "2.6"
         ],
         "yaxis": "y"
        },
        {
         "hovertemplate": "color=idMelMell2_2.0<br>x=%{x}<br>y=%{y}<extra></extra>",
         "legendgroup": "idMelMell2_2.0",
         "marker": {
          "color": "#FF97FF",
          "symbol": "circle"
         },
         "mode": "markers",
         "name": "idMelMell2_2.0",
         "orientation": "h",
         "showlegend": true,
         "type": "scatter",
         "x": [
          731024304
         ],
         "xaxis": "x",
         "y": [
          "2.6"
         ],
         "yaxis": "y"
        },
        {
         "hovertemplate": "color=idChrBici1_1<br>x=%{x}<br>y=%{y}<extra></extra>",
         "legendgroup": "idChrBici1_1",
         "marker": {
          "color": "#FECB52",
          "symbol": "circle"
         },
         "mode": "markers",
         "name": "idChrBici1_1",
         "orientation": "h",
         "showlegend": true,
         "type": "scatter",
         "x": [
          912918972
         ],
         "xaxis": "x",
         "y": [
          "2.7"
         ],
         "yaxis": "y"
        },
        {
         "hovertemplate": "color=idSarVari1_1.0<br>x=%{x}<br>y=%{y}<extra></extra>",
         "legendgroup": "idSarVari1_1.0",
         "marker": {
          "color": "#636efa",
          "symbol": "circle"
         },
         "mode": "markers",
         "name": "idSarVari1_1.0",
         "orientation": "h",
         "showlegend": true,
         "type": "scatter",
         "x": [
          718455953
         ],
         "xaxis": "x",
         "y": [
          "2.7"
         ],
         "yaxis": "y"
        },
        {
         "hovertemplate": "color=idChePaga1_1.0<br>x=%{x}<br>y=%{y}<extra></extra>",
         "legendgroup": "idChePaga1_1.0",
         "marker": {
          "color": "#EF553B",
          "symbol": "circle"
         },
         "mode": "markers",
         "name": "idChePaga1_1.0",
         "orientation": "h",
         "showlegend": true,
         "type": "scatter",
         "x": [
          354108297
         ],
         "xaxis": "x",
         "y": [
          "2.8"
         ],
         "yaxis": "y"
        },
        {
         "hovertemplate": "color=idSarRose1_1.0<br>x=%{x}<br>y=%{y}<extra></extra>",
         "legendgroup": "idSarRose1_1.0",
         "marker": {
          "color": "#00cc96",
          "symbol": "circle"
         },
         "mode": "markers",
         "name": "idSarRose1_1.0",
         "orientation": "h",
         "showlegend": true,
         "type": "scatter",
         "x": [
          541374458
         ],
         "xaxis": "x",
         "y": [
          "3.0"
         ],
         "yaxis": "y"
        },
        {
         "hovertemplate": "color=idCisGlob1_1.0<br>x=%{x}<br>y=%{y}<extra></extra>",
         "legendgroup": "idCisGlob1_1.0",
         "marker": {
          "color": "#ab63fa",
          "symbol": "circle"
         },
         "mode": "markers",
         "name": "idCisGlob1_1.0",
         "orientation": "h",
         "showlegend": true,
         "type": "scatter",
         "x": [
          837758165
         ],
         "xaxis": "x",
         "y": [
          "3.1"
         ],
         "yaxis": "y"
        },
        {
         "hovertemplate": "color=idSarSubv1_1.0<br>x=%{x}<br>y=%{y}<extra></extra>",
         "legendgroup": "idSarSubv1_1.0",
         "marker": {
          "color": "#FFA15A",
          "symbol": "circle"
         },
         "mode": "markers",
         "name": "idSarSubv1_1.0",
         "orientation": "h",
         "showlegend": true,
         "type": "scatter",
         "x": [
          711134278
         ],
         "xaxis": "x",
         "y": [
          "3.3"
         ],
         "yaxis": "y"
        },
        {
         "hovertemplate": "color=idEupCoro1_1.0<br>x=%{x}<br>y=%{y}<extra></extra>",
         "legendgroup": "idEupCoro1_1.0",
         "marker": {
          "color": "#19d3f3",
          "symbol": "circle"
         },
         "mode": "markers",
         "name": "idEupCoro1_1.0",
         "orientation": "h",
         "showlegend": true,
         "type": "scatter",
         "x": [
          648195582
         ],
         "xaxis": "x",
         "y": [
          "3.3"
         ],
         "yaxis": "y"
        }
       ],
       "layout": {
        "legend": {
         "title": {
          "text": "color"
         },
         "tracegroupgap": 0
        },
        "template": {
         "data": {
          "bar": [
           {
            "error_x": {
             "color": "#2a3f5f"
            },
            "error_y": {
             "color": "#2a3f5f"
            },
            "marker": {
             "line": {
              "color": "#E5ECF6",
              "width": 0.5
             },
             "pattern": {
              "fillmode": "overlay",
              "size": 10,
              "solidity": 0.2
             }
            },
            "type": "bar"
           }
          ],
          "barpolar": [
           {
            "marker": {
             "line": {
              "color": "#E5ECF6",
              "width": 0.5
             },
             "pattern": {
              "fillmode": "overlay",
              "size": 10,
              "solidity": 0.2
             }
            },
            "type": "barpolar"
           }
          ],
          "carpet": [
           {
            "aaxis": {
             "endlinecolor": "#2a3f5f",
             "gridcolor": "white",
             "linecolor": "white",
             "minorgridcolor": "white",
             "startlinecolor": "#2a3f5f"
            },
            "baxis": {
             "endlinecolor": "#2a3f5f",
             "gridcolor": "white",
             "linecolor": "white",
             "minorgridcolor": "white",
             "startlinecolor": "#2a3f5f"
            },
            "type": "carpet"
           }
          ],
          "choropleth": [
           {
            "colorbar": {
             "outlinewidth": 0,
             "ticks": ""
            },
            "type": "choropleth"
           }
          ],
          "contour": [
           {
            "colorbar": {
             "outlinewidth": 0,
             "ticks": ""
            },
            "colorscale": [
             [
              0,
              "#0d0887"
             ],
             [
              0.1111111111111111,
              "#46039f"
             ],
             [
              0.2222222222222222,
              "#7201a8"
             ],
             [
              0.3333333333333333,
              "#9c179e"
             ],
             [
              0.4444444444444444,
              "#bd3786"
             ],
             [
              0.5555555555555556,
              "#d8576b"
             ],
             [
              0.6666666666666666,
              "#ed7953"
             ],
             [
              0.7777777777777778,
              "#fb9f3a"
             ],
             [
              0.8888888888888888,
              "#fdca26"
             ],
             [
              1,
              "#f0f921"
             ]
            ],
            "type": "contour"
           }
          ],
          "contourcarpet": [
           {
            "colorbar": {
             "outlinewidth": 0,
             "ticks": ""
            },
            "type": "contourcarpet"
           }
          ],
          "heatmap": [
           {
            "colorbar": {
             "outlinewidth": 0,
             "ticks": ""
            },
            "colorscale": [
             [
              0,
              "#0d0887"
             ],
             [
              0.1111111111111111,
              "#46039f"
             ],
             [
              0.2222222222222222,
              "#7201a8"
             ],
             [
              0.3333333333333333,
              "#9c179e"
             ],
             [
              0.4444444444444444,
              "#bd3786"
             ],
             [
              0.5555555555555556,
              "#d8576b"
             ],
             [
              0.6666666666666666,
              "#ed7953"
             ],
             [
              0.7777777777777778,
              "#fb9f3a"
             ],
             [
              0.8888888888888888,
              "#fdca26"
             ],
             [
              1,
              "#f0f921"
             ]
            ],
            "type": "heatmap"
           }
          ],
          "heatmapgl": [
           {
            "colorbar": {
             "outlinewidth": 0,
             "ticks": ""
            },
            "colorscale": [
             [
              0,
              "#0d0887"
             ],
             [
              0.1111111111111111,
              "#46039f"
             ],
             [
              0.2222222222222222,
              "#7201a8"
             ],
             [
              0.3333333333333333,
              "#9c179e"
             ],
             [
              0.4444444444444444,
              "#bd3786"
             ],
             [
              0.5555555555555556,
              "#d8576b"
             ],
             [
              0.6666666666666666,
              "#ed7953"
             ],
             [
              0.7777777777777778,
              "#fb9f3a"
             ],
             [
              0.8888888888888888,
              "#fdca26"
             ],
             [
              1,
              "#f0f921"
             ]
            ],
            "type": "heatmapgl"
           }
          ],
          "histogram": [
           {
            "marker": {
             "pattern": {
              "fillmode": "overlay",
              "size": 10,
              "solidity": 0.2
             }
            },
            "type": "histogram"
           }
          ],
          "histogram2d": [
           {
            "colorbar": {
             "outlinewidth": 0,
             "ticks": ""
            },
            "colorscale": [
             [
              0,
              "#0d0887"
             ],
             [
              0.1111111111111111,
              "#46039f"
             ],
             [
              0.2222222222222222,
              "#7201a8"
             ],
             [
              0.3333333333333333,
              "#9c179e"
             ],
             [
              0.4444444444444444,
              "#bd3786"
             ],
             [
              0.5555555555555556,
              "#d8576b"
             ],
             [
              0.6666666666666666,
              "#ed7953"
             ],
             [
              0.7777777777777778,
              "#fb9f3a"
             ],
             [
              0.8888888888888888,
              "#fdca26"
             ],
             [
              1,
              "#f0f921"
             ]
            ],
            "type": "histogram2d"
           }
          ],
          "histogram2dcontour": [
           {
            "colorbar": {
             "outlinewidth": 0,
             "ticks": ""
            },
            "colorscale": [
             [
              0,
              "#0d0887"
             ],
             [
              0.1111111111111111,
              "#46039f"
             ],
             [
              0.2222222222222222,
              "#7201a8"
             ],
             [
              0.3333333333333333,
              "#9c179e"
             ],
             [
              0.4444444444444444,
              "#bd3786"
             ],
             [
              0.5555555555555556,
              "#d8576b"
             ],
             [
              0.6666666666666666,
              "#ed7953"
             ],
             [
              0.7777777777777778,
              "#fb9f3a"
             ],
             [
              0.8888888888888888,
              "#fdca26"
             ],
             [
              1,
              "#f0f921"
             ]
            ],
            "type": "histogram2dcontour"
           }
          ],
          "mesh3d": [
           {
            "colorbar": {
             "outlinewidth": 0,
             "ticks": ""
            },
            "type": "mesh3d"
           }
          ],
          "parcoords": [
           {
            "line": {
             "colorbar": {
              "outlinewidth": 0,
              "ticks": ""
             }
            },
            "type": "parcoords"
           }
          ],
          "pie": [
           {
            "automargin": true,
            "type": "pie"
           }
          ],
          "scatter": [
           {
            "fillpattern": {
             "fillmode": "overlay",
             "size": 10,
             "solidity": 0.2
            },
            "type": "scatter"
           }
          ],
          "scatter3d": [
           {
            "line": {
             "colorbar": {
              "outlinewidth": 0,
              "ticks": ""
             }
            },
            "marker": {
             "colorbar": {
              "outlinewidth": 0,
              "ticks": ""
             }
            },
            "type": "scatter3d"
           }
          ],
          "scattercarpet": [
           {
            "marker": {
             "colorbar": {
              "outlinewidth": 0,
              "ticks": ""
             }
            },
            "type": "scattercarpet"
           }
          ],
          "scattergeo": [
           {
            "marker": {
             "colorbar": {
              "outlinewidth": 0,
              "ticks": ""
             }
            },
            "type": "scattergeo"
           }
          ],
          "scattergl": [
           {
            "marker": {
             "colorbar": {
              "outlinewidth": 0,
              "ticks": ""
             }
            },
            "type": "scattergl"
           }
          ],
          "scattermapbox": [
           {
            "marker": {
             "colorbar": {
              "outlinewidth": 0,
              "ticks": ""
             }
            },
            "type": "scattermapbox"
           }
          ],
          "scatterpolar": [
           {
            "marker": {
             "colorbar": {
              "outlinewidth": 0,
              "ticks": ""
             }
            },
            "type": "scatterpolar"
           }
          ],
          "scatterpolargl": [
           {
            "marker": {
             "colorbar": {
              "outlinewidth": 0,
              "ticks": ""
             }
            },
            "type": "scatterpolargl"
           }
          ],
          "scatterternary": [
           {
            "marker": {
             "colorbar": {
              "outlinewidth": 0,
              "ticks": ""
             }
            },
            "type": "scatterternary"
           }
          ],
          "surface": [
           {
            "colorbar": {
             "outlinewidth": 0,
             "ticks": ""
            },
            "colorscale": [
             [
              0,
              "#0d0887"
             ],
             [
              0.1111111111111111,
              "#46039f"
             ],
             [
              0.2222222222222222,
              "#7201a8"
             ],
             [
              0.3333333333333333,
              "#9c179e"
             ],
             [
              0.4444444444444444,
              "#bd3786"
             ],
             [
              0.5555555555555556,
              "#d8576b"
             ],
             [
              0.6666666666666666,
              "#ed7953"
             ],
             [
              0.7777777777777778,
              "#fb9f3a"
             ],
             [
              0.8888888888888888,
              "#fdca26"
             ],
             [
              1,
              "#f0f921"
             ]
            ],
            "type": "surface"
           }
          ],
          "table": [
           {
            "cells": {
             "fill": {
              "color": "#EBF0F8"
             },
             "line": {
              "color": "white"
             }
            },
            "header": {
             "fill": {
              "color": "#C8D4E3"
             },
             "line": {
              "color": "white"
             }
            },
            "type": "table"
           }
          ]
         },
         "layout": {
          "annotationdefaults": {
           "arrowcolor": "#2a3f5f",
           "arrowhead": 0,
           "arrowwidth": 1
          },
          "autotypenumbers": "strict",
          "coloraxis": {
           "colorbar": {
            "outlinewidth": 0,
            "ticks": ""
           }
          },
          "colorscale": {
           "diverging": [
            [
             0,
             "#8e0152"
            ],
            [
             0.1,
             "#c51b7d"
            ],
            [
             0.2,
             "#de77ae"
            ],
            [
             0.3,
             "#f1b6da"
            ],
            [
             0.4,
             "#fde0ef"
            ],
            [
             0.5,
             "#f7f7f7"
            ],
            [
             0.6,
             "#e6f5d0"
            ],
            [
             0.7,
             "#b8e186"
            ],
            [
             0.8,
             "#7fbc41"
            ],
            [
             0.9,
             "#4d9221"
            ],
            [
             1,
             "#276419"
            ]
           ],
           "sequential": [
            [
             0,
             "#0d0887"
            ],
            [
             0.1111111111111111,
             "#46039f"
            ],
            [
             0.2222222222222222,
             "#7201a8"
            ],
            [
             0.3333333333333333,
             "#9c179e"
            ],
            [
             0.4444444444444444,
             "#bd3786"
            ],
            [
             0.5555555555555556,
             "#d8576b"
            ],
            [
             0.6666666666666666,
             "#ed7953"
            ],
            [
             0.7777777777777778,
             "#fb9f3a"
            ],
            [
             0.8888888888888888,
             "#fdca26"
            ],
            [
             1,
             "#f0f921"
            ]
           ],
           "sequentialminus": [
            [
             0,
             "#0d0887"
            ],
            [
             0.1111111111111111,
             "#46039f"
            ],
            [
             0.2222222222222222,
             "#7201a8"
            ],
            [
             0.3333333333333333,
             "#9c179e"
            ],
            [
             0.4444444444444444,
             "#bd3786"
            ],
            [
             0.5555555555555556,
             "#d8576b"
            ],
            [
             0.6666666666666666,
             "#ed7953"
            ],
            [
             0.7777777777777778,
             "#fb9f3a"
            ],
            [
             0.8888888888888888,
             "#fdca26"
            ],
            [
             1,
             "#f0f921"
            ]
           ]
          },
          "colorway": [
           "#636efa",
           "#EF553B",
           "#00cc96",
           "#ab63fa",
           "#FFA15A",
           "#19d3f3",
           "#FF6692",
           "#B6E880",
           "#FF97FF",
           "#FECB52"
          ],
          "font": {
           "color": "#2a3f5f"
          },
          "geo": {
           "bgcolor": "white",
           "lakecolor": "white",
           "landcolor": "#E5ECF6",
           "showlakes": true,
           "showland": true,
           "subunitcolor": "white"
          },
          "hoverlabel": {
           "align": "left"
          },
          "hovermode": "closest",
          "mapbox": {
           "style": "light"
          },
          "paper_bgcolor": "white",
          "plot_bgcolor": "#E5ECF6",
          "polar": {
           "angularaxis": {
            "gridcolor": "white",
            "linecolor": "white",
            "ticks": ""
           },
           "bgcolor": "#E5ECF6",
           "radialaxis": {
            "gridcolor": "white",
            "linecolor": "white",
            "ticks": ""
           }
          },
          "scene": {
           "xaxis": {
            "backgroundcolor": "#E5ECF6",
            "gridcolor": "white",
            "gridwidth": 2,
            "linecolor": "white",
            "showbackground": true,
            "ticks": "",
            "zerolinecolor": "white"
           },
           "yaxis": {
            "backgroundcolor": "#E5ECF6",
            "gridcolor": "white",
            "gridwidth": 2,
            "linecolor": "white",
            "showbackground": true,
            "ticks": "",
            "zerolinecolor": "white"
           },
           "zaxis": {
            "backgroundcolor": "#E5ECF6",
            "gridcolor": "white",
            "gridwidth": 2,
            "linecolor": "white",
            "showbackground": true,
            "ticks": "",
            "zerolinecolor": "white"
           }
          },
          "shapedefaults": {
           "line": {
            "color": "#2a3f5f"
           }
          },
          "ternary": {
           "aaxis": {
            "gridcolor": "white",
            "linecolor": "white",
            "ticks": ""
           },
           "baxis": {
            "gridcolor": "white",
            "linecolor": "white",
            "ticks": ""
           },
           "bgcolor": "#E5ECF6",
           "caxis": {
            "gridcolor": "white",
            "linecolor": "white",
            "ticks": ""
           }
          },
          "title": {
           "x": 0.05
          },
          "xaxis": {
           "automargin": true,
           "gridcolor": "white",
           "linecolor": "white",
           "ticks": "",
           "title": {
            "standoff": 15
           },
           "zerolinecolor": "white",
           "zerolinewidth": 2
          },
          "yaxis": {
           "automargin": true,
           "gridcolor": "white",
           "linecolor": "white",
           "ticks": "",
           "title": {
            "standoff": 15
           },
           "zerolinecolor": "white",
           "zerolinewidth": 2
          }
         }
        },
        "title": {
         "text": "Length after curation by Heterozygosity (%)"
        },
        "xaxis": {
         "anchor": "y",
         "domain": [
          0,
          1
         ],
         "title": {
          "text": "x"
         }
        },
        "yaxis": {
         "anchor": "x",
         "domain": [
          0,
          1
         ],
         "title": {
          "text": "y"
         }
        }
       }
      }
     },
     "metadata": {},
     "output_type": "display_data"
    },
    {
     "data": {
      "application/vnd.plotly.v1+json": {
       "config": {
        "plotlyServerURL": "https://plot.ly"
       },
       "data": [
        {
         "hovertemplate": "color=idMyoTess1_1.0<br>x=%{x}<br>y=%{y}<extra></extra>",
         "legendgroup": "idMyoTess1_1.0",
         "marker": {
          "color": "#636efa",
          "symbol": "circle"
         },
         "mode": "markers",
         "name": "idMyoTess1_1.0",
         "orientation": "v",
         "showlegend": true,
         "type": "scatter",
         "x": [
          "idMyoTess1_1.0"
         ],
         "xaxis": "x",
         "y": [
          -54.54545454545454
         ],
         "yaxis": "y"
        },
        {
         "hovertemplate": "color=idBomDisc1_1<br>x=%{x}<br>y=%{y}<extra></extra>",
         "legendgroup": "idBomDisc1_1",
         "marker": {
          "color": "#EF553B",
          "symbol": "circle"
         },
         "mode": "markers",
         "name": "idBomDisc1_1",
         "orientation": "v",
         "showlegend": true,
         "type": "scatter",
         "x": [
          "idBomDisc1_1"
         ],
         "xaxis": "x",
         "y": [
          -50
         ],
         "yaxis": "y"
        },
        {
         "hovertemplate": "color=idCluTigr1_1.0<br>x=%{x}<br>y=%{y}<extra></extra>",
         "legendgroup": "idCluTigr1_1.0",
         "marker": {
          "color": "#00cc96",
          "symbol": "circle"
         },
         "mode": "markers",
         "name": "idCluTigr1_1.0",
         "orientation": "v",
         "showlegend": true,
         "type": "scatter",
         "x": [
          "idCluTigr1_1.0"
         ],
         "xaxis": "x",
         "y": [
          -24.173318129988598
         ],
         "yaxis": "y"
        },
        {
         "hovertemplate": "color=idBraLaph1_1.0<br>x=%{x}<br>y=%{y}<extra></extra>",
         "legendgroup": "idBraLaph1_1.0",
         "marker": {
          "color": "#ab63fa",
          "symbol": "circle"
         },
         "mode": "markers",
         "name": "idBraLaph1_1.0",
         "orientation": "v",
         "showlegend": true,
         "type": "scatter",
         "x": [
          "idBraLaph1_1.0"
         ],
         "xaxis": "x",
         "y": [
          -48.07692307692308
         ],
         "yaxis": "y"
        },
        {
         "hovertemplate": "color=idVolInan1_1<br>x=%{x}<br>y=%{y}<extra></extra>",
         "legendgroup": "idVolInan1_1",
         "marker": {
          "color": "#FFA15A",
          "symbol": "circle"
         },
         "mode": "markers",
         "name": "idVolInan1_1",
         "orientation": "v",
         "showlegend": true,
         "type": "scatter",
         "x": [
          "idVolInan1_1"
         ],
         "xaxis": "x",
         "y": [
          -71.42857142857143
         ],
         "yaxis": "y"
        },
        {
         "hovertemplate": "color=idCriBerb1_1<br>x=%{x}<br>y=%{y}<extra></extra>",
         "legendgroup": "idCriBerb1_1",
         "marker": {
          "color": "#19d3f3",
          "symbol": "circle"
         },
         "mode": "markers",
         "name": "idCriBerb1_1",
         "orientation": "v",
         "showlegend": true,
         "type": "scatter",
         "x": [
          "idCriBerb1_1"
         ],
         "xaxis": "x",
         "y": [
          -50
         ],
         "yaxis": "y"
        },
        {
         "hovertemplate": "color=idCheVulp2_1.0<br>x=%{x}<br>y=%{y}<extra></extra>",
         "legendgroup": "idCheVulp2_1.0",
         "marker": {
          "color": "#FF6692",
          "symbol": "circle"
         },
         "mode": "markers",
         "name": "idCheVulp2_1.0",
         "orientation": "v",
         "showlegend": true,
         "type": "scatter",
         "x": [
          "idCheVulp2_1.0"
         ],
         "xaxis": "x",
         "y": [
          -33.33333333333333
         ],
         "yaxis": "y"
        },
        {
         "hovertemplate": "color=idPhyMeln1_1.0<br>x=%{x}<br>y=%{y}<extra></extra>",
         "legendgroup": "idPhyMeln1_1.0",
         "marker": {
          "color": "#B6E880",
          "symbol": "circle"
         },
         "mode": "markers",
         "name": "idPhyMeln1_1.0",
         "orientation": "v",
         "showlegend": true,
         "type": "scatter",
         "x": [
          "idPhyMeln1_1.0"
         ],
         "xaxis": "x",
         "y": [
          -87.14285714285714
         ],
         "yaxis": "y"
        },
        {
         "hovertemplate": "color=idXylSylv2_1<br>x=%{x}<br>y=%{y}<extra></extra>",
         "legendgroup": "idXylSylv2_1",
         "marker": {
          "color": "#FF97FF",
          "symbol": "circle"
         },
         "mode": "markers",
         "name": "idXylSylv2_1",
         "orientation": "v",
         "showlegend": true,
         "type": "scatter",
         "x": [
          "idXylSylv2_1"
         ],
         "xaxis": "x",
         "y": [
          -24.203821656050955
         ],
         "yaxis": "y"
        },
        {
         "hovertemplate": "color=idTheAcut1_1.0<br>x=%{x}<br>y=%{y}<extra></extra>",
         "legendgroup": "idTheAcut1_1.0",
         "marker": {
          "color": "#FECB52",
          "symbol": "circle"
         },
         "mode": "markers",
         "name": "idTheAcut1_1.0",
         "orientation": "v",
         "showlegend": true,
         "type": "scatter",
         "x": [
          "idTheAcut1_1.0"
         ],
         "xaxis": "x",
         "y": [
          -29.333333333333332
         ],
         "yaxis": "y"
        },
        {
         "hovertemplate": "color=idTacLuri1_1.0<br>x=%{x}<br>y=%{y}<extra></extra>",
         "legendgroup": "idTacLuri1_1.0",
         "marker": {
          "color": "#636efa",
          "symbol": "circle"
         },
         "mode": "markers",
         "name": "idTacLuri1_1.0",
         "orientation": "v",
         "showlegend": true,
         "type": "scatter",
         "x": [
          "idTacLuri1_1.0"
         ],
         "xaxis": "x",
         "y": [
          -71.72413793103448
         ],
         "yaxis": "y"
        },
        {
         "hovertemplate": "color=idCorMarg1_1<br>x=%{x}<br>y=%{y}<extra></extra>",
         "legendgroup": "idCorMarg1_1",
         "marker": {
          "color": "#EF553B",
          "symbol": "circle"
         },
         "mode": "markers",
         "name": "idCorMarg1_1",
         "orientation": "v",
         "showlegend": true,
         "type": "scatter",
         "x": [
          "idCorMarg1_1"
         ],
         "xaxis": "x",
         "y": [
          -82.90598290598291
         ],
         "yaxis": "y"
        },
        {
         "hovertemplate": "color=idVolInfl1_1.0<br>x=%{x}<br>y=%{y}<extra></extra>",
         "legendgroup": "idVolInfl1_1.0",
         "marker": {
          "color": "#00cc96",
          "symbol": "circle"
         },
         "mode": "markers",
         "name": "idVolInfl1_1.0",
         "orientation": "v",
         "showlegend": true,
         "type": "scatter",
         "x": [
          "idVolInfl1_1.0"
         ],
         "xaxis": "x",
         "y": [
          -88.69565217391305
         ],
         "yaxis": "y"
        },
        {
         "hovertemplate": "color=idPolAngu1_1.0<br>x=%{x}<br>y=%{y}<extra></extra>",
         "legendgroup": "idPolAngu1_1.0",
         "marker": {
          "color": "#ab63fa",
          "symbol": "circle"
         },
         "mode": "markers",
         "name": "idPolAngu1_1.0",
         "orientation": "v",
         "showlegend": true,
         "type": "scatter",
         "x": [
          "idPolAngu1_1.0"
         ],
         "xaxis": "x",
         "y": [
          -50.81967213114754
         ],
         "yaxis": "y"
        },
        {
         "hovertemplate": "color=idBomMajo1_1.0<br>x=%{x}<br>y=%{y}<extra></extra>",
         "legendgroup": "idBomMajo1_1.0",
         "marker": {
          "color": "#FFA15A",
          "symbol": "circle"
         },
         "mode": "markers",
         "name": "idBomMajo1_1.0",
         "orientation": "v",
         "showlegend": true,
         "type": "scatter",
         "x": [
          "idBomMajo1_1.0"
         ],
         "xaxis": "x",
         "y": [
          -40.723981900452486
         ],
         "yaxis": "y"
        },
        {
         "hovertemplate": "color=idMyaFlor2_1.0<br>x=%{x}<br>y=%{y}<extra></extra>",
         "legendgroup": "idMyaFlor2_1.0",
         "marker": {
          "color": "#19d3f3",
          "symbol": "circle"
         },
         "mode": "markers",
         "name": "idMyaFlor2_1.0",
         "orientation": "v",
         "showlegend": true,
         "type": "scatter",
         "x": [
          "idMyaFlor2_1.0"
         ],
         "xaxis": "x",
         "y": [
          -31.363636363636367
         ],
         "yaxis": "y"
        },
        {
         "hovertemplate": "color=idMacAtri3_1.0<br>x=%{x}<br>y=%{y}<extra></extra>",
         "legendgroup": "idMacAtri3_1.0",
         "marker": {
          "color": "#FF6692",
          "symbol": "circle"
         },
         "mode": "markers",
         "name": "idMacAtri3_1.0",
         "orientation": "v",
         "showlegend": true,
         "type": "scatter",
         "x": [
          "idMacAtri3_1.0"
         ],
         "xaxis": "x",
         "y": [
          -9.67741935483871
         ],
         "yaxis": "y"
        },
        {
         "hovertemplate": "color=idPolAmen1_1.0<br>x=%{x}<br>y=%{y}<extra></extra>",
         "legendgroup": "idPolAmen1_1.0",
         "marker": {
          "color": "#B6E880",
          "symbol": "circle"
         },
         "mode": "markers",
         "name": "idPolAmen1_1.0",
         "orientation": "v",
         "showlegend": true,
         "type": "scatter",
         "x": [
          "idPolAmen1_1.0"
         ],
         "xaxis": "x",
         "y": [
          -62.22222222222222
         ],
         "yaxis": "y"
        },
        {
         "hovertemplate": "color=idEriPert2_1<br>x=%{x}<br>y=%{y}<extra></extra>",
         "legendgroup": "idEriPert2_1",
         "marker": {
          "color": "#FF97FF",
          "symbol": "circle"
         },
         "mode": "markers",
         "name": "idEriPert2_1",
         "orientation": "v",
         "showlegend": true,
         "type": "scatter",
         "x": [
          "idEriPert2_1"
         ],
         "xaxis": "x",
         "y": [
          -32.45382585751979
         ],
         "yaxis": "y"
        },
        {
         "hovertemplate": "color=idLeuLate1_1.0<br>x=%{x}<br>y=%{y}<extra></extra>",
         "legendgroup": "idLeuLate1_1.0",
         "marker": {
          "color": "#FECB52",
          "symbol": "circle"
         },
         "mode": "markers",
         "name": "idLeuLate1_1.0",
         "orientation": "v",
         "showlegend": true,
         "type": "scatter",
         "x": [
          "idLeuLate1_1.0"
         ],
         "xaxis": "x",
         "y": [
          -48.18181818181818
         ],
         "yaxis": "y"
        },
        {
         "hovertemplate": "color=idProAzur1_1.0<br>x=%{x}<br>y=%{y}<extra></extra>",
         "legendgroup": "idProAzur1_1.0",
         "marker": {
          "color": "#636efa",
          "symbol": "circle"
         },
         "mode": "markers",
         "name": "idProAzur1_1.0",
         "orientation": "v",
         "showlegend": true,
         "type": "scatter",
         "x": [
          "idProAzur1_1.0"
         ],
         "xaxis": "x",
         "y": [
          -81.30081300813008
         ],
         "yaxis": "y"
        },
        {
         "hovertemplate": "color=idBibMarc1_1<br>x=%{x}<br>y=%{y}<extra></extra>",
         "legendgroup": "idBibMarc1_1",
         "marker": {
          "color": "#EF553B",
          "symbol": "circle"
         },
         "mode": "markers",
         "name": "idBibMarc1_1",
         "orientation": "v",
         "showlegend": true,
         "type": "scatter",
         "x": [
          "idBibMarc1_1"
         ],
         "xaxis": "x",
         "y": [
          -57.14285714285714
         ],
         "yaxis": "y"
        },
        {
         "hovertemplate": "color=idNowFero1_1.0<br>x=%{x}<br>y=%{y}<extra></extra>",
         "legendgroup": "idNowFero1_1.0",
         "marker": {
          "color": "#00cc96",
          "symbol": "circle"
         },
         "mode": "markers",
         "name": "idNowFero1_1.0",
         "orientation": "v",
         "showlegend": true,
         "type": "scatter",
         "x": [
          "idNowFero1_1.0"
         ],
         "xaxis": "x",
         "y": [
          -22.55639097744361
         ],
         "yaxis": "y"
        },
        {
         "hovertemplate": "color=idBelPand1_2.0<br>x=%{x}<br>y=%{y}<extra></extra>",
         "legendgroup": "idBelPand1_2.0",
         "marker": {
          "color": "#ab63fa",
          "symbol": "circle"
         },
         "mode": "markers",
         "name": "idBelPand1_2.0",
         "orientation": "v",
         "showlegend": true,
         "type": "scatter",
         "x": [
          "idBelPand1_2.0"
         ],
         "xaxis": "x",
         "y": [
          -15.66265060240964
         ],
         "yaxis": "y"
        },
        {
         "hovertemplate": "color=idEpiGros1_1.0<br>x=%{x}<br>y=%{y}<extra></extra>",
         "legendgroup": "idEpiGros1_1.0",
         "marker": {
          "color": "#FFA15A",
          "symbol": "circle"
         },
         "mode": "markers",
         "name": "idEpiGros1_1.0",
         "orientation": "v",
         "showlegend": true,
         "type": "scatter",
         "x": [
          "idEpiGros1_1.0"
         ],
         "xaxis": "x",
         "y": [
          -72.28260869565217
         ],
         "yaxis": "y"
        },
        {
         "hovertemplate": "color=idEriTena2_1<br>x=%{x}<br>y=%{y}<extra></extra>",
         "legendgroup": "idEriTena2_1",
         "marker": {
          "color": "#19d3f3",
          "symbol": "circle"
         },
         "mode": "markers",
         "name": "idEriTena2_1",
         "orientation": "v",
         "showlegend": true,
         "type": "scatter",
         "x": [
          "idEriTena2_1"
         ],
         "xaxis": "x",
         "y": [
          -31.277533039647576
         ],
         "yaxis": "y"
        },
        {
         "hovertemplate": "color=idEpiSucc1_1.0<br>x=%{x}<br>y=%{y}<extra></extra>",
         "legendgroup": "idEpiSucc1_1.0",
         "marker": {
          "color": "#FF6692",
          "symbol": "circle"
         },
         "mode": "markers",
         "name": "idEpiSucc1_1.0",
         "orientation": "v",
         "showlegend": true,
         "type": "scatter",
         "x": [
          "idEpiSucc1_1.0"
         ],
         "xaxis": "x",
         "y": [
          -87.17948717948718
         ],
         "yaxis": "y"
        },
        {
         "hovertemplate": "color=idXanPedi1_1<br>x=%{x}<br>y=%{y}<extra></extra>",
         "legendgroup": "idXanPedi1_1",
         "marker": {
          "color": "#B6E880",
          "symbol": "circle"
         },
         "mode": "markers",
         "name": "idXanPedi1_1",
         "orientation": "v",
         "showlegend": true,
         "type": "scatter",
         "x": [
          "idXanPedi1_1"
         ],
         "xaxis": "x",
         "y": [
          -23.89937106918239
         ],
         "yaxis": "y"
        },
        {
         "hovertemplate": "color=idSyrPipi1_1<br>x=%{x}<br>y=%{y}<extra></extra>",
         "legendgroup": "idSyrPipi1_1",
         "marker": {
          "color": "#FF97FF",
          "symbol": "circle"
         },
         "mode": "markers",
         "name": "idSyrPipi1_1",
         "orientation": "v",
         "showlegend": true,
         "type": "scatter",
         "x": [
          "idSyrPipi1_1"
         ],
         "xaxis": "x",
         "y": [
          -70
         ],
         "yaxis": "y"
        },
        {
         "hovertemplate": "color=idSicFerr1_1<br>x=%{x}<br>y=%{y}<extra></extra>",
         "legendgroup": "idSicFerr1_1",
         "marker": {
          "color": "#FECB52",
          "symbol": "circle"
         },
         "mode": "markers",
         "name": "idSicFerr1_1",
         "orientation": "v",
         "showlegend": true,
         "type": "scatter",
         "x": [
          "idSicFerr1_1"
         ],
         "xaxis": "x",
         "y": [
          -65.88235294117646
         ],
         "yaxis": "y"
        },
        {
         "hovertemplate": "color=idStoLuna1_1<br>x=%{x}<br>y=%{y}<extra></extra>",
         "legendgroup": "idStoLuna1_1",
         "marker": {
          "color": "#636efa",
          "symbol": "circle"
         },
         "mode": "markers",
         "name": "idStoLuna1_1",
         "orientation": "v",
         "showlegend": true,
         "type": "scatter",
         "x": [
          "idStoLuna1_1"
         ],
         "xaxis": "x",
         "y": [
          -38.50574712643678
         ],
         "yaxis": "y"
        },
        {
         "hovertemplate": "color=idTacFera2_1<br>x=%{x}<br>y=%{y}<extra></extra>",
         "legendgroup": "idTacFera2_1",
         "marker": {
          "color": "#EF553B",
          "symbol": "circle"
         },
         "mode": "markers",
         "name": "idTacFera2_1",
         "orientation": "v",
         "showlegend": true,
         "type": "scatter",
         "x": [
          "idTacFera2_1"
         ],
         "xaxis": "x",
         "y": [
          -94.8051948051948
         ],
         "yaxis": "y"
        },
        {
         "hovertemplate": "color=idEupLati1_1.0<br>x=%{x}<br>y=%{y}<extra></extra>",
         "legendgroup": "idEupLati1_1.0",
         "marker": {
          "color": "#00cc96",
          "symbol": "circle"
         },
         "mode": "markers",
         "name": "idEupLati1_1.0",
         "orientation": "v",
         "showlegend": true,
         "type": "scatter",
         "x": [
          "idEupLati1_1.0"
         ],
         "xaxis": "x",
         "y": [
          -38.330975954738335
         ],
         "yaxis": "y"
        },
        {
         "hovertemplate": "color=idSphTaen1_1.0<br>x=%{x}<br>y=%{y}<extra></extra>",
         "legendgroup": "idSphTaen1_1.0",
         "marker": {
          "color": "#ab63fa",
          "symbol": "circle"
         },
         "mode": "markers",
         "name": "idSphTaen1_1.0",
         "orientation": "v",
         "showlegend": true,
         "type": "scatter",
         "x": [
          "idSphTaen1_1.0"
         ],
         "xaxis": "x",
         "y": [
          -68.75
         ],
         "yaxis": "y"
        },
        {
         "hovertemplate": "color=idGymRotn1_2.0<br>x=%{x}<br>y=%{y}<extra></extra>",
         "legendgroup": "idGymRotn1_2.0",
         "marker": {
          "color": "#FFA15A",
          "symbol": "circle"
         },
         "mode": "markers",
         "name": "idGymRotn1_2.0",
         "orientation": "v",
         "showlegend": true,
         "type": "scatter",
         "x": [
          "idGymRotn1_2.0"
         ],
         "xaxis": "x",
         "y": [
          -23.883495145631066
         ],
         "yaxis": "y"
        },
        {
         "hovertemplate": "color=idScaPyra1_1<br>x=%{x}<br>y=%{y}<extra></extra>",
         "legendgroup": "idScaPyra1_1",
         "marker": {
          "color": "#19d3f3",
          "symbol": "circle"
         },
         "mode": "markers",
         "name": "idScaPyra1_1",
         "orientation": "v",
         "showlegend": true,
         "type": "scatter",
         "x": [
          "idScaPyra1_1"
         ],
         "xaxis": "x",
         "y": [
          -95.78947368421052
         ],
         "yaxis": "y"
        },
        {
         "hovertemplate": "color=idDasAlbo1_1.0<br>x=%{x}<br>y=%{y}<extra></extra>",
         "legendgroup": "idDasAlbo1_1.0",
         "marker": {
          "color": "#FF6692",
          "symbol": "circle"
         },
         "mode": "markers",
         "name": "idDasAlbo1_1.0",
         "orientation": "v",
         "showlegend": true,
         "type": "scatter",
         "x": [
          "idDasAlbo1_1.0"
         ],
         "xaxis": "x",
         "y": [
          -72.15189873417721
         ],
         "yaxis": "y"
        },
        {
         "hovertemplate": "color=idRhiCamp1_1.0<br>x=%{x}<br>y=%{y}<extra></extra>",
         "legendgroup": "idRhiCamp1_1.0",
         "marker": {
          "color": "#B6E880",
          "symbol": "circle"
         },
         "mode": "markers",
         "name": "idRhiCamp1_1.0",
         "orientation": "v",
         "showlegend": true,
         "type": "scatter",
         "x": [
          "idRhiCamp1_1.0"
         ],
         "xaxis": "x",
         "y": [
          -31.28205128205128
         ],
         "yaxis": "y"
        },
        {
         "hovertemplate": "color=idNepFlae1_1.0<br>x=%{x}<br>y=%{y}<extra></extra>",
         "legendgroup": "idNepFlae1_1.0",
         "marker": {
          "color": "#FF97FF",
          "symbol": "circle"
         },
         "mode": "markers",
         "name": "idNepFlae1_1.0",
         "orientation": "v",
         "showlegend": true,
         "type": "scatter",
         "x": [
          "idNepFlae1_1.0"
         ],
         "xaxis": "x",
         "y": [
          -7.698744769874477
         ],
         "yaxis": "y"
        },
        {
         "hovertemplate": "color=idEpiBalt1_1.0<br>x=%{x}<br>y=%{y}<extra></extra>",
         "legendgroup": "idEpiBalt1_1.0",
         "marker": {
          "color": "#FECB52",
          "symbol": "circle"
         },
         "mode": "markers",
         "name": "idEpiBalt1_1.0",
         "orientation": "v",
         "showlegend": true,
         "type": "scatter",
         "x": [
          "idEpiBalt1_1.0"
         ],
         "xaxis": "x",
         "y": [
          -62.5
         ],
         "yaxis": "y"
        },
        {
         "hovertemplate": "color=idTheAtra2_1.0<br>x=%{x}<br>y=%{y}<extra></extra>",
         "legendgroup": "idTheAtra2_1.0",
         "marker": {
          "color": "#636efa",
          "symbol": "circle"
         },
         "mode": "markers",
         "name": "idTheAtra2_1.0",
         "orientation": "v",
         "showlegend": true,
         "type": "scatter",
         "x": [
          "idTheAtra2_1.0"
         ],
         "xaxis": "x",
         "y": [
          -52.17391304347826
         ],
         "yaxis": "y"
        },
        {
         "hovertemplate": "color=idPlaAlba1_1<br>x=%{x}<br>y=%{y}<extra></extra>",
         "legendgroup": "idPlaAlba1_1",
         "marker": {
          "color": "#EF553B",
          "symbol": "circle"
         },
         "mode": "markers",
         "name": "idPlaAlba1_1",
         "orientation": "v",
         "showlegend": true,
         "type": "scatter",
         "x": [
          "idPlaAlba1_1"
         ],
         "xaxis": "x",
         "y": [
          -76.73267326732673
         ],
         "yaxis": "y"
        },
        {
         "hovertemplate": "color=idPheCory1_1.0<br>x=%{x}<br>y=%{y}<extra></extra>",
         "legendgroup": "idPheCory1_1.0",
         "marker": {
          "color": "#00cc96",
          "symbol": "circle"
         },
         "mode": "markers",
         "name": "idPheCory1_1.0",
         "orientation": "v",
         "showlegend": true,
         "type": "scatter",
         "x": [
          "idPheCory1_1.0"
         ],
         "xaxis": "x",
         "y": [
          -92.41071428571429
         ],
         "yaxis": "y"
        },
        {
         "hovertemplate": "color=idCheUrba1_1.0<br>x=%{x}<br>y=%{y}<extra></extra>",
         "legendgroup": "idCheUrba1_1.0",
         "marker": {
          "color": "#ab63fa",
          "symbol": "circle"
         },
         "mode": "markers",
         "name": "idCheUrba1_1.0",
         "orientation": "v",
         "showlegend": true,
         "type": "scatter",
         "x": [
          "idCheUrba1_1.0"
         ],
         "xaxis": "x",
         "y": [
          -41.935483870967744
         ],
         "yaxis": "y"
        },
        {
         "hovertemplate": "color=idSarCaer1_1.0<br>x=%{x}<br>y=%{y}<extra></extra>",
         "legendgroup": "idSarCaer1_1.0",
         "marker": {
          "color": "#FFA15A",
          "symbol": "circle"
         },
         "mode": "markers",
         "name": "idSarCaer1_1.0",
         "orientation": "v",
         "showlegend": true,
         "type": "scatter",
         "x": [
          "idSarCaer1_1.0"
         ],
         "xaxis": "x",
         "y": [
          -41.02564102564102
         ],
         "yaxis": "y"
        },
        {
         "hovertemplate": "color=idEriArbu1_1.0<br>x=%{x}<br>y=%{y}<extra></extra>",
         "legendgroup": "idEriArbu1_1.0",
         "marker": {
          "color": "#19d3f3",
          "symbol": "circle"
         },
         "mode": "markers",
         "name": "idEriArbu1_1.0",
         "orientation": "v",
         "showlegend": true,
         "type": "scatter",
         "x": [
          "idEriArbu1_1.0"
         ],
         "xaxis": "x",
         "y": [
          -33.589743589743584
         ],
         "yaxis": "y"
        },
        {
         "hovertemplate": "color=idEriSepu1_1.0<br>x=%{x}<br>y=%{y}<extra></extra>",
         "legendgroup": "idEriSepu1_1.0",
         "marker": {
          "color": "#FF6692",
          "symbol": "circle"
         },
         "mode": "markers",
         "name": "idEriSepu1_1.0",
         "orientation": "v",
         "showlegend": true,
         "type": "scatter",
         "x": [
          "idEriSepu1_1.0"
         ],
         "xaxis": "x",
         "y": [
          -72.16117216117216
         ],
         "yaxis": "y"
        },
        {
         "hovertemplate": "color=idCalVomi1_1.0<br>x=%{x}<br>y=%{y}<extra></extra>",
         "legendgroup": "idCalVomi1_1.0",
         "marker": {
          "color": "#B6E880",
          "symbol": "circle"
         },
         "mode": "markers",
         "name": "idCalVomi1_1.0",
         "orientation": "v",
         "showlegend": true,
         "type": "scatter",
         "x": [
          "idCalVomi1_1.0"
         ],
         "xaxis": "x",
         "y": [
          -9.859154929577464
         ],
         "yaxis": "y"
        },
        {
         "hovertemplate": "color=idMelMell2_2.0<br>x=%{x}<br>y=%{y}<extra></extra>",
         "legendgroup": "idMelMell2_2.0",
         "marker": {
          "color": "#FF97FF",
          "symbol": "circle"
         },
         "mode": "markers",
         "name": "idMelMell2_2.0",
         "orientation": "v",
         "showlegend": true,
         "type": "scatter",
         "x": [
          "idMelMell2_2.0"
         ],
         "xaxis": "x",
         "y": [
          -74.75083056478405
         ],
         "yaxis": "y"
        },
        {
         "hovertemplate": "color=idChrBici1_1<br>x=%{x}<br>y=%{y}<extra></extra>",
         "legendgroup": "idChrBici1_1",
         "marker": {
          "color": "#FECB52",
          "symbol": "circle"
         },
         "mode": "markers",
         "name": "idChrBici1_1",
         "orientation": "v",
         "showlegend": true,
         "type": "scatter",
         "x": [
          "idChrBici1_1"
         ],
         "xaxis": "x",
         "y": [
          -64.0625
         ],
         "yaxis": "y"
        },
        {
         "hovertemplate": "color=idSarVari1_1.0<br>x=%{x}<br>y=%{y}<extra></extra>",
         "legendgroup": "idSarVari1_1.0",
         "marker": {
          "color": "#636efa",
          "symbol": "circle"
         },
         "mode": "markers",
         "name": "idSarVari1_1.0",
         "orientation": "v",
         "showlegend": true,
         "type": "scatter",
         "x": [
          "idSarVari1_1.0"
         ],
         "xaxis": "x",
         "y": [
          -75.20833333333333
         ],
         "yaxis": "y"
        },
        {
         "hovertemplate": "color=idChePaga1_1.0<br>x=%{x}<br>y=%{y}<extra></extra>",
         "legendgroup": "idChePaga1_1.0",
         "marker": {
          "color": "#EF553B",
          "symbol": "circle"
         },
         "mode": "markers",
         "name": "idChePaga1_1.0",
         "orientation": "v",
         "showlegend": true,
         "type": "scatter",
         "x": [
          "idChePaga1_1.0"
         ],
         "xaxis": "x",
         "y": [
          -9.090909090909092
         ],
         "yaxis": "y"
        },
        {
         "hovertemplate": "color=idSarRose1_1.0<br>x=%{x}<br>y=%{y}<extra></extra>",
         "legendgroup": "idSarRose1_1.0",
         "marker": {
          "color": "#00cc96",
          "symbol": "circle"
         },
         "mode": "markers",
         "name": "idSarRose1_1.0",
         "orientation": "v",
         "showlegend": true,
         "type": "scatter",
         "x": [
          "idSarRose1_1.0"
         ],
         "xaxis": "x",
         "y": [
          -7.142857142857142
         ],
         "yaxis": "y"
        },
        {
         "hovertemplate": "color=idCisGlob1_1.0<br>x=%{x}<br>y=%{y}<extra></extra>",
         "legendgroup": "idCisGlob1_1.0",
         "marker": {
          "color": "#ab63fa",
          "symbol": "circle"
         },
         "mode": "markers",
         "name": "idCisGlob1_1.0",
         "orientation": "v",
         "showlegend": true,
         "type": "scatter",
         "x": [
          "idCisGlob1_1.0"
         ],
         "xaxis": "x",
         "y": [
          -3.095684803001876
         ],
         "yaxis": "y"
        },
        {
         "hovertemplate": "color=idSarSubv1_1.0<br>x=%{x}<br>y=%{y}<extra></extra>",
         "legendgroup": "idSarSubv1_1.0",
         "marker": {
          "color": "#FFA15A",
          "symbol": "circle"
         },
         "mode": "markers",
         "name": "idSarSubv1_1.0",
         "orientation": "v",
         "showlegend": true,
         "type": "scatter",
         "x": [
          "idSarSubv1_1.0"
         ],
         "xaxis": "x",
         "y": [
          -52.03488372093024
         ],
         "yaxis": "y"
        },
        {
         "hovertemplate": "color=idEupCoro1_1.0<br>x=%{x}<br>y=%{y}<extra></extra>",
         "legendgroup": "idEupCoro1_1.0",
         "marker": {
          "color": "#19d3f3",
          "symbol": "circle"
         },
         "mode": "markers",
         "name": "idEupCoro1_1.0",
         "orientation": "v",
         "showlegend": true,
         "type": "scatter",
         "x": [
          "idEupCoro1_1.0"
         ],
         "xaxis": "x",
         "y": [
          -36.237785016286644
         ],
         "yaxis": "y"
        }
       ],
       "layout": {
        "legend": {
         "title": {
          "text": "color"
         },
         "tracegroupgap": 0
        },
        "template": {
         "data": {
          "bar": [
           {
            "error_x": {
             "color": "#2a3f5f"
            },
            "error_y": {
             "color": "#2a3f5f"
            },
            "marker": {
             "line": {
              "color": "#E5ECF6",
              "width": 0.5
             },
             "pattern": {
              "fillmode": "overlay",
              "size": 10,
              "solidity": 0.2
             }
            },
            "type": "bar"
           }
          ],
          "barpolar": [
           {
            "marker": {
             "line": {
              "color": "#E5ECF6",
              "width": 0.5
             },
             "pattern": {
              "fillmode": "overlay",
              "size": 10,
              "solidity": 0.2
             }
            },
            "type": "barpolar"
           }
          ],
          "carpet": [
           {
            "aaxis": {
             "endlinecolor": "#2a3f5f",
             "gridcolor": "white",
             "linecolor": "white",
             "minorgridcolor": "white",
             "startlinecolor": "#2a3f5f"
            },
            "baxis": {
             "endlinecolor": "#2a3f5f",
             "gridcolor": "white",
             "linecolor": "white",
             "minorgridcolor": "white",
             "startlinecolor": "#2a3f5f"
            },
            "type": "carpet"
           }
          ],
          "choropleth": [
           {
            "colorbar": {
             "outlinewidth": 0,
             "ticks": ""
            },
            "type": "choropleth"
           }
          ],
          "contour": [
           {
            "colorbar": {
             "outlinewidth": 0,
             "ticks": ""
            },
            "colorscale": [
             [
              0,
              "#0d0887"
             ],
             [
              0.1111111111111111,
              "#46039f"
             ],
             [
              0.2222222222222222,
              "#7201a8"
             ],
             [
              0.3333333333333333,
              "#9c179e"
             ],
             [
              0.4444444444444444,
              "#bd3786"
             ],
             [
              0.5555555555555556,
              "#d8576b"
             ],
             [
              0.6666666666666666,
              "#ed7953"
             ],
             [
              0.7777777777777778,
              "#fb9f3a"
             ],
             [
              0.8888888888888888,
              "#fdca26"
             ],
             [
              1,
              "#f0f921"
             ]
            ],
            "type": "contour"
           }
          ],
          "contourcarpet": [
           {
            "colorbar": {
             "outlinewidth": 0,
             "ticks": ""
            },
            "type": "contourcarpet"
           }
          ],
          "heatmap": [
           {
            "colorbar": {
             "outlinewidth": 0,
             "ticks": ""
            },
            "colorscale": [
             [
              0,
              "#0d0887"
             ],
             [
              0.1111111111111111,
              "#46039f"
             ],
             [
              0.2222222222222222,
              "#7201a8"
             ],
             [
              0.3333333333333333,
              "#9c179e"
             ],
             [
              0.4444444444444444,
              "#bd3786"
             ],
             [
              0.5555555555555556,
              "#d8576b"
             ],
             [
              0.6666666666666666,
              "#ed7953"
             ],
             [
              0.7777777777777778,
              "#fb9f3a"
             ],
             [
              0.8888888888888888,
              "#fdca26"
             ],
             [
              1,
              "#f0f921"
             ]
            ],
            "type": "heatmap"
           }
          ],
          "heatmapgl": [
           {
            "colorbar": {
             "outlinewidth": 0,
             "ticks": ""
            },
            "colorscale": [
             [
              0,
              "#0d0887"
             ],
             [
              0.1111111111111111,
              "#46039f"
             ],
             [
              0.2222222222222222,
              "#7201a8"
             ],
             [
              0.3333333333333333,
              "#9c179e"
             ],
             [
              0.4444444444444444,
              "#bd3786"
             ],
             [
              0.5555555555555556,
              "#d8576b"
             ],
             [
              0.6666666666666666,
              "#ed7953"
             ],
             [
              0.7777777777777778,
              "#fb9f3a"
             ],
             [
              0.8888888888888888,
              "#fdca26"
             ],
             [
              1,
              "#f0f921"
             ]
            ],
            "type": "heatmapgl"
           }
          ],
          "histogram": [
           {
            "marker": {
             "pattern": {
              "fillmode": "overlay",
              "size": 10,
              "solidity": 0.2
             }
            },
            "type": "histogram"
           }
          ],
          "histogram2d": [
           {
            "colorbar": {
             "outlinewidth": 0,
             "ticks": ""
            },
            "colorscale": [
             [
              0,
              "#0d0887"
             ],
             [
              0.1111111111111111,
              "#46039f"
             ],
             [
              0.2222222222222222,
              "#7201a8"
             ],
             [
              0.3333333333333333,
              "#9c179e"
             ],
             [
              0.4444444444444444,
              "#bd3786"
             ],
             [
              0.5555555555555556,
              "#d8576b"
             ],
             [
              0.6666666666666666,
              "#ed7953"
             ],
             [
              0.7777777777777778,
              "#fb9f3a"
             ],
             [
              0.8888888888888888,
              "#fdca26"
             ],
             [
              1,
              "#f0f921"
             ]
            ],
            "type": "histogram2d"
           }
          ],
          "histogram2dcontour": [
           {
            "colorbar": {
             "outlinewidth": 0,
             "ticks": ""
            },
            "colorscale": [
             [
              0,
              "#0d0887"
             ],
             [
              0.1111111111111111,
              "#46039f"
             ],
             [
              0.2222222222222222,
              "#7201a8"
             ],
             [
              0.3333333333333333,
              "#9c179e"
             ],
             [
              0.4444444444444444,
              "#bd3786"
             ],
             [
              0.5555555555555556,
              "#d8576b"
             ],
             [
              0.6666666666666666,
              "#ed7953"
             ],
             [
              0.7777777777777778,
              "#fb9f3a"
             ],
             [
              0.8888888888888888,
              "#fdca26"
             ],
             [
              1,
              "#f0f921"
             ]
            ],
            "type": "histogram2dcontour"
           }
          ],
          "mesh3d": [
           {
            "colorbar": {
             "outlinewidth": 0,
             "ticks": ""
            },
            "type": "mesh3d"
           }
          ],
          "parcoords": [
           {
            "line": {
             "colorbar": {
              "outlinewidth": 0,
              "ticks": ""
             }
            },
            "type": "parcoords"
           }
          ],
          "pie": [
           {
            "automargin": true,
            "type": "pie"
           }
          ],
          "scatter": [
           {
            "fillpattern": {
             "fillmode": "overlay",
             "size": 10,
             "solidity": 0.2
            },
            "type": "scatter"
           }
          ],
          "scatter3d": [
           {
            "line": {
             "colorbar": {
              "outlinewidth": 0,
              "ticks": ""
             }
            },
            "marker": {
             "colorbar": {
              "outlinewidth": 0,
              "ticks": ""
             }
            },
            "type": "scatter3d"
           }
          ],
          "scattercarpet": [
           {
            "marker": {
             "colorbar": {
              "outlinewidth": 0,
              "ticks": ""
             }
            },
            "type": "scattercarpet"
           }
          ],
          "scattergeo": [
           {
            "marker": {
             "colorbar": {
              "outlinewidth": 0,
              "ticks": ""
             }
            },
            "type": "scattergeo"
           }
          ],
          "scattergl": [
           {
            "marker": {
             "colorbar": {
              "outlinewidth": 0,
              "ticks": ""
             }
            },
            "type": "scattergl"
           }
          ],
          "scattermapbox": [
           {
            "marker": {
             "colorbar": {
              "outlinewidth": 0,
              "ticks": ""
             }
            },
            "type": "scattermapbox"
           }
          ],
          "scatterpolar": [
           {
            "marker": {
             "colorbar": {
              "outlinewidth": 0,
              "ticks": ""
             }
            },
            "type": "scatterpolar"
           }
          ],
          "scatterpolargl": [
           {
            "marker": {
             "colorbar": {
              "outlinewidth": 0,
              "ticks": ""
             }
            },
            "type": "scatterpolargl"
           }
          ],
          "scatterternary": [
           {
            "marker": {
             "colorbar": {
              "outlinewidth": 0,
              "ticks": ""
             }
            },
            "type": "scatterternary"
           }
          ],
          "surface": [
           {
            "colorbar": {
             "outlinewidth": 0,
             "ticks": ""
            },
            "colorscale": [
             [
              0,
              "#0d0887"
             ],
             [
              0.1111111111111111,
              "#46039f"
             ],
             [
              0.2222222222222222,
              "#7201a8"
             ],
             [
              0.3333333333333333,
              "#9c179e"
             ],
             [
              0.4444444444444444,
              "#bd3786"
             ],
             [
              0.5555555555555556,
              "#d8576b"
             ],
             [
              0.6666666666666666,
              "#ed7953"
             ],
             [
              0.7777777777777778,
              "#fb9f3a"
             ],
             [
              0.8888888888888888,
              "#fdca26"
             ],
             [
              1,
              "#f0f921"
             ]
            ],
            "type": "surface"
           }
          ],
          "table": [
           {
            "cells": {
             "fill": {
              "color": "#EBF0F8"
             },
             "line": {
              "color": "white"
             }
            },
            "header": {
             "fill": {
              "color": "#C8D4E3"
             },
             "line": {
              "color": "white"
             }
            },
            "type": "table"
           }
          ]
         },
         "layout": {
          "annotationdefaults": {
           "arrowcolor": "#2a3f5f",
           "arrowhead": 0,
           "arrowwidth": 1
          },
          "autotypenumbers": "strict",
          "coloraxis": {
           "colorbar": {
            "outlinewidth": 0,
            "ticks": ""
           }
          },
          "colorscale": {
           "diverging": [
            [
             0,
             "#8e0152"
            ],
            [
             0.1,
             "#c51b7d"
            ],
            [
             0.2,
             "#de77ae"
            ],
            [
             0.3,
             "#f1b6da"
            ],
            [
             0.4,
             "#fde0ef"
            ],
            [
             0.5,
             "#f7f7f7"
            ],
            [
             0.6,
             "#e6f5d0"
            ],
            [
             0.7,
             "#b8e186"
            ],
            [
             0.8,
             "#7fbc41"
            ],
            [
             0.9,
             "#4d9221"
            ],
            [
             1,
             "#276419"
            ]
           ],
           "sequential": [
            [
             0,
             "#0d0887"
            ],
            [
             0.1111111111111111,
             "#46039f"
            ],
            [
             0.2222222222222222,
             "#7201a8"
            ],
            [
             0.3333333333333333,
             "#9c179e"
            ],
            [
             0.4444444444444444,
             "#bd3786"
            ],
            [
             0.5555555555555556,
             "#d8576b"
            ],
            [
             0.6666666666666666,
             "#ed7953"
            ],
            [
             0.7777777777777778,
             "#fb9f3a"
            ],
            [
             0.8888888888888888,
             "#fdca26"
            ],
            [
             1,
             "#f0f921"
            ]
           ],
           "sequentialminus": [
            [
             0,
             "#0d0887"
            ],
            [
             0.1111111111111111,
             "#46039f"
            ],
            [
             0.2222222222222222,
             "#7201a8"
            ],
            [
             0.3333333333333333,
             "#9c179e"
            ],
            [
             0.4444444444444444,
             "#bd3786"
            ],
            [
             0.5555555555555556,
             "#d8576b"
            ],
            [
             0.6666666666666666,
             "#ed7953"
            ],
            [
             0.7777777777777778,
             "#fb9f3a"
            ],
            [
             0.8888888888888888,
             "#fdca26"
            ],
            [
             1,
             "#f0f921"
            ]
           ]
          },
          "colorway": [
           "#636efa",
           "#EF553B",
           "#00cc96",
           "#ab63fa",
           "#FFA15A",
           "#19d3f3",
           "#FF6692",
           "#B6E880",
           "#FF97FF",
           "#FECB52"
          ],
          "font": {
           "color": "#2a3f5f"
          },
          "geo": {
           "bgcolor": "white",
           "lakecolor": "white",
           "landcolor": "#E5ECF6",
           "showlakes": true,
           "showland": true,
           "subunitcolor": "white"
          },
          "hoverlabel": {
           "align": "left"
          },
          "hovermode": "closest",
          "mapbox": {
           "style": "light"
          },
          "paper_bgcolor": "white",
          "plot_bgcolor": "#E5ECF6",
          "polar": {
           "angularaxis": {
            "gridcolor": "white",
            "linecolor": "white",
            "ticks": ""
           },
           "bgcolor": "#E5ECF6",
           "radialaxis": {
            "gridcolor": "white",
            "linecolor": "white",
            "ticks": ""
           }
          },
          "scene": {
           "xaxis": {
            "backgroundcolor": "#E5ECF6",
            "gridcolor": "white",
            "gridwidth": 2,
            "linecolor": "white",
            "showbackground": true,
            "ticks": "",
            "zerolinecolor": "white"
           },
           "yaxis": {
            "backgroundcolor": "#E5ECF6",
            "gridcolor": "white",
            "gridwidth": 2,
            "linecolor": "white",
            "showbackground": true,
            "ticks": "",
            "zerolinecolor": "white"
           },
           "zaxis": {
            "backgroundcolor": "#E5ECF6",
            "gridcolor": "white",
            "gridwidth": 2,
            "linecolor": "white",
            "showbackground": true,
            "ticks": "",
            "zerolinecolor": "white"
           }
          },
          "shapedefaults": {
           "line": {
            "color": "#2a3f5f"
           }
          },
          "ternary": {
           "aaxis": {
            "gridcolor": "white",
            "linecolor": "white",
            "ticks": ""
           },
           "baxis": {
            "gridcolor": "white",
            "linecolor": "white",
            "ticks": ""
           },
           "bgcolor": "#E5ECF6",
           "caxis": {
            "gridcolor": "white",
            "linecolor": "white",
            "ticks": ""
           }
          },
          "title": {
           "x": 0.05
          },
          "xaxis": {
           "automargin": true,
           "gridcolor": "white",
           "linecolor": "white",
           "ticks": "",
           "title": {
            "standoff": 15
           },
           "zerolinecolor": "white",
           "zerolinewidth": 2
          },
          "yaxis": {
           "automargin": true,
           "gridcolor": "white",
           "linecolor": "white",
           "ticks": "",
           "title": {
            "standoff": 15
           },
           "zerolinecolor": "white",
           "zerolinewidth": 2
          }
         }
        },
        "title": {
         "text": "Sample_id by Change in scaffold count (%)"
        },
        "xaxis": {
         "anchor": "y",
         "domain": [
          0,
          1
         ],
         "title": {
          "text": "x"
         }
        },
        "yaxis": {
         "anchor": "x",
         "domain": [
          0,
          1
         ],
         "title": {
          "text": "y"
         }
        }
       }
      }
     },
     "metadata": {},
     "output_type": "display_data"
    },
    {
     "name": "stdout",
     "output_type": "stream",
     "text": [
      "\n"
     ]
    },
    {
     "data": {
      "application/vnd.plotly.v1+json": {
       "config": {
        "plotlyServerURL": "https://plot.ly"
       },
       "data": [
        {
         "hovertemplate": "color=idSyrPipi1_1<br>x=%{x}<br>y=%{y}<extra></extra>",
         "legendgroup": "idSyrPipi1_1",
         "marker": {
          "color": "#636efa",
          "symbol": "circle"
         },
         "mode": "markers",
         "name": "idSyrPipi1_1",
         "orientation": "h",
         "showlegend": true,
         "type": "scatter",
         "x": [
          318506762
         ],
         "xaxis": "x",
         "y": [
          "12"
         ],
         "yaxis": "y"
        },
        {
         "hovertemplate": "color=idSyrPipi1_1<extra></extra>",
         "legendgroup": "idSyrPipi1_1",
         "marker": {
          "color": "#636efa",
          "symbol": "circle"
         },
         "mode": "lines",
         "name": "idSyrPipi1_1",
         "showlegend": false,
         "type": "scatter",
         "xaxis": "x",
         "yaxis": "y"
        },
        {
         "hovertemplate": "color=idScaPyra1_1<br>x=%{x}<br>y=%{y}<extra></extra>",
         "legendgroup": "idScaPyra1_1",
         "marker": {
          "color": "#EF553B",
          "symbol": "circle"
         },
         "mode": "markers",
         "name": "idScaPyra1_1",
         "orientation": "h",
         "showlegend": true,
         "type": "scatter",
         "x": [
          320029822
         ],
         "xaxis": "x",
         "y": [
          "15"
         ],
         "yaxis": "y"
        },
        {
         "hovertemplate": "color=idScaPyra1_1<extra></extra>",
         "legendgroup": "idScaPyra1_1",
         "marker": {
          "color": "#EF553B",
          "symbol": "circle"
         },
         "mode": "lines",
         "name": "idScaPyra1_1",
         "showlegend": false,
         "type": "scatter",
         "xaxis": "x",
         "yaxis": "y"
        },
        {
         "hovertemplate": "color=idEriSepu1_1.0<br>x=%{x}<br>y=%{y}<extra></extra>",
         "legendgroup": "idEriSepu1_1.0",
         "marker": {
          "color": "#00cc96",
          "symbol": "circle"
         },
         "mode": "markers",
         "name": "idEriSepu1_1.0",
         "orientation": "h",
         "showlegend": true,
         "type": "scatter",
         "x": [
          376833488
         ],
         "xaxis": "x",
         "y": [
          "15"
         ],
         "yaxis": "y"
        },
        {
         "hovertemplate": "color=idEriSepu1_1.0<extra></extra>",
         "legendgroup": "idEriSepu1_1.0",
         "marker": {
          "color": "#00cc96",
          "symbol": "circle"
         },
         "mode": "lines",
         "name": "idEriSepu1_1.0",
         "showlegend": false,
         "type": "scatter",
         "xaxis": "x",
         "yaxis": "y"
        },
        {
         "hovertemplate": "color=idBibMarc1_1<br>x=%{x}<br>y=%{y}<extra></extra>",
         "legendgroup": "idBibMarc1_1",
         "marker": {
          "color": "#ab63fa",
          "symbol": "circle"
         },
         "mode": "markers",
         "name": "idBibMarc1_1",
         "orientation": "h",
         "showlegend": true,
         "type": "scatter",
         "x": [
          340009463
         ],
         "xaxis": "x",
         "y": [
          "16"
         ],
         "yaxis": "y"
        },
        {
         "hovertemplate": "color=idBibMarc1_1<extra></extra>",
         "legendgroup": "idBibMarc1_1",
         "marker": {
          "color": "#ab63fa",
          "symbol": "circle"
         },
         "mode": "lines",
         "name": "idBibMarc1_1",
         "showlegend": false,
         "type": "scatter",
         "xaxis": "x",
         "yaxis": "y"
        },
        {
         "hovertemplate": "color=idEpiSucc1_1.0<br>x=%{x}<br>y=%{y}<extra></extra>",
         "legendgroup": "idEpiSucc1_1.0",
         "marker": {
          "color": "#FFA15A",
          "symbol": "circle"
         },
         "mode": "markers",
         "name": "idEpiSucc1_1.0",
         "orientation": "h",
         "showlegend": true,
         "type": "scatter",
         "x": [
          398107694
         ],
         "xaxis": "x",
         "y": [
          "21"
         ],
         "yaxis": "y"
        },
        {
         "hovertemplate": "color=idEpiSucc1_1.0<extra></extra>",
         "legendgroup": "idEpiSucc1_1.0",
         "marker": {
          "color": "#FFA15A",
          "symbol": "circle"
         },
         "mode": "lines",
         "name": "idEpiSucc1_1.0",
         "showlegend": false,
         "type": "scatter",
         "xaxis": "x",
         "yaxis": "y"
        },
        {
         "hovertemplate": "color=idVolInan1_1<br>x=%{x}<br>y=%{y}<extra></extra>",
         "legendgroup": "idVolInan1_1",
         "marker": {
          "color": "#19d3f3",
          "symbol": "circle"
         },
         "mode": "markers",
         "name": "idVolInan1_1",
         "orientation": "h",
         "showlegend": true,
         "type": "scatter",
         "x": [
          961446857
         ],
         "xaxis": "x",
         "y": [
          "21"
         ],
         "yaxis": "y"
        },
        {
         "hovertemplate": "color=idVolInan1_1<extra></extra>",
         "legendgroup": "idVolInan1_1",
         "marker": {
          "color": "#19d3f3",
          "symbol": "circle"
         },
         "mode": "lines",
         "name": "idVolInan1_1",
         "showlegend": false,
         "type": "scatter",
         "xaxis": "x",
         "yaxis": "y"
        },
        {
         "hovertemplate": "color=idVolInfl1_1.0<br>x=%{x}<br>y=%{y}<extra></extra>",
         "legendgroup": "idVolInfl1_1.0",
         "marker": {
          "color": "#FF6692",
          "symbol": "circle"
         },
         "mode": "markers",
         "name": "idVolInfl1_1.0",
         "orientation": "h",
         "showlegend": true,
         "type": "scatter",
         "x": [
          753463946
         ],
         "xaxis": "x",
         "y": [
          "22"
         ],
         "yaxis": "y"
        },
        {
         "hovertemplate": "color=idVolInfl1_1.0<extra></extra>",
         "legendgroup": "idVolInfl1_1.0",
         "marker": {
          "color": "#FF6692",
          "symbol": "circle"
         },
         "mode": "lines",
         "name": "idVolInfl1_1.0",
         "showlegend": false,
         "type": "scatter",
         "xaxis": "x",
         "yaxis": "y"
        },
        {
         "hovertemplate": "color=idChePaga1_1.0<br>x=%{x}<br>y=%{y}<extra></extra>",
         "legendgroup": "idChePaga1_1.0",
         "marker": {
          "color": "#B6E880",
          "symbol": "circle"
         },
         "mode": "markers",
         "name": "idChePaga1_1.0",
         "orientation": "h",
         "showlegend": true,
         "type": "scatter",
         "x": [
          354108297
         ],
         "xaxis": "x",
         "y": [
          "23"
         ],
         "yaxis": "y"
        },
        {
         "hovertemplate": "color=idChePaga1_1.0<extra></extra>",
         "legendgroup": "idChePaga1_1.0",
         "marker": {
          "color": "#B6E880",
          "symbol": "circle"
         },
         "mode": "lines",
         "name": "idChePaga1_1.0",
         "showlegend": false,
         "type": "scatter",
         "xaxis": "x",
         "yaxis": "y"
        },
        {
         "hovertemplate": "color=idCriBerb1_1<br>x=%{x}<br>y=%{y}<extra></extra>",
         "legendgroup": "idCriBerb1_1",
         "marker": {
          "color": "#FF97FF",
          "symbol": "circle"
         },
         "mode": "markers",
         "name": "idCriBerb1_1",
         "orientation": "h",
         "showlegend": true,
         "type": "scatter",
         "x": [
          410379867
         ],
         "xaxis": "x",
         "y": [
          "23"
         ],
         "yaxis": "y"
        },
        {
         "hovertemplate": "color=idCriBerb1_1<extra></extra>",
         "legendgroup": "idCriBerb1_1",
         "marker": {
          "color": "#FF97FF",
          "symbol": "circle"
         },
         "mode": "lines",
         "name": "idCriBerb1_1",
         "showlegend": false,
         "type": "scatter",
         "xaxis": "x",
         "yaxis": "y"
        },
        {
         "hovertemplate": "color=idCheVulp2_1.0<br>x=%{x}<br>y=%{y}<extra></extra>",
         "legendgroup": "idCheVulp2_1.0",
         "marker": {
          "color": "#FECB52",
          "symbol": "circle"
         },
         "mode": "markers",
         "name": "idCheVulp2_1.0",
         "orientation": "h",
         "showlegend": true,
         "type": "scatter",
         "x": [
          405365642
         ],
         "xaxis": "x",
         "y": [
          "25"
         ],
         "yaxis": "y"
        },
        {
         "hovertemplate": "color=idCheVulp2_1.0<extra></extra>",
         "legendgroup": "idCheVulp2_1.0",
         "marker": {
          "color": "#FECB52",
          "symbol": "circle"
         },
         "mode": "lines",
         "name": "idCheVulp2_1.0",
         "showlegend": false,
         "type": "scatter",
         "xaxis": "x",
         "yaxis": "y"
        },
        {
         "hovertemplate": "color=idProAzur1_1.0<br>x=%{x}<br>y=%{y}<extra></extra>",
         "legendgroup": "idProAzur1_1.0",
         "marker": {
          "color": "#636efa",
          "symbol": "circle"
         },
         "mode": "markers",
         "name": "idProAzur1_1.0",
         "orientation": "h",
         "showlegend": true,
         "type": "scatter",
         "x": [
          874236519
         ],
         "xaxis": "x",
         "y": [
          "26"
         ],
         "yaxis": "y"
        },
        {
         "hovertemplate": "color=idProAzur1_1.0<extra></extra>",
         "legendgroup": "idProAzur1_1.0",
         "marker": {
          "color": "#636efa",
          "symbol": "circle"
         },
         "mode": "lines",
         "name": "idProAzur1_1.0",
         "showlegend": false,
         "type": "scatter",
         "xaxis": "x",
         "yaxis": "y"
        },
        {
         "hovertemplate": "color=idEriPert2_1<br>x=%{x}<br>y=%{y}<extra></extra>",
         "legendgroup": "idEriPert2_1",
         "marker": {
          "color": "#EF553B",
          "symbol": "circle"
         },
         "mode": "markers",
         "name": "idEriPert2_1",
         "orientation": "h",
         "showlegend": true,
         "type": "scatter",
         "x": [
          482075123
         ],
         "xaxis": "x",
         "y": [
          "27"
         ],
         "yaxis": "y"
        },
        {
         "hovertemplate": "color=idEriPert2_1<extra></extra>",
         "legendgroup": "idEriPert2_1",
         "marker": {
          "color": "#EF553B",
          "symbol": "circle"
         },
         "mode": "lines",
         "name": "idEriPert2_1",
         "showlegend": false,
         "type": "scatter",
         "xaxis": "x",
         "yaxis": "y"
        },
        {
         "hovertemplate": "color=idEriTena2_1<br>x=%{x}<br>y=%{y}<extra></extra>",
         "legendgroup": "idEriTena2_1",
         "marker": {
          "color": "#00cc96",
          "symbol": "circle"
         },
         "mode": "markers",
         "name": "idEriTena2_1",
         "orientation": "h",
         "showlegend": true,
         "type": "scatter",
         "x": [
          487002646
         ],
         "xaxis": "x",
         "y": [
          "27"
         ],
         "yaxis": "y"
        },
        {
         "hovertemplate": "color=idEriTena2_1<extra></extra>",
         "legendgroup": "idEriTena2_1",
         "marker": {
          "color": "#00cc96",
          "symbol": "circle"
         },
         "mode": "lines",
         "name": "idEriTena2_1",
         "showlegend": false,
         "type": "scatter",
         "xaxis": "x",
         "yaxis": "y"
        },
        {
         "hovertemplate": "color=idXylSylv2_1<br>x=%{x}<br>y=%{y}<extra></extra>",
         "legendgroup": "idXylSylv2_1",
         "marker": {
          "color": "#ab63fa",
          "symbol": "circle"
         },
         "mode": "markers",
         "name": "idXylSylv2_1",
         "orientation": "h",
         "showlegend": true,
         "type": "scatter",
         "x": [
          534819879
         ],
         "xaxis": "x",
         "y": [
          "27"
         ],
         "yaxis": "y"
        },
        {
         "hovertemplate": "color=idXylSylv2_1<extra></extra>",
         "legendgroup": "idXylSylv2_1",
         "marker": {
          "color": "#ab63fa",
          "symbol": "circle"
         },
         "mode": "lines",
         "name": "idXylSylv2_1",
         "showlegend": false,
         "type": "scatter",
         "xaxis": "x",
         "yaxis": "y"
        },
        {
         "hovertemplate": "color=idSarRose1_1.0<br>x=%{x}<br>y=%{y}<extra></extra>",
         "legendgroup": "idSarRose1_1.0",
         "marker": {
          "color": "#FFA15A",
          "symbol": "circle"
         },
         "mode": "markers",
         "name": "idSarRose1_1.0",
         "orientation": "h",
         "showlegend": true,
         "type": "scatter",
         "x": [
          541374458
         ],
         "xaxis": "x",
         "y": [
          "28"
         ],
         "yaxis": "y"
        },
        {
         "hovertemplate": "color=idSarRose1_1.0<extra></extra>",
         "legendgroup": "idSarRose1_1.0",
         "marker": {
          "color": "#FFA15A",
          "symbol": "circle"
         },
         "mode": "lines",
         "name": "idSarRose1_1.0",
         "showlegend": false,
         "type": "scatter",
         "xaxis": "x",
         "yaxis": "y"
        },
        {
         "hovertemplate": "color=idMacAtri3_1.0<br>x=%{x}<br>y=%{y}<extra></extra>",
         "legendgroup": "idMacAtri3_1.0",
         "marker": {
          "color": "#19d3f3",
          "symbol": "circle"
         },
         "mode": "markers",
         "name": "idMacAtri3_1.0",
         "orientation": "h",
         "showlegend": true,
         "type": "scatter",
         "x": [
          268627744
         ],
         "xaxis": "x",
         "y": [
          "29"
         ],
         "yaxis": "y"
        },
        {
         "hovertemplate": "color=idMacAtri3_1.0<extra></extra>",
         "legendgroup": "idMacAtri3_1.0",
         "marker": {
          "color": "#19d3f3",
          "symbol": "circle"
         },
         "mode": "lines",
         "name": "idMacAtri3_1.0",
         "showlegend": false,
         "type": "scatter",
         "xaxis": "x",
         "yaxis": "y"
        },
        {
         "hovertemplate": "color=idTheAcut1_1.0<br>x=%{x}<br>y=%{y}<extra></extra>",
         "legendgroup": "idTheAcut1_1.0",
         "marker": {
          "color": "#FF6692",
          "symbol": "circle"
         },
         "mode": "markers",
         "name": "idTheAcut1_1.0",
         "orientation": "h",
         "showlegend": true,
         "type": "scatter",
         "x": [
          692880428
         ],
         "xaxis": "x",
         "y": [
          "29"
         ],
         "yaxis": "y"
        },
        {
         "hovertemplate": "color=idTheAcut1_1.0<extra></extra>",
         "legendgroup": "idTheAcut1_1.0",
         "marker": {
          "color": "#FF6692",
          "symbol": "circle"
         },
         "mode": "lines",
         "name": "idTheAcut1_1.0",
         "showlegend": false,
         "type": "scatter",
         "xaxis": "x",
         "yaxis": "y"
        },
        {
         "hovertemplate": "color=idBomDisc1_1<br>x=%{x}<br>y=%{y}<extra></extra>",
         "legendgroup": "idBomDisc1_1",
         "marker": {
          "color": "#B6E880",
          "symbol": "circle"
         },
         "mode": "markers",
         "name": "idBomDisc1_1",
         "orientation": "h",
         "showlegend": true,
         "type": "scatter",
         "x": [
          279827877
         ],
         "xaxis": "x",
         "y": [
          "29"
         ],
         "yaxis": "y"
        },
        {
         "hovertemplate": "color=idBomDisc1_1<extra></extra>",
         "legendgroup": "idBomDisc1_1",
         "marker": {
          "color": "#B6E880",
          "symbol": "circle"
         },
         "mode": "lines",
         "name": "idBomDisc1_1",
         "showlegend": false,
         "type": "scatter",
         "xaxis": "x",
         "yaxis": "y"
        },
        {
         "hovertemplate": "color=idBomMajo1_1.0<br>x=%{x}<br>y=%{y}<extra></extra>",
         "legendgroup": "idBomMajo1_1.0",
         "marker": {
          "color": "#FF97FF",
          "symbol": "circle"
         },
         "mode": "markers",
         "name": "idBomMajo1_1.0",
         "orientation": "h",
         "showlegend": true,
         "type": "scatter",
         "x": [
          304311880
         ],
         "xaxis": "x",
         "y": [
          "30"
         ],
         "yaxis": "y"
        },
        {
         "hovertemplate": "color=idBomMajo1_1.0<extra></extra>",
         "legendgroup": "idBomMajo1_1.0",
         "marker": {
          "color": "#FF97FF",
          "symbol": "circle"
         },
         "mode": "lines",
         "name": "idBomMajo1_1.0",
         "showlegend": false,
         "type": "scatter",
         "xaxis": "x",
         "yaxis": "y"
        },
        {
         "hovertemplate": "color=idSarCaer1_1.0<br>x=%{x}<br>y=%{y}<extra></extra>",
         "legendgroup": "idSarCaer1_1.0",
         "marker": {
          "color": "#FECB52",
          "symbol": "circle"
         },
         "mode": "markers",
         "name": "idSarCaer1_1.0",
         "orientation": "h",
         "showlegend": true,
         "type": "scatter",
         "x": [
          597302449
         ],
         "xaxis": "x",
         "y": [
          "31"
         ],
         "yaxis": "y"
        },
        {
         "hovertemplate": "color=idSarCaer1_1.0<extra></extra>",
         "legendgroup": "idSarCaer1_1.0",
         "marker": {
          "color": "#FECB52",
          "symbol": "circle"
         },
         "mode": "lines",
         "name": "idSarCaer1_1.0",
         "showlegend": false,
         "type": "scatter",
         "xaxis": "x",
         "yaxis": "y"
        },
        {
         "hovertemplate": "color=idEpiGros1_1.0<br>x=%{x}<br>y=%{y}<extra></extra>",
         "legendgroup": "idEpiGros1_1.0",
         "marker": {
          "color": "#636efa",
          "symbol": "circle"
         },
         "mode": "markers",
         "name": "idEpiGros1_1.0",
         "orientation": "h",
         "showlegend": true,
         "type": "scatter",
         "x": [
          556592610
         ],
         "xaxis": "x",
         "y": [
          "31"
         ],
         "yaxis": "y"
        },
        {
         "hovertemplate": "color=idEpiGros1_1.0<extra></extra>",
         "legendgroup": "idEpiGros1_1.0",
         "marker": {
          "color": "#636efa",
          "symbol": "circle"
         },
         "mode": "lines",
         "name": "idEpiGros1_1.0",
         "showlegend": false,
         "type": "scatter",
         "xaxis": "x",
         "yaxis": "y"
        },
        {
         "hovertemplate": "color=idMyaFlor2_1.0<br>x=%{x}<br>y=%{y}<extra></extra>",
         "legendgroup": "idMyaFlor2_1.0",
         "marker": {
          "color": "#EF553B",
          "symbol": "circle"
         },
         "mode": "markers",
         "name": "idMyaFlor2_1.0",
         "orientation": "h",
         "showlegend": true,
         "type": "scatter",
         "x": [
          485087974
         ],
         "xaxis": "x",
         "y": [
          "32"
         ],
         "yaxis": "y"
        },
        {
         "hovertemplate": "color=idMyaFlor2_1.0<extra></extra>",
         "legendgroup": "idMyaFlor2_1.0",
         "marker": {
          "color": "#EF553B",
          "symbol": "circle"
         },
         "mode": "lines",
         "name": "idMyaFlor2_1.0",
         "showlegend": false,
         "type": "scatter",
         "xaxis": "x",
         "yaxis": "y"
        },
        {
         "hovertemplate": "color=idPhyMeln1_1.0<br>x=%{x}<br>y=%{y}<extra></extra>",
         "legendgroup": "idPhyMeln1_1.0",
         "marker": {
          "color": "#00cc96",
          "symbol": "circle"
         },
         "mode": "markers",
         "name": "idPhyMeln1_1.0",
         "orientation": "h",
         "showlegend": true,
         "type": "scatter",
         "x": [
          739740587
         ],
         "xaxis": "x",
         "y": [
          "32"
         ],
         "yaxis": "y"
        },
        {
         "hovertemplate": "color=idPhyMeln1_1.0<extra></extra>",
         "legendgroup": "idPhyMeln1_1.0",
         "marker": {
          "color": "#00cc96",
          "symbol": "circle"
         },
         "mode": "lines",
         "name": "idPhyMeln1_1.0",
         "showlegend": false,
         "type": "scatter",
         "xaxis": "x",
         "yaxis": "y"
        },
        {
         "hovertemplate": "color=idEupCoro1_1.0<br>x=%{x}<br>y=%{y}<extra></extra>",
         "legendgroup": "idEupCoro1_1.0",
         "marker": {
          "color": "#ab63fa",
          "symbol": "circle"
         },
         "mode": "markers",
         "name": "idEupCoro1_1.0",
         "orientation": "h",
         "showlegend": true,
         "type": "scatter",
         "x": [
          648195582
         ],
         "xaxis": "x",
         "y": [
          "32"
         ],
         "yaxis": "y"
        },
        {
         "hovertemplate": "color=idEupCoro1_1.0<extra></extra>",
         "legendgroup": "idEupCoro1_1.0",
         "marker": {
          "color": "#ab63fa",
          "symbol": "circle"
         },
         "mode": "lines",
         "name": "idEupCoro1_1.0",
         "showlegend": false,
         "type": "scatter",
         "xaxis": "x",
         "yaxis": "y"
        },
        {
         "hovertemplate": "color=idDasAlbo1_1.0<br>x=%{x}<br>y=%{y}<extra></extra>",
         "legendgroup": "idDasAlbo1_1.0",
         "marker": {
          "color": "#FFA15A",
          "symbol": "circle"
         },
         "mode": "markers",
         "name": "idDasAlbo1_1.0",
         "orientation": "h",
         "showlegend": true,
         "type": "scatter",
         "x": [
          662539497
         ],
         "xaxis": "x",
         "y": [
          "33"
         ],
         "yaxis": "y"
        },
        {
         "hovertemplate": "color=idDasAlbo1_1.0<extra></extra>",
         "legendgroup": "idDasAlbo1_1.0",
         "marker": {
          "color": "#FFA15A",
          "symbol": "circle"
         },
         "mode": "lines",
         "name": "idDasAlbo1_1.0",
         "showlegend": false,
         "type": "scatter",
         "xaxis": "x",
         "yaxis": "y"
        },
        {
         "hovertemplate": "color=idEriArbu1_1.0<br>x=%{x}<br>y=%{y}<extra></extra>",
         "legendgroup": "idEriArbu1_1.0",
         "marker": {
          "color": "#19d3f3",
          "symbol": "circle"
         },
         "mode": "markers",
         "name": "idEriArbu1_1.0",
         "orientation": "h",
         "showlegend": true,
         "type": "scatter",
         "x": [
          451027004
         ],
         "xaxis": "x",
         "y": [
          "33"
         ],
         "yaxis": "y"
        },
        {
         "hovertemplate": "color=idEriArbu1_1.0<extra></extra>",
         "legendgroup": "idEriArbu1_1.0",
         "marker": {
          "color": "#19d3f3",
          "symbol": "circle"
         },
         "mode": "lines",
         "name": "idEriArbu1_1.0",
         "showlegend": false,
         "type": "scatter",
         "xaxis": "x",
         "yaxis": "y"
        },
        {
         "hovertemplate": "color=idMyoTess1_1.0<br>x=%{x}<br>y=%{y}<extra></extra>",
         "legendgroup": "idMyoTess1_1.0",
         "marker": {
          "color": "#FF6692",
          "symbol": "circle"
         },
         "mode": "markers",
         "name": "idMyoTess1_1.0",
         "orientation": "h",
         "showlegend": true,
         "type": "scatter",
         "x": [
          249257482
         ],
         "xaxis": "x",
         "y": [
          "33"
         ],
         "yaxis": "y"
        },
        {
         "hovertemplate": "color=idMyoTess1_1.0<extra></extra>",
         "legendgroup": "idMyoTess1_1.0",
         "marker": {
          "color": "#FF6692",
          "symbol": "circle"
         },
         "mode": "lines",
         "name": "idMyoTess1_1.0",
         "showlegend": false,
         "type": "scatter",
         "xaxis": "x",
         "yaxis": "y"
        },
        {
         "hovertemplate": "color=idSarSubv1_1.0<br>x=%{x}<br>y=%{y}<extra></extra>",
         "legendgroup": "idSarSubv1_1.0",
         "marker": {
          "color": "#B6E880",
          "symbol": "circle"
         },
         "mode": "markers",
         "name": "idSarSubv1_1.0",
         "orientation": "h",
         "showlegend": true,
         "type": "scatter",
         "x": [
          711134278
         ],
         "xaxis": "x",
         "y": [
          "34"
         ],
         "yaxis": "y"
        },
        {
         "hovertemplate": "color=idSarSubv1_1.0<extra></extra>",
         "legendgroup": "idSarSubv1_1.0",
         "marker": {
          "color": "#B6E880",
          "symbol": "circle"
         },
         "mode": "lines",
         "name": "idSarSubv1_1.0",
         "showlegend": false,
         "type": "scatter",
         "xaxis": "x",
         "yaxis": "y"
        },
        {
         "hovertemplate": "color=idSarVari1_1.0<br>x=%{x}<br>y=%{y}<extra></extra>",
         "legendgroup": "idSarVari1_1.0",
         "marker": {
          "color": "#FF97FF",
          "symbol": "circle"
         },
         "mode": "markers",
         "name": "idSarVari1_1.0",
         "orientation": "h",
         "showlegend": true,
         "type": "scatter",
         "x": [
          718455953
         ],
         "xaxis": "x",
         "y": [
          "34"
         ],
         "yaxis": "y"
        },
        {
         "hovertemplate": "color=idSarVari1_1.0<extra></extra>",
         "legendgroup": "idSarVari1_1.0",
         "marker": {
          "color": "#FF97FF",
          "symbol": "circle"
         },
         "mode": "lines",
         "name": "idSarVari1_1.0",
         "showlegend": false,
         "type": "scatter",
         "xaxis": "x",
         "yaxis": "y"
        },
        {
         "hovertemplate": "color=idTacFera2_1<br>x=%{x}<br>y=%{y}<extra></extra>",
         "legendgroup": "idTacFera2_1",
         "marker": {
          "color": "#FECB52",
          "symbol": "circle"
         },
         "mode": "markers",
         "name": "idTacFera2_1",
         "orientation": "h",
         "showlegend": true,
         "type": "scatter",
         "x": [
          751720058
         ],
         "xaxis": "x",
         "y": [
          "34"
         ],
         "yaxis": "y"
        },
        {
         "hovertemplate": "color=idTacFera2_1<extra></extra>",
         "legendgroup": "idTacFera2_1",
         "marker": {
          "color": "#FECB52",
          "symbol": "circle"
         },
         "mode": "lines",
         "name": "idTacFera2_1",
         "showlegend": false,
         "type": "scatter",
         "xaxis": "x",
         "yaxis": "y"
        },
        {
         "hovertemplate": "color=idLeuLate1_1.0<br>x=%{x}<br>y=%{y}<extra></extra>",
         "legendgroup": "idLeuLate1_1.0",
         "marker": {
          "color": "#636efa",
          "symbol": "circle"
         },
         "mode": "markers",
         "name": "idLeuLate1_1.0",
         "orientation": "h",
         "showlegend": true,
         "type": "scatter",
         "x": [
          613542547
         ],
         "xaxis": "x",
         "y": [
          "35"
         ],
         "yaxis": "y"
        },
        {
         "hovertemplate": "color=idLeuLate1_1.0<extra></extra>",
         "legendgroup": "idLeuLate1_1.0",
         "marker": {
          "color": "#636efa",
          "symbol": "circle"
         },
         "mode": "lines",
         "name": "idLeuLate1_1.0",
         "showlegend": false,
         "type": "scatter",
         "xaxis": "x",
         "yaxis": "y"
        },
        {
         "hovertemplate": "color=idNowFero1_1.0<br>x=%{x}<br>y=%{y}<extra></extra>",
         "legendgroup": "idNowFero1_1.0",
         "marker": {
          "color": "#EF553B",
          "symbol": "circle"
         },
         "mode": "markers",
         "name": "idNowFero1_1.0",
         "orientation": "h",
         "showlegend": true,
         "type": "scatter",
         "x": [
          670697881
         ],
         "xaxis": "x",
         "y": [
          "36"
         ],
         "yaxis": "y"
        },
        {
         "hovertemplate": "color=idNowFero1_1.0<extra></extra>",
         "legendgroup": "idNowFero1_1.0",
         "marker": {
          "color": "#EF553B",
          "symbol": "circle"
         },
         "mode": "lines",
         "name": "idNowFero1_1.0",
         "showlegend": false,
         "type": "scatter",
         "xaxis": "x",
         "yaxis": "y"
        },
        {
         "hovertemplate": "color=idGymRotn1_2.0<br>x=%{x}<br>y=%{y}<extra></extra>",
         "legendgroup": "idGymRotn1_2.0",
         "marker": {
          "color": "#00cc96",
          "symbol": "circle"
         },
         "mode": "markers",
         "name": "idGymRotn1_2.0",
         "orientation": "h",
         "showlegend": true,
         "type": "scatter",
         "x": [
          779127282
         ],
         "xaxis": "x",
         "y": [
          "36"
         ],
         "yaxis": "y"
        },
        {
         "hovertemplate": "color=idGymRotn1_2.0<extra></extra>",
         "legendgroup": "idGymRotn1_2.0",
         "marker": {
          "color": "#00cc96",
          "symbol": "circle"
         },
         "mode": "lines",
         "name": "idGymRotn1_2.0",
         "showlegend": false,
         "type": "scatter",
         "xaxis": "x",
         "yaxis": "y"
        },
        {
         "hovertemplate": "color=idBelPand1_2.0<br>x=%{x}<br>y=%{y}<extra></extra>",
         "legendgroup": "idBelPand1_2.0",
         "marker": {
          "color": "#ab63fa",
          "symbol": "circle"
         },
         "mode": "markers",
         "name": "idBelPand1_2.0",
         "orientation": "h",
         "showlegend": true,
         "type": "scatter",
         "x": [
          617022296
         ],
         "xaxis": "x",
         "y": [
          "37"
         ],
         "yaxis": "y"
        },
        {
         "hovertemplate": "color=idBelPand1_2.0<extra></extra>",
         "legendgroup": "idBelPand1_2.0",
         "marker": {
          "color": "#ab63fa",
          "symbol": "circle"
         },
         "mode": "lines",
         "name": "idBelPand1_2.0",
         "showlegend": false,
         "type": "scatter",
         "xaxis": "x",
         "yaxis": "y"
        },
        {
         "hovertemplate": "color=idRhiCamp1_1.0<br>x=%{x}<br>y=%{y}<extra></extra>",
         "legendgroup": "idRhiCamp1_1.0",
         "marker": {
          "color": "#FFA15A",
          "symbol": "circle"
         },
         "mode": "markers",
         "name": "idRhiCamp1_1.0",
         "orientation": "h",
         "showlegend": true,
         "type": "scatter",
         "x": [
          719858466
         ],
         "xaxis": "x",
         "y": [
          "39"
         ],
         "yaxis": "y"
        },
        {
         "hovertemplate": "color=idRhiCamp1_1.0<extra></extra>",
         "legendgroup": "idRhiCamp1_1.0",
         "marker": {
          "color": "#FFA15A",
          "symbol": "circle"
         },
         "mode": "lines",
         "name": "idRhiCamp1_1.0",
         "showlegend": false,
         "type": "scatter",
         "xaxis": "x",
         "yaxis": "y"
        },
        {
         "hovertemplate": "color=idCisGlob1_1.0<br>x=%{x}<br>y=%{y}<extra></extra>",
         "legendgroup": "idCisGlob1_1.0",
         "marker": {
          "color": "#19d3f3",
          "symbol": "circle"
         },
         "mode": "markers",
         "name": "idCisGlob1_1.0",
         "orientation": "h",
         "showlegend": true,
         "type": "scatter",
         "x": [
          837758165
         ],
         "xaxis": "x",
         "y": [
          "41"
         ],
         "yaxis": "y"
        },
        {
         "hovertemplate": "color=idCisGlob1_1.0<extra></extra>",
         "legendgroup": "idCisGlob1_1.0",
         "marker": {
          "color": "#19d3f3",
          "symbol": "circle"
         },
         "mode": "lines",
         "name": "idCisGlob1_1.0",
         "showlegend": false,
         "type": "scatter",
         "xaxis": "x",
         "yaxis": "y"
        },
        {
         "hovertemplate": "color=idCalVomi1_1.0<br>x=%{x}<br>y=%{y}<extra></extra>",
         "legendgroup": "idCalVomi1_1.0",
         "marker": {
          "color": "#FF6692",
          "symbol": "circle"
         },
         "mode": "markers",
         "name": "idCalVomi1_1.0",
         "orientation": "h",
         "showlegend": true,
         "type": "scatter",
         "x": [
          706662258
         ],
         "xaxis": "x",
         "y": [
          "41"
         ],
         "yaxis": "y"
        },
        {
         "hovertemplate": "color=idCalVomi1_1.0<extra></extra>",
         "legendgroup": "idCalVomi1_1.0",
         "marker": {
          "color": "#FF6692",
          "symbol": "circle"
         },
         "mode": "lines",
         "name": "idCalVomi1_1.0",
         "showlegend": false,
         "type": "scatter",
         "xaxis": "x",
         "yaxis": "y"
        },
        {
         "hovertemplate": "color=idNepFlae1_1.0<br>x=%{x}<br>y=%{y}<extra></extra>",
         "legendgroup": "idNepFlae1_1.0",
         "marker": {
          "color": "#B6E880",
          "symbol": "circle"
         },
         "mode": "markers",
         "name": "idNepFlae1_1.0",
         "orientation": "h",
         "showlegend": true,
         "type": "scatter",
         "x": [
          1051332770
         ],
         "xaxis": "x",
         "y": [
          "41"
         ],
         "yaxis": "y"
        },
        {
         "hovertemplate": "color=idNepFlae1_1.0<extra></extra>",
         "legendgroup": "idNepFlae1_1.0",
         "marker": {
          "color": "#B6E880",
          "symbol": "circle"
         },
         "mode": "lines",
         "name": "idNepFlae1_1.0",
         "showlegend": false,
         "type": "scatter",
         "xaxis": "x",
         "yaxis": "y"
        },
        {
         "hovertemplate": "color=idXanPedi1_1<br>x=%{x}<br>y=%{y}<extra></extra>",
         "legendgroup": "idXanPedi1_1",
         "marker": {
          "color": "#FF97FF",
          "symbol": "circle"
         },
         "mode": "markers",
         "name": "idXanPedi1_1",
         "orientation": "h",
         "showlegend": true,
         "type": "scatter",
         "x": [
          977153996
         ],
         "xaxis": "x",
         "y": [
          "41"
         ],
         "yaxis": "y"
        },
        {
         "hovertemplate": "color=idXanPedi1_1<extra></extra>",
         "legendgroup": "idXanPedi1_1",
         "marker": {
          "color": "#FF97FF",
          "symbol": "circle"
         },
         "mode": "lines",
         "name": "idXanPedi1_1",
         "showlegend": false,
         "type": "scatter",
         "xaxis": "x",
         "yaxis": "y"
        },
        {
         "hovertemplate": "color=idPlaAlba1_1<br>x=%{x}<br>y=%{y}<extra></extra>",
         "legendgroup": "idPlaAlba1_1",
         "marker": {
          "color": "#FECB52",
          "symbol": "circle"
         },
         "mode": "markers",
         "name": "idPlaAlba1_1",
         "orientation": "h",
         "showlegend": true,
         "type": "scatter",
         "x": [
          677768813
         ],
         "xaxis": "x",
         "y": [
          "42"
         ],
         "yaxis": "y"
        },
        {
         "hovertemplate": "color=idPlaAlba1_1<extra></extra>",
         "legendgroup": "idPlaAlba1_1",
         "marker": {
          "color": "#FECB52",
          "symbol": "circle"
         },
         "mode": "lines",
         "name": "idPlaAlba1_1",
         "showlegend": false,
         "type": "scatter",
         "xaxis": "x",
         "yaxis": "y"
        },
        {
         "hovertemplate": "color=idCheUrba1_1.0<br>x=%{x}<br>y=%{y}<extra></extra>",
         "legendgroup": "idCheUrba1_1.0",
         "marker": {
          "color": "#636efa",
          "symbol": "circle"
         },
         "mode": "markers",
         "name": "idCheUrba1_1.0",
         "orientation": "h",
         "showlegend": true,
         "type": "scatter",
         "x": [
          546942332
         ],
         "xaxis": "x",
         "y": [
          "42"
         ],
         "yaxis": "y"
        },
        {
         "hovertemplate": "color=idCheUrba1_1.0<extra></extra>",
         "legendgroup": "idCheUrba1_1.0",
         "marker": {
          "color": "#636efa",
          "symbol": "circle"
         },
         "mode": "lines",
         "name": "idCheUrba1_1.0",
         "showlegend": false,
         "type": "scatter",
         "xaxis": "x",
         "yaxis": "y"
        },
        {
         "hovertemplate": "color=idPolAmen1_1.0<br>x=%{x}<br>y=%{y}<extra></extra>",
         "legendgroup": "idPolAmen1_1.0",
         "marker": {
          "color": "#EF553B",
          "symbol": "circle"
         },
         "mode": "markers",
         "name": "idPolAmen1_1.0",
         "orientation": "h",
         "showlegend": true,
         "type": "scatter",
         "x": [
          1270755911
         ],
         "xaxis": "x",
         "y": [
          "42"
         ],
         "yaxis": "y"
        },
        {
         "hovertemplate": "color=idPolAmen1_1.0<extra></extra>",
         "legendgroup": "idPolAmen1_1.0",
         "marker": {
          "color": "#EF553B",
          "symbol": "circle"
         },
         "mode": "lines",
         "name": "idPolAmen1_1.0",
         "showlegend": false,
         "type": "scatter",
         "xaxis": "x",
         "yaxis": "y"
        },
        {
         "hovertemplate": "color=idStoLuna1_1<br>x=%{x}<br>y=%{y}<extra></extra>",
         "legendgroup": "idStoLuna1_1",
         "marker": {
          "color": "#00cc96",
          "symbol": "circle"
         },
         "mode": "markers",
         "name": "idStoLuna1_1",
         "orientation": "h",
         "showlegend": true,
         "type": "scatter",
         "x": [
          728083889
         ],
         "xaxis": "x",
         "y": [
          "44"
         ],
         "yaxis": "y"
        },
        {
         "hovertemplate": "color=idStoLuna1_1<extra></extra>",
         "legendgroup": "idStoLuna1_1",
         "marker": {
          "color": "#00cc96",
          "symbol": "circle"
         },
         "mode": "lines",
         "name": "idStoLuna1_1",
         "showlegend": false,
         "type": "scatter",
         "xaxis": "x",
         "yaxis": "y"
        },
        {
         "hovertemplate": "color=idBraLaph1_1.0<br>x=%{x}<br>y=%{y}<extra></extra>",
         "legendgroup": "idBraLaph1_1.0",
         "marker": {
          "color": "#ab63fa",
          "symbol": "circle"
         },
         "mode": "markers",
         "name": "idBraLaph1_1.0",
         "orientation": "h",
         "showlegend": true,
         "type": "scatter",
         "x": [
          1071394021
         ],
         "xaxis": "x",
         "y": [
          "45"
         ],
         "yaxis": "y"
        },
        {
         "hovertemplate": "color=idBraLaph1_1.0<extra></extra>",
         "legendgroup": "idBraLaph1_1.0",
         "marker": {
          "color": "#ab63fa",
          "symbol": "circle"
         },
         "mode": "lines",
         "name": "idBraLaph1_1.0",
         "showlegend": false,
         "type": "scatter",
         "xaxis": "x",
         "yaxis": "y"
        },
        {
         "hovertemplate": "color=idMelMell2_2.0<br>x=%{x}<br>y=%{y}<extra></extra>",
         "legendgroup": "idMelMell2_2.0",
         "marker": {
          "color": "#FFA15A",
          "symbol": "circle"
         },
         "mode": "markers",
         "name": "idMelMell2_2.0",
         "orientation": "h",
         "showlegend": true,
         "type": "scatter",
         "x": [
          731024304
         ],
         "xaxis": "x",
         "y": [
          "45"
         ],
         "yaxis": "y"
        },
        {
         "hovertemplate": "color=idMelMell2_2.0<extra></extra>",
         "legendgroup": "idMelMell2_2.0",
         "marker": {
          "color": "#FFA15A",
          "symbol": "circle"
         },
         "mode": "lines",
         "name": "idMelMell2_2.0",
         "showlegend": false,
         "type": "scatter",
         "xaxis": "x",
         "yaxis": "y"
        },
        {
         "hovertemplate": "color=idEpiBalt1_1.0<br>x=%{x}<br>y=%{y}<extra></extra>",
         "legendgroup": "idEpiBalt1_1.0",
         "marker": {
          "color": "#19d3f3",
          "symbol": "circle"
         },
         "mode": "markers",
         "name": "idEpiBalt1_1.0",
         "orientation": "h",
         "showlegend": true,
         "type": "scatter",
         "x": [
          535345329
         ],
         "xaxis": "x",
         "y": [
          "46"
         ],
         "yaxis": "y"
        },
        {
         "hovertemplate": "color=idEpiBalt1_1.0<extra></extra>",
         "legendgroup": "idEpiBalt1_1.0",
         "marker": {
          "color": "#19d3f3",
          "symbol": "circle"
         },
         "mode": "lines",
         "name": "idEpiBalt1_1.0",
         "showlegend": false,
         "type": "scatter",
         "xaxis": "x",
         "yaxis": "y"
        },
        {
         "hovertemplate": "color=idPheCory1_1.0<br>x=%{x}<br>y=%{y}<extra></extra>",
         "legendgroup": "idPheCory1_1.0",
         "marker": {
          "color": "#FF6692",
          "symbol": "circle"
         },
         "mode": "markers",
         "name": "idPheCory1_1.0",
         "orientation": "h",
         "showlegend": true,
         "type": "scatter",
         "x": [
          862951653
         ],
         "xaxis": "x",
         "y": [
          "49"
         ],
         "yaxis": "y"
        },
        {
         "hovertemplate": "color=idPheCory1_1.0<extra></extra>",
         "legendgroup": "idPheCory1_1.0",
         "marker": {
          "color": "#FF6692",
          "symbol": "circle"
         },
         "mode": "lines",
         "name": "idPheCory1_1.0",
         "showlegend": false,
         "type": "scatter",
         "xaxis": "x",
         "yaxis": "y"
        },
        {
         "hovertemplate": "color=idTacLuri1_1.0<br>x=%{x}<br>y=%{y}<extra></extra>",
         "legendgroup": "idTacLuri1_1.0",
         "marker": {
          "color": "#B6E880",
          "symbol": "circle"
         },
         "mode": "markers",
         "name": "idTacLuri1_1.0",
         "orientation": "h",
         "showlegend": true,
         "type": "scatter",
         "x": [
          899158429
         ],
         "xaxis": "x",
         "y": [
          "50"
         ],
         "yaxis": "y"
        },
        {
         "hovertemplate": "color=idTacLuri1_1.0<extra></extra>",
         "legendgroup": "idTacLuri1_1.0",
         "marker": {
          "color": "#B6E880",
          "symbol": "circle"
         },
         "mode": "lines",
         "name": "idTacLuri1_1.0",
         "showlegend": false,
         "type": "scatter",
         "xaxis": "x",
         "yaxis": "y"
        },
        {
         "hovertemplate": "color=idSphTaen1_1.0<br>x=%{x}<br>y=%{y}<extra></extra>",
         "legendgroup": "idSphTaen1_1.0",
         "marker": {
          "color": "#FF97FF",
          "symbol": "circle"
         },
         "mode": "markers",
         "name": "idSphTaen1_1.0",
         "orientation": "h",
         "showlegend": true,
         "type": "scatter",
         "x": [
          609254214
         ],
         "xaxis": "x",
         "y": [
          "50"
         ],
         "yaxis": "y"
        },
        {
         "hovertemplate": "color=idSphTaen1_1.0<extra></extra>",
         "legendgroup": "idSphTaen1_1.0",
         "marker": {
          "color": "#FF97FF",
          "symbol": "circle"
         },
         "mode": "lines",
         "name": "idSphTaen1_1.0",
         "showlegend": false,
         "type": "scatter",
         "xaxis": "x",
         "yaxis": "y"
        },
        {
         "hovertemplate": "color=idPolAngu1_1.0<br>x=%{x}<br>y=%{y}<extra></extra>",
         "legendgroup": "idPolAngu1_1.0",
         "marker": {
          "color": "#FECB52",
          "symbol": "circle"
         },
         "mode": "markers",
         "name": "idPolAngu1_1.0",
         "orientation": "h",
         "showlegend": true,
         "type": "scatter",
         "x": [
          1370491206
         ],
         "xaxis": "x",
         "y": [
          "51"
         ],
         "yaxis": "y"
        },
        {
         "hovertemplate": "color=idPolAngu1_1.0<extra></extra>",
         "legendgroup": "idPolAngu1_1.0",
         "marker": {
          "color": "#FECB52",
          "symbol": "circle"
         },
         "mode": "lines",
         "name": "idPolAngu1_1.0",
         "showlegend": false,
         "type": "scatter",
         "xaxis": "x",
         "yaxis": "y"
        },
        {
         "hovertemplate": "color=idEupLati1_1.0<br>x=%{x}<br>y=%{y}<extra></extra>",
         "legendgroup": "idEupLati1_1.0",
         "marker": {
          "color": "#636efa",
          "symbol": "circle"
         },
         "mode": "markers",
         "name": "idEupLati1_1.0",
         "orientation": "h",
         "showlegend": true,
         "type": "scatter",
         "x": [
          846338106
         ],
         "xaxis": "x",
         "y": [
          "51"
         ],
         "yaxis": "y"
        },
        {
         "hovertemplate": "color=idEupLati1_1.0<extra></extra>",
         "legendgroup": "idEupLati1_1.0",
         "marker": {
          "color": "#636efa",
          "symbol": "circle"
         },
         "mode": "lines",
         "name": "idEupLati1_1.0",
         "showlegend": false,
         "type": "scatter",
         "xaxis": "x",
         "yaxis": "y"
        },
        {
         "hovertemplate": "color=idTheAtra2_1.0<br>x=%{x}<br>y=%{y}<extra></extra>",
         "legendgroup": "idTheAtra2_1.0",
         "marker": {
          "color": "#EF553B",
          "symbol": "circle"
         },
         "mode": "markers",
         "name": "idTheAtra2_1.0",
         "orientation": "h",
         "showlegend": true,
         "type": "scatter",
         "x": [
          354229183
         ],
         "xaxis": "x",
         "y": [
          "52"
         ],
         "yaxis": "y"
        },
        {
         "hovertemplate": "color=idTheAtra2_1.0<extra></extra>",
         "legendgroup": "idTheAtra2_1.0",
         "marker": {
          "color": "#EF553B",
          "symbol": "circle"
         },
         "mode": "lines",
         "name": "idTheAtra2_1.0",
         "showlegend": false,
         "type": "scatter",
         "xaxis": "x",
         "yaxis": "y"
        },
        {
         "hovertemplate": "color=idSicFerr1_1<br>x=%{x}<br>y=%{y}<extra></extra>",
         "legendgroup": "idSicFerr1_1",
         "marker": {
          "color": "#00cc96",
          "symbol": "circle"
         },
         "mode": "markers",
         "name": "idSicFerr1_1",
         "orientation": "h",
         "showlegend": true,
         "type": "scatter",
         "x": [
          311916451
         ],
         "xaxis": "x",
         "y": [
          "52"
         ],
         "yaxis": "y"
        },
        {
         "hovertemplate": "color=idSicFerr1_1<extra></extra>",
         "legendgroup": "idSicFerr1_1",
         "marker": {
          "color": "#00cc96",
          "symbol": "circle"
         },
         "mode": "lines",
         "name": "idSicFerr1_1",
         "showlegend": false,
         "type": "scatter",
         "xaxis": "x",
         "yaxis": "y"
        },
        {
         "hovertemplate": "color=idCorMarg1_1<br>x=%{x}<br>y=%{y}<extra></extra>",
         "legendgroup": "idCorMarg1_1",
         "marker": {
          "color": "#ab63fa",
          "symbol": "circle"
         },
         "mode": "markers",
         "name": "idCorMarg1_1",
         "orientation": "h",
         "showlegend": true,
         "type": "scatter",
         "x": [
          979662365
         ],
         "xaxis": "x",
         "y": [
          "53"
         ],
         "yaxis": "y"
        },
        {
         "hovertemplate": "color=idCorMarg1_1<extra></extra>",
         "legendgroup": "idCorMarg1_1",
         "marker": {
          "color": "#ab63fa",
          "symbol": "circle"
         },
         "mode": "lines",
         "name": "idCorMarg1_1",
         "showlegend": false,
         "type": "scatter",
         "xaxis": "x",
         "yaxis": "y"
        },
        {
         "hovertemplate": "color=idChrBici1_1<br>x=%{x}<br>y=%{y}<extra></extra>",
         "legendgroup": "idChrBici1_1",
         "marker": {
          "color": "#FFA15A",
          "symbol": "circle"
         },
         "mode": "markers",
         "name": "idChrBici1_1",
         "orientation": "h",
         "showlegend": true,
         "type": "scatter",
         "x": [
          912918972
         ],
         "xaxis": "x",
         "y": [
          "54"
         ],
         "yaxis": "y"
        },
        {
         "hovertemplate": "color=idChrBici1_1<extra></extra>",
         "legendgroup": "idChrBici1_1",
         "marker": {
          "color": "#FFA15A",
          "symbol": "circle"
         },
         "mode": "lines",
         "name": "idChrBici1_1",
         "showlegend": false,
         "type": "scatter",
         "xaxis": "x",
         "yaxis": "y"
        },
        {
         "hovertemplate": "color=idCluTigr1_1.0<br>x=%{x}<br>y=%{y}<extra></extra>",
         "legendgroup": "idCluTigr1_1.0",
         "marker": {
          "color": "#19d3f3",
          "symbol": "circle"
         },
         "mode": "markers",
         "name": "idCluTigr1_1.0",
         "orientation": "h",
         "showlegend": true,
         "type": "scatter",
         "x": [
          1216377468
         ],
         "xaxis": "x",
         "y": [
          "56"
         ],
         "yaxis": "y"
        },
        {
         "hovertemplate": "color=idCluTigr1_1.0<extra></extra>",
         "legendgroup": "idCluTigr1_1.0",
         "marker": {
          "color": "#19d3f3",
          "symbol": "circle"
         },
         "mode": "lines",
         "name": "idCluTigr1_1.0",
         "showlegend": false,
         "type": "scatter",
         "xaxis": "x",
         "yaxis": "y"
        }
       ],
       "layout": {
        "legend": {
         "title": {
          "text": "color"
         },
         "tracegroupgap": 0
        },
        "template": {
         "data": {
          "bar": [
           {
            "error_x": {
             "color": "#2a3f5f"
            },
            "error_y": {
             "color": "#2a3f5f"
            },
            "marker": {
             "line": {
              "color": "#E5ECF6",
              "width": 0.5
             },
             "pattern": {
              "fillmode": "overlay",
              "size": 10,
              "solidity": 0.2
             }
            },
            "type": "bar"
           }
          ],
          "barpolar": [
           {
            "marker": {
             "line": {
              "color": "#E5ECF6",
              "width": 0.5
             },
             "pattern": {
              "fillmode": "overlay",
              "size": 10,
              "solidity": 0.2
             }
            },
            "type": "barpolar"
           }
          ],
          "carpet": [
           {
            "aaxis": {
             "endlinecolor": "#2a3f5f",
             "gridcolor": "white",
             "linecolor": "white",
             "minorgridcolor": "white",
             "startlinecolor": "#2a3f5f"
            },
            "baxis": {
             "endlinecolor": "#2a3f5f",
             "gridcolor": "white",
             "linecolor": "white",
             "minorgridcolor": "white",
             "startlinecolor": "#2a3f5f"
            },
            "type": "carpet"
           }
          ],
          "choropleth": [
           {
            "colorbar": {
             "outlinewidth": 0,
             "ticks": ""
            },
            "type": "choropleth"
           }
          ],
          "contour": [
           {
            "colorbar": {
             "outlinewidth": 0,
             "ticks": ""
            },
            "colorscale": [
             [
              0,
              "#0d0887"
             ],
             [
              0.1111111111111111,
              "#46039f"
             ],
             [
              0.2222222222222222,
              "#7201a8"
             ],
             [
              0.3333333333333333,
              "#9c179e"
             ],
             [
              0.4444444444444444,
              "#bd3786"
             ],
             [
              0.5555555555555556,
              "#d8576b"
             ],
             [
              0.6666666666666666,
              "#ed7953"
             ],
             [
              0.7777777777777778,
              "#fb9f3a"
             ],
             [
              0.8888888888888888,
              "#fdca26"
             ],
             [
              1,
              "#f0f921"
             ]
            ],
            "type": "contour"
           }
          ],
          "contourcarpet": [
           {
            "colorbar": {
             "outlinewidth": 0,
             "ticks": ""
            },
            "type": "contourcarpet"
           }
          ],
          "heatmap": [
           {
            "colorbar": {
             "outlinewidth": 0,
             "ticks": ""
            },
            "colorscale": [
             [
              0,
              "#0d0887"
             ],
             [
              0.1111111111111111,
              "#46039f"
             ],
             [
              0.2222222222222222,
              "#7201a8"
             ],
             [
              0.3333333333333333,
              "#9c179e"
             ],
             [
              0.4444444444444444,
              "#bd3786"
             ],
             [
              0.5555555555555556,
              "#d8576b"
             ],
             [
              0.6666666666666666,
              "#ed7953"
             ],
             [
              0.7777777777777778,
              "#fb9f3a"
             ],
             [
              0.8888888888888888,
              "#fdca26"
             ],
             [
              1,
              "#f0f921"
             ]
            ],
            "type": "heatmap"
           }
          ],
          "heatmapgl": [
           {
            "colorbar": {
             "outlinewidth": 0,
             "ticks": ""
            },
            "colorscale": [
             [
              0,
              "#0d0887"
             ],
             [
              0.1111111111111111,
              "#46039f"
             ],
             [
              0.2222222222222222,
              "#7201a8"
             ],
             [
              0.3333333333333333,
              "#9c179e"
             ],
             [
              0.4444444444444444,
              "#bd3786"
             ],
             [
              0.5555555555555556,
              "#d8576b"
             ],
             [
              0.6666666666666666,
              "#ed7953"
             ],
             [
              0.7777777777777778,
              "#fb9f3a"
             ],
             [
              0.8888888888888888,
              "#fdca26"
             ],
             [
              1,
              "#f0f921"
             ]
            ],
            "type": "heatmapgl"
           }
          ],
          "histogram": [
           {
            "marker": {
             "pattern": {
              "fillmode": "overlay",
              "size": 10,
              "solidity": 0.2
             }
            },
            "type": "histogram"
           }
          ],
          "histogram2d": [
           {
            "colorbar": {
             "outlinewidth": 0,
             "ticks": ""
            },
            "colorscale": [
             [
              0,
              "#0d0887"
             ],
             [
              0.1111111111111111,
              "#46039f"
             ],
             [
              0.2222222222222222,
              "#7201a8"
             ],
             [
              0.3333333333333333,
              "#9c179e"
             ],
             [
              0.4444444444444444,
              "#bd3786"
             ],
             [
              0.5555555555555556,
              "#d8576b"
             ],
             [
              0.6666666666666666,
              "#ed7953"
             ],
             [
              0.7777777777777778,
              "#fb9f3a"
             ],
             [
              0.8888888888888888,
              "#fdca26"
             ],
             [
              1,
              "#f0f921"
             ]
            ],
            "type": "histogram2d"
           }
          ],
          "histogram2dcontour": [
           {
            "colorbar": {
             "outlinewidth": 0,
             "ticks": ""
            },
            "colorscale": [
             [
              0,
              "#0d0887"
             ],
             [
              0.1111111111111111,
              "#46039f"
             ],
             [
              0.2222222222222222,
              "#7201a8"
             ],
             [
              0.3333333333333333,
              "#9c179e"
             ],
             [
              0.4444444444444444,
              "#bd3786"
             ],
             [
              0.5555555555555556,
              "#d8576b"
             ],
             [
              0.6666666666666666,
              "#ed7953"
             ],
             [
              0.7777777777777778,
              "#fb9f3a"
             ],
             [
              0.8888888888888888,
              "#fdca26"
             ],
             [
              1,
              "#f0f921"
             ]
            ],
            "type": "histogram2dcontour"
           }
          ],
          "mesh3d": [
           {
            "colorbar": {
             "outlinewidth": 0,
             "ticks": ""
            },
            "type": "mesh3d"
           }
          ],
          "parcoords": [
           {
            "line": {
             "colorbar": {
              "outlinewidth": 0,
              "ticks": ""
             }
            },
            "type": "parcoords"
           }
          ],
          "pie": [
           {
            "automargin": true,
            "type": "pie"
           }
          ],
          "scatter": [
           {
            "fillpattern": {
             "fillmode": "overlay",
             "size": 10,
             "solidity": 0.2
            },
            "type": "scatter"
           }
          ],
          "scatter3d": [
           {
            "line": {
             "colorbar": {
              "outlinewidth": 0,
              "ticks": ""
             }
            },
            "marker": {
             "colorbar": {
              "outlinewidth": 0,
              "ticks": ""
             }
            },
            "type": "scatter3d"
           }
          ],
          "scattercarpet": [
           {
            "marker": {
             "colorbar": {
              "outlinewidth": 0,
              "ticks": ""
             }
            },
            "type": "scattercarpet"
           }
          ],
          "scattergeo": [
           {
            "marker": {
             "colorbar": {
              "outlinewidth": 0,
              "ticks": ""
             }
            },
            "type": "scattergeo"
           }
          ],
          "scattergl": [
           {
            "marker": {
             "colorbar": {
              "outlinewidth": 0,
              "ticks": ""
             }
            },
            "type": "scattergl"
           }
          ],
          "scattermapbox": [
           {
            "marker": {
             "colorbar": {
              "outlinewidth": 0,
              "ticks": ""
             }
            },
            "type": "scattermapbox"
           }
          ],
          "scatterpolar": [
           {
            "marker": {
             "colorbar": {
              "outlinewidth": 0,
              "ticks": ""
             }
            },
            "type": "scatterpolar"
           }
          ],
          "scatterpolargl": [
           {
            "marker": {
             "colorbar": {
              "outlinewidth": 0,
              "ticks": ""
             }
            },
            "type": "scatterpolargl"
           }
          ],
          "scatterternary": [
           {
            "marker": {
             "colorbar": {
              "outlinewidth": 0,
              "ticks": ""
             }
            },
            "type": "scatterternary"
           }
          ],
          "surface": [
           {
            "colorbar": {
             "outlinewidth": 0,
             "ticks": ""
            },
            "colorscale": [
             [
              0,
              "#0d0887"
             ],
             [
              0.1111111111111111,
              "#46039f"
             ],
             [
              0.2222222222222222,
              "#7201a8"
             ],
             [
              0.3333333333333333,
              "#9c179e"
             ],
             [
              0.4444444444444444,
              "#bd3786"
             ],
             [
              0.5555555555555556,
              "#d8576b"
             ],
             [
              0.6666666666666666,
              "#ed7953"
             ],
             [
              0.7777777777777778,
              "#fb9f3a"
             ],
             [
              0.8888888888888888,
              "#fdca26"
             ],
             [
              1,
              "#f0f921"
             ]
            ],
            "type": "surface"
           }
          ],
          "table": [
           {
            "cells": {
             "fill": {
              "color": "#EBF0F8"
             },
             "line": {
              "color": "white"
             }
            },
            "header": {
             "fill": {
              "color": "#C8D4E3"
             },
             "line": {
              "color": "white"
             }
            },
            "type": "table"
           }
          ]
         },
         "layout": {
          "annotationdefaults": {
           "arrowcolor": "#2a3f5f",
           "arrowhead": 0,
           "arrowwidth": 1
          },
          "autotypenumbers": "strict",
          "coloraxis": {
           "colorbar": {
            "outlinewidth": 0,
            "ticks": ""
           }
          },
          "colorscale": {
           "diverging": [
            [
             0,
             "#8e0152"
            ],
            [
             0.1,
             "#c51b7d"
            ],
            [
             0.2,
             "#de77ae"
            ],
            [
             0.3,
             "#f1b6da"
            ],
            [
             0.4,
             "#fde0ef"
            ],
            [
             0.5,
             "#f7f7f7"
            ],
            [
             0.6,
             "#e6f5d0"
            ],
            [
             0.7,
             "#b8e186"
            ],
            [
             0.8,
             "#7fbc41"
            ],
            [
             0.9,
             "#4d9221"
            ],
            [
             1,
             "#276419"
            ]
           ],
           "sequential": [
            [
             0,
             "#0d0887"
            ],
            [
             0.1111111111111111,
             "#46039f"
            ],
            [
             0.2222222222222222,
             "#7201a8"
            ],
            [
             0.3333333333333333,
             "#9c179e"
            ],
            [
             0.4444444444444444,
             "#bd3786"
            ],
            [
             0.5555555555555556,
             "#d8576b"
            ],
            [
             0.6666666666666666,
             "#ed7953"
            ],
            [
             0.7777777777777778,
             "#fb9f3a"
            ],
            [
             0.8888888888888888,
             "#fdca26"
            ],
            [
             1,
             "#f0f921"
            ]
           ],
           "sequentialminus": [
            [
             0,
             "#0d0887"
            ],
            [
             0.1111111111111111,
             "#46039f"
            ],
            [
             0.2222222222222222,
             "#7201a8"
            ],
            [
             0.3333333333333333,
             "#9c179e"
            ],
            [
             0.4444444444444444,
             "#bd3786"
            ],
            [
             0.5555555555555556,
             "#d8576b"
            ],
            [
             0.6666666666666666,
             "#ed7953"
            ],
            [
             0.7777777777777778,
             "#fb9f3a"
            ],
            [
             0.8888888888888888,
             "#fdca26"
            ],
            [
             1,
             "#f0f921"
            ]
           ]
          },
          "colorway": [
           "#636efa",
           "#EF553B",
           "#00cc96",
           "#ab63fa",
           "#FFA15A",
           "#19d3f3",
           "#FF6692",
           "#B6E880",
           "#FF97FF",
           "#FECB52"
          ],
          "font": {
           "color": "#2a3f5f"
          },
          "geo": {
           "bgcolor": "white",
           "lakecolor": "white",
           "landcolor": "#E5ECF6",
           "showlakes": true,
           "showland": true,
           "subunitcolor": "white"
          },
          "hoverlabel": {
           "align": "left"
          },
          "hovermode": "closest",
          "mapbox": {
           "style": "light"
          },
          "paper_bgcolor": "white",
          "plot_bgcolor": "#E5ECF6",
          "polar": {
           "angularaxis": {
            "gridcolor": "white",
            "linecolor": "white",
            "ticks": ""
           },
           "bgcolor": "#E5ECF6",
           "radialaxis": {
            "gridcolor": "white",
            "linecolor": "white",
            "ticks": ""
           }
          },
          "scene": {
           "xaxis": {
            "backgroundcolor": "#E5ECF6",
            "gridcolor": "white",
            "gridwidth": 2,
            "linecolor": "white",
            "showbackground": true,
            "ticks": "",
            "zerolinecolor": "white"
           },
           "yaxis": {
            "backgroundcolor": "#E5ECF6",
            "gridcolor": "white",
            "gridwidth": 2,
            "linecolor": "white",
            "showbackground": true,
            "ticks": "",
            "zerolinecolor": "white"
           },
           "zaxis": {
            "backgroundcolor": "#E5ECF6",
            "gridcolor": "white",
            "gridwidth": 2,
            "linecolor": "white",
            "showbackground": true,
            "ticks": "",
            "zerolinecolor": "white"
           }
          },
          "shapedefaults": {
           "line": {
            "color": "#2a3f5f"
           }
          },
          "ternary": {
           "aaxis": {
            "gridcolor": "white",
            "linecolor": "white",
            "ticks": ""
           },
           "baxis": {
            "gridcolor": "white",
            "linecolor": "white",
            "ticks": ""
           },
           "bgcolor": "#E5ECF6",
           "caxis": {
            "gridcolor": "white",
            "linecolor": "white",
            "ticks": ""
           }
          },
          "title": {
           "x": 0.05
          },
          "xaxis": {
           "automargin": true,
           "gridcolor": "white",
           "linecolor": "white",
           "ticks": "",
           "title": {
            "standoff": 15
           },
           "zerolinecolor": "white",
           "zerolinewidth": 2
          },
          "yaxis": {
           "automargin": true,
           "gridcolor": "white",
           "linecolor": "white",
           "ticks": "",
           "title": {
            "standoff": 15
           },
           "zerolinecolor": "white",
           "zerolinewidth": 2
          }
         }
        },
        "title": {
         "text": "Length (post-curation) by Repeat Fraction (%)"
        },
        "xaxis": {
         "anchor": "y",
         "domain": [
          0,
          1
         ],
         "title": {
          "text": "x"
         }
        },
        "yaxis": {
         "anchor": "x",
         "domain": [
          0,
          1
         ],
         "title": {
          "text": "y"
         }
        }
       }
      }
     },
     "metadata": {},
     "output_type": "display_data"
    },
    {
     "name": "stdout",
     "output_type": "stream",
     "text": [
      "\n"
     ]
    },
    {
     "data": {
      "application/vnd.plotly.v1+json": {
       "config": {
        "plotlyServerURL": "https://plot.ly"
       },
       "data": [
        {
         "hovertemplate": "color=idSyrPipi1_1<br>x=%{x}<br>y=%{y}<extra></extra>",
         "legendgroup": "idSyrPipi1_1",
         "marker": {
          "color": "#636efa",
          "symbol": "circle"
         },
         "mode": "markers",
         "name": "idSyrPipi1_1",
         "orientation": "v",
         "showlegend": true,
         "type": "scatter",
         "x": [
          "12"
         ],
         "xaxis": "x",
         "y": [
          -0.9483997149588701
         ],
         "yaxis": "y"
        },
        {
         "hovertemplate": "color=idSyrPipi1_1<extra></extra>",
         "legendgroup": "idSyrPipi1_1",
         "marker": {
          "color": "#636efa",
          "symbol": "circle"
         },
         "mode": "lines",
         "name": "idSyrPipi1_1",
         "showlegend": false,
         "type": "scatter",
         "xaxis": "x",
         "yaxis": "y"
        },
        {
         "hovertemplate": "color=idScaPyra1_1<br>x=%{x}<br>y=%{y}<extra></extra>",
         "legendgroup": "idScaPyra1_1",
         "marker": {
          "color": "#EF553B",
          "symbol": "circle"
         },
         "mode": "markers",
         "name": "idScaPyra1_1",
         "orientation": "v",
         "showlegend": true,
         "type": "scatter",
         "x": [
          "15"
         ],
         "xaxis": "x",
         "y": [
          -0.7883872567540111
         ],
         "yaxis": "y"
        },
        {
         "hovertemplate": "color=idScaPyra1_1<extra></extra>",
         "legendgroup": "idScaPyra1_1",
         "marker": {
          "color": "#EF553B",
          "symbol": "circle"
         },
         "mode": "lines",
         "name": "idScaPyra1_1",
         "showlegend": false,
         "type": "scatter",
         "xaxis": "x",
         "yaxis": "y"
        },
        {
         "hovertemplate": "color=idEriSepu1_1.0<br>x=%{x}<br>y=%{y}<extra></extra>",
         "legendgroup": "idEriSepu1_1.0",
         "marker": {
          "color": "#00cc96",
          "symbol": "circle"
         },
         "mode": "markers",
         "name": "idEriSepu1_1.0",
         "orientation": "v",
         "showlegend": true,
         "type": "scatter",
         "x": [
          "15"
         ],
         "xaxis": "x",
         "y": [
          -0.007293936424980001
         ],
         "yaxis": "y"
        },
        {
         "hovertemplate": "color=idEriSepu1_1.0<extra></extra>",
         "legendgroup": "idEriSepu1_1.0",
         "marker": {
          "color": "#00cc96",
          "symbol": "circle"
         },
         "mode": "lines",
         "name": "idEriSepu1_1.0",
         "showlegend": false,
         "type": "scatter",
         "xaxis": "x",
         "yaxis": "y"
        },
        {
         "hovertemplate": "color=idBibMarc1_1<br>x=%{x}<br>y=%{y}<extra></extra>",
         "legendgroup": "idBibMarc1_1",
         "marker": {
          "color": "#ab63fa",
          "symbol": "circle"
         },
         "mode": "markers",
         "name": "idBibMarc1_1",
         "orientation": "v",
         "showlegend": true,
         "type": "scatter",
         "x": [
          "16"
         ],
         "xaxis": "x",
         "y": [
          0.00035293259917000005
         ],
         "yaxis": "y"
        },
        {
         "hovertemplate": "color=idBibMarc1_1<extra></extra>",
         "legendgroup": "idBibMarc1_1",
         "marker": {
          "color": "#ab63fa",
          "symbol": "circle"
         },
         "mode": "lines",
         "name": "idBibMarc1_1",
         "showlegend": false,
         "type": "scatter",
         "xaxis": "x",
         "yaxis": "y"
        },
        {
         "hovertemplate": "color=idEpiSucc1_1.0<br>x=%{x}<br>y=%{y}<extra></extra>",
         "legendgroup": "idEpiSucc1_1.0",
         "marker": {
          "color": "#FFA15A",
          "symbol": "circle"
         },
         "mode": "markers",
         "name": "idEpiSucc1_1.0",
         "orientation": "v",
         "showlegend": true,
         "type": "scatter",
         "x": [
          "21"
         ],
         "xaxis": "x",
         "y": [
          0.0034162777607040003
         ],
         "yaxis": "y"
        },
        {
         "hovertemplate": "color=idEpiSucc1_1.0<extra></extra>",
         "legendgroup": "idEpiSucc1_1.0",
         "marker": {
          "color": "#FFA15A",
          "symbol": "circle"
         },
         "mode": "lines",
         "name": "idEpiSucc1_1.0",
         "showlegend": false,
         "type": "scatter",
         "xaxis": "x",
         "yaxis": "y"
        },
        {
         "hovertemplate": "color=idVolInan1_1<br>x=%{x}<br>y=%{y}<extra></extra>",
         "legendgroup": "idVolInan1_1",
         "marker": {
          "color": "#19d3f3",
          "symbol": "circle"
         },
         "mode": "markers",
         "name": "idVolInan1_1",
         "orientation": "v",
         "showlegend": true,
         "type": "scatter",
         "x": [
          "21"
         ],
         "xaxis": "x",
         "y": [
          -0.061978199451048
         ],
         "yaxis": "y"
        },
        {
         "hovertemplate": "color=idVolInan1_1<extra></extra>",
         "legendgroup": "idVolInan1_1",
         "marker": {
          "color": "#19d3f3",
          "symbol": "circle"
         },
         "mode": "lines",
         "name": "idVolInan1_1",
         "showlegend": false,
         "type": "scatter",
         "xaxis": "x",
         "yaxis": "y"
        },
        {
         "hovertemplate": "color=idVolInfl1_1.0<br>x=%{x}<br>y=%{y}<extra></extra>",
         "legendgroup": "idVolInfl1_1.0",
         "marker": {
          "color": "#FF6692",
          "symbol": "circle"
         },
         "mode": "markers",
         "name": "idVolInfl1_1.0",
         "orientation": "v",
         "showlegend": true,
         "type": "scatter",
         "x": [
          "22"
         ],
         "xaxis": "x",
         "y": [
          0.0027075684845
         ],
         "yaxis": "y"
        },
        {
         "hovertemplate": "color=idVolInfl1_1.0<extra></extra>",
         "legendgroup": "idVolInfl1_1.0",
         "marker": {
          "color": "#FF6692",
          "symbol": "circle"
         },
         "mode": "lines",
         "name": "idVolInfl1_1.0",
         "showlegend": false,
         "type": "scatter",
         "xaxis": "x",
         "yaxis": "y"
        },
        {
         "hovertemplate": "color=idChePaga1_1.0<br>x=%{x}<br>y=%{y}<extra></extra>",
         "legendgroup": "idChePaga1_1.0",
         "marker": {
          "color": "#B6E880",
          "symbol": "circle"
         },
         "mode": "markers",
         "name": "idChePaga1_1.0",
         "orientation": "v",
         "showlegend": true,
         "type": "scatter",
         "x": [
          "23"
         ],
         "xaxis": "x",
         "y": [
          0.00022592009680000001
         ],
         "yaxis": "y"
        },
        {
         "hovertemplate": "color=idChePaga1_1.0<extra></extra>",
         "legendgroup": "idChePaga1_1.0",
         "marker": {
          "color": "#B6E880",
          "symbol": "circle"
         },
         "mode": "lines",
         "name": "idChePaga1_1.0",
         "showlegend": false,
         "type": "scatter",
         "xaxis": "x",
         "yaxis": "y"
        },
        {
         "hovertemplate": "color=idCriBerb1_1<br>x=%{x}<br>y=%{y}<extra></extra>",
         "legendgroup": "idCriBerb1_1",
         "marker": {
          "color": "#FF97FF",
          "symbol": "circle"
         },
         "mode": "markers",
         "name": "idCriBerb1_1",
         "orientation": "v",
         "showlegend": true,
         "type": "scatter",
         "x": [
          "23"
         ],
         "xaxis": "x",
         "y": [
          -0.142345261756397
         ],
         "yaxis": "y"
        },
        {
         "hovertemplate": "color=idCriBerb1_1<extra></extra>",
         "legendgroup": "idCriBerb1_1",
         "marker": {
          "color": "#FF97FF",
          "symbol": "circle"
         },
         "mode": "lines",
         "name": "idCriBerb1_1",
         "showlegend": false,
         "type": "scatter",
         "xaxis": "x",
         "yaxis": "y"
        },
        {
         "hovertemplate": "color=idCheVulp2_1.0<br>x=%{x}<br>y=%{y}<extra></extra>",
         "legendgroup": "idCheVulp2_1.0",
         "marker": {
          "color": "#FECB52",
          "symbol": "circle"
         },
         "mode": "markers",
         "name": "idCheVulp2_1.0",
         "orientation": "v",
         "showlegend": true,
         "type": "scatter",
         "x": [
          "25"
         ],
         "xaxis": "x",
         "y": [
          -0.105888108407043
         ],
         "yaxis": "y"
        },
        {
         "hovertemplate": "color=idCheVulp2_1.0<extra></extra>",
         "legendgroup": "idCheVulp2_1.0",
         "marker": {
          "color": "#FECB52",
          "symbol": "circle"
         },
         "mode": "lines",
         "name": "idCheVulp2_1.0",
         "showlegend": false,
         "type": "scatter",
         "xaxis": "x",
         "yaxis": "y"
        },
        {
         "hovertemplate": "color=idProAzur1_1.0<br>x=%{x}<br>y=%{y}<extra></extra>",
         "legendgroup": "idProAzur1_1.0",
         "marker": {
          "color": "#636efa",
          "symbol": "circle"
         },
         "mode": "markers",
         "name": "idProAzur1_1.0",
         "orientation": "v",
         "showlegend": true,
         "type": "scatter",
         "x": [
          "26"
         ],
         "xaxis": "x",
         "y": [
          -0.05519861872222501
         ],
         "yaxis": "y"
        },
        {
         "hovertemplate": "color=idProAzur1_1.0<extra></extra>",
         "legendgroup": "idProAzur1_1.0",
         "marker": {
          "color": "#636efa",
          "symbol": "circle"
         },
         "mode": "lines",
         "name": "idProAzur1_1.0",
         "showlegend": false,
         "type": "scatter",
         "xaxis": "x",
         "yaxis": "y"
        },
        {
         "hovertemplate": "color=idEriTena2_1<br>x=%{x}<br>y=%{y}<extra></extra>",
         "legendgroup": "idEriTena2_1",
         "marker": {
          "color": "#EF553B",
          "symbol": "circle"
         },
         "mode": "markers",
         "name": "idEriTena2_1",
         "orientation": "v",
         "showlegend": true,
         "type": "scatter",
         "x": [
          "27"
         ],
         "xaxis": "x",
         "y": [
          -1.916672740952247
         ],
         "yaxis": "y"
        },
        {
         "hovertemplate": "color=idEriTena2_1<extra></extra>",
         "legendgroup": "idEriTena2_1",
         "marker": {
          "color": "#EF553B",
          "symbol": "circle"
         },
         "mode": "lines",
         "name": "idEriTena2_1",
         "showlegend": false,
         "type": "scatter",
         "xaxis": "x",
         "yaxis": "y"
        },
        {
         "hovertemplate": "color=idXylSylv2_1<br>x=%{x}<br>y=%{y}<extra></extra>",
         "legendgroup": "idXylSylv2_1",
         "marker": {
          "color": "#00cc96",
          "symbol": "circle"
         },
         "mode": "markers",
         "name": "idXylSylv2_1",
         "orientation": "v",
         "showlegend": true,
         "type": "scatter",
         "x": [
          "27"
         ],
         "xaxis": "x",
         "y": [
          -0.8603625230871791
         ],
         "yaxis": "y"
        },
        {
         "hovertemplate": "color=idXylSylv2_1<extra></extra>",
         "legendgroup": "idXylSylv2_1",
         "marker": {
          "color": "#00cc96",
          "symbol": "circle"
         },
         "mode": "lines",
         "name": "idXylSylv2_1",
         "showlegend": false,
         "type": "scatter",
         "xaxis": "x",
         "yaxis": "y"
        },
        {
         "hovertemplate": "color=idEriPert2_1<br>x=%{x}<br>y=%{y}<extra></extra>",
         "legendgroup": "idEriPert2_1",
         "marker": {
          "color": "#ab63fa",
          "symbol": "circle"
         },
         "mode": "markers",
         "name": "idEriPert2_1",
         "orientation": "v",
         "showlegend": true,
         "type": "scatter",
         "x": [
          "27"
         ],
         "xaxis": "x",
         "y": [
          0.0034850554794790003
         ],
         "yaxis": "y"
        },
        {
         "hovertemplate": "color=idEriPert2_1<extra></extra>",
         "legendgroup": "idEriPert2_1",
         "marker": {
          "color": "#ab63fa",
          "symbol": "circle"
         },
         "mode": "lines",
         "name": "idEriPert2_1",
         "showlegend": false,
         "type": "scatter",
         "xaxis": "x",
         "yaxis": "y"
        },
        {
         "hovertemplate": "color=idSarRose1_1.0<br>x=%{x}<br>y=%{y}<extra></extra>",
         "legendgroup": "idSarRose1_1.0",
         "marker": {
          "color": "#FFA15A",
          "symbol": "circle"
         },
         "mode": "markers",
         "name": "idSarRose1_1.0",
         "orientation": "v",
         "showlegend": true,
         "type": "scatter",
         "x": [
          "28"
         ],
         "xaxis": "x",
         "y": [
          -0.36676110873492
         ],
         "yaxis": "y"
        },
        {
         "hovertemplate": "color=idSarRose1_1.0<extra></extra>",
         "legendgroup": "idSarRose1_1.0",
         "marker": {
          "color": "#FFA15A",
          "symbol": "circle"
         },
         "mode": "lines",
         "name": "idSarRose1_1.0",
         "showlegend": false,
         "type": "scatter",
         "xaxis": "x",
         "yaxis": "y"
        },
        {
         "hovertemplate": "color=idMacAtri3_1.0<br>x=%{x}<br>y=%{y}<extra></extra>",
         "legendgroup": "idMacAtri3_1.0",
         "marker": {
          "color": "#19d3f3",
          "symbol": "circle"
         },
         "mode": "markers",
         "name": "idMacAtri3_1.0",
         "orientation": "v",
         "showlegend": true,
         "type": "scatter",
         "x": [
          "29"
         ],
         "xaxis": "x",
         "y": [
          0.000446716836739
         ],
         "yaxis": "y"
        },
        {
         "hovertemplate": "color=idMacAtri3_1.0<extra></extra>",
         "legendgroup": "idMacAtri3_1.0",
         "marker": {
          "color": "#19d3f3",
          "symbol": "circle"
         },
         "mode": "lines",
         "name": "idMacAtri3_1.0",
         "showlegend": false,
         "type": "scatter",
         "xaxis": "x",
         "yaxis": "y"
        },
        {
         "hovertemplate": "color=idTheAcut1_1.0<br>x=%{x}<br>y=%{y}<extra></extra>",
         "legendgroup": "idTheAcut1_1.0",
         "marker": {
          "color": "#FF6692",
          "symbol": "circle"
         },
         "mode": "markers",
         "name": "idTheAcut1_1.0",
         "orientation": "v",
         "showlegend": true,
         "type": "scatter",
         "x": [
          "29"
         ],
         "xaxis": "x",
         "y": [
          0.00036081391814800004
         ],
         "yaxis": "y"
        },
        {
         "hovertemplate": "color=idTheAcut1_1.0<extra></extra>",
         "legendgroup": "idTheAcut1_1.0",
         "marker": {
          "color": "#FF6692",
          "symbol": "circle"
         },
         "mode": "lines",
         "name": "idTheAcut1_1.0",
         "showlegend": false,
         "type": "scatter",
         "xaxis": "x",
         "yaxis": "y"
        },
        {
         "hovertemplate": "color=idBomDisc1_1<br>x=%{x}<br>y=%{y}<extra></extra>",
         "legendgroup": "idBomDisc1_1",
         "marker": {
          "color": "#B6E880",
          "symbol": "circle"
         },
         "mode": "markers",
         "name": "idBomDisc1_1",
         "orientation": "v",
         "showlegend": true,
         "type": "scatter",
         "x": [
          "29"
         ],
         "xaxis": "x",
         "y": [
          -0.068081211929281
         ],
         "yaxis": "y"
        },
        {
         "hovertemplate": "color=idBomDisc1_1<extra></extra>",
         "legendgroup": "idBomDisc1_1",
         "marker": {
          "color": "#B6E880",
          "symbol": "circle"
         },
         "mode": "lines",
         "name": "idBomDisc1_1",
         "showlegend": false,
         "type": "scatter",
         "xaxis": "x",
         "yaxis": "y"
        },
        {
         "hovertemplate": "color=idBomMajo1_1.0<br>x=%{x}<br>y=%{y}<extra></extra>",
         "legendgroup": "idBomMajo1_1.0",
         "marker": {
          "color": "#FF97FF",
          "symbol": "circle"
         },
         "mode": "markers",
         "name": "idBomMajo1_1.0",
         "orientation": "v",
         "showlegend": true,
         "type": "scatter",
         "x": [
          "30"
         ],
         "xaxis": "x",
         "y": [
          -0.18907282518881202
         ],
         "yaxis": "y"
        },
        {
         "hovertemplate": "color=idBomMajo1_1.0<extra></extra>",
         "legendgroup": "idBomMajo1_1.0",
         "marker": {
          "color": "#FF97FF",
          "symbol": "circle"
         },
         "mode": "lines",
         "name": "idBomMajo1_1.0",
         "showlegend": false,
         "type": "scatter",
         "xaxis": "x",
         "yaxis": "y"
        },
        {
         "hovertemplate": "color=idSarCaer1_1.0<br>x=%{x}<br>y=%{y}<extra></extra>",
         "legendgroup": "idSarCaer1_1.0",
         "marker": {
          "color": "#FECB52",
          "symbol": "circle"
         },
         "mode": "markers",
         "name": "idSarCaer1_1.0",
         "orientation": "v",
         "showlegend": true,
         "type": "scatter",
         "x": [
          "31"
         ],
         "xaxis": "x",
         "y": [
          -0.6119890272691311
         ],
         "yaxis": "y"
        },
        {
         "hovertemplate": "color=idSarCaer1_1.0<extra></extra>",
         "legendgroup": "idSarCaer1_1.0",
         "marker": {
          "color": "#FECB52",
          "symbol": "circle"
         },
         "mode": "lines",
         "name": "idSarCaer1_1.0",
         "showlegend": false,
         "type": "scatter",
         "xaxis": "x",
         "yaxis": "y"
        },
        {
         "hovertemplate": "color=idEpiGros1_1.0<br>x=%{x}<br>y=%{y}<extra></extra>",
         "legendgroup": "idEpiGros1_1.0",
         "marker": {
          "color": "#636efa",
          "symbol": "circle"
         },
         "mode": "markers",
         "name": "idEpiGros1_1.0",
         "orientation": "v",
         "showlegend": true,
         "type": "scatter",
         "x": [
          "31"
         ],
         "xaxis": "x",
         "y": [
          -0.393056615235568
         ],
         "yaxis": "y"
        },
        {
         "hovertemplate": "color=idEpiGros1_1.0<extra></extra>",
         "legendgroup": "idEpiGros1_1.0",
         "marker": {
          "color": "#636efa",
          "symbol": "circle"
         },
         "mode": "lines",
         "name": "idEpiGros1_1.0",
         "showlegend": false,
         "type": "scatter",
         "xaxis": "x",
         "yaxis": "y"
        },
        {
         "hovertemplate": "color=idMyaFlor2_1.0<br>x=%{x}<br>y=%{y}<extra></extra>",
         "legendgroup": "idMyaFlor2_1.0",
         "marker": {
          "color": "#EF553B",
          "symbol": "circle"
         },
         "mode": "markers",
         "name": "idMyaFlor2_1.0",
         "orientation": "v",
         "showlegend": true,
         "type": "scatter",
         "x": [
          "32"
         ],
         "xaxis": "x",
         "y": [
          0.002927389762366
         ],
         "yaxis": "y"
        },
        {
         "hovertemplate": "color=idMyaFlor2_1.0<extra></extra>",
         "legendgroup": "idMyaFlor2_1.0",
         "marker": {
          "color": "#EF553B",
          "symbol": "circle"
         },
         "mode": "lines",
         "name": "idMyaFlor2_1.0",
         "showlegend": false,
         "type": "scatter",
         "xaxis": "x",
         "yaxis": "y"
        },
        {
         "hovertemplate": "color=idPhyMeln1_1.0<br>x=%{x}<br>y=%{y}<extra></extra>",
         "legendgroup": "idPhyMeln1_1.0",
         "marker": {
          "color": "#00cc96",
          "symbol": "circle"
         },
         "mode": "markers",
         "name": "idPhyMeln1_1.0",
         "orientation": "v",
         "showlegend": true,
         "type": "scatter",
         "x": [
          "32"
         ],
         "xaxis": "x",
         "y": [
          -0.08282081325139001
         ],
         "yaxis": "y"
        },
        {
         "hovertemplate": "color=idPhyMeln1_1.0<extra></extra>",
         "legendgroup": "idPhyMeln1_1.0",
         "marker": {
          "color": "#00cc96",
          "symbol": "circle"
         },
         "mode": "lines",
         "name": "idPhyMeln1_1.0",
         "showlegend": false,
         "type": "scatter",
         "xaxis": "x",
         "yaxis": "y"
        },
        {
         "hovertemplate": "color=idEupCoro1_1.0<br>x=%{x}<br>y=%{y}<extra></extra>",
         "legendgroup": "idEupCoro1_1.0",
         "marker": {
          "color": "#ab63fa",
          "symbol": "circle"
         },
         "mode": "markers",
         "name": "idEupCoro1_1.0",
         "orientation": "v",
         "showlegend": true,
         "type": "scatter",
         "x": [
          "32"
         ],
         "xaxis": "x",
         "y": [
          -1.533282616096161
         ],
         "yaxis": "y"
        },
        {
         "hovertemplate": "color=idEupCoro1_1.0<extra></extra>",
         "legendgroup": "idEupCoro1_1.0",
         "marker": {
          "color": "#ab63fa",
          "symbol": "circle"
         },
         "mode": "lines",
         "name": "idEupCoro1_1.0",
         "showlegend": false,
         "type": "scatter",
         "xaxis": "x",
         "yaxis": "y"
        },
        {
         "hovertemplate": "color=idMyoTess1_1.0<br>x=%{x}<br>y=%{y}<extra></extra>",
         "legendgroup": "idMyoTess1_1.0",
         "marker": {
          "color": "#FFA15A",
          "symbol": "circle"
         },
         "mode": "markers",
         "name": "idMyoTess1_1.0",
         "orientation": "v",
         "showlegend": true,
         "type": "scatter",
         "x": [
          "33"
         ],
         "xaxis": "x",
         "y": [
          0.00048143219916900004
         ],
         "yaxis": "y"
        },
        {
         "hovertemplate": "color=idMyoTess1_1.0<extra></extra>",
         "legendgroup": "idMyoTess1_1.0",
         "marker": {
          "color": "#FFA15A",
          "symbol": "circle"
         },
         "mode": "lines",
         "name": "idMyoTess1_1.0",
         "showlegend": false,
         "type": "scatter",
         "xaxis": "x",
         "yaxis": "y"
        },
        {
         "hovertemplate": "color=idDasAlbo1_1.0<br>x=%{x}<br>y=%{y}<extra></extra>",
         "legendgroup": "idDasAlbo1_1.0",
         "marker": {
          "color": "#19d3f3",
          "symbol": "circle"
         },
         "mode": "markers",
         "name": "idDasAlbo1_1.0",
         "orientation": "v",
         "showlegend": true,
         "type": "scatter",
         "x": [
          "33"
         ],
         "xaxis": "x",
         "y": [
          -1.354688042130689
         ],
         "yaxis": "y"
        },
        {
         "hovertemplate": "color=idDasAlbo1_1.0<extra></extra>",
         "legendgroup": "idDasAlbo1_1.0",
         "marker": {
          "color": "#19d3f3",
          "symbol": "circle"
         },
         "mode": "lines",
         "name": "idDasAlbo1_1.0",
         "showlegend": false,
         "type": "scatter",
         "xaxis": "x",
         "yaxis": "y"
        },
        {
         "hovertemplate": "color=idEriArbu1_1.0<br>x=%{x}<br>y=%{y}<extra></extra>",
         "legendgroup": "idEriArbu1_1.0",
         "marker": {
          "color": "#FF6692",
          "symbol": "circle"
         },
         "mode": "markers",
         "name": "idEriArbu1_1.0",
         "orientation": "v",
         "showlegend": true,
         "type": "scatter",
         "x": [
          "33"
         ],
         "xaxis": "x",
         "y": [
          -0.10582832665371401
         ],
         "yaxis": "y"
        },
        {
         "hovertemplate": "color=idEriArbu1_1.0<extra></extra>",
         "legendgroup": "idEriArbu1_1.0",
         "marker": {
          "color": "#FF6692",
          "symbol": "circle"
         },
         "mode": "lines",
         "name": "idEriArbu1_1.0",
         "showlegend": false,
         "type": "scatter",
         "xaxis": "x",
         "yaxis": "y"
        },
        {
         "hovertemplate": "color=idTacFera2_1<br>x=%{x}<br>y=%{y}<extra></extra>",
         "legendgroup": "idTacFera2_1",
         "marker": {
          "color": "#B6E880",
          "symbol": "circle"
         },
         "mode": "markers",
         "name": "idTacFera2_1",
         "orientation": "v",
         "showlegend": true,
         "type": "scatter",
         "x": [
          "34"
         ],
         "xaxis": "x",
         "y": [
          -1.875083058691843
         ],
         "yaxis": "y"
        },
        {
         "hovertemplate": "color=idTacFera2_1<extra></extra>",
         "legendgroup": "idTacFera2_1",
         "marker": {
          "color": "#B6E880",
          "symbol": "circle"
         },
         "mode": "lines",
         "name": "idTacFera2_1",
         "showlegend": false,
         "type": "scatter",
         "xaxis": "x",
         "yaxis": "y"
        },
        {
         "hovertemplate": "color=idSarSubv1_1.0<br>x=%{x}<br>y=%{y}<extra></extra>",
         "legendgroup": "idSarSubv1_1.0",
         "marker": {
          "color": "#FF97FF",
          "symbol": "circle"
         },
         "mode": "markers",
         "name": "idSarSubv1_1.0",
         "orientation": "v",
         "showlegend": true,
         "type": "scatter",
         "x": [
          "34"
         ],
         "xaxis": "x",
         "y": [
          -0.51838377257211
         ],
         "yaxis": "y"
        },
        {
         "hovertemplate": "color=idSarSubv1_1.0<extra></extra>",
         "legendgroup": "idSarSubv1_1.0",
         "marker": {
          "color": "#FF97FF",
          "symbol": "circle"
         },
         "mode": "lines",
         "name": "idSarSubv1_1.0",
         "showlegend": false,
         "type": "scatter",
         "xaxis": "x",
         "yaxis": "y"
        },
        {
         "hovertemplate": "color=idSarVari1_1.0<br>x=%{x}<br>y=%{y}<extra></extra>",
         "legendgroup": "idSarVari1_1.0",
         "marker": {
          "color": "#FECB52",
          "symbol": "circle"
         },
         "mode": "markers",
         "name": "idSarVari1_1.0",
         "orientation": "v",
         "showlegend": true,
         "type": "scatter",
         "x": [
          "34"
         ],
         "xaxis": "x",
         "y": [
          -0.045833290691955006
         ],
         "yaxis": "y"
        },
        {
         "hovertemplate": "color=idSarVari1_1.0<extra></extra>",
         "legendgroup": "idSarVari1_1.0",
         "marker": {
          "color": "#FECB52",
          "symbol": "circle"
         },
         "mode": "lines",
         "name": "idSarVari1_1.0",
         "showlegend": false,
         "type": "scatter",
         "xaxis": "x",
         "yaxis": "y"
        },
        {
         "hovertemplate": "color=idLeuLate1_1.0<br>x=%{x}<br>y=%{y}<extra></extra>",
         "legendgroup": "idLeuLate1_1.0",
         "marker": {
          "color": "#636efa",
          "symbol": "circle"
         },
         "mode": "markers",
         "name": "idLeuLate1_1.0",
         "orientation": "v",
         "showlegend": true,
         "type": "scatter",
         "x": [
          "35"
         ],
         "xaxis": "x",
         "y": [
          -0.406167590550621
         ],
         "yaxis": "y"
        },
        {
         "hovertemplate": "color=idLeuLate1_1.0<extra></extra>",
         "legendgroup": "idLeuLate1_1.0",
         "marker": {
          "color": "#636efa",
          "symbol": "circle"
         },
         "mode": "lines",
         "name": "idLeuLate1_1.0",
         "showlegend": false,
         "type": "scatter",
         "xaxis": "x",
         "yaxis": "y"
        },
        {
         "hovertemplate": "color=idNowFero1_1.0<br>x=%{x}<br>y=%{y}<extra></extra>",
         "legendgroup": "idNowFero1_1.0",
         "marker": {
          "color": "#EF553B",
          "symbol": "circle"
         },
         "mode": "markers",
         "name": "idNowFero1_1.0",
         "orientation": "v",
         "showlegend": true,
         "type": "scatter",
         "x": [
          "36"
         ],
         "xaxis": "x",
         "y": [
          2.399135975132312
         ],
         "yaxis": "y"
        },
        {
         "hovertemplate": "color=idNowFero1_1.0<extra></extra>",
         "legendgroup": "idNowFero1_1.0",
         "marker": {
          "color": "#EF553B",
          "symbol": "circle"
         },
         "mode": "lines",
         "name": "idNowFero1_1.0",
         "showlegend": false,
         "type": "scatter",
         "xaxis": "x",
         "yaxis": "y"
        },
        {
         "hovertemplate": "color=idGymRotn1_2.0<br>x=%{x}<br>y=%{y}<extra></extra>",
         "legendgroup": "idGymRotn1_2.0",
         "marker": {
          "color": "#00cc96",
          "symbol": "circle"
         },
         "mode": "markers",
         "name": "idGymRotn1_2.0",
         "orientation": "v",
         "showlegend": true,
         "type": "scatter",
         "x": [
          "36"
         ],
         "xaxis": "x",
         "y": [
          -0.11325306643113701
         ],
         "yaxis": "y"
        },
        {
         "hovertemplate": "color=idGymRotn1_2.0<extra></extra>",
         "legendgroup": "idGymRotn1_2.0",
         "marker": {
          "color": "#00cc96",
          "symbol": "circle"
         },
         "mode": "lines",
         "name": "idGymRotn1_2.0",
         "showlegend": false,
         "type": "scatter",
         "xaxis": "x",
         "yaxis": "y"
        },
        {
         "hovertemplate": "color=idBelPand1_2.0<br>x=%{x}<br>y=%{y}<extra></extra>",
         "legendgroup": "idBelPand1_2.0",
         "marker": {
          "color": "#ab63fa",
          "symbol": "circle"
         },
         "mode": "markers",
         "name": "idBelPand1_2.0",
         "orientation": "v",
         "showlegend": true,
         "type": "scatter",
         "x": [
          "37"
         ],
         "xaxis": "x",
         "y": [
          0.000259310588829
         ],
         "yaxis": "y"
        },
        {
         "hovertemplate": "color=idBelPand1_2.0<extra></extra>",
         "legendgroup": "idBelPand1_2.0",
         "marker": {
          "color": "#ab63fa",
          "symbol": "circle"
         },
         "mode": "lines",
         "name": "idBelPand1_2.0",
         "showlegend": false,
         "type": "scatter",
         "xaxis": "x",
         "yaxis": "y"
        },
        {
         "hovertemplate": "color=idRhiCamp1_1.0<br>x=%{x}<br>y=%{y}<extra></extra>",
         "legendgroup": "idRhiCamp1_1.0",
         "marker": {
          "color": "#FFA15A",
          "symbol": "circle"
         },
         "mode": "markers",
         "name": "idRhiCamp1_1.0",
         "orientation": "v",
         "showlegend": true,
         "type": "scatter",
         "x": [
          "39"
         ],
         "xaxis": "x",
         "y": [
          -0.035411502628067006
         ],
         "yaxis": "y"
        },
        {
         "hovertemplate": "color=idRhiCamp1_1.0<extra></extra>",
         "legendgroup": "idRhiCamp1_1.0",
         "marker": {
          "color": "#FFA15A",
          "symbol": "circle"
         },
         "mode": "lines",
         "name": "idRhiCamp1_1.0",
         "showlegend": false,
         "type": "scatter",
         "xaxis": "x",
         "yaxis": "y"
        },
        {
         "hovertemplate": "color=idCisGlob1_1.0<br>x=%{x}<br>y=%{y}<extra></extra>",
         "legendgroup": "idCisGlob1_1.0",
         "marker": {
          "color": "#19d3f3",
          "symbol": "circle"
         },
         "mode": "markers",
         "name": "idCisGlob1_1.0",
         "orientation": "v",
         "showlegend": true,
         "type": "scatter",
         "x": [
          "41"
         ],
         "xaxis": "x",
         "y": [
          -0.23147952780095102
         ],
         "yaxis": "y"
        },
        {
         "hovertemplate": "color=idCisGlob1_1.0<extra></extra>",
         "legendgroup": "idCisGlob1_1.0",
         "marker": {
          "color": "#19d3f3",
          "symbol": "circle"
         },
         "mode": "lines",
         "name": "idCisGlob1_1.0",
         "showlegend": false,
         "type": "scatter",
         "xaxis": "x",
         "yaxis": "y"
        },
        {
         "hovertemplate": "color=idCalVomi1_1.0<br>x=%{x}<br>y=%{y}<extra></extra>",
         "legendgroup": "idCalVomi1_1.0",
         "marker": {
          "color": "#FF6692",
          "symbol": "circle"
         },
         "mode": "markers",
         "name": "idCalVomi1_1.0",
         "orientation": "v",
         "showlegend": true,
         "type": "scatter",
         "x": [
          "41"
         ],
         "xaxis": "x",
         "y": [
          -0.9149558837680871
         ],
         "yaxis": "y"
        },
        {
         "hovertemplate": "color=idCalVomi1_1.0<extra></extra>",
         "legendgroup": "idCalVomi1_1.0",
         "marker": {
          "color": "#FF6692",
          "symbol": "circle"
         },
         "mode": "lines",
         "name": "idCalVomi1_1.0",
         "showlegend": false,
         "type": "scatter",
         "xaxis": "x",
         "yaxis": "y"
        },
        {
         "hovertemplate": "color=idNepFlae1_1.0<br>x=%{x}<br>y=%{y}<extra></extra>",
         "legendgroup": "idNepFlae1_1.0",
         "marker": {
          "color": "#B6E880",
          "symbol": "circle"
         },
         "mode": "markers",
         "name": "idNepFlae1_1.0",
         "orientation": "v",
         "showlegend": true,
         "type": "scatter",
         "x": [
          "41"
         ],
         "xaxis": "x",
         "y": [
          -0.26454637706296
         ],
         "yaxis": "y"
        },
        {
         "hovertemplate": "color=idNepFlae1_1.0<extra></extra>",
         "legendgroup": "idNepFlae1_1.0",
         "marker": {
          "color": "#B6E880",
          "symbol": "circle"
         },
         "mode": "lines",
         "name": "idNepFlae1_1.0",
         "showlegend": false,
         "type": "scatter",
         "xaxis": "x",
         "yaxis": "y"
        },
        {
         "hovertemplate": "color=idXanPedi1_1<br>x=%{x}<br>y=%{y}<extra></extra>",
         "legendgroup": "idXanPedi1_1",
         "marker": {
          "color": "#FF97FF",
          "symbol": "circle"
         },
         "mode": "markers",
         "name": "idXanPedi1_1",
         "orientation": "v",
         "showlegend": true,
         "type": "scatter",
         "x": [
          "41"
         ],
         "xaxis": "x",
         "y": [
          -0.590135096116127
         ],
         "yaxis": "y"
        },
        {
         "hovertemplate": "color=idXanPedi1_1<extra></extra>",
         "legendgroup": "idXanPedi1_1",
         "marker": {
          "color": "#FF97FF",
          "symbol": "circle"
         },
         "mode": "lines",
         "name": "idXanPedi1_1",
         "showlegend": false,
         "type": "scatter",
         "xaxis": "x",
         "yaxis": "y"
        },
        {
         "hovertemplate": "color=idPolAmen1_1.0<br>x=%{x}<br>y=%{y}<extra></extra>",
         "legendgroup": "idPolAmen1_1.0",
         "marker": {
          "color": "#FECB52",
          "symbol": "circle"
         },
         "mode": "markers",
         "name": "idPolAmen1_1.0",
         "orientation": "v",
         "showlegend": true,
         "type": "scatter",
         "x": [
          "42"
         ],
         "xaxis": "x",
         "y": [
          -0.248362485285082
         ],
         "yaxis": "y"
        },
        {
         "hovertemplate": "color=idPolAmen1_1.0<extra></extra>",
         "legendgroup": "idPolAmen1_1.0",
         "marker": {
          "color": "#FECB52",
          "symbol": "circle"
         },
         "mode": "lines",
         "name": "idPolAmen1_1.0",
         "showlegend": false,
         "type": "scatter",
         "xaxis": "x",
         "yaxis": "y"
        },
        {
         "hovertemplate": "color=idPlaAlba1_1<br>x=%{x}<br>y=%{y}<extra></extra>",
         "legendgroup": "idPlaAlba1_1",
         "marker": {
          "color": "#636efa",
          "symbol": "circle"
         },
         "mode": "markers",
         "name": "idPlaAlba1_1",
         "orientation": "v",
         "showlegend": true,
         "type": "scatter",
         "x": [
          "42"
         ],
         "xaxis": "x",
         "y": [
          -1.220965914903758
         ],
         "yaxis": "y"
        },
        {
         "hovertemplate": "color=idPlaAlba1_1<extra></extra>",
         "legendgroup": "idPlaAlba1_1",
         "marker": {
          "color": "#636efa",
          "symbol": "circle"
         },
         "mode": "lines",
         "name": "idPlaAlba1_1",
         "showlegend": false,
         "type": "scatter",
         "xaxis": "x",
         "yaxis": "y"
        },
        {
         "hovertemplate": "color=idCheUrba1_1.0<br>x=%{x}<br>y=%{y}<extra></extra>",
         "legendgroup": "idCheUrba1_1.0",
         "marker": {
          "color": "#EF553B",
          "symbol": "circle"
         },
         "mode": "markers",
         "name": "idCheUrba1_1.0",
         "orientation": "v",
         "showlegend": true,
         "type": "scatter",
         "x": [
          "42"
         ],
         "xaxis": "x",
         "y": [
          -0.509635916461302
         ],
         "yaxis": "y"
        },
        {
         "hovertemplate": "color=idCheUrba1_1.0<extra></extra>",
         "legendgroup": "idCheUrba1_1.0",
         "marker": {
          "color": "#EF553B",
          "symbol": "circle"
         },
         "mode": "lines",
         "name": "idCheUrba1_1.0",
         "showlegend": false,
         "type": "scatter",
         "xaxis": "x",
         "yaxis": "y"
        },
        {
         "hovertemplate": "color=idStoLuna1_1<br>x=%{x}<br>y=%{y}<extra></extra>",
         "legendgroup": "idStoLuna1_1",
         "marker": {
          "color": "#00cc96",
          "symbol": "circle"
         },
         "mode": "markers",
         "name": "idStoLuna1_1",
         "orientation": "v",
         "showlegend": true,
         "type": "scatter",
         "x": [
          "44"
         ],
         "xaxis": "x",
         "y": [
          -0.8421936264386001
         ],
         "yaxis": "y"
        },
        {
         "hovertemplate": "color=idStoLuna1_1<extra></extra>",
         "legendgroup": "idStoLuna1_1",
         "marker": {
          "color": "#00cc96",
          "symbol": "circle"
         },
         "mode": "lines",
         "name": "idStoLuna1_1",
         "showlegend": false,
         "type": "scatter",
         "xaxis": "x",
         "yaxis": "y"
        },
        {
         "hovertemplate": "color=idBraLaph1_1.0<br>x=%{x}<br>y=%{y}<extra></extra>",
         "legendgroup": "idBraLaph1_1.0",
         "marker": {
          "color": "#ab63fa",
          "symbol": "circle"
         },
         "mode": "markers",
         "name": "idBraLaph1_1.0",
         "orientation": "v",
         "showlegend": true,
         "type": "scatter",
         "x": [
          "45"
         ],
         "xaxis": "x",
         "y": [
          0.000466683893711
         ],
         "yaxis": "y"
        },
        {
         "hovertemplate": "color=idBraLaph1_1.0<extra></extra>",
         "legendgroup": "idBraLaph1_1.0",
         "marker": {
          "color": "#ab63fa",
          "symbol": "circle"
         },
         "mode": "lines",
         "name": "idBraLaph1_1.0",
         "showlegend": false,
         "type": "scatter",
         "xaxis": "x",
         "yaxis": "y"
        },
        {
         "hovertemplate": "color=idMelMell2_2.0<br>x=%{x}<br>y=%{y}<extra></extra>",
         "legendgroup": "idMelMell2_2.0",
         "marker": {
          "color": "#FFA15A",
          "symbol": "circle"
         },
         "mode": "markers",
         "name": "idMelMell2_2.0",
         "orientation": "v",
         "showlegend": true,
         "type": "scatter",
         "x": [
          "45"
         ],
         "xaxis": "x",
         "y": [
          -2.835837198252784
         ],
         "yaxis": "y"
        },
        {
         "hovertemplate": "color=idMelMell2_2.0<extra></extra>",
         "legendgroup": "idMelMell2_2.0",
         "marker": {
          "color": "#FFA15A",
          "symbol": "circle"
         },
         "mode": "lines",
         "name": "idMelMell2_2.0",
         "showlegend": false,
         "type": "scatter",
         "xaxis": "x",
         "yaxis": "y"
        },
        {
         "hovertemplate": "color=idEpiBalt1_1.0<br>x=%{x}<br>y=%{y}<extra></extra>",
         "legendgroup": "idEpiBalt1_1.0",
         "marker": {
          "color": "#19d3f3",
          "symbol": "circle"
         },
         "mode": "markers",
         "name": "idEpiBalt1_1.0",
         "orientation": "v",
         "showlegend": true,
         "type": "scatter",
         "x": [
          "46"
         ],
         "xaxis": "x",
         "y": [
          -0.660165581826685
         ],
         "yaxis": "y"
        },
        {
         "hovertemplate": "color=idEpiBalt1_1.0<extra></extra>",
         "legendgroup": "idEpiBalt1_1.0",
         "marker": {
          "color": "#19d3f3",
          "symbol": "circle"
         },
         "mode": "lines",
         "name": "idEpiBalt1_1.0",
         "showlegend": false,
         "type": "scatter",
         "xaxis": "x",
         "yaxis": "y"
        },
        {
         "hovertemplate": "color=idPheCory1_1.0<br>x=%{x}<br>y=%{y}<extra></extra>",
         "legendgroup": "idPheCory1_1.0",
         "marker": {
          "color": "#FF6692",
          "symbol": "circle"
         },
         "mode": "markers",
         "name": "idPheCory1_1.0",
         "orientation": "v",
         "showlegend": true,
         "type": "scatter",
         "x": [
          "49"
         ],
         "xaxis": "x",
         "y": [
          -5.8274031019989145
         ],
         "yaxis": "y"
        },
        {
         "hovertemplate": "color=idPheCory1_1.0<extra></extra>",
         "legendgroup": "idPheCory1_1.0",
         "marker": {
          "color": "#FF6692",
          "symbol": "circle"
         },
         "mode": "lines",
         "name": "idPheCory1_1.0",
         "showlegend": false,
         "type": "scatter",
         "xaxis": "x",
         "yaxis": "y"
        },
        {
         "hovertemplate": "color=idTacLuri1_1.0<br>x=%{x}<br>y=%{y}<extra></extra>",
         "legendgroup": "idTacLuri1_1.0",
         "marker": {
          "color": "#B6E880",
          "symbol": "circle"
         },
         "mode": "markers",
         "name": "idTacLuri1_1.0",
         "orientation": "v",
         "showlegend": true,
         "type": "scatter",
         "x": [
          "50"
         ],
         "xaxis": "x",
         "y": [
          -0.31258836587003
         ],
         "yaxis": "y"
        },
        {
         "hovertemplate": "color=idTacLuri1_1.0<extra></extra>",
         "legendgroup": "idTacLuri1_1.0",
         "marker": {
          "color": "#B6E880",
          "symbol": "circle"
         },
         "mode": "lines",
         "name": "idTacLuri1_1.0",
         "showlegend": false,
         "type": "scatter",
         "xaxis": "x",
         "yaxis": "y"
        },
        {
         "hovertemplate": "color=idSphTaen1_1.0<br>x=%{x}<br>y=%{y}<extra></extra>",
         "legendgroup": "idSphTaen1_1.0",
         "marker": {
          "color": "#FF97FF",
          "symbol": "circle"
         },
         "mode": "markers",
         "name": "idSphTaen1_1.0",
         "orientation": "v",
         "showlegend": true,
         "type": "scatter",
         "x": [
          "50"
         ],
         "xaxis": "x",
         "y": [
          -1.041296294859728
         ],
         "yaxis": "y"
        },
        {
         "hovertemplate": "color=idSphTaen1_1.0<extra></extra>",
         "legendgroup": "idSphTaen1_1.0",
         "marker": {
          "color": "#FF97FF",
          "symbol": "circle"
         },
         "mode": "lines",
         "name": "idSphTaen1_1.0",
         "showlegend": false,
         "type": "scatter",
         "xaxis": "x",
         "yaxis": "y"
        },
        {
         "hovertemplate": "color=idPolAngu1_1.0<br>x=%{x}<br>y=%{y}<extra></extra>",
         "legendgroup": "idPolAngu1_1.0",
         "marker": {
          "color": "#FECB52",
          "symbol": "circle"
         },
         "mode": "markers",
         "name": "idPolAngu1_1.0",
         "orientation": "v",
         "showlegend": true,
         "type": "scatter",
         "x": [
          "51"
         ],
         "xaxis": "x",
         "y": [
          -0.34684066565564303
         ],
         "yaxis": "y"
        },
        {
         "hovertemplate": "color=idPolAngu1_1.0<extra></extra>",
         "legendgroup": "idPolAngu1_1.0",
         "marker": {
          "color": "#FECB52",
          "symbol": "circle"
         },
         "mode": "lines",
         "name": "idPolAngu1_1.0",
         "showlegend": false,
         "type": "scatter",
         "xaxis": "x",
         "yaxis": "y"
        },
        {
         "hovertemplate": "color=idEupLati1_1.0<br>x=%{x}<br>y=%{y}<extra></extra>",
         "legendgroup": "idEupLati1_1.0",
         "marker": {
          "color": "#636efa",
          "symbol": "circle"
         },
         "mode": "markers",
         "name": "idEupLati1_1.0",
         "orientation": "v",
         "showlegend": true,
         "type": "scatter",
         "x": [
          "51"
         ],
         "xaxis": "x",
         "y": [
          -1.202104032175943
         ],
         "yaxis": "y"
        },
        {
         "hovertemplate": "color=idEupLati1_1.0<extra></extra>",
         "legendgroup": "idEupLati1_1.0",
         "marker": {
          "color": "#636efa",
          "symbol": "circle"
         },
         "mode": "lines",
         "name": "idEupLati1_1.0",
         "showlegend": false,
         "type": "scatter",
         "xaxis": "x",
         "yaxis": "y"
        },
        {
         "hovertemplate": "color=idTheAtra2_1.0<br>x=%{x}<br>y=%{y}<extra></extra>",
         "legendgroup": "idTheAtra2_1.0",
         "marker": {
          "color": "#EF553B",
          "symbol": "circle"
         },
         "mode": "markers",
         "name": "idTheAtra2_1.0",
         "orientation": "v",
         "showlegend": true,
         "type": "scatter",
         "x": [
          "52"
         ],
         "xaxis": "x",
         "y": [
          -0.6559228644621421
         ],
         "yaxis": "y"
        },
        {
         "hovertemplate": "color=idTheAtra2_1.0<extra></extra>",
         "legendgroup": "idTheAtra2_1.0",
         "marker": {
          "color": "#EF553B",
          "symbol": "circle"
         },
         "mode": "lines",
         "name": "idTheAtra2_1.0",
         "showlegend": false,
         "type": "scatter",
         "xaxis": "x",
         "yaxis": "y"
        },
        {
         "hovertemplate": "color=idSicFerr1_1<br>x=%{x}<br>y=%{y}<extra></extra>",
         "legendgroup": "idSicFerr1_1",
         "marker": {
          "color": "#00cc96",
          "symbol": "circle"
         },
         "mode": "markers",
         "name": "idSicFerr1_1",
         "orientation": "v",
         "showlegend": true,
         "type": "scatter",
         "x": [
          "52"
         ],
         "xaxis": "x",
         "y": [
          -0.164676386367367
         ],
         "yaxis": "y"
        },
        {
         "hovertemplate": "color=idSicFerr1_1<extra></extra>",
         "legendgroup": "idSicFerr1_1",
         "marker": {
          "color": "#00cc96",
          "symbol": "circle"
         },
         "mode": "lines",
         "name": "idSicFerr1_1",
         "showlegend": false,
         "type": "scatter",
         "xaxis": "x",
         "yaxis": "y"
        },
        {
         "hovertemplate": "color=idCorMarg1_1<br>x=%{x}<br>y=%{y}<extra></extra>",
         "legendgroup": "idCorMarg1_1",
         "marker": {
          "color": "#ab63fa",
          "symbol": "circle"
         },
         "mode": "markers",
         "name": "idCorMarg1_1",
         "orientation": "v",
         "showlegend": true,
         "type": "scatter",
         "x": [
          "53"
         ],
         "xaxis": "x",
         "y": [
          -0.18050344740134203
         ],
         "yaxis": "y"
        },
        {
         "hovertemplate": "color=idCorMarg1_1<extra></extra>",
         "legendgroup": "idCorMarg1_1",
         "marker": {
          "color": "#ab63fa",
          "symbol": "circle"
         },
         "mode": "lines",
         "name": "idCorMarg1_1",
         "showlegend": false,
         "type": "scatter",
         "xaxis": "x",
         "yaxis": "y"
        },
        {
         "hovertemplate": "color=idChrBici1_1<br>x=%{x}<br>y=%{y}<extra></extra>",
         "legendgroup": "idChrBici1_1",
         "marker": {
          "color": "#FFA15A",
          "symbol": "circle"
         },
         "mode": "markers",
         "name": "idChrBici1_1",
         "orientation": "v",
         "showlegend": true,
         "type": "scatter",
         "x": [
          "54"
         ],
         "xaxis": "x",
         "y": [
          -3.269799367360125
         ],
         "yaxis": "y"
        },
        {
         "hovertemplate": "color=idChrBici1_1<extra></extra>",
         "legendgroup": "idChrBici1_1",
         "marker": {
          "color": "#FFA15A",
          "symbol": "circle"
         },
         "mode": "lines",
         "name": "idChrBici1_1",
         "showlegend": false,
         "type": "scatter",
         "xaxis": "x",
         "yaxis": "y"
        },
        {
         "hovertemplate": "color=idCluTigr1_1.0<br>x=%{x}<br>y=%{y}<extra></extra>",
         "legendgroup": "idCluTigr1_1.0",
         "marker": {
          "color": "#19d3f3",
          "symbol": "circle"
         },
         "mode": "markers",
         "name": "idCluTigr1_1.0",
         "orientation": "v",
         "showlegend": true,
         "type": "scatter",
         "x": [
          "56"
         ],
         "xaxis": "x",
         "y": [
          -0.17043759607234502
         ],
         "yaxis": "y"
        },
        {
         "hovertemplate": "color=idCluTigr1_1.0<extra></extra>",
         "legendgroup": "idCluTigr1_1.0",
         "marker": {
          "color": "#19d3f3",
          "symbol": "circle"
         },
         "mode": "lines",
         "name": "idCluTigr1_1.0",
         "showlegend": false,
         "type": "scatter",
         "xaxis": "x",
         "yaxis": "y"
        }
       ],
       "layout": {
        "legend": {
         "title": {
          "text": "color"
         },
         "tracegroupgap": 0
        },
        "template": {
         "data": {
          "bar": [
           {
            "error_x": {
             "color": "#2a3f5f"
            },
            "error_y": {
             "color": "#2a3f5f"
            },
            "marker": {
             "line": {
              "color": "#E5ECF6",
              "width": 0.5
             },
             "pattern": {
              "fillmode": "overlay",
              "size": 10,
              "solidity": 0.2
             }
            },
            "type": "bar"
           }
          ],
          "barpolar": [
           {
            "marker": {
             "line": {
              "color": "#E5ECF6",
              "width": 0.5
             },
             "pattern": {
              "fillmode": "overlay",
              "size": 10,
              "solidity": 0.2
             }
            },
            "type": "barpolar"
           }
          ],
          "carpet": [
           {
            "aaxis": {
             "endlinecolor": "#2a3f5f",
             "gridcolor": "white",
             "linecolor": "white",
             "minorgridcolor": "white",
             "startlinecolor": "#2a3f5f"
            },
            "baxis": {
             "endlinecolor": "#2a3f5f",
             "gridcolor": "white",
             "linecolor": "white",
             "minorgridcolor": "white",
             "startlinecolor": "#2a3f5f"
            },
            "type": "carpet"
           }
          ],
          "choropleth": [
           {
            "colorbar": {
             "outlinewidth": 0,
             "ticks": ""
            },
            "type": "choropleth"
           }
          ],
          "contour": [
           {
            "colorbar": {
             "outlinewidth": 0,
             "ticks": ""
            },
            "colorscale": [
             [
              0,
              "#0d0887"
             ],
             [
              0.1111111111111111,
              "#46039f"
             ],
             [
              0.2222222222222222,
              "#7201a8"
             ],
             [
              0.3333333333333333,
              "#9c179e"
             ],
             [
              0.4444444444444444,
              "#bd3786"
             ],
             [
              0.5555555555555556,
              "#d8576b"
             ],
             [
              0.6666666666666666,
              "#ed7953"
             ],
             [
              0.7777777777777778,
              "#fb9f3a"
             ],
             [
              0.8888888888888888,
              "#fdca26"
             ],
             [
              1,
              "#f0f921"
             ]
            ],
            "type": "contour"
           }
          ],
          "contourcarpet": [
           {
            "colorbar": {
             "outlinewidth": 0,
             "ticks": ""
            },
            "type": "contourcarpet"
           }
          ],
          "heatmap": [
           {
            "colorbar": {
             "outlinewidth": 0,
             "ticks": ""
            },
            "colorscale": [
             [
              0,
              "#0d0887"
             ],
             [
              0.1111111111111111,
              "#46039f"
             ],
             [
              0.2222222222222222,
              "#7201a8"
             ],
             [
              0.3333333333333333,
              "#9c179e"
             ],
             [
              0.4444444444444444,
              "#bd3786"
             ],
             [
              0.5555555555555556,
              "#d8576b"
             ],
             [
              0.6666666666666666,
              "#ed7953"
             ],
             [
              0.7777777777777778,
              "#fb9f3a"
             ],
             [
              0.8888888888888888,
              "#fdca26"
             ],
             [
              1,
              "#f0f921"
             ]
            ],
            "type": "heatmap"
           }
          ],
          "heatmapgl": [
           {
            "colorbar": {
             "outlinewidth": 0,
             "ticks": ""
            },
            "colorscale": [
             [
              0,
              "#0d0887"
             ],
             [
              0.1111111111111111,
              "#46039f"
             ],
             [
              0.2222222222222222,
              "#7201a8"
             ],
             [
              0.3333333333333333,
              "#9c179e"
             ],
             [
              0.4444444444444444,
              "#bd3786"
             ],
             [
              0.5555555555555556,
              "#d8576b"
             ],
             [
              0.6666666666666666,
              "#ed7953"
             ],
             [
              0.7777777777777778,
              "#fb9f3a"
             ],
             [
              0.8888888888888888,
              "#fdca26"
             ],
             [
              1,
              "#f0f921"
             ]
            ],
            "type": "heatmapgl"
           }
          ],
          "histogram": [
           {
            "marker": {
             "pattern": {
              "fillmode": "overlay",
              "size": 10,
              "solidity": 0.2
             }
            },
            "type": "histogram"
           }
          ],
          "histogram2d": [
           {
            "colorbar": {
             "outlinewidth": 0,
             "ticks": ""
            },
            "colorscale": [
             [
              0,
              "#0d0887"
             ],
             [
              0.1111111111111111,
              "#46039f"
             ],
             [
              0.2222222222222222,
              "#7201a8"
             ],
             [
              0.3333333333333333,
              "#9c179e"
             ],
             [
              0.4444444444444444,
              "#bd3786"
             ],
             [
              0.5555555555555556,
              "#d8576b"
             ],
             [
              0.6666666666666666,
              "#ed7953"
             ],
             [
              0.7777777777777778,
              "#fb9f3a"
             ],
             [
              0.8888888888888888,
              "#fdca26"
             ],
             [
              1,
              "#f0f921"
             ]
            ],
            "type": "histogram2d"
           }
          ],
          "histogram2dcontour": [
           {
            "colorbar": {
             "outlinewidth": 0,
             "ticks": ""
            },
            "colorscale": [
             [
              0,
              "#0d0887"
             ],
             [
              0.1111111111111111,
              "#46039f"
             ],
             [
              0.2222222222222222,
              "#7201a8"
             ],
             [
              0.3333333333333333,
              "#9c179e"
             ],
             [
              0.4444444444444444,
              "#bd3786"
             ],
             [
              0.5555555555555556,
              "#d8576b"
             ],
             [
              0.6666666666666666,
              "#ed7953"
             ],
             [
              0.7777777777777778,
              "#fb9f3a"
             ],
             [
              0.8888888888888888,
              "#fdca26"
             ],
             [
              1,
              "#f0f921"
             ]
            ],
            "type": "histogram2dcontour"
           }
          ],
          "mesh3d": [
           {
            "colorbar": {
             "outlinewidth": 0,
             "ticks": ""
            },
            "type": "mesh3d"
           }
          ],
          "parcoords": [
           {
            "line": {
             "colorbar": {
              "outlinewidth": 0,
              "ticks": ""
             }
            },
            "type": "parcoords"
           }
          ],
          "pie": [
           {
            "automargin": true,
            "type": "pie"
           }
          ],
          "scatter": [
           {
            "fillpattern": {
             "fillmode": "overlay",
             "size": 10,
             "solidity": 0.2
            },
            "type": "scatter"
           }
          ],
          "scatter3d": [
           {
            "line": {
             "colorbar": {
              "outlinewidth": 0,
              "ticks": ""
             }
            },
            "marker": {
             "colorbar": {
              "outlinewidth": 0,
              "ticks": ""
             }
            },
            "type": "scatter3d"
           }
          ],
          "scattercarpet": [
           {
            "marker": {
             "colorbar": {
              "outlinewidth": 0,
              "ticks": ""
             }
            },
            "type": "scattercarpet"
           }
          ],
          "scattergeo": [
           {
            "marker": {
             "colorbar": {
              "outlinewidth": 0,
              "ticks": ""
             }
            },
            "type": "scattergeo"
           }
          ],
          "scattergl": [
           {
            "marker": {
             "colorbar": {
              "outlinewidth": 0,
              "ticks": ""
             }
            },
            "type": "scattergl"
           }
          ],
          "scattermapbox": [
           {
            "marker": {
             "colorbar": {
              "outlinewidth": 0,
              "ticks": ""
             }
            },
            "type": "scattermapbox"
           }
          ],
          "scatterpolar": [
           {
            "marker": {
             "colorbar": {
              "outlinewidth": 0,
              "ticks": ""
             }
            },
            "type": "scatterpolar"
           }
          ],
          "scatterpolargl": [
           {
            "marker": {
             "colorbar": {
              "outlinewidth": 0,
              "ticks": ""
             }
            },
            "type": "scatterpolargl"
           }
          ],
          "scatterternary": [
           {
            "marker": {
             "colorbar": {
              "outlinewidth": 0,
              "ticks": ""
             }
            },
            "type": "scatterternary"
           }
          ],
          "surface": [
           {
            "colorbar": {
             "outlinewidth": 0,
             "ticks": ""
            },
            "colorscale": [
             [
              0,
              "#0d0887"
             ],
             [
              0.1111111111111111,
              "#46039f"
             ],
             [
              0.2222222222222222,
              "#7201a8"
             ],
             [
              0.3333333333333333,
              "#9c179e"
             ],
             [
              0.4444444444444444,
              "#bd3786"
             ],
             [
              0.5555555555555556,
              "#d8576b"
             ],
             [
              0.6666666666666666,
              "#ed7953"
             ],
             [
              0.7777777777777778,
              "#fb9f3a"
             ],
             [
              0.8888888888888888,
              "#fdca26"
             ],
             [
              1,
              "#f0f921"
             ]
            ],
            "type": "surface"
           }
          ],
          "table": [
           {
            "cells": {
             "fill": {
              "color": "#EBF0F8"
             },
             "line": {
              "color": "white"
             }
            },
            "header": {
             "fill": {
              "color": "#C8D4E3"
             },
             "line": {
              "color": "white"
             }
            },
            "type": "table"
           }
          ]
         },
         "layout": {
          "annotationdefaults": {
           "arrowcolor": "#2a3f5f",
           "arrowhead": 0,
           "arrowwidth": 1
          },
          "autotypenumbers": "strict",
          "coloraxis": {
           "colorbar": {
            "outlinewidth": 0,
            "ticks": ""
           }
          },
          "colorscale": {
           "diverging": [
            [
             0,
             "#8e0152"
            ],
            [
             0.1,
             "#c51b7d"
            ],
            [
             0.2,
             "#de77ae"
            ],
            [
             0.3,
             "#f1b6da"
            ],
            [
             0.4,
             "#fde0ef"
            ],
            [
             0.5,
             "#f7f7f7"
            ],
            [
             0.6,
             "#e6f5d0"
            ],
            [
             0.7,
             "#b8e186"
            ],
            [
             0.8,
             "#7fbc41"
            ],
            [
             0.9,
             "#4d9221"
            ],
            [
             1,
             "#276419"
            ]
           ],
           "sequential": [
            [
             0,
             "#0d0887"
            ],
            [
             0.1111111111111111,
             "#46039f"
            ],
            [
             0.2222222222222222,
             "#7201a8"
            ],
            [
             0.3333333333333333,
             "#9c179e"
            ],
            [
             0.4444444444444444,
             "#bd3786"
            ],
            [
             0.5555555555555556,
             "#d8576b"
            ],
            [
             0.6666666666666666,
             "#ed7953"
            ],
            [
             0.7777777777777778,
             "#fb9f3a"
            ],
            [
             0.8888888888888888,
             "#fdca26"
            ],
            [
             1,
             "#f0f921"
            ]
           ],
           "sequentialminus": [
            [
             0,
             "#0d0887"
            ],
            [
             0.1111111111111111,
             "#46039f"
            ],
            [
             0.2222222222222222,
             "#7201a8"
            ],
            [
             0.3333333333333333,
             "#9c179e"
            ],
            [
             0.4444444444444444,
             "#bd3786"
            ],
            [
             0.5555555555555556,
             "#d8576b"
            ],
            [
             0.6666666666666666,
             "#ed7953"
            ],
            [
             0.7777777777777778,
             "#fb9f3a"
            ],
            [
             0.8888888888888888,
             "#fdca26"
            ],
            [
             1,
             "#f0f921"
            ]
           ]
          },
          "colorway": [
           "#636efa",
           "#EF553B",
           "#00cc96",
           "#ab63fa",
           "#FFA15A",
           "#19d3f3",
           "#FF6692",
           "#B6E880",
           "#FF97FF",
           "#FECB52"
          ],
          "font": {
           "color": "#2a3f5f"
          },
          "geo": {
           "bgcolor": "white",
           "lakecolor": "white",
           "landcolor": "#E5ECF6",
           "showlakes": true,
           "showland": true,
           "subunitcolor": "white"
          },
          "hoverlabel": {
           "align": "left"
          },
          "hovermode": "closest",
          "mapbox": {
           "style": "light"
          },
          "paper_bgcolor": "white",
          "plot_bgcolor": "#E5ECF6",
          "polar": {
           "angularaxis": {
            "gridcolor": "white",
            "linecolor": "white",
            "ticks": ""
           },
           "bgcolor": "#E5ECF6",
           "radialaxis": {
            "gridcolor": "white",
            "linecolor": "white",
            "ticks": ""
           }
          },
          "scene": {
           "xaxis": {
            "backgroundcolor": "#E5ECF6",
            "gridcolor": "white",
            "gridwidth": 2,
            "linecolor": "white",
            "showbackground": true,
            "ticks": "",
            "zerolinecolor": "white"
           },
           "yaxis": {
            "backgroundcolor": "#E5ECF6",
            "gridcolor": "white",
            "gridwidth": 2,
            "linecolor": "white",
            "showbackground": true,
            "ticks": "",
            "zerolinecolor": "white"
           },
           "zaxis": {
            "backgroundcolor": "#E5ECF6",
            "gridcolor": "white",
            "gridwidth": 2,
            "linecolor": "white",
            "showbackground": true,
            "ticks": "",
            "zerolinecolor": "white"
           }
          },
          "shapedefaults": {
           "line": {
            "color": "#2a3f5f"
           }
          },
          "ternary": {
           "aaxis": {
            "gridcolor": "white",
            "linecolor": "white",
            "ticks": ""
           },
           "baxis": {
            "gridcolor": "white",
            "linecolor": "white",
            "ticks": ""
           },
           "bgcolor": "#E5ECF6",
           "caxis": {
            "gridcolor": "white",
            "linecolor": "white",
            "ticks": ""
           }
          },
          "title": {
           "x": 0.05
          },
          "xaxis": {
           "automargin": true,
           "gridcolor": "white",
           "linecolor": "white",
           "ticks": "",
           "title": {
            "standoff": 15
           },
           "zerolinecolor": "white",
           "zerolinewidth": 2
          },
          "yaxis": {
           "automargin": true,
           "gridcolor": "white",
           "linecolor": "white",
           "ticks": "",
           "title": {
            "standoff": 15
           },
           "zerolinecolor": "white",
           "zerolinewidth": 2
          }
         }
        },
        "title": {
         "text": "Length change(%) by Repeat Fraction (%)"
        },
        "xaxis": {
         "anchor": "y",
         "domain": [
          0,
          1
         ],
         "title": {
          "text": "x"
         }
        },
        "yaxis": {
         "anchor": "x",
         "domain": [
          0,
          1
         ],
         "title": {
          "text": "y"
         }
        }
       }
      }
     },
     "metadata": {},
     "output_type": "display_data"
    },
    {
     "data": {
      "application/vnd.plotly.v1+json": {
       "config": {
        "plotlyServerURL": "https://plot.ly"
       },
       "data": [
        {
         "hovertemplate": "color=idSyrPipi1_1<br>x=%{x}<br>y=%{y}<extra></extra>",
         "legendgroup": "idSyrPipi1_1",
         "marker": {
          "color": "#636efa",
          "symbol": "circle"
         },
         "mode": "markers",
         "name": "idSyrPipi1_1",
         "orientation": "v",
         "showlegend": true,
         "type": "scatter",
         "x": [
          "idSyrPipi1_1"
         ],
         "xaxis": "x",
         "y": [
          -70
         ],
         "yaxis": "y"
        },
        {
         "hovertemplate": "color=idScaPyra1_1<br>x=%{x}<br>y=%{y}<extra></extra>",
         "legendgroup": "idScaPyra1_1",
         "marker": {
          "color": "#EF553B",
          "symbol": "circle"
         },
         "mode": "markers",
         "name": "idScaPyra1_1",
         "orientation": "v",
         "showlegend": true,
         "type": "scatter",
         "x": [
          "idScaPyra1_1"
         ],
         "xaxis": "x",
         "y": [
          -95.78947368421052
         ],
         "yaxis": "y"
        },
        {
         "hovertemplate": "color=idEriSepu1_1.0<br>x=%{x}<br>y=%{y}<extra></extra>",
         "legendgroup": "idEriSepu1_1.0",
         "marker": {
          "color": "#00cc96",
          "symbol": "circle"
         },
         "mode": "markers",
         "name": "idEriSepu1_1.0",
         "orientation": "v",
         "showlegend": true,
         "type": "scatter",
         "x": [
          "idEriSepu1_1.0"
         ],
         "xaxis": "x",
         "y": [
          -72.16117216117216
         ],
         "yaxis": "y"
        },
        {
         "hovertemplate": "color=idBibMarc1_1<br>x=%{x}<br>y=%{y}<extra></extra>",
         "legendgroup": "idBibMarc1_1",
         "marker": {
          "color": "#ab63fa",
          "symbol": "circle"
         },
         "mode": "markers",
         "name": "idBibMarc1_1",
         "orientation": "v",
         "showlegend": true,
         "type": "scatter",
         "x": [
          "idBibMarc1_1"
         ],
         "xaxis": "x",
         "y": [
          -57.14285714285714
         ],
         "yaxis": "y"
        },
        {
         "hovertemplate": "color=idEpiSucc1_1.0<br>x=%{x}<br>y=%{y}<extra></extra>",
         "legendgroup": "idEpiSucc1_1.0",
         "marker": {
          "color": "#FFA15A",
          "symbol": "circle"
         },
         "mode": "markers",
         "name": "idEpiSucc1_1.0",
         "orientation": "v",
         "showlegend": true,
         "type": "scatter",
         "x": [
          "idEpiSucc1_1.0"
         ],
         "xaxis": "x",
         "y": [
          -87.17948717948718
         ],
         "yaxis": "y"
        },
        {
         "hovertemplate": "color=idVolInan1_1<br>x=%{x}<br>y=%{y}<extra></extra>",
         "legendgroup": "idVolInan1_1",
         "marker": {
          "color": "#19d3f3",
          "symbol": "circle"
         },
         "mode": "markers",
         "name": "idVolInan1_1",
         "orientation": "v",
         "showlegend": true,
         "type": "scatter",
         "x": [
          "idVolInan1_1"
         ],
         "xaxis": "x",
         "y": [
          -71.42857142857143
         ],
         "yaxis": "y"
        },
        {
         "hovertemplate": "color=idVolInfl1_1.0<br>x=%{x}<br>y=%{y}<extra></extra>",
         "legendgroup": "idVolInfl1_1.0",
         "marker": {
          "color": "#FF6692",
          "symbol": "circle"
         },
         "mode": "markers",
         "name": "idVolInfl1_1.0",
         "orientation": "v",
         "showlegend": true,
         "type": "scatter",
         "x": [
          "idVolInfl1_1.0"
         ],
         "xaxis": "x",
         "y": [
          -88.69565217391305
         ],
         "yaxis": "y"
        },
        {
         "hovertemplate": "color=idChePaga1_1.0<br>x=%{x}<br>y=%{y}<extra></extra>",
         "legendgroup": "idChePaga1_1.0",
         "marker": {
          "color": "#B6E880",
          "symbol": "circle"
         },
         "mode": "markers",
         "name": "idChePaga1_1.0",
         "orientation": "v",
         "showlegend": true,
         "type": "scatter",
         "x": [
          "idChePaga1_1.0"
         ],
         "xaxis": "x",
         "y": [
          -9.090909090909092
         ],
         "yaxis": "y"
        },
        {
         "hovertemplate": "color=idCriBerb1_1<br>x=%{x}<br>y=%{y}<extra></extra>",
         "legendgroup": "idCriBerb1_1",
         "marker": {
          "color": "#FF97FF",
          "symbol": "circle"
         },
         "mode": "markers",
         "name": "idCriBerb1_1",
         "orientation": "v",
         "showlegend": true,
         "type": "scatter",
         "x": [
          "idCriBerb1_1"
         ],
         "xaxis": "x",
         "y": [
          -50
         ],
         "yaxis": "y"
        },
        {
         "hovertemplate": "color=idCheVulp2_1.0<br>x=%{x}<br>y=%{y}<extra></extra>",
         "legendgroup": "idCheVulp2_1.0",
         "marker": {
          "color": "#FECB52",
          "symbol": "circle"
         },
         "mode": "markers",
         "name": "idCheVulp2_1.0",
         "orientation": "v",
         "showlegend": true,
         "type": "scatter",
         "x": [
          "idCheVulp2_1.0"
         ],
         "xaxis": "x",
         "y": [
          -33.33333333333333
         ],
         "yaxis": "y"
        },
        {
         "hovertemplate": "color=idProAzur1_1.0<br>x=%{x}<br>y=%{y}<extra></extra>",
         "legendgroup": "idProAzur1_1.0",
         "marker": {
          "color": "#636efa",
          "symbol": "circle"
         },
         "mode": "markers",
         "name": "idProAzur1_1.0",
         "orientation": "v",
         "showlegend": true,
         "type": "scatter",
         "x": [
          "idProAzur1_1.0"
         ],
         "xaxis": "x",
         "y": [
          -81.30081300813008
         ],
         "yaxis": "y"
        },
        {
         "hovertemplate": "color=idEriTena2_1<br>x=%{x}<br>y=%{y}<extra></extra>",
         "legendgroup": "idEriTena2_1",
         "marker": {
          "color": "#EF553B",
          "symbol": "circle"
         },
         "mode": "markers",
         "name": "idEriTena2_1",
         "orientation": "v",
         "showlegend": true,
         "type": "scatter",
         "x": [
          "idEriTena2_1"
         ],
         "xaxis": "x",
         "y": [
          -31.277533039647576
         ],
         "yaxis": "y"
        },
        {
         "hovertemplate": "color=idXylSylv2_1<br>x=%{x}<br>y=%{y}<extra></extra>",
         "legendgroup": "idXylSylv2_1",
         "marker": {
          "color": "#00cc96",
          "symbol": "circle"
         },
         "mode": "markers",
         "name": "idXylSylv2_1",
         "orientation": "v",
         "showlegend": true,
         "type": "scatter",
         "x": [
          "idXylSylv2_1"
         ],
         "xaxis": "x",
         "y": [
          -24.203821656050955
         ],
         "yaxis": "y"
        },
        {
         "hovertemplate": "color=idEriPert2_1<br>x=%{x}<br>y=%{y}<extra></extra>",
         "legendgroup": "idEriPert2_1",
         "marker": {
          "color": "#ab63fa",
          "symbol": "circle"
         },
         "mode": "markers",
         "name": "idEriPert2_1",
         "orientation": "v",
         "showlegend": true,
         "type": "scatter",
         "x": [
          "idEriPert2_1"
         ],
         "xaxis": "x",
         "y": [
          -32.45382585751979
         ],
         "yaxis": "y"
        },
        {
         "hovertemplate": "color=idSarRose1_1.0<br>x=%{x}<br>y=%{y}<extra></extra>",
         "legendgroup": "idSarRose1_1.0",
         "marker": {
          "color": "#FFA15A",
          "symbol": "circle"
         },
         "mode": "markers",
         "name": "idSarRose1_1.0",
         "orientation": "v",
         "showlegend": true,
         "type": "scatter",
         "x": [
          "idSarRose1_1.0"
         ],
         "xaxis": "x",
         "y": [
          -7.142857142857142
         ],
         "yaxis": "y"
        },
        {
         "hovertemplate": "color=idMacAtri3_1.0<br>x=%{x}<br>y=%{y}<extra></extra>",
         "legendgroup": "idMacAtri3_1.0",
         "marker": {
          "color": "#19d3f3",
          "symbol": "circle"
         },
         "mode": "markers",
         "name": "idMacAtri3_1.0",
         "orientation": "v",
         "showlegend": true,
         "type": "scatter",
         "x": [
          "idMacAtri3_1.0"
         ],
         "xaxis": "x",
         "y": [
          -9.67741935483871
         ],
         "yaxis": "y"
        },
        {
         "hovertemplate": "color=idTheAcut1_1.0<br>x=%{x}<br>y=%{y}<extra></extra>",
         "legendgroup": "idTheAcut1_1.0",
         "marker": {
          "color": "#FF6692",
          "symbol": "circle"
         },
         "mode": "markers",
         "name": "idTheAcut1_1.0",
         "orientation": "v",
         "showlegend": true,
         "type": "scatter",
         "x": [
          "idTheAcut1_1.0"
         ],
         "xaxis": "x",
         "y": [
          -29.333333333333332
         ],
         "yaxis": "y"
        },
        {
         "hovertemplate": "color=idBomDisc1_1<br>x=%{x}<br>y=%{y}<extra></extra>",
         "legendgroup": "idBomDisc1_1",
         "marker": {
          "color": "#B6E880",
          "symbol": "circle"
         },
         "mode": "markers",
         "name": "idBomDisc1_1",
         "orientation": "v",
         "showlegend": true,
         "type": "scatter",
         "x": [
          "idBomDisc1_1"
         ],
         "xaxis": "x",
         "y": [
          -50
         ],
         "yaxis": "y"
        },
        {
         "hovertemplate": "color=idBomMajo1_1.0<br>x=%{x}<br>y=%{y}<extra></extra>",
         "legendgroup": "idBomMajo1_1.0",
         "marker": {
          "color": "#FF97FF",
          "symbol": "circle"
         },
         "mode": "markers",
         "name": "idBomMajo1_1.0",
         "orientation": "v",
         "showlegend": true,
         "type": "scatter",
         "x": [
          "idBomMajo1_1.0"
         ],
         "xaxis": "x",
         "y": [
          -40.723981900452486
         ],
         "yaxis": "y"
        },
        {
         "hovertemplate": "color=idSarCaer1_1.0<br>x=%{x}<br>y=%{y}<extra></extra>",
         "legendgroup": "idSarCaer1_1.0",
         "marker": {
          "color": "#FECB52",
          "symbol": "circle"
         },
         "mode": "markers",
         "name": "idSarCaer1_1.0",
         "orientation": "v",
         "showlegend": true,
         "type": "scatter",
         "x": [
          "idSarCaer1_1.0"
         ],
         "xaxis": "x",
         "y": [
          -41.02564102564102
         ],
         "yaxis": "y"
        },
        {
         "hovertemplate": "color=idEpiGros1_1.0<br>x=%{x}<br>y=%{y}<extra></extra>",
         "legendgroup": "idEpiGros1_1.0",
         "marker": {
          "color": "#636efa",
          "symbol": "circle"
         },
         "mode": "markers",
         "name": "idEpiGros1_1.0",
         "orientation": "v",
         "showlegend": true,
         "type": "scatter",
         "x": [
          "idEpiGros1_1.0"
         ],
         "xaxis": "x",
         "y": [
          -72.28260869565217
         ],
         "yaxis": "y"
        },
        {
         "hovertemplate": "color=idMyaFlor2_1.0<br>x=%{x}<br>y=%{y}<extra></extra>",
         "legendgroup": "idMyaFlor2_1.0",
         "marker": {
          "color": "#EF553B",
          "symbol": "circle"
         },
         "mode": "markers",
         "name": "idMyaFlor2_1.0",
         "orientation": "v",
         "showlegend": true,
         "type": "scatter",
         "x": [
          "idMyaFlor2_1.0"
         ],
         "xaxis": "x",
         "y": [
          -31.363636363636367
         ],
         "yaxis": "y"
        },
        {
         "hovertemplate": "color=idPhyMeln1_1.0<br>x=%{x}<br>y=%{y}<extra></extra>",
         "legendgroup": "idPhyMeln1_1.0",
         "marker": {
          "color": "#00cc96",
          "symbol": "circle"
         },
         "mode": "markers",
         "name": "idPhyMeln1_1.0",
         "orientation": "v",
         "showlegend": true,
         "type": "scatter",
         "x": [
          "idPhyMeln1_1.0"
         ],
         "xaxis": "x",
         "y": [
          -87.14285714285714
         ],
         "yaxis": "y"
        },
        {
         "hovertemplate": "color=idEupCoro1_1.0<br>x=%{x}<br>y=%{y}<extra></extra>",
         "legendgroup": "idEupCoro1_1.0",
         "marker": {
          "color": "#ab63fa",
          "symbol": "circle"
         },
         "mode": "markers",
         "name": "idEupCoro1_1.0",
         "orientation": "v",
         "showlegend": true,
         "type": "scatter",
         "x": [
          "idEupCoro1_1.0"
         ],
         "xaxis": "x",
         "y": [
          -36.237785016286644
         ],
         "yaxis": "y"
        },
        {
         "hovertemplate": "color=idMyoTess1_1.0<br>x=%{x}<br>y=%{y}<extra></extra>",
         "legendgroup": "idMyoTess1_1.0",
         "marker": {
          "color": "#FFA15A",
          "symbol": "circle"
         },
         "mode": "markers",
         "name": "idMyoTess1_1.0",
         "orientation": "v",
         "showlegend": true,
         "type": "scatter",
         "x": [
          "idMyoTess1_1.0"
         ],
         "xaxis": "x",
         "y": [
          -54.54545454545454
         ],
         "yaxis": "y"
        },
        {
         "hovertemplate": "color=idDasAlbo1_1.0<br>x=%{x}<br>y=%{y}<extra></extra>",
         "legendgroup": "idDasAlbo1_1.0",
         "marker": {
          "color": "#19d3f3",
          "symbol": "circle"
         },
         "mode": "markers",
         "name": "idDasAlbo1_1.0",
         "orientation": "v",
         "showlegend": true,
         "type": "scatter",
         "x": [
          "idDasAlbo1_1.0"
         ],
         "xaxis": "x",
         "y": [
          -72.15189873417721
         ],
         "yaxis": "y"
        },
        {
         "hovertemplate": "color=idEriArbu1_1.0<br>x=%{x}<br>y=%{y}<extra></extra>",
         "legendgroup": "idEriArbu1_1.0",
         "marker": {
          "color": "#FF6692",
          "symbol": "circle"
         },
         "mode": "markers",
         "name": "idEriArbu1_1.0",
         "orientation": "v",
         "showlegend": true,
         "type": "scatter",
         "x": [
          "idEriArbu1_1.0"
         ],
         "xaxis": "x",
         "y": [
          -33.589743589743584
         ],
         "yaxis": "y"
        },
        {
         "hovertemplate": "color=idTacFera2_1<br>x=%{x}<br>y=%{y}<extra></extra>",
         "legendgroup": "idTacFera2_1",
         "marker": {
          "color": "#B6E880",
          "symbol": "circle"
         },
         "mode": "markers",
         "name": "idTacFera2_1",
         "orientation": "v",
         "showlegend": true,
         "type": "scatter",
         "x": [
          "idTacFera2_1"
         ],
         "xaxis": "x",
         "y": [
          -94.8051948051948
         ],
         "yaxis": "y"
        },
        {
         "hovertemplate": "color=idSarSubv1_1.0<br>x=%{x}<br>y=%{y}<extra></extra>",
         "legendgroup": "idSarSubv1_1.0",
         "marker": {
          "color": "#FF97FF",
          "symbol": "circle"
         },
         "mode": "markers",
         "name": "idSarSubv1_1.0",
         "orientation": "v",
         "showlegend": true,
         "type": "scatter",
         "x": [
          "idSarSubv1_1.0"
         ],
         "xaxis": "x",
         "y": [
          -52.03488372093024
         ],
         "yaxis": "y"
        },
        {
         "hovertemplate": "color=idSarVari1_1.0<br>x=%{x}<br>y=%{y}<extra></extra>",
         "legendgroup": "idSarVari1_1.0",
         "marker": {
          "color": "#FECB52",
          "symbol": "circle"
         },
         "mode": "markers",
         "name": "idSarVari1_1.0",
         "orientation": "v",
         "showlegend": true,
         "type": "scatter",
         "x": [
          "idSarVari1_1.0"
         ],
         "xaxis": "x",
         "y": [
          -75.20833333333333
         ],
         "yaxis": "y"
        },
        {
         "hovertemplate": "color=idLeuLate1_1.0<br>x=%{x}<br>y=%{y}<extra></extra>",
         "legendgroup": "idLeuLate1_1.0",
         "marker": {
          "color": "#636efa",
          "symbol": "circle"
         },
         "mode": "markers",
         "name": "idLeuLate1_1.0",
         "orientation": "v",
         "showlegend": true,
         "type": "scatter",
         "x": [
          "idLeuLate1_1.0"
         ],
         "xaxis": "x",
         "y": [
          -48.18181818181818
         ],
         "yaxis": "y"
        },
        {
         "hovertemplate": "color=idNowFero1_1.0<br>x=%{x}<br>y=%{y}<extra></extra>",
         "legendgroup": "idNowFero1_1.0",
         "marker": {
          "color": "#EF553B",
          "symbol": "circle"
         },
         "mode": "markers",
         "name": "idNowFero1_1.0",
         "orientation": "v",
         "showlegend": true,
         "type": "scatter",
         "x": [
          "idNowFero1_1.0"
         ],
         "xaxis": "x",
         "y": [
          -22.55639097744361
         ],
         "yaxis": "y"
        },
        {
         "hovertemplate": "color=idGymRotn1_2.0<br>x=%{x}<br>y=%{y}<extra></extra>",
         "legendgroup": "idGymRotn1_2.0",
         "marker": {
          "color": "#00cc96",
          "symbol": "circle"
         },
         "mode": "markers",
         "name": "idGymRotn1_2.0",
         "orientation": "v",
         "showlegend": true,
         "type": "scatter",
         "x": [
          "idGymRotn1_2.0"
         ],
         "xaxis": "x",
         "y": [
          -23.883495145631066
         ],
         "yaxis": "y"
        },
        {
         "hovertemplate": "color=idBelPand1_2.0<br>x=%{x}<br>y=%{y}<extra></extra>",
         "legendgroup": "idBelPand1_2.0",
         "marker": {
          "color": "#ab63fa",
          "symbol": "circle"
         },
         "mode": "markers",
         "name": "idBelPand1_2.0",
         "orientation": "v",
         "showlegend": true,
         "type": "scatter",
         "x": [
          "idBelPand1_2.0"
         ],
         "xaxis": "x",
         "y": [
          -15.66265060240964
         ],
         "yaxis": "y"
        },
        {
         "hovertemplate": "color=idRhiCamp1_1.0<br>x=%{x}<br>y=%{y}<extra></extra>",
         "legendgroup": "idRhiCamp1_1.0",
         "marker": {
          "color": "#FFA15A",
          "symbol": "circle"
         },
         "mode": "markers",
         "name": "idRhiCamp1_1.0",
         "orientation": "v",
         "showlegend": true,
         "type": "scatter",
         "x": [
          "idRhiCamp1_1.0"
         ],
         "xaxis": "x",
         "y": [
          -31.28205128205128
         ],
         "yaxis": "y"
        },
        {
         "hovertemplate": "color=idCisGlob1_1.0<br>x=%{x}<br>y=%{y}<extra></extra>",
         "legendgroup": "idCisGlob1_1.0",
         "marker": {
          "color": "#19d3f3",
          "symbol": "circle"
         },
         "mode": "markers",
         "name": "idCisGlob1_1.0",
         "orientation": "v",
         "showlegend": true,
         "type": "scatter",
         "x": [
          "idCisGlob1_1.0"
         ],
         "xaxis": "x",
         "y": [
          -3.095684803001876
         ],
         "yaxis": "y"
        },
        {
         "hovertemplate": "color=idCalVomi1_1.0<br>x=%{x}<br>y=%{y}<extra></extra>",
         "legendgroup": "idCalVomi1_1.0",
         "marker": {
          "color": "#FF6692",
          "symbol": "circle"
         },
         "mode": "markers",
         "name": "idCalVomi1_1.0",
         "orientation": "v",
         "showlegend": true,
         "type": "scatter",
         "x": [
          "idCalVomi1_1.0"
         ],
         "xaxis": "x",
         "y": [
          -9.859154929577464
         ],
         "yaxis": "y"
        },
        {
         "hovertemplate": "color=idNepFlae1_1.0<br>x=%{x}<br>y=%{y}<extra></extra>",
         "legendgroup": "idNepFlae1_1.0",
         "marker": {
          "color": "#B6E880",
          "symbol": "circle"
         },
         "mode": "markers",
         "name": "idNepFlae1_1.0",
         "orientation": "v",
         "showlegend": true,
         "type": "scatter",
         "x": [
          "idNepFlae1_1.0"
         ],
         "xaxis": "x",
         "y": [
          -7.698744769874477
         ],
         "yaxis": "y"
        },
        {
         "hovertemplate": "color=idXanPedi1_1<br>x=%{x}<br>y=%{y}<extra></extra>",
         "legendgroup": "idXanPedi1_1",
         "marker": {
          "color": "#FF97FF",
          "symbol": "circle"
         },
         "mode": "markers",
         "name": "idXanPedi1_1",
         "orientation": "v",
         "showlegend": true,
         "type": "scatter",
         "x": [
          "idXanPedi1_1"
         ],
         "xaxis": "x",
         "y": [
          -23.89937106918239
         ],
         "yaxis": "y"
        },
        {
         "hovertemplate": "color=idPolAmen1_1.0<br>x=%{x}<br>y=%{y}<extra></extra>",
         "legendgroup": "idPolAmen1_1.0",
         "marker": {
          "color": "#FECB52",
          "symbol": "circle"
         },
         "mode": "markers",
         "name": "idPolAmen1_1.0",
         "orientation": "v",
         "showlegend": true,
         "type": "scatter",
         "x": [
          "idPolAmen1_1.0"
         ],
         "xaxis": "x",
         "y": [
          -62.22222222222222
         ],
         "yaxis": "y"
        },
        {
         "hovertemplate": "color=idPlaAlba1_1<br>x=%{x}<br>y=%{y}<extra></extra>",
         "legendgroup": "idPlaAlba1_1",
         "marker": {
          "color": "#636efa",
          "symbol": "circle"
         },
         "mode": "markers",
         "name": "idPlaAlba1_1",
         "orientation": "v",
         "showlegend": true,
         "type": "scatter",
         "x": [
          "idPlaAlba1_1"
         ],
         "xaxis": "x",
         "y": [
          -76.73267326732673
         ],
         "yaxis": "y"
        },
        {
         "hovertemplate": "color=idCheUrba1_1.0<br>x=%{x}<br>y=%{y}<extra></extra>",
         "legendgroup": "idCheUrba1_1.0",
         "marker": {
          "color": "#EF553B",
          "symbol": "circle"
         },
         "mode": "markers",
         "name": "idCheUrba1_1.0",
         "orientation": "v",
         "showlegend": true,
         "type": "scatter",
         "x": [
          "idCheUrba1_1.0"
         ],
         "xaxis": "x",
         "y": [
          -41.935483870967744
         ],
         "yaxis": "y"
        },
        {
         "hovertemplate": "color=idStoLuna1_1<br>x=%{x}<br>y=%{y}<extra></extra>",
         "legendgroup": "idStoLuna1_1",
         "marker": {
          "color": "#00cc96",
          "symbol": "circle"
         },
         "mode": "markers",
         "name": "idStoLuna1_1",
         "orientation": "v",
         "showlegend": true,
         "type": "scatter",
         "x": [
          "idStoLuna1_1"
         ],
         "xaxis": "x",
         "y": [
          -38.50574712643678
         ],
         "yaxis": "y"
        },
        {
         "hovertemplate": "color=idBraLaph1_1.0<br>x=%{x}<br>y=%{y}<extra></extra>",
         "legendgroup": "idBraLaph1_1.0",
         "marker": {
          "color": "#ab63fa",
          "symbol": "circle"
         },
         "mode": "markers",
         "name": "idBraLaph1_1.0",
         "orientation": "v",
         "showlegend": true,
         "type": "scatter",
         "x": [
          "idBraLaph1_1.0"
         ],
         "xaxis": "x",
         "y": [
          -48.07692307692308
         ],
         "yaxis": "y"
        },
        {
         "hovertemplate": "color=idMelMell2_2.0<br>x=%{x}<br>y=%{y}<extra></extra>",
         "legendgroup": "idMelMell2_2.0",
         "marker": {
          "color": "#FFA15A",
          "symbol": "circle"
         },
         "mode": "markers",
         "name": "idMelMell2_2.0",
         "orientation": "v",
         "showlegend": true,
         "type": "scatter",
         "x": [
          "idMelMell2_2.0"
         ],
         "xaxis": "x",
         "y": [
          -74.75083056478405
         ],
         "yaxis": "y"
        },
        {
         "hovertemplate": "color=idEpiBalt1_1.0<br>x=%{x}<br>y=%{y}<extra></extra>",
         "legendgroup": "idEpiBalt1_1.0",
         "marker": {
          "color": "#19d3f3",
          "symbol": "circle"
         },
         "mode": "markers",
         "name": "idEpiBalt1_1.0",
         "orientation": "v",
         "showlegend": true,
         "type": "scatter",
         "x": [
          "idEpiBalt1_1.0"
         ],
         "xaxis": "x",
         "y": [
          -62.5
         ],
         "yaxis": "y"
        },
        {
         "hovertemplate": "color=idPheCory1_1.0<br>x=%{x}<br>y=%{y}<extra></extra>",
         "legendgroup": "idPheCory1_1.0",
         "marker": {
          "color": "#FF6692",
          "symbol": "circle"
         },
         "mode": "markers",
         "name": "idPheCory1_1.0",
         "orientation": "v",
         "showlegend": true,
         "type": "scatter",
         "x": [
          "idPheCory1_1.0"
         ],
         "xaxis": "x",
         "y": [
          -92.41071428571429
         ],
         "yaxis": "y"
        },
        {
         "hovertemplate": "color=idTacLuri1_1.0<br>x=%{x}<br>y=%{y}<extra></extra>",
         "legendgroup": "idTacLuri1_1.0",
         "marker": {
          "color": "#B6E880",
          "symbol": "circle"
         },
         "mode": "markers",
         "name": "idTacLuri1_1.0",
         "orientation": "v",
         "showlegend": true,
         "type": "scatter",
         "x": [
          "idTacLuri1_1.0"
         ],
         "xaxis": "x",
         "y": [
          -71.72413793103448
         ],
         "yaxis": "y"
        },
        {
         "hovertemplate": "color=idSphTaen1_1.0<br>x=%{x}<br>y=%{y}<extra></extra>",
         "legendgroup": "idSphTaen1_1.0",
         "marker": {
          "color": "#FF97FF",
          "symbol": "circle"
         },
         "mode": "markers",
         "name": "idSphTaen1_1.0",
         "orientation": "v",
         "showlegend": true,
         "type": "scatter",
         "x": [
          "idSphTaen1_1.0"
         ],
         "xaxis": "x",
         "y": [
          -68.75
         ],
         "yaxis": "y"
        },
        {
         "hovertemplate": "color=idPolAngu1_1.0<br>x=%{x}<br>y=%{y}<extra></extra>",
         "legendgroup": "idPolAngu1_1.0",
         "marker": {
          "color": "#FECB52",
          "symbol": "circle"
         },
         "mode": "markers",
         "name": "idPolAngu1_1.0",
         "orientation": "v",
         "showlegend": true,
         "type": "scatter",
         "x": [
          "idPolAngu1_1.0"
         ],
         "xaxis": "x",
         "y": [
          -50.81967213114754
         ],
         "yaxis": "y"
        },
        {
         "hovertemplate": "color=idEupLati1_1.0<br>x=%{x}<br>y=%{y}<extra></extra>",
         "legendgroup": "idEupLati1_1.0",
         "marker": {
          "color": "#636efa",
          "symbol": "circle"
         },
         "mode": "markers",
         "name": "idEupLati1_1.0",
         "orientation": "v",
         "showlegend": true,
         "type": "scatter",
         "x": [
          "idEupLati1_1.0"
         ],
         "xaxis": "x",
         "y": [
          -38.330975954738335
         ],
         "yaxis": "y"
        },
        {
         "hovertemplate": "color=idTheAtra2_1.0<br>x=%{x}<br>y=%{y}<extra></extra>",
         "legendgroup": "idTheAtra2_1.0",
         "marker": {
          "color": "#EF553B",
          "symbol": "circle"
         },
         "mode": "markers",
         "name": "idTheAtra2_1.0",
         "orientation": "v",
         "showlegend": true,
         "type": "scatter",
         "x": [
          "idTheAtra2_1.0"
         ],
         "xaxis": "x",
         "y": [
          -52.17391304347826
         ],
         "yaxis": "y"
        },
        {
         "hovertemplate": "color=idSicFerr1_1<br>x=%{x}<br>y=%{y}<extra></extra>",
         "legendgroup": "idSicFerr1_1",
         "marker": {
          "color": "#00cc96",
          "symbol": "circle"
         },
         "mode": "markers",
         "name": "idSicFerr1_1",
         "orientation": "v",
         "showlegend": true,
         "type": "scatter",
         "x": [
          "idSicFerr1_1"
         ],
         "xaxis": "x",
         "y": [
          -65.88235294117646
         ],
         "yaxis": "y"
        },
        {
         "hovertemplate": "color=idCorMarg1_1<br>x=%{x}<br>y=%{y}<extra></extra>",
         "legendgroup": "idCorMarg1_1",
         "marker": {
          "color": "#ab63fa",
          "symbol": "circle"
         },
         "mode": "markers",
         "name": "idCorMarg1_1",
         "orientation": "v",
         "showlegend": true,
         "type": "scatter",
         "x": [
          "idCorMarg1_1"
         ],
         "xaxis": "x",
         "y": [
          -82.90598290598291
         ],
         "yaxis": "y"
        },
        {
         "hovertemplate": "color=idChrBici1_1<br>x=%{x}<br>y=%{y}<extra></extra>",
         "legendgroup": "idChrBici1_1",
         "marker": {
          "color": "#FFA15A",
          "symbol": "circle"
         },
         "mode": "markers",
         "name": "idChrBici1_1",
         "orientation": "v",
         "showlegend": true,
         "type": "scatter",
         "x": [
          "idChrBici1_1"
         ],
         "xaxis": "x",
         "y": [
          -64.0625
         ],
         "yaxis": "y"
        },
        {
         "hovertemplate": "color=idCluTigr1_1.0<br>x=%{x}<br>y=%{y}<extra></extra>",
         "legendgroup": "idCluTigr1_1.0",
         "marker": {
          "color": "#19d3f3",
          "symbol": "circle"
         },
         "mode": "markers",
         "name": "idCluTigr1_1.0",
         "orientation": "v",
         "showlegend": true,
         "type": "scatter",
         "x": [
          "idCluTigr1_1.0"
         ],
         "xaxis": "x",
         "y": [
          -24.173318129988598
         ],
         "yaxis": "y"
        }
       ],
       "layout": {
        "legend": {
         "title": {
          "text": "color"
         },
         "tracegroupgap": 0
        },
        "template": {
         "data": {
          "bar": [
           {
            "error_x": {
             "color": "#2a3f5f"
            },
            "error_y": {
             "color": "#2a3f5f"
            },
            "marker": {
             "line": {
              "color": "#E5ECF6",
              "width": 0.5
             },
             "pattern": {
              "fillmode": "overlay",
              "size": 10,
              "solidity": 0.2
             }
            },
            "type": "bar"
           }
          ],
          "barpolar": [
           {
            "marker": {
             "line": {
              "color": "#E5ECF6",
              "width": 0.5
             },
             "pattern": {
              "fillmode": "overlay",
              "size": 10,
              "solidity": 0.2
             }
            },
            "type": "barpolar"
           }
          ],
          "carpet": [
           {
            "aaxis": {
             "endlinecolor": "#2a3f5f",
             "gridcolor": "white",
             "linecolor": "white",
             "minorgridcolor": "white",
             "startlinecolor": "#2a3f5f"
            },
            "baxis": {
             "endlinecolor": "#2a3f5f",
             "gridcolor": "white",
             "linecolor": "white",
             "minorgridcolor": "white",
             "startlinecolor": "#2a3f5f"
            },
            "type": "carpet"
           }
          ],
          "choropleth": [
           {
            "colorbar": {
             "outlinewidth": 0,
             "ticks": ""
            },
            "type": "choropleth"
           }
          ],
          "contour": [
           {
            "colorbar": {
             "outlinewidth": 0,
             "ticks": ""
            },
            "colorscale": [
             [
              0,
              "#0d0887"
             ],
             [
              0.1111111111111111,
              "#46039f"
             ],
             [
              0.2222222222222222,
              "#7201a8"
             ],
             [
              0.3333333333333333,
              "#9c179e"
             ],
             [
              0.4444444444444444,
              "#bd3786"
             ],
             [
              0.5555555555555556,
              "#d8576b"
             ],
             [
              0.6666666666666666,
              "#ed7953"
             ],
             [
              0.7777777777777778,
              "#fb9f3a"
             ],
             [
              0.8888888888888888,
              "#fdca26"
             ],
             [
              1,
              "#f0f921"
             ]
            ],
            "type": "contour"
           }
          ],
          "contourcarpet": [
           {
            "colorbar": {
             "outlinewidth": 0,
             "ticks": ""
            },
            "type": "contourcarpet"
           }
          ],
          "heatmap": [
           {
            "colorbar": {
             "outlinewidth": 0,
             "ticks": ""
            },
            "colorscale": [
             [
              0,
              "#0d0887"
             ],
             [
              0.1111111111111111,
              "#46039f"
             ],
             [
              0.2222222222222222,
              "#7201a8"
             ],
             [
              0.3333333333333333,
              "#9c179e"
             ],
             [
              0.4444444444444444,
              "#bd3786"
             ],
             [
              0.5555555555555556,
              "#d8576b"
             ],
             [
              0.6666666666666666,
              "#ed7953"
             ],
             [
              0.7777777777777778,
              "#fb9f3a"
             ],
             [
              0.8888888888888888,
              "#fdca26"
             ],
             [
              1,
              "#f0f921"
             ]
            ],
            "type": "heatmap"
           }
          ],
          "heatmapgl": [
           {
            "colorbar": {
             "outlinewidth": 0,
             "ticks": ""
            },
            "colorscale": [
             [
              0,
              "#0d0887"
             ],
             [
              0.1111111111111111,
              "#46039f"
             ],
             [
              0.2222222222222222,
              "#7201a8"
             ],
             [
              0.3333333333333333,
              "#9c179e"
             ],
             [
              0.4444444444444444,
              "#bd3786"
             ],
             [
              0.5555555555555556,
              "#d8576b"
             ],
             [
              0.6666666666666666,
              "#ed7953"
             ],
             [
              0.7777777777777778,
              "#fb9f3a"
             ],
             [
              0.8888888888888888,
              "#fdca26"
             ],
             [
              1,
              "#f0f921"
             ]
            ],
            "type": "heatmapgl"
           }
          ],
          "histogram": [
           {
            "marker": {
             "pattern": {
              "fillmode": "overlay",
              "size": 10,
              "solidity": 0.2
             }
            },
            "type": "histogram"
           }
          ],
          "histogram2d": [
           {
            "colorbar": {
             "outlinewidth": 0,
             "ticks": ""
            },
            "colorscale": [
             [
              0,
              "#0d0887"
             ],
             [
              0.1111111111111111,
              "#46039f"
             ],
             [
              0.2222222222222222,
              "#7201a8"
             ],
             [
              0.3333333333333333,
              "#9c179e"
             ],
             [
              0.4444444444444444,
              "#bd3786"
             ],
             [
              0.5555555555555556,
              "#d8576b"
             ],
             [
              0.6666666666666666,
              "#ed7953"
             ],
             [
              0.7777777777777778,
              "#fb9f3a"
             ],
             [
              0.8888888888888888,
              "#fdca26"
             ],
             [
              1,
              "#f0f921"
             ]
            ],
            "type": "histogram2d"
           }
          ],
          "histogram2dcontour": [
           {
            "colorbar": {
             "outlinewidth": 0,
             "ticks": ""
            },
            "colorscale": [
             [
              0,
              "#0d0887"
             ],
             [
              0.1111111111111111,
              "#46039f"
             ],
             [
              0.2222222222222222,
              "#7201a8"
             ],
             [
              0.3333333333333333,
              "#9c179e"
             ],
             [
              0.4444444444444444,
              "#bd3786"
             ],
             [
              0.5555555555555556,
              "#d8576b"
             ],
             [
              0.6666666666666666,
              "#ed7953"
             ],
             [
              0.7777777777777778,
              "#fb9f3a"
             ],
             [
              0.8888888888888888,
              "#fdca26"
             ],
             [
              1,
              "#f0f921"
             ]
            ],
            "type": "histogram2dcontour"
           }
          ],
          "mesh3d": [
           {
            "colorbar": {
             "outlinewidth": 0,
             "ticks": ""
            },
            "type": "mesh3d"
           }
          ],
          "parcoords": [
           {
            "line": {
             "colorbar": {
              "outlinewidth": 0,
              "ticks": ""
             }
            },
            "type": "parcoords"
           }
          ],
          "pie": [
           {
            "automargin": true,
            "type": "pie"
           }
          ],
          "scatter": [
           {
            "fillpattern": {
             "fillmode": "overlay",
             "size": 10,
             "solidity": 0.2
            },
            "type": "scatter"
           }
          ],
          "scatter3d": [
           {
            "line": {
             "colorbar": {
              "outlinewidth": 0,
              "ticks": ""
             }
            },
            "marker": {
             "colorbar": {
              "outlinewidth": 0,
              "ticks": ""
             }
            },
            "type": "scatter3d"
           }
          ],
          "scattercarpet": [
           {
            "marker": {
             "colorbar": {
              "outlinewidth": 0,
              "ticks": ""
             }
            },
            "type": "scattercarpet"
           }
          ],
          "scattergeo": [
           {
            "marker": {
             "colorbar": {
              "outlinewidth": 0,
              "ticks": ""
             }
            },
            "type": "scattergeo"
           }
          ],
          "scattergl": [
           {
            "marker": {
             "colorbar": {
              "outlinewidth": 0,
              "ticks": ""
             }
            },
            "type": "scattergl"
           }
          ],
          "scattermapbox": [
           {
            "marker": {
             "colorbar": {
              "outlinewidth": 0,
              "ticks": ""
             }
            },
            "type": "scattermapbox"
           }
          ],
          "scatterpolar": [
           {
            "marker": {
             "colorbar": {
              "outlinewidth": 0,
              "ticks": ""
             }
            },
            "type": "scatterpolar"
           }
          ],
          "scatterpolargl": [
           {
            "marker": {
             "colorbar": {
              "outlinewidth": 0,
              "ticks": ""
             }
            },
            "type": "scatterpolargl"
           }
          ],
          "scatterternary": [
           {
            "marker": {
             "colorbar": {
              "outlinewidth": 0,
              "ticks": ""
             }
            },
            "type": "scatterternary"
           }
          ],
          "surface": [
           {
            "colorbar": {
             "outlinewidth": 0,
             "ticks": ""
            },
            "colorscale": [
             [
              0,
              "#0d0887"
             ],
             [
              0.1111111111111111,
              "#46039f"
             ],
             [
              0.2222222222222222,
              "#7201a8"
             ],
             [
              0.3333333333333333,
              "#9c179e"
             ],
             [
              0.4444444444444444,
              "#bd3786"
             ],
             [
              0.5555555555555556,
              "#d8576b"
             ],
             [
              0.6666666666666666,
              "#ed7953"
             ],
             [
              0.7777777777777778,
              "#fb9f3a"
             ],
             [
              0.8888888888888888,
              "#fdca26"
             ],
             [
              1,
              "#f0f921"
             ]
            ],
            "type": "surface"
           }
          ],
          "table": [
           {
            "cells": {
             "fill": {
              "color": "#EBF0F8"
             },
             "line": {
              "color": "white"
             }
            },
            "header": {
             "fill": {
              "color": "#C8D4E3"
             },
             "line": {
              "color": "white"
             }
            },
            "type": "table"
           }
          ]
         },
         "layout": {
          "annotationdefaults": {
           "arrowcolor": "#2a3f5f",
           "arrowhead": 0,
           "arrowwidth": 1
          },
          "autotypenumbers": "strict",
          "coloraxis": {
           "colorbar": {
            "outlinewidth": 0,
            "ticks": ""
           }
          },
          "colorscale": {
           "diverging": [
            [
             0,
             "#8e0152"
            ],
            [
             0.1,
             "#c51b7d"
            ],
            [
             0.2,
             "#de77ae"
            ],
            [
             0.3,
             "#f1b6da"
            ],
            [
             0.4,
             "#fde0ef"
            ],
            [
             0.5,
             "#f7f7f7"
            ],
            [
             0.6,
             "#e6f5d0"
            ],
            [
             0.7,
             "#b8e186"
            ],
            [
             0.8,
             "#7fbc41"
            ],
            [
             0.9,
             "#4d9221"
            ],
            [
             1,
             "#276419"
            ]
           ],
           "sequential": [
            [
             0,
             "#0d0887"
            ],
            [
             0.1111111111111111,
             "#46039f"
            ],
            [
             0.2222222222222222,
             "#7201a8"
            ],
            [
             0.3333333333333333,
             "#9c179e"
            ],
            [
             0.4444444444444444,
             "#bd3786"
            ],
            [
             0.5555555555555556,
             "#d8576b"
            ],
            [
             0.6666666666666666,
             "#ed7953"
            ],
            [
             0.7777777777777778,
             "#fb9f3a"
            ],
            [
             0.8888888888888888,
             "#fdca26"
            ],
            [
             1,
             "#f0f921"
            ]
           ],
           "sequentialminus": [
            [
             0,
             "#0d0887"
            ],
            [
             0.1111111111111111,
             "#46039f"
            ],
            [
             0.2222222222222222,
             "#7201a8"
            ],
            [
             0.3333333333333333,
             "#9c179e"
            ],
            [
             0.4444444444444444,
             "#bd3786"
            ],
            [
             0.5555555555555556,
             "#d8576b"
            ],
            [
             0.6666666666666666,
             "#ed7953"
            ],
            [
             0.7777777777777778,
             "#fb9f3a"
            ],
            [
             0.8888888888888888,
             "#fdca26"
            ],
            [
             1,
             "#f0f921"
            ]
           ]
          },
          "colorway": [
           "#636efa",
           "#EF553B",
           "#00cc96",
           "#ab63fa",
           "#FFA15A",
           "#19d3f3",
           "#FF6692",
           "#B6E880",
           "#FF97FF",
           "#FECB52"
          ],
          "font": {
           "color": "#2a3f5f"
          },
          "geo": {
           "bgcolor": "white",
           "lakecolor": "white",
           "landcolor": "#E5ECF6",
           "showlakes": true,
           "showland": true,
           "subunitcolor": "white"
          },
          "hoverlabel": {
           "align": "left"
          },
          "hovermode": "closest",
          "mapbox": {
           "style": "light"
          },
          "paper_bgcolor": "white",
          "plot_bgcolor": "#E5ECF6",
          "polar": {
           "angularaxis": {
            "gridcolor": "white",
            "linecolor": "white",
            "ticks": ""
           },
           "bgcolor": "#E5ECF6",
           "radialaxis": {
            "gridcolor": "white",
            "linecolor": "white",
            "ticks": ""
           }
          },
          "scene": {
           "xaxis": {
            "backgroundcolor": "#E5ECF6",
            "gridcolor": "white",
            "gridwidth": 2,
            "linecolor": "white",
            "showbackground": true,
            "ticks": "",
            "zerolinecolor": "white"
           },
           "yaxis": {
            "backgroundcolor": "#E5ECF6",
            "gridcolor": "white",
            "gridwidth": 2,
            "linecolor": "white",
            "showbackground": true,
            "ticks": "",
            "zerolinecolor": "white"
           },
           "zaxis": {
            "backgroundcolor": "#E5ECF6",
            "gridcolor": "white",
            "gridwidth": 2,
            "linecolor": "white",
            "showbackground": true,
            "ticks": "",
            "zerolinecolor": "white"
           }
          },
          "shapedefaults": {
           "line": {
            "color": "#2a3f5f"
           }
          },
          "ternary": {
           "aaxis": {
            "gridcolor": "white",
            "linecolor": "white",
            "ticks": ""
           },
           "baxis": {
            "gridcolor": "white",
            "linecolor": "white",
            "ticks": ""
           },
           "bgcolor": "#E5ECF6",
           "caxis": {
            "gridcolor": "white",
            "linecolor": "white",
            "ticks": ""
           }
          },
          "title": {
           "x": 0.05
          },
          "xaxis": {
           "automargin": true,
           "gridcolor": "white",
           "linecolor": "white",
           "ticks": "",
           "title": {
            "standoff": 15
           },
           "zerolinecolor": "white",
           "zerolinewidth": 2
          },
          "yaxis": {
           "automargin": true,
           "gridcolor": "white",
           "linecolor": "white",
           "ticks": "",
           "title": {
            "standoff": 15
           },
           "zerolinecolor": "white",
           "zerolinewidth": 2
          }
         }
        },
        "title": {
         "text": "Sample_id by Change in scaffold count (%)"
        },
        "xaxis": {
         "anchor": "y",
         "domain": [
          0,
          1
         ],
         "title": {
          "text": "x"
         }
        },
        "yaxis": {
         "anchor": "x",
         "domain": [
          0,
          1
         ],
         "title": {
          "text": "y"
         }
        }
       }
      }
     },
     "metadata": {},
     "output_type": "display_data"
    },
    {
     "name": "stdout",
     "output_type": "stream",
     "text": [
      "\n"
     ]
    },
    {
     "data": {
      "application/vnd.plotly.v1+json": {
       "config": {
        "plotlyServerURL": "https://plot.ly"
       },
       "data": [
        {
         "hovertemplate": "color=idDasAlbo1<br>x=%{x}<br>y=%{y}<extra></extra>",
         "legendgroup": "idDasAlbo1",
         "marker": {
          "color": "#636efa",
          "symbol": "circle"
         },
         "mode": "markers",
         "name": "idDasAlbo1",
         "orientation": "v",
         "showlegend": true,
         "type": "scatter",
         "x": [
          "idDasAlbo1"
         ],
         "xaxis": "x",
         "y": [
          13372
         ],
         "yaxis": "y"
        },
        {
         "hovertemplate": "color=idSarCaer1<br>x=%{x}<br>y=%{y}<extra></extra>",
         "legendgroup": "idSarCaer1",
         "marker": {
          "color": "#EF553B",
          "symbol": "circle"
         },
         "mode": "markers",
         "name": "idSarCaer1",
         "orientation": "v",
         "showlegend": true,
         "type": "scatter",
         "x": [
          "idSarCaer1"
         ],
         "xaxis": "x",
         "y": [
          11013
         ],
         "yaxis": "y"
        },
        {
         "hovertemplate": "color=idLeuLate1<br>x=%{x}<br>y=%{y}<extra></extra>",
         "legendgroup": "idLeuLate1",
         "marker": {
          "color": "#00cc96",
          "symbol": "circle"
         },
         "mode": "markers",
         "name": "idLeuLate1",
         "orientation": "v",
         "showlegend": true,
         "type": "scatter",
         "x": [
          "idLeuLate1"
         ],
         "xaxis": "x",
         "y": [
          8273
         ],
         "yaxis": "y"
        },
        {
         "hovertemplate": "color=idBraLaph1<br>x=%{x}<br>y=%{y}<extra></extra>",
         "legendgroup": "idBraLaph1",
         "marker": {
          "color": "#ab63fa",
          "symbol": "circle"
         },
         "mode": "markers",
         "name": "idBraLaph1",
         "orientation": "v",
         "showlegend": true,
         "type": "scatter",
         "x": [
          "idBraLaph1"
         ],
         "xaxis": "x",
         "y": [
          13333
         ],
         "yaxis": "y"
        },
        {
         "hovertemplate": "color=idTheAcut1<br>x=%{x}<br>y=%{y}<extra></extra>",
         "legendgroup": "idTheAcut1",
         "marker": {
          "color": "#FFA15A",
          "symbol": "circle"
         },
         "mode": "markers",
         "name": "idTheAcut1",
         "orientation": "v",
         "showlegend": true,
         "type": "scatter",
         "x": [
          "idTheAcut1",
          "idTheAcut1"
         ],
         "xaxis": "x",
         "y": [
          13193,
          14375
         ],
         "yaxis": "y"
        },
        {
         "hovertemplate": "color=idMacAtri3<br>x=%{x}<br>y=%{y}<extra></extra>",
         "legendgroup": "idMacAtri3",
         "marker": {
          "color": "#19d3f3",
          "symbol": "circle"
         },
         "mode": "markers",
         "name": "idMacAtri3",
         "orientation": "v",
         "showlegend": true,
         "type": "scatter",
         "x": [
          "idMacAtri3"
         ],
         "xaxis": "x",
         "y": [
          9588
         ],
         "yaxis": "y"
        },
        {
         "hovertemplate": "color=idEriTena2<br>x=%{x}<br>y=%{y}<extra></extra>",
         "legendgroup": "idEriTena2",
         "marker": {
          "color": "#FF6692",
          "symbol": "circle"
         },
         "mode": "markers",
         "name": "idEriTena2",
         "orientation": "v",
         "showlegend": true,
         "type": "scatter",
         "x": [
          "idEriTena2"
         ],
         "xaxis": "x",
         "y": [
          11602
         ],
         "yaxis": "y"
        },
        {
         "hovertemplate": "color=idChrBici1<br>x=%{x}<br>y=%{y}<extra></extra>",
         "legendgroup": "idChrBici1",
         "marker": {
          "color": "#B6E880",
          "symbol": "circle"
         },
         "mode": "markers",
         "name": "idChrBici1",
         "orientation": "v",
         "showlegend": true,
         "type": "scatter",
         "x": [
          "idChrBici1",
          "idChrBici1"
         ],
         "xaxis": "x",
         "y": [
          12825,
          11364
         ],
         "yaxis": "y"
        },
        {
         "hovertemplate": "color=idCisGlob1<br>x=%{x}<br>y=%{y}<extra></extra>",
         "legendgroup": "idCisGlob1",
         "marker": {
          "color": "#FF97FF",
          "symbol": "circle"
         },
         "mode": "markers",
         "name": "idCisGlob1",
         "orientation": "v",
         "showlegend": true,
         "type": "scatter",
         "x": [
          "idCisGlob1",
          "idCisGlob1",
          "idCisGlob1"
         ],
         "xaxis": "x",
         "y": [
          13509,
          14065,
          8858
         ],
         "yaxis": "y"
        },
        {
         "hovertemplate": "color=idPlaAlba1<br>x=%{x}<br>y=%{y}<extra></extra>",
         "legendgroup": "idPlaAlba1",
         "marker": {
          "color": "#FECB52",
          "symbol": "circle"
         },
         "mode": "markers",
         "name": "idPlaAlba1",
         "orientation": "v",
         "showlegend": true,
         "type": "scatter",
         "x": [
          "idPlaAlba1",
          "idPlaAlba1"
         ],
         "xaxis": "x",
         "y": [
          17142,
          15339
         ],
         "yaxis": "y"
        },
        {
         "hovertemplate": "color=idBibMarc1<br>x=%{x}<br>y=%{y}<extra></extra>",
         "legendgroup": "idBibMarc1",
         "marker": {
          "color": "#636efa",
          "symbol": "circle"
         },
         "mode": "markers",
         "name": "idBibMarc1",
         "orientation": "v",
         "showlegend": true,
         "type": "scatter",
         "x": [
          "idBibMarc1"
         ],
         "xaxis": "x",
         "y": [
          7568
         ],
         "yaxis": "y"
        },
        {
         "hovertemplate": "color=idEupLati1<br>x=%{x}<br>y=%{y}<extra></extra>",
         "legendgroup": "idEupLati1",
         "marker": {
          "color": "#EF553B",
          "symbol": "circle"
         },
         "mode": "markers",
         "name": "idEupLati1",
         "orientation": "v",
         "showlegend": true,
         "type": "scatter",
         "x": [
          "idEupLati1",
          "idEupLati1"
         ],
         "xaxis": "x",
         "y": [
          12565,
          14750
         ],
         "yaxis": "y"
        },
        {
         "hovertemplate": "color=idCluTigr1<br>x=%{x}<br>y=%{y}<extra></extra>",
         "legendgroup": "idCluTigr1",
         "marker": {
          "color": "#00cc96",
          "symbol": "circle"
         },
         "mode": "markers",
         "name": "idCluTigr1",
         "orientation": "v",
         "showlegend": true,
         "type": "scatter",
         "x": [
          "idCluTigr1",
          "idCluTigr1"
         ],
         "xaxis": "x",
         "y": [
          15666,
          17216
         ],
         "yaxis": "y"
        },
        {
         "hovertemplate": "color=idBomDisc1<br>x=%{x}<br>y=%{y}<extra></extra>",
         "legendgroup": "idBomDisc1",
         "marker": {
          "color": "#ab63fa",
          "symbol": "circle"
         },
         "mode": "markers",
         "name": "idBomDisc1",
         "orientation": "v",
         "showlegend": true,
         "type": "scatter",
         "x": [
          "idBomDisc1"
         ],
         "xaxis": "x",
         "y": [
          8846
         ],
         "yaxis": "y"
        },
        {
         "hovertemplate": "color=idPheCory1<br>x=%{x}<br>y=%{y}<extra></extra>",
         "legendgroup": "idPheCory1",
         "marker": {
          "color": "#FFA15A",
          "symbol": "circle"
         },
         "mode": "markers",
         "name": "idPheCory1",
         "orientation": "v",
         "showlegend": true,
         "type": "scatter",
         "x": [
          "idPheCory1"
         ],
         "xaxis": "x",
         "y": [
          11886
         ],
         "yaxis": "y"
        },
        {
         "hovertemplate": "color=idPolAmen1<br>x=%{x}<br>y=%{y}<extra></extra>",
         "legendgroup": "idPolAmen1",
         "marker": {
          "color": "#19d3f3",
          "symbol": "circle"
         },
         "mode": "markers",
         "name": "idPolAmen1",
         "orientation": "v",
         "showlegend": true,
         "type": "scatter",
         "x": [
          "idPolAmen1",
          "idPolAmen1",
          "idPolAmen1"
         ],
         "xaxis": "x",
         "y": [
          14838,
          12816,
          12737
         ],
         "yaxis": "y"
        },
        {
         "hovertemplate": "color=idEriArbu1<br>x=%{x}<br>y=%{y}<extra></extra>",
         "legendgroup": "idEriArbu1",
         "marker": {
          "color": "#FF6692",
          "symbol": "circle"
         },
         "mode": "markers",
         "name": "idEriArbu1",
         "orientation": "v",
         "showlegend": true,
         "type": "scatter",
         "x": [
          "idEriArbu1"
         ],
         "xaxis": "x",
         "y": [
          13656
         ],
         "yaxis": "y"
        },
        {
         "hovertemplate": "color=idCriBerb1<br>x=%{x}<br>y=%{y}<extra></extra>",
         "legendgroup": "idCriBerb1",
         "marker": {
          "color": "#B6E880",
          "symbol": "circle"
         },
         "mode": "markers",
         "name": "idCriBerb1",
         "orientation": "v",
         "showlegend": true,
         "type": "scatter",
         "x": [
          "idCriBerb1"
         ],
         "xaxis": "x",
         "y": [
          11614
         ],
         "yaxis": "y"
        },
        {
         "hovertemplate": "color=idPolAngu1<br>x=%{x}<br>y=%{y}<extra></extra>",
         "legendgroup": "idPolAngu1",
         "marker": {
          "color": "#FF97FF",
          "symbol": "circle"
         },
         "mode": "markers",
         "name": "idPolAngu1",
         "orientation": "v",
         "showlegend": true,
         "type": "scatter",
         "x": [
          "idPolAngu1",
          "idPolAngu1"
         ],
         "xaxis": "x",
         "y": [
          14956,
          12778
         ],
         "yaxis": "y"
        },
        {
         "hovertemplate": "color=idXylSylv2<br>x=%{x}<br>y=%{y}<extra></extra>",
         "legendgroup": "idXylSylv2",
         "marker": {
          "color": "#FECB52",
          "symbol": "circle"
         },
         "mode": "markers",
         "name": "idXylSylv2",
         "orientation": "v",
         "showlegend": true,
         "type": "scatter",
         "x": [
          "idXylSylv2"
         ],
         "xaxis": "x",
         "y": [
          14128
         ],
         "yaxis": "y"
        },
        {
         "hovertemplate": "color=idEupCoro1<br>x=%{x}<br>y=%{y}<extra></extra>",
         "legendgroup": "idEupCoro1",
         "marker": {
          "color": "#636efa",
          "symbol": "circle"
         },
         "mode": "markers",
         "name": "idEupCoro1",
         "orientation": "v",
         "showlegend": true,
         "type": "scatter",
         "x": [
          "idEupCoro1"
         ],
         "xaxis": "x",
         "y": [
          11092
         ],
         "yaxis": "y"
        },
        {
         "hovertemplate": "color=idSyrPipi1<br>x=%{x}<br>y=%{y}<extra></extra>",
         "legendgroup": "idSyrPipi1",
         "marker": {
          "color": "#EF553B",
          "symbol": "circle"
         },
         "mode": "markers",
         "name": "idSyrPipi1",
         "orientation": "v",
         "showlegend": true,
         "type": "scatter",
         "x": [
          "idSyrPipi1"
         ],
         "xaxis": "x",
         "y": [
          13511
         ],
         "yaxis": "y"
        },
        {
         "hovertemplate": "color=idXanPedi1<br>x=%{x}<br>y=%{y}<extra></extra>",
         "legendgroup": "idXanPedi1",
         "marker": {
          "color": "#00cc96",
          "symbol": "circle"
         },
         "mode": "markers",
         "name": "idXanPedi1",
         "orientation": "v",
         "showlegend": true,
         "type": "scatter",
         "x": [
          "idXanPedi1",
          "idXanPedi1"
         ],
         "xaxis": "x",
         "y": [
          11685,
          11257
         ],
         "yaxis": "y"
        },
        {
         "hovertemplate": "color=idMyoTess1<br>x=%{x}<br>y=%{y}<extra></extra>",
         "legendgroup": "idMyoTess1",
         "marker": {
          "color": "#ab63fa",
          "symbol": "circle"
         },
         "mode": "markers",
         "name": "idMyoTess1",
         "orientation": "v",
         "showlegend": true,
         "type": "scatter",
         "x": [
          "idMyoTess1"
         ],
         "xaxis": "x",
         "y": [
          13115
         ],
         "yaxis": "y"
        },
        {
         "hovertemplate": "color=idChePaga1<br>x=%{x}<br>y=%{y}<extra></extra>",
         "legendgroup": "idChePaga1",
         "marker": {
          "color": "#FFA15A",
          "symbol": "circle"
         },
         "mode": "markers",
         "name": "idChePaga1",
         "orientation": "v",
         "showlegend": true,
         "type": "scatter",
         "x": [
          "idChePaga1"
         ],
         "xaxis": "x",
         "y": [
          13877
         ],
         "yaxis": "y"
        },
        {
         "hovertemplate": "color=idBomMajo1<br>x=%{x}<br>y=%{y}<extra></extra>",
         "legendgroup": "idBomMajo1",
         "marker": {
          "color": "#19d3f3",
          "symbol": "circle"
         },
         "mode": "markers",
         "name": "idBomMajo1",
         "orientation": "v",
         "showlegend": true,
         "type": "scatter",
         "x": [
          "idBomMajo1"
         ],
         "xaxis": "x",
         "y": [
          11145
         ],
         "yaxis": "y"
        },
        {
         "hovertemplate": "color=idBelPand1<br>x=%{x}<br>y=%{y}<extra></extra>",
         "legendgroup": "idBelPand1",
         "marker": {
          "color": "#FF6692",
          "symbol": "circle"
         },
         "mode": "markers",
         "name": "idBelPand1",
         "orientation": "v",
         "showlegend": true,
         "type": "scatter",
         "x": [
          "idBelPand1",
          "idBelPand1"
         ],
         "xaxis": "x",
         "y": [
          14581,
          14991
         ],
         "yaxis": "y"
        },
        {
         "hovertemplate": "color=idTacFera2<br>x=%{x}<br>y=%{y}<extra></extra>",
         "legendgroup": "idTacFera2",
         "marker": {
          "color": "#B6E880",
          "symbol": "circle"
         },
         "mode": "markers",
         "name": "idTacFera2",
         "orientation": "v",
         "showlegend": true,
         "type": "scatter",
         "x": [
          "idTacFera2"
         ],
         "xaxis": "x",
         "y": [
          16180
         ],
         "yaxis": "y"
        },
        {
         "hovertemplate": "color=idEpiSucc1<br>x=%{x}<br>y=%{y}<extra></extra>",
         "legendgroup": "idEpiSucc1",
         "marker": {
          "color": "#FF97FF",
          "symbol": "circle"
         },
         "mode": "markers",
         "name": "idEpiSucc1",
         "orientation": "v",
         "showlegend": true,
         "type": "scatter",
         "x": [
          "idEpiSucc1"
         ],
         "xaxis": "x",
         "y": [
          12937
         ],
         "yaxis": "y"
        },
        {
         "hovertemplate": "color=idCheUrba1<br>x=%{x}<br>y=%{y}<extra></extra>",
         "legendgroup": "idCheUrba1",
         "marker": {
          "color": "#FECB52",
          "symbol": "circle"
         },
         "mode": "markers",
         "name": "idCheUrba1",
         "orientation": "v",
         "showlegend": true,
         "type": "scatter",
         "x": [
          "idCheUrba1"
         ],
         "xaxis": "x",
         "y": [
          9792
         ],
         "yaxis": "y"
        },
        {
         "hovertemplate": "color=idNepFlae1<br>x=%{x}<br>y=%{y}<extra></extra>",
         "legendgroup": "idNepFlae1",
         "marker": {
          "color": "#636efa",
          "symbol": "circle"
         },
         "mode": "markers",
         "name": "idNepFlae1",
         "orientation": "v",
         "showlegend": true,
         "type": "scatter",
         "x": [
          "idNepFlae1",
          "idNepFlae1"
         ],
         "xaxis": "x",
         "y": [
          7991,
          10126
         ],
         "yaxis": "y"
        },
        {
         "hovertemplate": "color=idNowFero1<br>x=%{x}<br>y=%{y}<extra></extra>",
         "legendgroup": "idNowFero1",
         "marker": {
          "color": "#EF553B",
          "symbol": "circle"
         },
         "mode": "markers",
         "name": "idNowFero1",
         "orientation": "v",
         "showlegend": true,
         "type": "scatter",
         "x": [
          "idNowFero1"
         ],
         "xaxis": "x",
         "y": [
          14551
         ],
         "yaxis": "y"
        },
        {
         "hovertemplate": "color=idEpiGros1<br>x=%{x}<br>y=%{y}<extra></extra>",
         "legendgroup": "idEpiGros1",
         "marker": {
          "color": "#00cc96",
          "symbol": "circle"
         },
         "mode": "markers",
         "name": "idEpiGros1",
         "orientation": "v",
         "showlegend": true,
         "type": "scatter",
         "x": [
          "idEpiGros1"
         ],
         "xaxis": "x",
         "y": [
          13042
         ],
         "yaxis": "y"
        },
        {
         "hovertemplate": "color=idVolInfl1<br>x=%{x}<br>y=%{y}<extra></extra>",
         "legendgroup": "idVolInfl1",
         "marker": {
          "color": "#ab63fa",
          "symbol": "circle"
         },
         "mode": "markers",
         "name": "idVolInfl1",
         "orientation": "v",
         "showlegend": true,
         "type": "scatter",
         "x": [
          "idVolInfl1",
          "idVolInfl1"
         ],
         "xaxis": "x",
         "y": [
          10465,
          14531
         ],
         "yaxis": "y"
        },
        {
         "hovertemplate": "color=idRhiCamp1<br>x=%{x}<br>y=%{y}<extra></extra>",
         "legendgroup": "idRhiCamp1",
         "marker": {
          "color": "#FFA15A",
          "symbol": "circle"
         },
         "mode": "markers",
         "name": "idRhiCamp1",
         "orientation": "v",
         "showlegend": true,
         "type": "scatter",
         "x": [
          "idRhiCamp1"
         ],
         "xaxis": "x",
         "y": [
          15591
         ],
         "yaxis": "y"
        },
        {
         "hovertemplate": "color=idSicFerr1<br>x=%{x}<br>y=%{y}<extra></extra>",
         "legendgroup": "idSicFerr1",
         "marker": {
          "color": "#19d3f3",
          "symbol": "circle"
         },
         "mode": "markers",
         "name": "idSicFerr1",
         "orientation": "v",
         "showlegend": true,
         "type": "scatter",
         "x": [
          "idSicFerr1"
         ],
         "xaxis": "x",
         "y": [
          12480
         ],
         "yaxis": "y"
        },
        {
         "hovertemplate": "color=idEriSepu1<br>x=%{x}<br>y=%{y}<extra></extra>",
         "legendgroup": "idEriSepu1",
         "marker": {
          "color": "#FF6692",
          "symbol": "circle"
         },
         "mode": "markers",
         "name": "idEriSepu1",
         "orientation": "v",
         "showlegend": true,
         "type": "scatter",
         "x": [
          "idEriSepu1"
         ],
         "xaxis": "x",
         "y": [
          11400
         ],
         "yaxis": "y"
        },
        {
         "hovertemplate": "color=idMyaFlor2<br>x=%{x}<br>y=%{y}<extra></extra>",
         "legendgroup": "idMyaFlor2",
         "marker": {
          "color": "#B6E880",
          "symbol": "circle"
         },
         "mode": "markers",
         "name": "idMyaFlor2",
         "orientation": "v",
         "showlegend": true,
         "type": "scatter",
         "x": [
          "idMyaFlor2"
         ],
         "xaxis": "x",
         "y": [
          15511
         ],
         "yaxis": "y"
        },
        {
         "hovertemplate": "color=idSphTaen1<br>x=%{x}<br>y=%{y}<extra></extra>",
         "legendgroup": "idSphTaen1",
         "marker": {
          "color": "#FF97FF",
          "symbol": "circle"
         },
         "mode": "markers",
         "name": "idSphTaen1",
         "orientation": "v",
         "showlegend": true,
         "type": "scatter",
         "x": [
          "idSphTaen1"
         ],
         "xaxis": "x",
         "y": [
          13944
         ],
         "yaxis": "y"
        },
        {
         "hovertemplate": "color=idCorMarg1<br>x=%{x}<br>y=%{y}<extra></extra>",
         "legendgroup": "idCorMarg1",
         "marker": {
          "color": "#FECB52",
          "symbol": "circle"
         },
         "mode": "markers",
         "name": "idCorMarg1",
         "orientation": "v",
         "showlegend": true,
         "type": "scatter",
         "x": [
          "idCorMarg1"
         ],
         "xaxis": "x",
         "y": [
          11149
         ],
         "yaxis": "y"
        },
        {
         "hovertemplate": "color=idGymRotn1<br>x=%{x}<br>y=%{y}<extra></extra>",
         "legendgroup": "idGymRotn1",
         "marker": {
          "color": "#636efa",
          "symbol": "circle"
         },
         "mode": "markers",
         "name": "idGymRotn1",
         "orientation": "v",
         "showlegend": true,
         "type": "scatter",
         "x": [
          "idGymRotn1"
         ],
         "xaxis": "x",
         "y": [
          12025
         ],
         "yaxis": "y"
        },
        {
         "hovertemplate": "color=idEriPert2<br>x=%{x}<br>y=%{y}<extra></extra>",
         "legendgroup": "idEriPert2",
         "marker": {
          "color": "#EF553B",
          "symbol": "circle"
         },
         "mode": "markers",
         "name": "idEriPert2",
         "orientation": "v",
         "showlegend": true,
         "type": "scatter",
         "x": [
          "idEriPert2"
         ],
         "xaxis": "x",
         "y": [
          12803
         ],
         "yaxis": "y"
        },
        {
         "hovertemplate": "color=idProAzur1<br>x=%{x}<br>y=%{y}<extra></extra>",
         "legendgroup": "idProAzur1",
         "marker": {
          "color": "#00cc96",
          "symbol": "circle"
         },
         "mode": "markers",
         "name": "idProAzur1",
         "orientation": "v",
         "showlegend": true,
         "type": "scatter",
         "x": [
          "idProAzur1",
          "idProAzur1"
         ],
         "xaxis": "x",
         "y": [
          16255,
          12899
         ],
         "yaxis": "y"
        },
        {
         "hovertemplate": "color=idScaPyra1<br>x=%{x}<br>y=%{y}<extra></extra>",
         "legendgroup": "idScaPyra1",
         "marker": {
          "color": "#ab63fa",
          "symbol": "circle"
         },
         "mode": "markers",
         "name": "idScaPyra1",
         "orientation": "v",
         "showlegend": true,
         "type": "scatter",
         "x": [
          "idScaPyra1",
          "idScaPyra1"
         ],
         "xaxis": "x",
         "y": [
          15327,
          14227
         ],
         "yaxis": "y"
        },
        {
         "hovertemplate": "color=idTheAtra2<br>x=%{x}<br>y=%{y}<extra></extra>",
         "legendgroup": "idTheAtra2",
         "marker": {
          "color": "#FFA15A",
          "symbol": "circle"
         },
         "mode": "markers",
         "name": "idTheAtra2",
         "orientation": "v",
         "showlegend": true,
         "type": "scatter",
         "x": [
          "idTheAtra2"
         ],
         "xaxis": "x",
         "y": [
          16947
         ],
         "yaxis": "y"
        },
        {
         "hovertemplate": "color=idEpiBalt1<br>x=%{x}<br>y=%{y}<extra></extra>",
         "legendgroup": "idEpiBalt1",
         "marker": {
          "color": "#19d3f3",
          "symbol": "circle"
         },
         "mode": "markers",
         "name": "idEpiBalt1",
         "orientation": "v",
         "showlegend": true,
         "type": "scatter",
         "x": [
          "idEpiBalt1",
          "idEpiBalt1"
         ],
         "xaxis": "x",
         "y": [
          13003,
          15340
         ],
         "yaxis": "y"
        },
        {
         "hovertemplate": "color=idCheVulp2<br>x=%{x}<br>y=%{y}<extra></extra>",
         "legendgroup": "idCheVulp2",
         "marker": {
          "color": "#FF6692",
          "symbol": "circle"
         },
         "mode": "markers",
         "name": "idCheVulp2",
         "orientation": "v",
         "showlegend": true,
         "type": "scatter",
         "x": [
          "idCheVulp2"
         ],
         "xaxis": "x",
         "y": [
          14420
         ],
         "yaxis": "y"
        },
        {
         "hovertemplate": "color=idVolInan1<br>x=%{x}<br>y=%{y}<extra></extra>",
         "legendgroup": "idVolInan1",
         "marker": {
          "color": "#B6E880",
          "symbol": "circle"
         },
         "mode": "markers",
         "name": "idVolInan1",
         "orientation": "v",
         "showlegend": true,
         "type": "scatter",
         "x": [
          "idVolInan1",
          "idVolInan1",
          "idVolInan1"
         ],
         "xaxis": "x",
         "y": [
          11000,
          12769,
          15046
         ],
         "yaxis": "y"
        },
        {
         "hovertemplate": "color=idSarVari1<br>x=%{x}<br>y=%{y}<extra></extra>",
         "legendgroup": "idSarVari1",
         "marker": {
          "color": "#FF97FF",
          "symbol": "circle"
         },
         "mode": "markers",
         "name": "idSarVari1",
         "orientation": "v",
         "showlegend": true,
         "type": "scatter",
         "x": [
          "idSarVari1",
          "idSarVari1"
         ],
         "xaxis": "x",
         "y": [
          12783,
          12481
         ],
         "yaxis": "y"
        },
        {
         "hovertemplate": "color=idStoLuna1<br>x=%{x}<br>y=%{y}<extra></extra>",
         "legendgroup": "idStoLuna1",
         "marker": {
          "color": "#FECB52",
          "symbol": "circle"
         },
         "mode": "markers",
         "name": "idStoLuna1",
         "orientation": "v",
         "showlegend": true,
         "type": "scatter",
         "x": [
          "idStoLuna1",
          "idStoLuna1"
         ],
         "xaxis": "x",
         "y": [
          14399,
          14306
         ],
         "yaxis": "y"
        },
        {
         "hovertemplate": "color=idCalVomi1<br>x=%{x}<br>y=%{y}<extra></extra>",
         "legendgroup": "idCalVomi1",
         "marker": {
          "color": "#636efa",
          "symbol": "circle"
         },
         "mode": "markers",
         "name": "idCalVomi1",
         "orientation": "v",
         "showlegend": true,
         "type": "scatter",
         "x": [
          "idCalVomi1",
          "idCalVomi1"
         ],
         "xaxis": "x",
         "y": [
          15271,
          9885
         ],
         "yaxis": "y"
        },
        {
         "hovertemplate": "color=idSarRose1<br>x=%{x}<br>y=%{y}<extra></extra>",
         "legendgroup": "idSarRose1",
         "marker": {
          "color": "#EF553B",
          "symbol": "circle"
         },
         "mode": "markers",
         "name": "idSarRose1",
         "orientation": "v",
         "showlegend": true,
         "type": "scatter",
         "x": [
          "idSarRose1",
          "idSarRose1"
         ],
         "xaxis": "x",
         "y": [
          11296,
          14109
         ],
         "yaxis": "y"
        },
        {
         "hovertemplate": "color=idTacLuri1<br>x=%{x}<br>y=%{y}<extra></extra>",
         "legendgroup": "idTacLuri1",
         "marker": {
          "color": "#00cc96",
          "symbol": "circle"
         },
         "mode": "markers",
         "name": "idTacLuri1",
         "orientation": "v",
         "showlegend": true,
         "type": "scatter",
         "x": [
          "idTacLuri1"
         ],
         "xaxis": "x",
         "y": [
          12405
         ],
         "yaxis": "y"
        },
        {
         "hovertemplate": "color=idMelMell2<br>x=%{x}<br>y=%{y}<extra></extra>",
         "legendgroup": "idMelMell2",
         "marker": {
          "color": "#ab63fa",
          "symbol": "circle"
         },
         "mode": "markers",
         "name": "idMelMell2",
         "orientation": "v",
         "showlegend": true,
         "type": "scatter",
         "x": [
          "idMelMell2",
          "idMelMell2"
         ],
         "xaxis": "x",
         "y": [
          15181,
          12659
         ],
         "yaxis": "y"
        },
        {
         "hovertemplate": "color=idSarSubv1<br>x=%{x}<br>y=%{y}<extra></extra>",
         "legendgroup": "idSarSubv1",
         "marker": {
          "color": "#FFA15A",
          "symbol": "circle"
         },
         "mode": "markers",
         "name": "idSarSubv1",
         "orientation": "v",
         "showlegend": true,
         "type": "scatter",
         "x": [
          "idSarSubv1",
          "idSarSubv1"
         ],
         "xaxis": "x",
         "y": [
          17503,
          9298
         ],
         "yaxis": "y"
        },
        {
         "hovertemplate": "color=idPhyMeln1<br>x=%{x}<br>y=%{y}<extra></extra>",
         "legendgroup": "idPhyMeln1",
         "marker": {
          "color": "#19d3f3",
          "symbol": "circle"
         },
         "mode": "markers",
         "name": "idPhyMeln1",
         "orientation": "v",
         "showlegend": true,
         "type": "scatter",
         "x": [
          "idPhyMeln1"
         ],
         "xaxis": "x",
         "y": [
          15878
         ],
         "yaxis": "y"
        }
       ],
       "layout": {
        "legend": {
         "title": {
          "text": "color"
         },
         "tracegroupgap": 0
        },
        "template": {
         "data": {
          "bar": [
           {
            "error_x": {
             "color": "#2a3f5f"
            },
            "error_y": {
             "color": "#2a3f5f"
            },
            "marker": {
             "line": {
              "color": "#E5ECF6",
              "width": 0.5
             },
             "pattern": {
              "fillmode": "overlay",
              "size": 10,
              "solidity": 0.2
             }
            },
            "type": "bar"
           }
          ],
          "barpolar": [
           {
            "marker": {
             "line": {
              "color": "#E5ECF6",
              "width": 0.5
             },
             "pattern": {
              "fillmode": "overlay",
              "size": 10,
              "solidity": 0.2
             }
            },
            "type": "barpolar"
           }
          ],
          "carpet": [
           {
            "aaxis": {
             "endlinecolor": "#2a3f5f",
             "gridcolor": "white",
             "linecolor": "white",
             "minorgridcolor": "white",
             "startlinecolor": "#2a3f5f"
            },
            "baxis": {
             "endlinecolor": "#2a3f5f",
             "gridcolor": "white",
             "linecolor": "white",
             "minorgridcolor": "white",
             "startlinecolor": "#2a3f5f"
            },
            "type": "carpet"
           }
          ],
          "choropleth": [
           {
            "colorbar": {
             "outlinewidth": 0,
             "ticks": ""
            },
            "type": "choropleth"
           }
          ],
          "contour": [
           {
            "colorbar": {
             "outlinewidth": 0,
             "ticks": ""
            },
            "colorscale": [
             [
              0,
              "#0d0887"
             ],
             [
              0.1111111111111111,
              "#46039f"
             ],
             [
              0.2222222222222222,
              "#7201a8"
             ],
             [
              0.3333333333333333,
              "#9c179e"
             ],
             [
              0.4444444444444444,
              "#bd3786"
             ],
             [
              0.5555555555555556,
              "#d8576b"
             ],
             [
              0.6666666666666666,
              "#ed7953"
             ],
             [
              0.7777777777777778,
              "#fb9f3a"
             ],
             [
              0.8888888888888888,
              "#fdca26"
             ],
             [
              1,
              "#f0f921"
             ]
            ],
            "type": "contour"
           }
          ],
          "contourcarpet": [
           {
            "colorbar": {
             "outlinewidth": 0,
             "ticks": ""
            },
            "type": "contourcarpet"
           }
          ],
          "heatmap": [
           {
            "colorbar": {
             "outlinewidth": 0,
             "ticks": ""
            },
            "colorscale": [
             [
              0,
              "#0d0887"
             ],
             [
              0.1111111111111111,
              "#46039f"
             ],
             [
              0.2222222222222222,
              "#7201a8"
             ],
             [
              0.3333333333333333,
              "#9c179e"
             ],
             [
              0.4444444444444444,
              "#bd3786"
             ],
             [
              0.5555555555555556,
              "#d8576b"
             ],
             [
              0.6666666666666666,
              "#ed7953"
             ],
             [
              0.7777777777777778,
              "#fb9f3a"
             ],
             [
              0.8888888888888888,
              "#fdca26"
             ],
             [
              1,
              "#f0f921"
             ]
            ],
            "type": "heatmap"
           }
          ],
          "heatmapgl": [
           {
            "colorbar": {
             "outlinewidth": 0,
             "ticks": ""
            },
            "colorscale": [
             [
              0,
              "#0d0887"
             ],
             [
              0.1111111111111111,
              "#46039f"
             ],
             [
              0.2222222222222222,
              "#7201a8"
             ],
             [
              0.3333333333333333,
              "#9c179e"
             ],
             [
              0.4444444444444444,
              "#bd3786"
             ],
             [
              0.5555555555555556,
              "#d8576b"
             ],
             [
              0.6666666666666666,
              "#ed7953"
             ],
             [
              0.7777777777777778,
              "#fb9f3a"
             ],
             [
              0.8888888888888888,
              "#fdca26"
             ],
             [
              1,
              "#f0f921"
             ]
            ],
            "type": "heatmapgl"
           }
          ],
          "histogram": [
           {
            "marker": {
             "pattern": {
              "fillmode": "overlay",
              "size": 10,
              "solidity": 0.2
             }
            },
            "type": "histogram"
           }
          ],
          "histogram2d": [
           {
            "colorbar": {
             "outlinewidth": 0,
             "ticks": ""
            },
            "colorscale": [
             [
              0,
              "#0d0887"
             ],
             [
              0.1111111111111111,
              "#46039f"
             ],
             [
              0.2222222222222222,
              "#7201a8"
             ],
             [
              0.3333333333333333,
              "#9c179e"
             ],
             [
              0.4444444444444444,
              "#bd3786"
             ],
             [
              0.5555555555555556,
              "#d8576b"
             ],
             [
              0.6666666666666666,
              "#ed7953"
             ],
             [
              0.7777777777777778,
              "#fb9f3a"
             ],
             [
              0.8888888888888888,
              "#fdca26"
             ],
             [
              1,
              "#f0f921"
             ]
            ],
            "type": "histogram2d"
           }
          ],
          "histogram2dcontour": [
           {
            "colorbar": {
             "outlinewidth": 0,
             "ticks": ""
            },
            "colorscale": [
             [
              0,
              "#0d0887"
             ],
             [
              0.1111111111111111,
              "#46039f"
             ],
             [
              0.2222222222222222,
              "#7201a8"
             ],
             [
              0.3333333333333333,
              "#9c179e"
             ],
             [
              0.4444444444444444,
              "#bd3786"
             ],
             [
              0.5555555555555556,
              "#d8576b"
             ],
             [
              0.6666666666666666,
              "#ed7953"
             ],
             [
              0.7777777777777778,
              "#fb9f3a"
             ],
             [
              0.8888888888888888,
              "#fdca26"
             ],
             [
              1,
              "#f0f921"
             ]
            ],
            "type": "histogram2dcontour"
           }
          ],
          "mesh3d": [
           {
            "colorbar": {
             "outlinewidth": 0,
             "ticks": ""
            },
            "type": "mesh3d"
           }
          ],
          "parcoords": [
           {
            "line": {
             "colorbar": {
              "outlinewidth": 0,
              "ticks": ""
             }
            },
            "type": "parcoords"
           }
          ],
          "pie": [
           {
            "automargin": true,
            "type": "pie"
           }
          ],
          "scatter": [
           {
            "fillpattern": {
             "fillmode": "overlay",
             "size": 10,
             "solidity": 0.2
            },
            "type": "scatter"
           }
          ],
          "scatter3d": [
           {
            "line": {
             "colorbar": {
              "outlinewidth": 0,
              "ticks": ""
             }
            },
            "marker": {
             "colorbar": {
              "outlinewidth": 0,
              "ticks": ""
             }
            },
            "type": "scatter3d"
           }
          ],
          "scattercarpet": [
           {
            "marker": {
             "colorbar": {
              "outlinewidth": 0,
              "ticks": ""
             }
            },
            "type": "scattercarpet"
           }
          ],
          "scattergeo": [
           {
            "marker": {
             "colorbar": {
              "outlinewidth": 0,
              "ticks": ""
             }
            },
            "type": "scattergeo"
           }
          ],
          "scattergl": [
           {
            "marker": {
             "colorbar": {
              "outlinewidth": 0,
              "ticks": ""
             }
            },
            "type": "scattergl"
           }
          ],
          "scattermapbox": [
           {
            "marker": {
             "colorbar": {
              "outlinewidth": 0,
              "ticks": ""
             }
            },
            "type": "scattermapbox"
           }
          ],
          "scatterpolar": [
           {
            "marker": {
             "colorbar": {
              "outlinewidth": 0,
              "ticks": ""
             }
            },
            "type": "scatterpolar"
           }
          ],
          "scatterpolargl": [
           {
            "marker": {
             "colorbar": {
              "outlinewidth": 0,
              "ticks": ""
             }
            },
            "type": "scatterpolargl"
           }
          ],
          "scatterternary": [
           {
            "marker": {
             "colorbar": {
              "outlinewidth": 0,
              "ticks": ""
             }
            },
            "type": "scatterternary"
           }
          ],
          "surface": [
           {
            "colorbar": {
             "outlinewidth": 0,
             "ticks": ""
            },
            "colorscale": [
             [
              0,
              "#0d0887"
             ],
             [
              0.1111111111111111,
              "#46039f"
             ],
             [
              0.2222222222222222,
              "#7201a8"
             ],
             [
              0.3333333333333333,
              "#9c179e"
             ],
             [
              0.4444444444444444,
              "#bd3786"
             ],
             [
              0.5555555555555556,
              "#d8576b"
             ],
             [
              0.6666666666666666,
              "#ed7953"
             ],
             [
              0.7777777777777778,
              "#fb9f3a"
             ],
             [
              0.8888888888888888,
              "#fdca26"
             ],
             [
              1,
              "#f0f921"
             ]
            ],
            "type": "surface"
           }
          ],
          "table": [
           {
            "cells": {
             "fill": {
              "color": "#EBF0F8"
             },
             "line": {
              "color": "white"
             }
            },
            "header": {
             "fill": {
              "color": "#C8D4E3"
             },
             "line": {
              "color": "white"
             }
            },
            "type": "table"
           }
          ]
         },
         "layout": {
          "annotationdefaults": {
           "arrowcolor": "#2a3f5f",
           "arrowhead": 0,
           "arrowwidth": 1
          },
          "autotypenumbers": "strict",
          "coloraxis": {
           "colorbar": {
            "outlinewidth": 0,
            "ticks": ""
           }
          },
          "colorscale": {
           "diverging": [
            [
             0,
             "#8e0152"
            ],
            [
             0.1,
             "#c51b7d"
            ],
            [
             0.2,
             "#de77ae"
            ],
            [
             0.3,
             "#f1b6da"
            ],
            [
             0.4,
             "#fde0ef"
            ],
            [
             0.5,
             "#f7f7f7"
            ],
            [
             0.6,
             "#e6f5d0"
            ],
            [
             0.7,
             "#b8e186"
            ],
            [
             0.8,
             "#7fbc41"
            ],
            [
             0.9,
             "#4d9221"
            ],
            [
             1,
             "#276419"
            ]
           ],
           "sequential": [
            [
             0,
             "#0d0887"
            ],
            [
             0.1111111111111111,
             "#46039f"
            ],
            [
             0.2222222222222222,
             "#7201a8"
            ],
            [
             0.3333333333333333,
             "#9c179e"
            ],
            [
             0.4444444444444444,
             "#bd3786"
            ],
            [
             0.5555555555555556,
             "#d8576b"
            ],
            [
             0.6666666666666666,
             "#ed7953"
            ],
            [
             0.7777777777777778,
             "#fb9f3a"
            ],
            [
             0.8888888888888888,
             "#fdca26"
            ],
            [
             1,
             "#f0f921"
            ]
           ],
           "sequentialminus": [
            [
             0,
             "#0d0887"
            ],
            [
             0.1111111111111111,
             "#46039f"
            ],
            [
             0.2222222222222222,
             "#7201a8"
            ],
            [
             0.3333333333333333,
             "#9c179e"
            ],
            [
             0.4444444444444444,
             "#bd3786"
            ],
            [
             0.5555555555555556,
             "#d8576b"
            ],
            [
             0.6666666666666666,
             "#ed7953"
            ],
            [
             0.7777777777777778,
             "#fb9f3a"
            ],
            [
             0.8888888888888888,
             "#fdca26"
            ],
            [
             1,
             "#f0f921"
            ]
           ]
          },
          "colorway": [
           "#636efa",
           "#EF553B",
           "#00cc96",
           "#ab63fa",
           "#FFA15A",
           "#19d3f3",
           "#FF6692",
           "#B6E880",
           "#FF97FF",
           "#FECB52"
          ],
          "font": {
           "color": "#2a3f5f"
          },
          "geo": {
           "bgcolor": "white",
           "lakecolor": "white",
           "landcolor": "#E5ECF6",
           "showlakes": true,
           "showland": true,
           "subunitcolor": "white"
          },
          "hoverlabel": {
           "align": "left"
          },
          "hovermode": "closest",
          "mapbox": {
           "style": "light"
          },
          "paper_bgcolor": "white",
          "plot_bgcolor": "#E5ECF6",
          "polar": {
           "angularaxis": {
            "gridcolor": "white",
            "linecolor": "white",
            "ticks": ""
           },
           "bgcolor": "#E5ECF6",
           "radialaxis": {
            "gridcolor": "white",
            "linecolor": "white",
            "ticks": ""
           }
          },
          "scene": {
           "xaxis": {
            "backgroundcolor": "#E5ECF6",
            "gridcolor": "white",
            "gridwidth": 2,
            "linecolor": "white",
            "showbackground": true,
            "ticks": "",
            "zerolinecolor": "white"
           },
           "yaxis": {
            "backgroundcolor": "#E5ECF6",
            "gridcolor": "white",
            "gridwidth": 2,
            "linecolor": "white",
            "showbackground": true,
            "ticks": "",
            "zerolinecolor": "white"
           },
           "zaxis": {
            "backgroundcolor": "#E5ECF6",
            "gridcolor": "white",
            "gridwidth": 2,
            "linecolor": "white",
            "showbackground": true,
            "ticks": "",
            "zerolinecolor": "white"
           }
          },
          "shapedefaults": {
           "line": {
            "color": "#2a3f5f"
           }
          },
          "ternary": {
           "aaxis": {
            "gridcolor": "white",
            "linecolor": "white",
            "ticks": ""
           },
           "baxis": {
            "gridcolor": "white",
            "linecolor": "white",
            "ticks": ""
           },
           "bgcolor": "#E5ECF6",
           "caxis": {
            "gridcolor": "white",
            "linecolor": "white",
            "ticks": ""
           }
          },
          "title": {
           "x": 0.05
          },
          "xaxis": {
           "automargin": true,
           "gridcolor": "white",
           "linecolor": "white",
           "ticks": "",
           "title": {
            "standoff": 15
           },
           "zerolinecolor": "white",
           "zerolinewidth": 2
          },
          "yaxis": {
           "automargin": true,
           "gridcolor": "white",
           "linecolor": "white",
           "ticks": "",
           "title": {
            "standoff": 15
           },
           "zerolinecolor": "white",
           "zerolinewidth": 2
          }
         }
        },
        "title": {
         "text": "Specimen by N50 (no. of reads that contain 50% of estimated genome)"
        },
        "xaxis": {
         "anchor": "y",
         "domain": [
          0,
          1
         ],
         "title": {
          "text": "x"
         }
        },
        "yaxis": {
         "anchor": "x",
         "domain": [
          0,
          1
         ],
         "title": {
          "text": "y"
         }
        }
       }
      }
     },
     "metadata": {},
     "output_type": "display_data"
    },
    {
     "name": "stdout",
     "output_type": "stream",
     "text": [
      "\n"
     ]
    },
    {
     "data": {
      "application/vnd.plotly.v1+json": {
       "config": {
        "plotlyServerURL": "https://plot.ly"
       },
       "data": [
        {
         "hovertemplate": "color=idDasAlbo1<br>x=%{x}<br>y=%{y}<extra></extra>",
         "legendgroup": "idDasAlbo1",
         "marker": {
          "color": "#636efa",
          "symbol": "circle"
         },
         "mode": "markers",
         "name": "idDasAlbo1",
         "orientation": "v",
         "showlegend": true,
         "type": "scatter",
         "x": [
          "idDasAlbo1"
         ],
         "xaxis": "x",
         "y": [
          5537
         ],
         "yaxis": "y"
        },
        {
         "hovertemplate": "color=idSarCaer1<br>x=%{x}<br>y=%{y}<extra></extra>",
         "legendgroup": "idSarCaer1",
         "marker": {
          "color": "#EF553B",
          "symbol": "circle"
         },
         "mode": "markers",
         "name": "idSarCaer1",
         "orientation": "v",
         "showlegend": true,
         "type": "scatter",
         "x": [
          "idSarCaer1"
         ],
         "xaxis": "x",
         "y": [
          4822
         ],
         "yaxis": "y"
        },
        {
         "hovertemplate": "color=idLeuLate1<br>x=%{x}<br>y=%{y}<extra></extra>",
         "legendgroup": "idLeuLate1",
         "marker": {
          "color": "#00cc96",
          "symbol": "circle"
         },
         "mode": "markers",
         "name": "idLeuLate1",
         "orientation": "v",
         "showlegend": true,
         "type": "scatter",
         "x": [
          "idLeuLate1"
         ],
         "xaxis": "x",
         "y": [
          3799
         ],
         "yaxis": "y"
        },
        {
         "hovertemplate": "color=idBraLaph1<br>x=%{x}<br>y=%{y}<extra></extra>",
         "legendgroup": "idBraLaph1",
         "marker": {
          "color": "#ab63fa",
          "symbol": "circle"
         },
         "mode": "markers",
         "name": "idBraLaph1",
         "orientation": "v",
         "showlegend": true,
         "type": "scatter",
         "x": [
          "idBraLaph1"
         ],
         "xaxis": "x",
         "y": [
          7371
         ],
         "yaxis": "y"
        },
        {
         "hovertemplate": "color=idTheAcut1<br>x=%{x}<br>y=%{y}<extra></extra>",
         "legendgroup": "idTheAcut1",
         "marker": {
          "color": "#FFA15A",
          "symbol": "circle"
         },
         "mode": "markers",
         "name": "idTheAcut1",
         "orientation": "v",
         "showlegend": true,
         "type": "scatter",
         "x": [
          "idTheAcut1",
          "idTheAcut1"
         ],
         "xaxis": "x",
         "y": [
          8400,
          8506
         ],
         "yaxis": "y"
        },
        {
         "hovertemplate": "color=idMacAtri3<br>x=%{x}<br>y=%{y}<extra></extra>",
         "legendgroup": "idMacAtri3",
         "marker": {
          "color": "#19d3f3",
          "symbol": "circle"
         },
         "mode": "markers",
         "name": "idMacAtri3",
         "orientation": "v",
         "showlegend": true,
         "type": "scatter",
         "x": [
          "idMacAtri3"
         ],
         "xaxis": "x",
         "y": [
          4394
         ],
         "yaxis": "y"
        },
        {
         "hovertemplate": "color=idEriTena2<br>x=%{x}<br>y=%{y}<extra></extra>",
         "legendgroup": "idEriTena2",
         "marker": {
          "color": "#FF6692",
          "symbol": "circle"
         },
         "mode": "markers",
         "name": "idEriTena2",
         "orientation": "v",
         "showlegend": true,
         "type": "scatter",
         "x": [
          "idEriTena2"
         ],
         "xaxis": "x",
         "y": [
          7974
         ],
         "yaxis": "y"
        },
        {
         "hovertemplate": "color=idChrBici1<br>x=%{x}<br>y=%{y}<extra></extra>",
         "legendgroup": "idChrBici1",
         "marker": {
          "color": "#B6E880",
          "symbol": "circle"
         },
         "mode": "markers",
         "name": "idChrBici1",
         "orientation": "v",
         "showlegend": true,
         "type": "scatter",
         "x": [
          "idChrBici1",
          "idChrBici1"
         ],
         "xaxis": "x",
         "y": [
          7643,
          5545
         ],
         "yaxis": "y"
        },
        {
         "hovertemplate": "color=idCisGlob1<br>x=%{x}<br>y=%{y}<extra></extra>",
         "legendgroup": "idCisGlob1",
         "marker": {
          "color": "#FF97FF",
          "symbol": "circle"
         },
         "mode": "markers",
         "name": "idCisGlob1",
         "orientation": "v",
         "showlegend": true,
         "type": "scatter",
         "x": [
          "idCisGlob1",
          "idCisGlob1",
          "idCisGlob1"
         ],
         "xaxis": "x",
         "y": [
          7060,
          8053,
          7849
         ],
         "yaxis": "y"
        },
        {
         "hovertemplate": "color=idPlaAlba1<br>x=%{x}<br>y=%{y}<extra></extra>",
         "legendgroup": "idPlaAlba1",
         "marker": {
          "color": "#FECB52",
          "symbol": "circle"
         },
         "mode": "markers",
         "name": "idPlaAlba1",
         "orientation": "v",
         "showlegend": true,
         "type": "scatter",
         "x": [
          "idPlaAlba1",
          "idPlaAlba1"
         ],
         "xaxis": "x",
         "y": [
          9846,
          11154
         ],
         "yaxis": "y"
        },
        {
         "hovertemplate": "color=idBibMarc1<br>x=%{x}<br>y=%{y}<extra></extra>",
         "legendgroup": "idBibMarc1",
         "marker": {
          "color": "#636efa",
          "symbol": "circle"
         },
         "mode": "markers",
         "name": "idBibMarc1",
         "orientation": "v",
         "showlegend": true,
         "type": "scatter",
         "x": [
          "idBibMarc1"
         ],
         "xaxis": "x",
         "y": [
          3829
         ],
         "yaxis": "y"
        },
        {
         "hovertemplate": "color=idEupLati1<br>x=%{x}<br>y=%{y}<extra></extra>",
         "legendgroup": "idEupLati1",
         "marker": {
          "color": "#EF553B",
          "symbol": "circle"
         },
         "mode": "markers",
         "name": "idEupLati1",
         "orientation": "v",
         "showlegend": true,
         "type": "scatter",
         "x": [
          "idEupLati1",
          "idEupLati1"
         ],
         "xaxis": "x",
         "y": [
          5551,
          9382
         ],
         "yaxis": "y"
        },
        {
         "hovertemplate": "color=idCluTigr1<br>x=%{x}<br>y=%{y}<extra></extra>",
         "legendgroup": "idCluTigr1",
         "marker": {
          "color": "#00cc96",
          "symbol": "circle"
         },
         "mode": "markers",
         "name": "idCluTigr1",
         "orientation": "v",
         "showlegend": true,
         "type": "scatter",
         "x": [
          "idCluTigr1",
          "idCluTigr1"
         ],
         "xaxis": "x",
         "y": [
          9155,
          11659
         ],
         "yaxis": "y"
        },
        {
         "hovertemplate": "color=idBomDisc1<br>x=%{x}<br>y=%{y}<extra></extra>",
         "legendgroup": "idBomDisc1",
         "marker": {
          "color": "#ab63fa",
          "symbol": "circle"
         },
         "mode": "markers",
         "name": "idBomDisc1",
         "orientation": "v",
         "showlegend": true,
         "type": "scatter",
         "x": [
          "idBomDisc1"
         ],
         "xaxis": "x",
         "y": [
          3947
         ],
         "yaxis": "y"
        },
        {
         "hovertemplate": "color=idPheCory1<br>x=%{x}<br>y=%{y}<extra></extra>",
         "legendgroup": "idPheCory1",
         "marker": {
          "color": "#FFA15A",
          "symbol": "circle"
         },
         "mode": "markers",
         "name": "idPheCory1",
         "orientation": "v",
         "showlegend": true,
         "type": "scatter",
         "x": [
          "idPheCory1"
         ],
         "xaxis": "x",
         "y": [
          6502
         ],
         "yaxis": "y"
        },
        {
         "hovertemplate": "color=idPolAmen1<br>x=%{x}<br>y=%{y}<extra></extra>",
         "legendgroup": "idPolAmen1",
         "marker": {
          "color": "#19d3f3",
          "symbol": "circle"
         },
         "mode": "markers",
         "name": "idPolAmen1",
         "orientation": "v",
         "showlegend": true,
         "type": "scatter",
         "x": [
          "idPolAmen1",
          "idPolAmen1",
          "idPolAmen1"
         ],
         "xaxis": "x",
         "y": [
          9069,
          5467,
          5342
         ],
         "yaxis": "y"
        },
        {
         "hovertemplate": "color=idEriArbu1<br>x=%{x}<br>y=%{y}<extra></extra>",
         "legendgroup": "idEriArbu1",
         "marker": {
          "color": "#FF6692",
          "symbol": "circle"
         },
         "mode": "markers",
         "name": "idEriArbu1",
         "orientation": "v",
         "showlegend": true,
         "type": "scatter",
         "x": [
          "idEriArbu1"
         ],
         "xaxis": "x",
         "y": [
          7136
         ],
         "yaxis": "y"
        },
        {
         "hovertemplate": "color=idCriBerb1<br>x=%{x}<br>y=%{y}<extra></extra>",
         "legendgroup": "idCriBerb1",
         "marker": {
          "color": "#B6E880",
          "symbol": "circle"
         },
         "mode": "markers",
         "name": "idCriBerb1",
         "orientation": "v",
         "showlegend": true,
         "type": "scatter",
         "x": [
          "idCriBerb1"
         ],
         "xaxis": "x",
         "y": [
          7185
         ],
         "yaxis": "y"
        },
        {
         "hovertemplate": "color=idPolAngu1<br>x=%{x}<br>y=%{y}<extra></extra>",
         "legendgroup": "idPolAngu1",
         "marker": {
          "color": "#FF97FF",
          "symbol": "circle"
         },
         "mode": "markers",
         "name": "idPolAngu1",
         "orientation": "v",
         "showlegend": true,
         "type": "scatter",
         "x": [
          "idPolAngu1",
          "idPolAngu1"
         ],
         "xaxis": "x",
         "y": [
          8685,
          4850
         ],
         "yaxis": "y"
        },
        {
         "hovertemplate": "color=idXylSylv2<br>x=%{x}<br>y=%{y}<extra></extra>",
         "legendgroup": "idXylSylv2",
         "marker": {
          "color": "#FECB52",
          "symbol": "circle"
         },
         "mode": "markers",
         "name": "idXylSylv2",
         "orientation": "v",
         "showlegend": true,
         "type": "scatter",
         "x": [
          "idXylSylv2"
         ],
         "xaxis": "x",
         "y": [
          8508
         ],
         "yaxis": "y"
        },
        {
         "hovertemplate": "color=idEupCoro1<br>x=%{x}<br>y=%{y}<extra></extra>",
         "legendgroup": "idEupCoro1",
         "marker": {
          "color": "#636efa",
          "symbol": "circle"
         },
         "mode": "markers",
         "name": "idEupCoro1",
         "orientation": "v",
         "showlegend": true,
         "type": "scatter",
         "x": [
          "idEupCoro1"
         ],
         "xaxis": "x",
         "y": [
          7122
         ],
         "yaxis": "y"
        },
        {
         "hovertemplate": "color=idSyrPipi1<br>x=%{x}<br>y=%{y}<extra></extra>",
         "legendgroup": "idSyrPipi1",
         "marker": {
          "color": "#EF553B",
          "symbol": "circle"
         },
         "mode": "markers",
         "name": "idSyrPipi1",
         "orientation": "v",
         "showlegend": true,
         "type": "scatter",
         "x": [
          "idSyrPipi1"
         ],
         "xaxis": "x",
         "y": [
          8438
         ],
         "yaxis": "y"
        },
        {
         "hovertemplate": "color=idXanPedi1<br>x=%{x}<br>y=%{y}<extra></extra>",
         "legendgroup": "idXanPedi1",
         "marker": {
          "color": "#00cc96",
          "symbol": "circle"
         },
         "mode": "markers",
         "name": "idXanPedi1",
         "orientation": "v",
         "showlegend": true,
         "type": "scatter",
         "x": [
          "idXanPedi1",
          "idXanPedi1"
         ],
         "xaxis": "x",
         "y": [
          7412,
          6809
         ],
         "yaxis": "y"
        },
        {
         "hovertemplate": "color=idMyoTess1<br>x=%{x}<br>y=%{y}<extra></extra>",
         "legendgroup": "idMyoTess1",
         "marker": {
          "color": "#ab63fa",
          "symbol": "circle"
         },
         "mode": "markers",
         "name": "idMyoTess1",
         "orientation": "v",
         "showlegend": true,
         "type": "scatter",
         "x": [
          "idMyoTess1"
         ],
         "xaxis": "x",
         "y": [
          6589
         ],
         "yaxis": "y"
        },
        {
         "hovertemplate": "color=idChePaga1<br>x=%{x}<br>y=%{y}<extra></extra>",
         "legendgroup": "idChePaga1",
         "marker": {
          "color": "#FFA15A",
          "symbol": "circle"
         },
         "mode": "markers",
         "name": "idChePaga1",
         "orientation": "v",
         "showlegend": true,
         "type": "scatter",
         "x": [
          "idChePaga1"
         ],
         "xaxis": "x",
         "y": [
          8644
         ],
         "yaxis": "y"
        },
        {
         "hovertemplate": "color=idBomMajo1<br>x=%{x}<br>y=%{y}<extra></extra>",
         "legendgroup": "idBomMajo1",
         "marker": {
          "color": "#19d3f3",
          "symbol": "circle"
         },
         "mode": "markers",
         "name": "idBomMajo1",
         "orientation": "v",
         "showlegend": true,
         "type": "scatter",
         "x": [
          "idBomMajo1"
         ],
         "xaxis": "x",
         "y": [
          7349
         ],
         "yaxis": "y"
        },
        {
         "hovertemplate": "color=idBelPand1<br>x=%{x}<br>y=%{y}<extra></extra>",
         "legendgroup": "idBelPand1",
         "marker": {
          "color": "#FF6692",
          "symbol": "circle"
         },
         "mode": "markers",
         "name": "idBelPand1",
         "orientation": "v",
         "showlegend": true,
         "type": "scatter",
         "x": [
          "idBelPand1",
          "idBelPand1"
         ],
         "xaxis": "x",
         "y": [
          9222,
          8748
         ],
         "yaxis": "y"
        },
        {
         "hovertemplate": "color=idTacFera2<br>x=%{x}<br>y=%{y}<extra></extra>",
         "legendgroup": "idTacFera2",
         "marker": {
          "color": "#B6E880",
          "symbol": "circle"
         },
         "mode": "markers",
         "name": "idTacFera2",
         "orientation": "v",
         "showlegend": true,
         "type": "scatter",
         "x": [
          "idTacFera2"
         ],
         "xaxis": "x",
         "y": [
          10950
         ],
         "yaxis": "y"
        },
        {
         "hovertemplate": "color=idEpiSucc1<br>x=%{x}<br>y=%{y}<extra></extra>",
         "legendgroup": "idEpiSucc1",
         "marker": {
          "color": "#FF97FF",
          "symbol": "circle"
         },
         "mode": "markers",
         "name": "idEpiSucc1",
         "orientation": "v",
         "showlegend": true,
         "type": "scatter",
         "x": [
          "idEpiSucc1"
         ],
         "xaxis": "x",
         "y": [
          6144
         ],
         "yaxis": "y"
        },
        {
         "hovertemplate": "color=idCheUrba1<br>x=%{x}<br>y=%{y}<extra></extra>",
         "legendgroup": "idCheUrba1",
         "marker": {
          "color": "#FECB52",
          "symbol": "circle"
         },
         "mode": "markers",
         "name": "idCheUrba1",
         "orientation": "v",
         "showlegend": true,
         "type": "scatter",
         "x": [
          "idCheUrba1"
         ],
         "xaxis": "x",
         "y": [
          6074
         ],
         "yaxis": "y"
        },
        {
         "hovertemplate": "color=idNepFlae1<br>x=%{x}<br>y=%{y}<extra></extra>",
         "legendgroup": "idNepFlae1",
         "marker": {
          "color": "#636efa",
          "symbol": "circle"
         },
         "mode": "markers",
         "name": "idNepFlae1",
         "orientation": "v",
         "showlegend": true,
         "type": "scatter",
         "x": [
          "idNepFlae1",
          "idNepFlae1"
         ],
         "xaxis": "x",
         "y": [
          5019,
          5638
         ],
         "yaxis": "y"
        },
        {
         "hovertemplate": "color=idNowFero1<br>x=%{x}<br>y=%{y}<extra></extra>",
         "legendgroup": "idNowFero1",
         "marker": {
          "color": "#EF553B",
          "symbol": "circle"
         },
         "mode": "markers",
         "name": "idNowFero1",
         "orientation": "v",
         "showlegend": true,
         "type": "scatter",
         "x": [
          "idNowFero1"
         ],
         "xaxis": "x",
         "y": [
          8829
         ],
         "yaxis": "y"
        },
        {
         "hovertemplate": "color=idEpiGros1<br>x=%{x}<br>y=%{y}<extra></extra>",
         "legendgroup": "idEpiGros1",
         "marker": {
          "color": "#00cc96",
          "symbol": "circle"
         },
         "mode": "markers",
         "name": "idEpiGros1",
         "orientation": "v",
         "showlegend": true,
         "type": "scatter",
         "x": [
          "idEpiGros1"
         ],
         "xaxis": "x",
         "y": [
          8427
         ],
         "yaxis": "y"
        },
        {
         "hovertemplate": "color=idVolInfl1<br>x=%{x}<br>y=%{y}<extra></extra>",
         "legendgroup": "idVolInfl1",
         "marker": {
          "color": "#ab63fa",
          "symbol": "circle"
         },
         "mode": "markers",
         "name": "idVolInfl1",
         "orientation": "v",
         "showlegend": true,
         "type": "scatter",
         "x": [
          "idVolInfl1",
          "idVolInfl1"
         ],
         "xaxis": "x",
         "y": [
          4762,
          8490
         ],
         "yaxis": "y"
        },
        {
         "hovertemplate": "color=idRhiCamp1<br>x=%{x}<br>y=%{y}<extra></extra>",
         "legendgroup": "idRhiCamp1",
         "marker": {
          "color": "#FFA15A",
          "symbol": "circle"
         },
         "mode": "markers",
         "name": "idRhiCamp1",
         "orientation": "v",
         "showlegend": true,
         "type": "scatter",
         "x": [
          "idRhiCamp1"
         ],
         "xaxis": "x",
         "y": [
          9902
         ],
         "yaxis": "y"
        },
        {
         "hovertemplate": "color=idSicFerr1<br>x=%{x}<br>y=%{y}<extra></extra>",
         "legendgroup": "idSicFerr1",
         "marker": {
          "color": "#19d3f3",
          "symbol": "circle"
         },
         "mode": "markers",
         "name": "idSicFerr1",
         "orientation": "v",
         "showlegend": true,
         "type": "scatter",
         "x": [
          "idSicFerr1"
         ],
         "xaxis": "x",
         "y": [
          6052
         ],
         "yaxis": "y"
        },
        {
         "hovertemplate": "color=idEriSepu1<br>x=%{x}<br>y=%{y}<extra></extra>",
         "legendgroup": "idEriSepu1",
         "marker": {
          "color": "#FF6692",
          "symbol": "circle"
         },
         "mode": "markers",
         "name": "idEriSepu1",
         "orientation": "v",
         "showlegend": true,
         "type": "scatter",
         "x": [
          "idEriSepu1"
         ],
         "xaxis": "x",
         "y": [
          4892
         ],
         "yaxis": "y"
        },
        {
         "hovertemplate": "color=idMyaFlor2<br>x=%{x}<br>y=%{y}<extra></extra>",
         "legendgroup": "idMyaFlor2",
         "marker": {
          "color": "#B6E880",
          "symbol": "circle"
         },
         "mode": "markers",
         "name": "idMyaFlor2",
         "orientation": "v",
         "showlegend": true,
         "type": "scatter",
         "x": [
          "idMyaFlor2"
         ],
         "xaxis": "x",
         "y": [
          9524
         ],
         "yaxis": "y"
        },
        {
         "hovertemplate": "color=idSphTaen1<br>x=%{x}<br>y=%{y}<extra></extra>",
         "legendgroup": "idSphTaen1",
         "marker": {
          "color": "#FF97FF",
          "symbol": "circle"
         },
         "mode": "markers",
         "name": "idSphTaen1",
         "orientation": "v",
         "showlegend": true,
         "type": "scatter",
         "x": [
          "idSphTaen1"
         ],
         "xaxis": "x",
         "y": [
          8719
         ],
         "yaxis": "y"
        },
        {
         "hovertemplate": "color=idCorMarg1<br>x=%{x}<br>y=%{y}<extra></extra>",
         "legendgroup": "idCorMarg1",
         "marker": {
          "color": "#FECB52",
          "symbol": "circle"
         },
         "mode": "markers",
         "name": "idCorMarg1",
         "orientation": "v",
         "showlegend": true,
         "type": "scatter",
         "x": [
          "idCorMarg1"
         ],
         "xaxis": "x",
         "y": [
          7965
         ],
         "yaxis": "y"
        },
        {
         "hovertemplate": "color=idGymRotn1<br>x=%{x}<br>y=%{y}<extra></extra>",
         "legendgroup": "idGymRotn1",
         "marker": {
          "color": "#636efa",
          "symbol": "circle"
         },
         "mode": "markers",
         "name": "idGymRotn1",
         "orientation": "v",
         "showlegend": true,
         "type": "scatter",
         "x": [
          "idGymRotn1"
         ],
         "xaxis": "x",
         "y": [
          7650
         ],
         "yaxis": "y"
        },
        {
         "hovertemplate": "color=idEriPert2<br>x=%{x}<br>y=%{y}<extra></extra>",
         "legendgroup": "idEriPert2",
         "marker": {
          "color": "#EF553B",
          "symbol": "circle"
         },
         "mode": "markers",
         "name": "idEriPert2",
         "orientation": "v",
         "showlegend": true,
         "type": "scatter",
         "x": [
          "idEriPert2"
         ],
         "xaxis": "x",
         "y": [
          7215
         ],
         "yaxis": "y"
        },
        {
         "hovertemplate": "color=idProAzur1<br>x=%{x}<br>y=%{y}<extra></extra>",
         "legendgroup": "idProAzur1",
         "marker": {
          "color": "#00cc96",
          "symbol": "circle"
         },
         "mode": "markers",
         "name": "idProAzur1",
         "orientation": "v",
         "showlegend": true,
         "type": "scatter",
         "x": [
          "idProAzur1",
          "idProAzur1"
         ],
         "xaxis": "x",
         "y": [
          9209,
          4311
         ],
         "yaxis": "y"
        },
        {
         "hovertemplate": "color=idScaPyra1<br>x=%{x}<br>y=%{y}<extra></extra>",
         "legendgroup": "idScaPyra1",
         "marker": {
          "color": "#ab63fa",
          "symbol": "circle"
         },
         "mode": "markers",
         "name": "idScaPyra1",
         "orientation": "v",
         "showlegend": true,
         "type": "scatter",
         "x": [
          "idScaPyra1",
          "idScaPyra1"
         ],
         "xaxis": "x",
         "y": [
          7670,
          9856
         ],
         "yaxis": "y"
        },
        {
         "hovertemplate": "color=idTheAtra2<br>x=%{x}<br>y=%{y}<extra></extra>",
         "legendgroup": "idTheAtra2",
         "marker": {
          "color": "#FFA15A",
          "symbol": "circle"
         },
         "mode": "markers",
         "name": "idTheAtra2",
         "orientation": "v",
         "showlegend": true,
         "type": "scatter",
         "x": [
          "idTheAtra2"
         ],
         "xaxis": "x",
         "y": [
          11412
         ],
         "yaxis": "y"
        },
        {
         "hovertemplate": "color=idEpiBalt1<br>x=%{x}<br>y=%{y}<extra></extra>",
         "legendgroup": "idEpiBalt1",
         "marker": {
          "color": "#19d3f3",
          "symbol": "circle"
         },
         "mode": "markers",
         "name": "idEpiBalt1",
         "orientation": "v",
         "showlegend": true,
         "type": "scatter",
         "x": [
          "idEpiBalt1",
          "idEpiBalt1"
         ],
         "xaxis": "x",
         "y": [
          8225,
          9538
         ],
         "yaxis": "y"
        },
        {
         "hovertemplate": "color=idCheVulp2<br>x=%{x}<br>y=%{y}<extra></extra>",
         "legendgroup": "idCheVulp2",
         "marker": {
          "color": "#FF6692",
          "symbol": "circle"
         },
         "mode": "markers",
         "name": "idCheVulp2",
         "orientation": "v",
         "showlegend": true,
         "type": "scatter",
         "x": [
          "idCheVulp2"
         ],
         "xaxis": "x",
         "y": [
          9334
         ],
         "yaxis": "y"
        },
        {
         "hovertemplate": "color=idVolInan1<br>x=%{x}<br>y=%{y}<extra></extra>",
         "legendgroup": "idVolInan1",
         "marker": {
          "color": "#B6E880",
          "symbol": "circle"
         },
         "mode": "markers",
         "name": "idVolInan1",
         "orientation": "v",
         "showlegend": true,
         "type": "scatter",
         "x": [
          "idVolInan1",
          "idVolInan1",
          "idVolInan1"
         ],
         "xaxis": "x",
         "y": [
          7549,
          6588,
          7310
         ],
         "yaxis": "y"
        },
        {
         "hovertemplate": "color=idSarVari1<br>x=%{x}<br>y=%{y}<extra></extra>",
         "legendgroup": "idSarVari1",
         "marker": {
          "color": "#FF97FF",
          "symbol": "circle"
         },
         "mode": "markers",
         "name": "idSarVari1",
         "orientation": "v",
         "showlegend": true,
         "type": "scatter",
         "x": [
          "idSarVari1",
          "idSarVari1"
         ],
         "xaxis": "x",
         "y": [
          5899,
          6617
         ],
         "yaxis": "y"
        },
        {
         "hovertemplate": "color=idStoLuna1<br>x=%{x}<br>y=%{y}<extra></extra>",
         "legendgroup": "idStoLuna1",
         "marker": {
          "color": "#FECB52",
          "symbol": "circle"
         },
         "mode": "markers",
         "name": "idStoLuna1",
         "orientation": "v",
         "showlegend": true,
         "type": "scatter",
         "x": [
          "idStoLuna1",
          "idStoLuna1"
         ],
         "xaxis": "x",
         "y": [
          8064,
          8942
         ],
         "yaxis": "y"
        },
        {
         "hovertemplate": "color=idCalVomi1<br>x=%{x}<br>y=%{y}<extra></extra>",
         "legendgroup": "idCalVomi1",
         "marker": {
          "color": "#636efa",
          "symbol": "circle"
         },
         "mode": "markers",
         "name": "idCalVomi1",
         "orientation": "v",
         "showlegend": true,
         "type": "scatter",
         "x": [
          "idCalVomi1",
          "idCalVomi1"
         ],
         "xaxis": "x",
         "y": [
          8529,
          8788
         ],
         "yaxis": "y"
        },
        {
         "hovertemplate": "color=idSarRose1<br>x=%{x}<br>y=%{y}<extra></extra>",
         "legendgroup": "idSarRose1",
         "marker": {
          "color": "#EF553B",
          "symbol": "circle"
         },
         "mode": "markers",
         "name": "idSarRose1",
         "orientation": "v",
         "showlegend": true,
         "type": "scatter",
         "x": [
          "idSarRose1",
          "idSarRose1"
         ],
         "xaxis": "x",
         "y": [
          4449,
          6840
         ],
         "yaxis": "y"
        },
        {
         "hovertemplate": "color=idTacLuri1<br>x=%{x}<br>y=%{y}<extra></extra>",
         "legendgroup": "idTacLuri1",
         "marker": {
          "color": "#00cc96",
          "symbol": "circle"
         },
         "mode": "markers",
         "name": "idTacLuri1",
         "orientation": "v",
         "showlegend": true,
         "type": "scatter",
         "x": [
          "idTacLuri1"
         ],
         "xaxis": "x",
         "y": [
          6195
         ],
         "yaxis": "y"
        },
        {
         "hovertemplate": "color=idMelMell2<br>x=%{x}<br>y=%{y}<extra></extra>",
         "legendgroup": "idMelMell2",
         "marker": {
          "color": "#ab63fa",
          "symbol": "circle"
         },
         "mode": "markers",
         "name": "idMelMell2",
         "orientation": "v",
         "showlegend": true,
         "type": "scatter",
         "x": [
          "idMelMell2",
          "idMelMell2"
         ],
         "xaxis": "x",
         "y": [
          10730,
          5585
         ],
         "yaxis": "y"
        },
        {
         "hovertemplate": "color=idSarSubv1<br>x=%{x}<br>y=%{y}<extra></extra>",
         "legendgroup": "idSarSubv1",
         "marker": {
          "color": "#FFA15A",
          "symbol": "circle"
         },
         "mode": "markers",
         "name": "idSarSubv1",
         "orientation": "v",
         "showlegend": true,
         "type": "scatter",
         "x": [
          "idSarSubv1",
          "idSarSubv1"
         ],
         "xaxis": "x",
         "y": [
          9949,
          7725
         ],
         "yaxis": "y"
        },
        {
         "hovertemplate": "color=idPhyMeln1<br>x=%{x}<br>y=%{y}<extra></extra>",
         "legendgroup": "idPhyMeln1",
         "marker": {
          "color": "#19d3f3",
          "symbol": "circle"
         },
         "mode": "markers",
         "name": "idPhyMeln1",
         "orientation": "v",
         "showlegend": true,
         "type": "scatter",
         "x": [
          "idPhyMeln1"
         ],
         "xaxis": "x",
         "y": [
          10115
         ],
         "yaxis": "y"
        }
       ],
       "layout": {
        "legend": {
         "title": {
          "text": "color"
         },
         "tracegroupgap": 0
        },
        "template": {
         "data": {
          "bar": [
           {
            "error_x": {
             "color": "#2a3f5f"
            },
            "error_y": {
             "color": "#2a3f5f"
            },
            "marker": {
             "line": {
              "color": "#E5ECF6",
              "width": 0.5
             },
             "pattern": {
              "fillmode": "overlay",
              "size": 10,
              "solidity": 0.2
             }
            },
            "type": "bar"
           }
          ],
          "barpolar": [
           {
            "marker": {
             "line": {
              "color": "#E5ECF6",
              "width": 0.5
             },
             "pattern": {
              "fillmode": "overlay",
              "size": 10,
              "solidity": 0.2
             }
            },
            "type": "barpolar"
           }
          ],
          "carpet": [
           {
            "aaxis": {
             "endlinecolor": "#2a3f5f",
             "gridcolor": "white",
             "linecolor": "white",
             "minorgridcolor": "white",
             "startlinecolor": "#2a3f5f"
            },
            "baxis": {
             "endlinecolor": "#2a3f5f",
             "gridcolor": "white",
             "linecolor": "white",
             "minorgridcolor": "white",
             "startlinecolor": "#2a3f5f"
            },
            "type": "carpet"
           }
          ],
          "choropleth": [
           {
            "colorbar": {
             "outlinewidth": 0,
             "ticks": ""
            },
            "type": "choropleth"
           }
          ],
          "contour": [
           {
            "colorbar": {
             "outlinewidth": 0,
             "ticks": ""
            },
            "colorscale": [
             [
              0,
              "#0d0887"
             ],
             [
              0.1111111111111111,
              "#46039f"
             ],
             [
              0.2222222222222222,
              "#7201a8"
             ],
             [
              0.3333333333333333,
              "#9c179e"
             ],
             [
              0.4444444444444444,
              "#bd3786"
             ],
             [
              0.5555555555555556,
              "#d8576b"
             ],
             [
              0.6666666666666666,
              "#ed7953"
             ],
             [
              0.7777777777777778,
              "#fb9f3a"
             ],
             [
              0.8888888888888888,
              "#fdca26"
             ],
             [
              1,
              "#f0f921"
             ]
            ],
            "type": "contour"
           }
          ],
          "contourcarpet": [
           {
            "colorbar": {
             "outlinewidth": 0,
             "ticks": ""
            },
            "type": "contourcarpet"
           }
          ],
          "heatmap": [
           {
            "colorbar": {
             "outlinewidth": 0,
             "ticks": ""
            },
            "colorscale": [
             [
              0,
              "#0d0887"
             ],
             [
              0.1111111111111111,
              "#46039f"
             ],
             [
              0.2222222222222222,
              "#7201a8"
             ],
             [
              0.3333333333333333,
              "#9c179e"
             ],
             [
              0.4444444444444444,
              "#bd3786"
             ],
             [
              0.5555555555555556,
              "#d8576b"
             ],
             [
              0.6666666666666666,
              "#ed7953"
             ],
             [
              0.7777777777777778,
              "#fb9f3a"
             ],
             [
              0.8888888888888888,
              "#fdca26"
             ],
             [
              1,
              "#f0f921"
             ]
            ],
            "type": "heatmap"
           }
          ],
          "heatmapgl": [
           {
            "colorbar": {
             "outlinewidth": 0,
             "ticks": ""
            },
            "colorscale": [
             [
              0,
              "#0d0887"
             ],
             [
              0.1111111111111111,
              "#46039f"
             ],
             [
              0.2222222222222222,
              "#7201a8"
             ],
             [
              0.3333333333333333,
              "#9c179e"
             ],
             [
              0.4444444444444444,
              "#bd3786"
             ],
             [
              0.5555555555555556,
              "#d8576b"
             ],
             [
              0.6666666666666666,
              "#ed7953"
             ],
             [
              0.7777777777777778,
              "#fb9f3a"
             ],
             [
              0.8888888888888888,
              "#fdca26"
             ],
             [
              1,
              "#f0f921"
             ]
            ],
            "type": "heatmapgl"
           }
          ],
          "histogram": [
           {
            "marker": {
             "pattern": {
              "fillmode": "overlay",
              "size": 10,
              "solidity": 0.2
             }
            },
            "type": "histogram"
           }
          ],
          "histogram2d": [
           {
            "colorbar": {
             "outlinewidth": 0,
             "ticks": ""
            },
            "colorscale": [
             [
              0,
              "#0d0887"
             ],
             [
              0.1111111111111111,
              "#46039f"
             ],
             [
              0.2222222222222222,
              "#7201a8"
             ],
             [
              0.3333333333333333,
              "#9c179e"
             ],
             [
              0.4444444444444444,
              "#bd3786"
             ],
             [
              0.5555555555555556,
              "#d8576b"
             ],
             [
              0.6666666666666666,
              "#ed7953"
             ],
             [
              0.7777777777777778,
              "#fb9f3a"
             ],
             [
              0.8888888888888888,
              "#fdca26"
             ],
             [
              1,
              "#f0f921"
             ]
            ],
            "type": "histogram2d"
           }
          ],
          "histogram2dcontour": [
           {
            "colorbar": {
             "outlinewidth": 0,
             "ticks": ""
            },
            "colorscale": [
             [
              0,
              "#0d0887"
             ],
             [
              0.1111111111111111,
              "#46039f"
             ],
             [
              0.2222222222222222,
              "#7201a8"
             ],
             [
              0.3333333333333333,
              "#9c179e"
             ],
             [
              0.4444444444444444,
              "#bd3786"
             ],
             [
              0.5555555555555556,
              "#d8576b"
             ],
             [
              0.6666666666666666,
              "#ed7953"
             ],
             [
              0.7777777777777778,
              "#fb9f3a"
             ],
             [
              0.8888888888888888,
              "#fdca26"
             ],
             [
              1,
              "#f0f921"
             ]
            ],
            "type": "histogram2dcontour"
           }
          ],
          "mesh3d": [
           {
            "colorbar": {
             "outlinewidth": 0,
             "ticks": ""
            },
            "type": "mesh3d"
           }
          ],
          "parcoords": [
           {
            "line": {
             "colorbar": {
              "outlinewidth": 0,
              "ticks": ""
             }
            },
            "type": "parcoords"
           }
          ],
          "pie": [
           {
            "automargin": true,
            "type": "pie"
           }
          ],
          "scatter": [
           {
            "fillpattern": {
             "fillmode": "overlay",
             "size": 10,
             "solidity": 0.2
            },
            "type": "scatter"
           }
          ],
          "scatter3d": [
           {
            "line": {
             "colorbar": {
              "outlinewidth": 0,
              "ticks": ""
             }
            },
            "marker": {
             "colorbar": {
              "outlinewidth": 0,
              "ticks": ""
             }
            },
            "type": "scatter3d"
           }
          ],
          "scattercarpet": [
           {
            "marker": {
             "colorbar": {
              "outlinewidth": 0,
              "ticks": ""
             }
            },
            "type": "scattercarpet"
           }
          ],
          "scattergeo": [
           {
            "marker": {
             "colorbar": {
              "outlinewidth": 0,
              "ticks": ""
             }
            },
            "type": "scattergeo"
           }
          ],
          "scattergl": [
           {
            "marker": {
             "colorbar": {
              "outlinewidth": 0,
              "ticks": ""
             }
            },
            "type": "scattergl"
           }
          ],
          "scattermapbox": [
           {
            "marker": {
             "colorbar": {
              "outlinewidth": 0,
              "ticks": ""
             }
            },
            "type": "scattermapbox"
           }
          ],
          "scatterpolar": [
           {
            "marker": {
             "colorbar": {
              "outlinewidth": 0,
              "ticks": ""
             }
            },
            "type": "scatterpolar"
           }
          ],
          "scatterpolargl": [
           {
            "marker": {
             "colorbar": {
              "outlinewidth": 0,
              "ticks": ""
             }
            },
            "type": "scatterpolargl"
           }
          ],
          "scatterternary": [
           {
            "marker": {
             "colorbar": {
              "outlinewidth": 0,
              "ticks": ""
             }
            },
            "type": "scatterternary"
           }
          ],
          "surface": [
           {
            "colorbar": {
             "outlinewidth": 0,
             "ticks": ""
            },
            "colorscale": [
             [
              0,
              "#0d0887"
             ],
             [
              0.1111111111111111,
              "#46039f"
             ],
             [
              0.2222222222222222,
              "#7201a8"
             ],
             [
              0.3333333333333333,
              "#9c179e"
             ],
             [
              0.4444444444444444,
              "#bd3786"
             ],
             [
              0.5555555555555556,
              "#d8576b"
             ],
             [
              0.6666666666666666,
              "#ed7953"
             ],
             [
              0.7777777777777778,
              "#fb9f3a"
             ],
             [
              0.8888888888888888,
              "#fdca26"
             ],
             [
              1,
              "#f0f921"
             ]
            ],
            "type": "surface"
           }
          ],
          "table": [
           {
            "cells": {
             "fill": {
              "color": "#EBF0F8"
             },
             "line": {
              "color": "white"
             }
            },
            "header": {
             "fill": {
              "color": "#C8D4E3"
             },
             "line": {
              "color": "white"
             }
            },
            "type": "table"
           }
          ]
         },
         "layout": {
          "annotationdefaults": {
           "arrowcolor": "#2a3f5f",
           "arrowhead": 0,
           "arrowwidth": 1
          },
          "autotypenumbers": "strict",
          "coloraxis": {
           "colorbar": {
            "outlinewidth": 0,
            "ticks": ""
           }
          },
          "colorscale": {
           "diverging": [
            [
             0,
             "#8e0152"
            ],
            [
             0.1,
             "#c51b7d"
            ],
            [
             0.2,
             "#de77ae"
            ],
            [
             0.3,
             "#f1b6da"
            ],
            [
             0.4,
             "#fde0ef"
            ],
            [
             0.5,
             "#f7f7f7"
            ],
            [
             0.6,
             "#e6f5d0"
            ],
            [
             0.7,
             "#b8e186"
            ],
            [
             0.8,
             "#7fbc41"
            ],
            [
             0.9,
             "#4d9221"
            ],
            [
             1,
             "#276419"
            ]
           ],
           "sequential": [
            [
             0,
             "#0d0887"
            ],
            [
             0.1111111111111111,
             "#46039f"
            ],
            [
             0.2222222222222222,
             "#7201a8"
            ],
            [
             0.3333333333333333,
             "#9c179e"
            ],
            [
             0.4444444444444444,
             "#bd3786"
            ],
            [
             0.5555555555555556,
             "#d8576b"
            ],
            [
             0.6666666666666666,
             "#ed7953"
            ],
            [
             0.7777777777777778,
             "#fb9f3a"
            ],
            [
             0.8888888888888888,
             "#fdca26"
            ],
            [
             1,
             "#f0f921"
            ]
           ],
           "sequentialminus": [
            [
             0,
             "#0d0887"
            ],
            [
             0.1111111111111111,
             "#46039f"
            ],
            [
             0.2222222222222222,
             "#7201a8"
            ],
            [
             0.3333333333333333,
             "#9c179e"
            ],
            [
             0.4444444444444444,
             "#bd3786"
            ],
            [
             0.5555555555555556,
             "#d8576b"
            ],
            [
             0.6666666666666666,
             "#ed7953"
            ],
            [
             0.7777777777777778,
             "#fb9f3a"
            ],
            [
             0.8888888888888888,
             "#fdca26"
            ],
            [
             1,
             "#f0f921"
            ]
           ]
          },
          "colorway": [
           "#636efa",
           "#EF553B",
           "#00cc96",
           "#ab63fa",
           "#FFA15A",
           "#19d3f3",
           "#FF6692",
           "#B6E880",
           "#FF97FF",
           "#FECB52"
          ],
          "font": {
           "color": "#2a3f5f"
          },
          "geo": {
           "bgcolor": "white",
           "lakecolor": "white",
           "landcolor": "#E5ECF6",
           "showlakes": true,
           "showland": true,
           "subunitcolor": "white"
          },
          "hoverlabel": {
           "align": "left"
          },
          "hovermode": "closest",
          "mapbox": {
           "style": "light"
          },
          "paper_bgcolor": "white",
          "plot_bgcolor": "#E5ECF6",
          "polar": {
           "angularaxis": {
            "gridcolor": "white",
            "linecolor": "white",
            "ticks": ""
           },
           "bgcolor": "#E5ECF6",
           "radialaxis": {
            "gridcolor": "white",
            "linecolor": "white",
            "ticks": ""
           }
          },
          "scene": {
           "xaxis": {
            "backgroundcolor": "#E5ECF6",
            "gridcolor": "white",
            "gridwidth": 2,
            "linecolor": "white",
            "showbackground": true,
            "ticks": "",
            "zerolinecolor": "white"
           },
           "yaxis": {
            "backgroundcolor": "#E5ECF6",
            "gridcolor": "white",
            "gridwidth": 2,
            "linecolor": "white",
            "showbackground": true,
            "ticks": "",
            "zerolinecolor": "white"
           },
           "zaxis": {
            "backgroundcolor": "#E5ECF6",
            "gridcolor": "white",
            "gridwidth": 2,
            "linecolor": "white",
            "showbackground": true,
            "ticks": "",
            "zerolinecolor": "white"
           }
          },
          "shapedefaults": {
           "line": {
            "color": "#2a3f5f"
           }
          },
          "ternary": {
           "aaxis": {
            "gridcolor": "white",
            "linecolor": "white",
            "ticks": ""
           },
           "baxis": {
            "gridcolor": "white",
            "linecolor": "white",
            "ticks": ""
           },
           "bgcolor": "#E5ECF6",
           "caxis": {
            "gridcolor": "white",
            "linecolor": "white",
            "ticks": ""
           }
          },
          "title": {
           "x": 0.05
          },
          "xaxis": {
           "automargin": true,
           "gridcolor": "white",
           "linecolor": "white",
           "ticks": "",
           "title": {
            "standoff": 15
           },
           "zerolinecolor": "white",
           "zerolinewidth": 2
          },
          "yaxis": {
           "automargin": true,
           "gridcolor": "white",
           "linecolor": "white",
           "ticks": "",
           "title": {
            "standoff": 15
           },
           "zerolinecolor": "white",
           "zerolinewidth": 2
          }
         }
        },
        "title": {
         "text": "Specimen by N90 (no. of reads that contain 90% of estimated genome)"
        },
        "xaxis": {
         "anchor": "y",
         "domain": [
          0,
          1
         ],
         "title": {
          "text": "x"
         }
        },
        "yaxis": {
         "anchor": "x",
         "domain": [
          0,
          1
         ],
         "title": {
          "text": "y"
         }
        }
       }
      }
     },
     "metadata": {},
     "output_type": "display_data"
    },
    {
     "name": "stdout",
     "output_type": "stream",
     "text": [
      "\n"
     ]
    }
   ],
   "source": [
    "import pandas as pd\n",
    "import plotly.express as px\n",
    "import statsmodels\n",
    "\n",
    "pd.options.plotting.backend = \"plotly\"\n",
    "\n",
    "def read_in_realtime():\n",
    "    return pd.read_json('./data/realtime.json')\n",
    "\n",
    "def fix_realtime(df):\n",
    "    df['int_tolid'] = df['sample_id'].astype(str).str.split('_',n=1).str[0]\n",
    "    return df\n",
    "\n",
    "def read_in_informatics():\n",
    "    informatics = pd.read_csv('./data/informatics.tsv', delimiter='\\t')\n",
    "    informatics.drop(columns=['statussummary','status','asm', 'jira', 'accession', 'organelle', 'uli', 'common name',\n",
    "                        'sex', 'genomic sex', 'ploidy', 'taxon', 'family', 'genus', 'order', 'phylum', 'BioSample',\n",
    "                        'BioProject', 'vgp_orders', 'vgp_plus', 'asg', 'erga', '25g', 'britain&ireland', 'dnazoo',\n",
    "                        'cichlids', 'BADASS', 'rodents', 'jiggins', 'murchison', 'R&D', 'protist-microalgae', 'UKbutterflies',\n",
    "                        '10XG cov (gscope)', '10XG cov (sts)', 'last_data', 'sts pacbio status (new)','sts hic status (new)',\n",
    "                        'hic_from', 'PacBio','ONT','10XG','Htag','BioNano','HiC','RNAseq','IsoSeq','note or paper','raw data sub',\n",
    "                        'submission todo','contig N50 (Mb)','contig count','scaffold N50 (Mb)','scaffold count','longest (Mb)',\n",
    "                        'length (Mb)','BUSCO','QV','runs','notes','pipeline status','Unnamed: 0', 'coi', 'completeness',\n",
    "                        'darwin', 'sts size (Mb)', 'est. size (Mb)', 'long read cov (gscope)', 'long read cov (sts)'], inplace=True)\n",
    "    return informatics\n",
    "\n",
    "def fix_informatics(informatics):\n",
    "    informatics['prefix'] = informatics['sample'].astype(str).str[:2]\n",
    "    informatics = informatics.rename(columns={'sample':'int_tolid'})\n",
    "    return informatics.query(\"`prefix` == 'id' \")\n",
    "\n",
    "def read_in_tolqc():\n",
    "    return pd.read_json('./data/tolqc.json')\n",
    "\n",
    "def fix_tolqc(df):\n",
    "    new_df = df[['specimen','N50','N90',\"plot-ccs_readlength_hist\", 'group']]\n",
    "    new_df['project'] = new_df['group'].astype(str).str.split('/').str[0]\n",
    "    new_df['prefix'] = new_df['specimen'].astype(str).str[:2]\n",
    "    new_df = new_df.rename(columns={'sample':'int_tolid'})\n",
    "    return new_df.query(\"`prefix` == 'id' & `project` == 'darwin'\")\n",
    "\n",
    "def subset_tolqc(realtime, tolqc):\n",
    "    return tolqc[tolqc['specimen'].isin(realtime['int_tolid'].tolist())]\n",
    "\n",
    "def merge_frames(df1, df2):\n",
    "    merged = pd.merge(df1,\n",
    "                df2[['int_tolid','htzgy (%)', 'rep frac (%)']],\n",
    "                on='int_tolid',\n",
    "                how='left')\n",
    "    return merged\n",
    "\n",
    "def graph_hetero(df):\n",
    "    df.sort_values('htzgy (%)',inplace=True)\n",
    "    fig = px.scatter(x=df['length_after'],\n",
    "                    y=df['htzgy (%)'],\n",
    "                    title='Length after curation by Heterozygosity (%)',\n",
    "                    color=df['sample_id'])\n",
    "    fig.show()\n",
    "\n",
    "def graph_length_change(df):\n",
    "    new = df.query(\"`sample_id` != 'idPheCory1_1.0' and `sample_id` != 'idNowFero1_1.0'\")\n",
    "    fig = px.scatter(x=new['sample_id'],\n",
    "                    y=new['length_change'],\n",
    "                    title='Sample_id by Change in length (%)',\n",
    "                    color=new['sample_id'])\n",
    "    fig.show()\n",
    "    print(f'OUTLIERS = graph_length_change: idPheCory1_1.0 = -5.5 | idNowFero1_1.0 = +2.4')\n",
    "\n",
    "def graph_rep(df):\n",
    "    df.sort_values('rep frac (%)',inplace=True)\n",
    "    fig = px.scatter(x=df['length_after'],\n",
    "                    y=df['rep frac (%)'],\n",
    "                    title='Length (post-curation) by Repeat Fraction (%)',\n",
    "                    color=df['sample_id'],\n",
    "                    trendline=\"ols\") # Clearly a trend here, but line doesn't work\n",
    "    fig.show()\n",
    "    print(f'')\n",
    "\n",
    "def graph_rep_change(df):\n",
    "    df.sort_values('rep frac (%)',inplace=True)\n",
    "    fig = px.scatter(x=df['rep frac (%)'],\n",
    "                    y=df['length_change'],\n",
    "                    title='Length change(%) by Repeat Fraction (%)',\n",
    "                    color=df['sample_id'],\n",
    "                    trendline=\"ols\") # Clearly a trend here, but line doesn't work\n",
    "    fig.show()\n",
    "\n",
    "def graph_length_change(df):\n",
    "    fig = px.scatter(x=df['sample_id'],\n",
    "                    y=(df['scaff_count_after']-df['scaff_count_before'])/df['scaff_count_before']*100,\n",
    "                    title='Sample_id by Change in scaffold count (%)',\n",
    "                    color=df['sample_id'])\n",
    "    fig.show()\n",
    "    print(f'')\n",
    "\n",
    "def graph_n50(df):\n",
    "    fig = px.scatter(x=df['specimen'],\n",
    "                y=df['N50'],\n",
    "                title='Specimen by N50 (no. of reads that contain 50% of estimated genome)',\n",
    "                color=df['specimen'])\n",
    "    fig.show()\n",
    "    print(f'')\n",
    "\n",
    "def graph_n90(df):\n",
    "    fig = px.scatter(x=df['specimen'],\n",
    "                y=df['N90'],\n",
    "                title='Specimen by N90 (no. of reads that contain 90% of estimated genome)',\n",
    "                color=df['specimen'])\n",
    "    fig.show()\n",
    "    print(f'')\n",
    "\n",
    "def main():\n",
    "    realtime = read_in_realtime()\n",
    "    fixed_realtime = fix_realtime(realtime)\n",
    "\n",
    "    informatics = read_in_informatics()\n",
    "    fixed_informatics = fix_informatics(informatics)\n",
    "\n",
    "    tolqc = read_in_tolqc()\n",
    "    fixed_tolqc = fix_tolqc(tolqc)\n",
    "    s_tolqc = subset_tolqc(fixed_realtime, fixed_tolqc)\n",
    "\n",
    "    merged = merge_frames(fixed_realtime, fixed_informatics)\n",
    "    graph_hetero(merged)\n",
    "    graph_length_change(merged)\n",
    "    graph_rep(merged)\n",
    "    graph_rep_change(merged)\n",
    "    graph_length_change(merged)\n",
    "    graph_n50(s_tolqc)\n",
    "    graph_n90(s_tolqc)\n",
    "\n",
    "if __name__ == '__main__':\n",
    "    main()"
   ]
  },
  {
   "cell_type": "code",
   "execution_count": null,
   "metadata": {},
   "outputs": [],
   "source": []
  }
 ],
 "metadata": {
  "kernelspec": {
   "display_name": "Python 3.8.2 64-bit",
   "language": "python",
   "name": "python3"
  },
  "language_info": {
   "codemirror_mode": {
    "name": "ipython",
    "version": 3
   },
   "file_extension": ".py",
   "mimetype": "text/x-python",
   "name": "python",
   "nbconvert_exporter": "python",
   "pygments_lexer": "ipython3",
   "version": "3.8.2"
  },
  "orig_nbformat": 4,
  "vscode": {
   "interpreter": {
    "hash": "31f2aee4e71d21fbe5cf8b01ff0e069b9275f58929596ceb00d14d90e3e16cd6"
   }
  }
 },
 "nbformat": 4,
 "nbformat_minor": 2
}
