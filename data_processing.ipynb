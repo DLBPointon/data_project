{
 "cells": [
  {
   "cell_type": "code",
   "execution_count": 41,
   "metadata": {},
   "outputs": [
    {
     "name": "stderr",
     "output_type": "stream",
     "text": [
      "<ipython-input-41-01702b4ae00d>:40: SettingWithCopyWarning:\n",
      "\n",
      "\n",
      "A value is trying to be set on a copy of a slice from a DataFrame.\n",
      "Try using .loc[row_indexer,col_indexer] = value instead\n",
      "\n",
      "See the caveats in the documentation: https://pandas.pydata.org/pandas-docs/stable/user_guide/indexing.html#returning-a-view-versus-a-copy\n",
      "\n",
      "<ipython-input-41-01702b4ae00d>:41: SettingWithCopyWarning:\n",
      "\n",
      "\n",
      "A value is trying to be set on a copy of a slice from a DataFrame.\n",
      "Try using .loc[row_indexer,col_indexer] = value instead\n",
      "\n",
      "See the caveats in the documentation: https://pandas.pydata.org/pandas-docs/stable/user_guide/indexing.html#returning-a-view-versus-a-copy\n",
      "\n"
     ]
    },
    {
     "data": {
      "application/vnd.plotly.v1+json": {
       "config": {
        "plotlyServerURL": "https://plot.ly"
       },
       "data": [
        {
         "hovertemplate": "sample_id=idBelPand1_2.0<br>Genome Size post-curation (mbp)=%{x}<br>Number of manual interventions=%{y}<extra></extra>",
         "legendgroup": "idBelPand1_2.0",
         "marker": {
          "color": "#636efa",
          "symbol": "circle"
         },
         "mode": "markers",
         "name": "idBelPand1_2.0",
         "orientation": "v",
         "showlegend": true,
         "type": "scatter",
         "x": [
          617.022296
         ],
         "xaxis": "x",
         "y": [
          24
         ],
         "yaxis": "y"
        },
        {
         "hovertemplate": "sample_id=idBibMarc1_1<br>Genome Size post-curation (mbp)=%{x}<br>Number of manual interventions=%{y}<extra></extra>",
         "legendgroup": "idBibMarc1_1",
         "marker": {
          "color": "#EF553B",
          "symbol": "circle"
         },
         "mode": "markers",
         "name": "idBibMarc1_1",
         "orientation": "v",
         "showlegend": true,
         "type": "scatter",
         "x": [
          340.009463
         ],
         "xaxis": "x",
         "y": [
          14
         ],
         "yaxis": "y"
        },
        {
         "hovertemplate": "sample_id=idBomDisc1_1<br>Genome Size post-curation (mbp)=%{x}<br>Number of manual interventions=%{y}<extra></extra>",
         "legendgroup": "idBomDisc1_1",
         "marker": {
          "color": "#00cc96",
          "symbol": "circle"
         },
         "mode": "markers",
         "name": "idBomDisc1_1",
         "orientation": "v",
         "showlegend": true,
         "type": "scatter",
         "x": [
          279.827877
         ],
         "xaxis": "x",
         "y": [
          53
         ],
         "yaxis": "y"
        },
        {
         "hovertemplate": "sample_id=idBomMajo1_1.0<br>Genome Size post-curation (mbp)=%{x}<br>Number of manual interventions=%{y}<extra></extra>",
         "legendgroup": "idBomMajo1_1.0",
         "marker": {
          "color": "#ab63fa",
          "symbol": "circle"
         },
         "mode": "markers",
         "name": "idBomMajo1_1.0",
         "orientation": "v",
         "showlegend": true,
         "type": "scatter",
         "x": [
          304.31188
         ],
         "xaxis": "x",
         "y": [
          102
         ],
         "yaxis": "y"
        },
        {
         "hovertemplate": "sample_id=idBraLaph1_1.0<br>Genome Size post-curation (mbp)=%{x}<br>Number of manual interventions=%{y}<extra></extra>",
         "legendgroup": "idBraLaph1_1.0",
         "marker": {
          "color": "#FFA15A",
          "symbol": "circle"
         },
         "mode": "markers",
         "name": "idBraLaph1_1.0",
         "orientation": "v",
         "showlegend": true,
         "type": "scatter",
         "x": [
          1071.394021
         ],
         "xaxis": "x",
         "y": [
          40
         ],
         "yaxis": "y"
        },
        {
         "hovertemplate": "sample_id=idCalVomi1_1.0<br>Genome Size post-curation (mbp)=%{x}<br>Number of manual interventions=%{y}<extra></extra>",
         "legendgroup": "idCalVomi1_1.0",
         "marker": {
          "color": "#19d3f3",
          "symbol": "circle"
         },
         "mode": "markers",
         "name": "idCalVomi1_1.0",
         "orientation": "v",
         "showlegend": true,
         "type": "scatter",
         "x": [
          706.662258
         ],
         "xaxis": "x",
         "y": [
          56
         ],
         "yaxis": "y"
        },
        {
         "hovertemplate": "sample_id=idChePaga1_1.0<br>Genome Size post-curation (mbp)=%{x}<br>Number of manual interventions=%{y}<extra></extra>",
         "legendgroup": "idChePaga1_1.0",
         "marker": {
          "color": "#FF6692",
          "symbol": "circle"
         },
         "mode": "markers",
         "name": "idChePaga1_1.0",
         "orientation": "v",
         "showlegend": true,
         "type": "scatter",
         "x": [
          354.108297
         ],
         "xaxis": "x",
         "y": [
          10
         ],
         "yaxis": "y"
        },
        {
         "hovertemplate": "sample_id=idCheUrba1_1.0<br>Genome Size post-curation (mbp)=%{x}<br>Number of manual interventions=%{y}<extra></extra>",
         "legendgroup": "idCheUrba1_1.0",
         "marker": {
          "color": "#B6E880",
          "symbol": "circle"
         },
         "mode": "markers",
         "name": "idCheUrba1_1.0",
         "orientation": "v",
         "showlegend": true,
         "type": "scatter",
         "x": [
          546.942332
         ],
         "xaxis": "x",
         "y": [
          54
         ],
         "yaxis": "y"
        },
        {
         "hovertemplate": "sample_id=idCheVulp2_1.0<br>Genome Size post-curation (mbp)=%{x}<br>Number of manual interventions=%{y}<extra></extra>",
         "legendgroup": "idCheVulp2_1.0",
         "marker": {
          "color": "#FF97FF",
          "symbol": "circle"
         },
         "mode": "markers",
         "name": "idCheVulp2_1.0",
         "orientation": "v",
         "showlegend": true,
         "type": "scatter",
         "x": [
          405.365642
         ],
         "xaxis": "x",
         "y": [
          17
         ],
         "yaxis": "y"
        },
        {
         "hovertemplate": "sample_id=idChrBici1_1<br>Genome Size post-curation (mbp)=%{x}<br>Number of manual interventions=%{y}<extra></extra>",
         "legendgroup": "idChrBici1_1",
         "marker": {
          "color": "#FECB52",
          "symbol": "circle"
         },
         "mode": "markers",
         "name": "idChrBici1_1",
         "orientation": "v",
         "showlegend": true,
         "type": "scatter",
         "x": [
          912.918972
         ],
         "xaxis": "x",
         "y": [
          413
         ],
         "yaxis": "y"
        },
        {
         "hovertemplate": "sample_id=idCisGlob1_1.0<br>Genome Size post-curation (mbp)=%{x}<br>Number of manual interventions=%{y}<extra></extra>",
         "legendgroup": "idCisGlob1_1.0",
         "marker": {
          "color": "#636efa",
          "symbol": "circle"
         },
         "mode": "markers",
         "name": "idCisGlob1_1.0",
         "orientation": "v",
         "showlegend": true,
         "type": "scatter",
         "x": [
          837.758165
         ],
         "xaxis": "x",
         "y": [
          67
         ],
         "yaxis": "y"
        },
        {
         "hovertemplate": "sample_id=idCluTigr1_1.0<br>Genome Size post-curation (mbp)=%{x}<br>Number of manual interventions=%{y}<extra></extra>",
         "legendgroup": "idCluTigr1_1.0",
         "marker": {
          "color": "#EF553B",
          "symbol": "circle"
         },
         "mode": "markers",
         "name": "idCluTigr1_1.0",
         "orientation": "v",
         "showlegend": true,
         "type": "scatter",
         "x": [
          1216.377468
         ],
         "xaxis": "x",
         "y": [
          276
         ],
         "yaxis": "y"
        },
        {
         "hovertemplate": "sample_id=idCorMarg1_1<br>Genome Size post-curation (mbp)=%{x}<br>Number of manual interventions=%{y}<extra></extra>",
         "legendgroup": "idCorMarg1_1",
         "marker": {
          "color": "#00cc96",
          "symbol": "circle"
         },
         "mode": "markers",
         "name": "idCorMarg1_1",
         "orientation": "v",
         "showlegend": true,
         "type": "scatter",
         "x": [
          979.662365
         ],
         "xaxis": "x",
         "y": [
          625
         ],
         "yaxis": "y"
        },
        {
         "hovertemplate": "sample_id=idCriBerb1_1<br>Genome Size post-curation (mbp)=%{x}<br>Number of manual interventions=%{y}<extra></extra>",
         "legendgroup": "idCriBerb1_1",
         "marker": {
          "color": "#ab63fa",
          "symbol": "circle"
         },
         "mode": "markers",
         "name": "idCriBerb1_1",
         "orientation": "v",
         "showlegend": true,
         "type": "scatter",
         "x": [
          410.379867
         ],
         "xaxis": "x",
         "y": [
          29
         ],
         "yaxis": "y"
        },
        {
         "hovertemplate": "sample_id=idDasAlbo1_1.0<br>Genome Size post-curation (mbp)=%{x}<br>Number of manual interventions=%{y}<extra></extra>",
         "legendgroup": "idDasAlbo1_1.0",
         "marker": {
          "color": "#FFA15A",
          "symbol": "circle"
         },
         "mode": "markers",
         "name": "idDasAlbo1_1.0",
         "orientation": "v",
         "showlegend": true,
         "type": "scatter",
         "x": [
          662.539497
         ],
         "xaxis": "x",
         "y": [
          145
         ],
         "yaxis": "y"
        },
        {
         "hovertemplate": "sample_id=idEpiBalt1_1.0<br>Genome Size post-curation (mbp)=%{x}<br>Number of manual interventions=%{y}<extra></extra>",
         "legendgroup": "idEpiBalt1_1.0",
         "marker": {
          "color": "#19d3f3",
          "symbol": "circle"
         },
         "mode": "markers",
         "name": "idEpiBalt1_1.0",
         "orientation": "v",
         "showlegend": true,
         "type": "scatter",
         "x": [
          535.345329
         ],
         "xaxis": "x",
         "y": [
          72
         ],
         "yaxis": "y"
        },
        {
         "hovertemplate": "sample_id=idEpiGros1_1.0<br>Genome Size post-curation (mbp)=%{x}<br>Number of manual interventions=%{y}<extra></extra>",
         "legendgroup": "idEpiGros1_1.0",
         "marker": {
          "color": "#FF6692",
          "symbol": "circle"
         },
         "mode": "markers",
         "name": "idEpiGros1_1.0",
         "orientation": "v",
         "showlegend": true,
         "type": "scatter",
         "x": [
          556.59261
         ],
         "xaxis": "x",
         "y": [
          272
         ],
         "yaxis": "y"
        },
        {
         "hovertemplate": "sample_id=idEpiSucc1_1.0<br>Genome Size post-curation (mbp)=%{x}<br>Number of manual interventions=%{y}<extra></extra>",
         "legendgroup": "idEpiSucc1_1.0",
         "marker": {
          "color": "#B6E880",
          "symbol": "circle"
         },
         "mode": "markers",
         "name": "idEpiSucc1_1.0",
         "orientation": "v",
         "showlegend": true,
         "type": "scatter",
         "x": [
          398.107694
         ],
         "xaxis": "x",
         "y": [
          76
         ],
         "yaxis": "y"
        },
        {
         "hovertemplate": "sample_id=idEriArbu1_1.0<br>Genome Size post-curation (mbp)=%{x}<br>Number of manual interventions=%{y}<extra></extra>",
         "legendgroup": "idEriArbu1_1.0",
         "marker": {
          "color": "#FF97FF",
          "symbol": "circle"
         },
         "mode": "markers",
         "name": "idEriArbu1_1.0",
         "orientation": "v",
         "showlegend": true,
         "type": "scatter",
         "x": [
          451.027004
         ],
         "xaxis": "x",
         "y": [
          365
         ],
         "yaxis": "y"
        },
        {
         "hovertemplate": "sample_id=idEriPert2_1<br>Genome Size post-curation (mbp)=%{x}<br>Number of manual interventions=%{y}<extra></extra>",
         "legendgroup": "idEriPert2_1",
         "marker": {
          "color": "#FECB52",
          "symbol": "circle"
         },
         "mode": "markers",
         "name": "idEriPert2_1",
         "orientation": "v",
         "showlegend": true,
         "type": "scatter",
         "x": [
          482.075123
         ],
         "xaxis": "x",
         "y": [
          181
         ],
         "yaxis": "y"
        },
        {
         "hovertemplate": "sample_id=idEriSepu1_1.0<br>Genome Size post-curation (mbp)=%{x}<br>Number of manual interventions=%{y}<extra></extra>",
         "legendgroup": "idEriSepu1_1.0",
         "marker": {
          "color": "#636efa",
          "symbol": "circle"
         },
         "mode": "markers",
         "name": "idEriSepu1_1.0",
         "orientation": "v",
         "showlegend": true,
         "type": "scatter",
         "x": [
          376.833488
         ],
         "xaxis": "x",
         "y": [
          305
         ],
         "yaxis": "y"
        },
        {
         "hovertemplate": "sample_id=idEriTena2_1<br>Genome Size post-curation (mbp)=%{x}<br>Number of manual interventions=%{y}<extra></extra>",
         "legendgroup": "idEriTena2_1",
         "marker": {
          "color": "#EF553B",
          "symbol": "circle"
         },
         "mode": "markers",
         "name": "idEriTena2_1",
         "orientation": "v",
         "showlegend": true,
         "type": "scatter",
         "x": [
          487.002646
         ],
         "xaxis": "x",
         "y": [
          82
         ],
         "yaxis": "y"
        },
        {
         "hovertemplate": "sample_id=idEupCoro1_1.0<br>Genome Size post-curation (mbp)=%{x}<br>Number of manual interventions=%{y}<extra></extra>",
         "legendgroup": "idEupCoro1_1.0",
         "marker": {
          "color": "#00cc96",
          "symbol": "circle"
         },
         "mode": "markers",
         "name": "idEupCoro1_1.0",
         "orientation": "v",
         "showlegend": true,
         "type": "scatter",
         "x": [
          648.195582
         ],
         "xaxis": "x",
         "y": [
          703
         ],
         "yaxis": "y"
        },
        {
         "hovertemplate": "sample_id=idEupLati1_1.0<br>Genome Size post-curation (mbp)=%{x}<br>Number of manual interventions=%{y}<extra></extra>",
         "legendgroup": "idEupLati1_1.0",
         "marker": {
          "color": "#ab63fa",
          "symbol": "circle"
         },
         "mode": "markers",
         "name": "idEupLati1_1.0",
         "orientation": "v",
         "showlegend": true,
         "type": "scatter",
         "x": [
          846.338106
         ],
         "xaxis": "x",
         "y": [
          509
         ],
         "yaxis": "y"
        },
        {
         "hovertemplate": "sample_id=idGymRotn1_2.0<br>Genome Size post-curation (mbp)=%{x}<br>Number of manual interventions=%{y}<extra></extra>",
         "legendgroup": "idGymRotn1_2.0",
         "marker": {
          "color": "#FFA15A",
          "symbol": "circle"
         },
         "mode": "markers",
         "name": "idGymRotn1_2.0",
         "orientation": "v",
         "showlegend": true,
         "type": "scatter",
         "x": [
          779.127282
         ],
         "xaxis": "x",
         "y": [
          194
         ],
         "yaxis": "y"
        },
        {
         "hovertemplate": "sample_id=idLeuLate1_1.0<br>Genome Size post-curation (mbp)=%{x}<br>Number of manual interventions=%{y}<extra></extra>",
         "legendgroup": "idLeuLate1_1.0",
         "marker": {
          "color": "#19d3f3",
          "symbol": "circle"
         },
         "mode": "markers",
         "name": "idLeuLate1_1.0",
         "orientation": "v",
         "showlegend": true,
         "type": "scatter",
         "x": [
          613.542547
         ],
         "xaxis": "x",
         "y": [
          137
         ],
         "yaxis": "y"
        },
        {
         "hovertemplate": "sample_id=idMacAtri3_1.0<br>Genome Size post-curation (mbp)=%{x}<br>Number of manual interventions=%{y}<extra></extra>",
         "legendgroup": "idMacAtri3_1.0",
         "marker": {
          "color": "#FF6692",
          "symbol": "circle"
         },
         "mode": "markers",
         "name": "idMacAtri3_1.0",
         "orientation": "v",
         "showlegend": true,
         "type": "scatter",
         "x": [
          268.627744
         ],
         "xaxis": "x",
         "y": [
          17
         ],
         "yaxis": "y"
        },
        {
         "hovertemplate": "sample_id=idMelMell2_2.0<br>Genome Size post-curation (mbp)=%{x}<br>Number of manual interventions=%{y}<extra></extra>",
         "legendgroup": "idMelMell2_2.0",
         "marker": {
          "color": "#B6E880",
          "symbol": "circle"
         },
         "mode": "markers",
         "name": "idMelMell2_2.0",
         "orientation": "v",
         "showlegend": true,
         "type": "scatter",
         "x": [
          731.024304
         ],
         "xaxis": "x",
         "y": [
          367
         ],
         "yaxis": "y"
        },
        {
         "hovertemplate": "sample_id=idMyaFlor2_1.0<br>Genome Size post-curation (mbp)=%{x}<br>Number of manual interventions=%{y}<extra></extra>",
         "legendgroup": "idMyaFlor2_1.0",
         "marker": {
          "color": "#FF97FF",
          "symbol": "circle"
         },
         "mode": "markers",
         "name": "idMyaFlor2_1.0",
         "orientation": "v",
         "showlegend": true,
         "type": "scatter",
         "x": [
          485.087974
         ],
         "xaxis": "x",
         "y": [
          89
         ],
         "yaxis": "y"
        },
        {
         "hovertemplate": "sample_id=idMyoTess1_1.0<br>Genome Size post-curation (mbp)=%{x}<br>Number of manual interventions=%{y}<extra></extra>",
         "legendgroup": "idMyoTess1_1.0",
         "marker": {
          "color": "#FECB52",
          "symbol": "circle"
         },
         "mode": "markers",
         "name": "idMyoTess1_1.0",
         "orientation": "v",
         "showlegend": true,
         "type": "scatter",
         "x": [
          249.257482
         ],
         "xaxis": "x",
         "y": [
          6
         ],
         "yaxis": "y"
        },
        {
         "hovertemplate": "sample_id=idNepFlae1_1.0<br>Genome Size post-curation (mbp)=%{x}<br>Number of manual interventions=%{y}<extra></extra>",
         "legendgroup": "idNepFlae1_1.0",
         "marker": {
          "color": "#636efa",
          "symbol": "circle"
         },
         "mode": "markers",
         "name": "idNepFlae1_1.0",
         "orientation": "v",
         "showlegend": true,
         "type": "scatter",
         "x": [
          1051.33277
         ],
         "xaxis": "x",
         "y": [
          222
         ],
         "yaxis": "y"
        },
        {
         "hovertemplate": "sample_id=idNowFero1_1.0<br>Genome Size post-curation (mbp)=%{x}<br>Number of manual interventions=%{y}<extra></extra>",
         "legendgroup": "idNowFero1_1.0",
         "marker": {
          "color": "#EF553B",
          "symbol": "circle"
         },
         "mode": "markers",
         "name": "idNowFero1_1.0",
         "orientation": "v",
         "showlegend": true,
         "type": "scatter",
         "x": [
          670.697881
         ],
         "xaxis": "x",
         "y": [
          86
         ],
         "yaxis": "y"
        },
        {
         "hovertemplate": "sample_id=idPheCory1_1.0<br>Genome Size post-curation (mbp)=%{x}<br>Number of manual interventions=%{y}<extra></extra>",
         "legendgroup": "idPheCory1_1.0",
         "marker": {
          "color": "#00cc96",
          "symbol": "circle"
         },
         "mode": "markers",
         "name": "idPheCory1_1.0",
         "orientation": "v",
         "showlegend": true,
         "type": "scatter",
         "x": [
          862.951653
         ],
         "xaxis": "x",
         "y": [
          430
         ],
         "yaxis": "y"
        },
        {
         "hovertemplate": "sample_id=idPhyMeln1_1.0<br>Genome Size post-curation (mbp)=%{x}<br>Number of manual interventions=%{y}<extra></extra>",
         "legendgroup": "idPhyMeln1_1.0",
         "marker": {
          "color": "#ab63fa",
          "symbol": "circle"
         },
         "mode": "markers",
         "name": "idPhyMeln1_1.0",
         "orientation": "v",
         "showlegend": true,
         "type": "scatter",
         "x": [
          739.740587
         ],
         "xaxis": "x",
         "y": [
          81
         ],
         "yaxis": "y"
        },
        {
         "hovertemplate": "sample_id=idPlaAlba1_1<br>Genome Size post-curation (mbp)=%{x}<br>Number of manual interventions=%{y}<extra></extra>",
         "legendgroup": "idPlaAlba1_1",
         "marker": {
          "color": "#FFA15A",
          "symbol": "circle"
         },
         "mode": "markers",
         "name": "idPlaAlba1_1",
         "orientation": "v",
         "showlegend": true,
         "type": "scatter",
         "x": [
          677.768813
         ],
         "xaxis": "x",
         "y": [
          512
         ],
         "yaxis": "y"
        },
        {
         "hovertemplate": "sample_id=idPolAmen1_1.0<br>Genome Size post-curation (mbp)=%{x}<br>Number of manual interventions=%{y}<extra></extra>",
         "legendgroup": "idPolAmen1_1.0",
         "marker": {
          "color": "#19d3f3",
          "symbol": "circle"
         },
         "mode": "markers",
         "name": "idPolAmen1_1.0",
         "orientation": "v",
         "showlegend": true,
         "type": "scatter",
         "x": [
          1270.755911
         ],
         "xaxis": "x",
         "y": [
          102
         ],
         "yaxis": "y"
        },
        {
         "hovertemplate": "sample_id=idPolAngu1_1.0<br>Genome Size post-curation (mbp)=%{x}<br>Number of manual interventions=%{y}<extra></extra>",
         "legendgroup": "idPolAngu1_1.0",
         "marker": {
          "color": "#FF6692",
          "symbol": "circle"
         },
         "mode": "markers",
         "name": "idPolAngu1_1.0",
         "orientation": "v",
         "showlegend": true,
         "type": "scatter",
         "x": [
          1370.491206
         ],
         "xaxis": "x",
         "y": [
          62
         ],
         "yaxis": "y"
        },
        {
         "hovertemplate": "sample_id=idProAzur1_1.0<br>Genome Size post-curation (mbp)=%{x}<br>Number of manual interventions=%{y}<extra></extra>",
         "legendgroup": "idProAzur1_1.0",
         "marker": {
          "color": "#B6E880",
          "symbol": "circle"
         },
         "mode": "markers",
         "name": "idProAzur1_1.0",
         "orientation": "v",
         "showlegend": true,
         "type": "scatter",
         "x": [
          874.236519
         ],
         "xaxis": "x",
         "y": [
          191
         ],
         "yaxis": "y"
        },
        {
         "hovertemplate": "sample_id=idRhiCamp1_1.0<br>Genome Size post-curation (mbp)=%{x}<br>Number of manual interventions=%{y}<extra></extra>",
         "legendgroup": "idRhiCamp1_1.0",
         "marker": {
          "color": "#FF97FF",
          "symbol": "circle"
         },
         "mode": "markers",
         "name": "idRhiCamp1_1.0",
         "orientation": "v",
         "showlegend": true,
         "type": "scatter",
         "x": [
          719.858466
         ],
         "xaxis": "x",
         "y": [
          174
         ],
         "yaxis": "y"
        },
        {
         "hovertemplate": "sample_id=idSarCaer1_1.0<br>Genome Size post-curation (mbp)=%{x}<br>Number of manual interventions=%{y}<extra></extra>",
         "legendgroup": "idSarCaer1_1.0",
         "marker": {
          "color": "#FECB52",
          "symbol": "circle"
         },
         "mode": "markers",
         "name": "idSarCaer1_1.0",
         "orientation": "v",
         "showlegend": true,
         "type": "scatter",
         "x": [
          597.302449
         ],
         "xaxis": "x",
         "y": [
          245
         ],
         "yaxis": "y"
        },
        {
         "hovertemplate": "sample_id=idSarRose1_1.0<br>Genome Size post-curation (mbp)=%{x}<br>Number of manual interventions=%{y}<extra></extra>",
         "legendgroup": "idSarRose1_1.0",
         "marker": {
          "color": "#636efa",
          "symbol": "circle"
         },
         "mode": "markers",
         "name": "idSarRose1_1.0",
         "orientation": "v",
         "showlegend": true,
         "type": "scatter",
         "x": [
          541.374458
         ],
         "xaxis": "x",
         "y": [
          22
         ],
         "yaxis": "y"
        },
        {
         "hovertemplate": "sample_id=idSarSubv1_1.0<br>Genome Size post-curation (mbp)=%{x}<br>Number of manual interventions=%{y}<extra></extra>",
         "legendgroup": "idSarSubv1_1.0",
         "marker": {
          "color": "#EF553B",
          "symbol": "circle"
         },
         "mode": "markers",
         "name": "idSarSubv1_1.0",
         "orientation": "v",
         "showlegend": true,
         "type": "scatter",
         "x": [
          711.134278
         ],
         "xaxis": "x",
         "y": [
          218
         ],
         "yaxis": "y"
        },
        {
         "hovertemplate": "sample_id=idSarVari1_1.0<br>Genome Size post-curation (mbp)=%{x}<br>Number of manual interventions=%{y}<extra></extra>",
         "legendgroup": "idSarVari1_1.0",
         "marker": {
          "color": "#00cc96",
          "symbol": "circle"
         },
         "mode": "markers",
         "name": "idSarVari1_1.0",
         "orientation": "v",
         "showlegend": true,
         "type": "scatter",
         "x": [
          718.455953
         ],
         "xaxis": "x",
         "y": [
          411
         ],
         "yaxis": "y"
        },
        {
         "hovertemplate": "sample_id=idScaPyra1_1<br>Genome Size post-curation (mbp)=%{x}<br>Number of manual interventions=%{y}<extra></extra>",
         "legendgroup": "idScaPyra1_1",
         "marker": {
          "color": "#ab63fa",
          "symbol": "circle"
         },
         "mode": "markers",
         "name": "idScaPyra1_1",
         "orientation": "v",
         "showlegend": true,
         "type": "scatter",
         "x": [
          320.029822
         ],
         "xaxis": "x",
         "y": [
          123
         ],
         "yaxis": "y"
        },
        {
         "hovertemplate": "sample_id=idSicFerr1_1<br>Genome Size post-curation (mbp)=%{x}<br>Number of manual interventions=%{y}<extra></extra>",
         "legendgroup": "idSicFerr1_1",
         "marker": {
          "color": "#FFA15A",
          "symbol": "circle"
         },
         "mode": "markers",
         "name": "idSicFerr1_1",
         "orientation": "v",
         "showlegend": true,
         "type": "scatter",
         "x": [
          311.916451
         ],
         "xaxis": "x",
         "y": [
          103
         ],
         "yaxis": "y"
        },
        {
         "hovertemplate": "sample_id=idSphTaen1_1.0<br>Genome Size post-curation (mbp)=%{x}<br>Number of manual interventions=%{y}<extra></extra>",
         "legendgroup": "idSphTaen1_1.0",
         "marker": {
          "color": "#19d3f3",
          "symbol": "circle"
         },
         "mode": "markers",
         "name": "idSphTaen1_1.0",
         "orientation": "v",
         "showlegend": true,
         "type": "scatter",
         "x": [
          609.254214
         ],
         "xaxis": "x",
         "y": [
          85
         ],
         "yaxis": "y"
        },
        {
         "hovertemplate": "sample_id=idStoLuna1_1<br>Genome Size post-curation (mbp)=%{x}<br>Number of manual interventions=%{y}<extra></extra>",
         "legendgroup": "idStoLuna1_1",
         "marker": {
          "color": "#FF6692",
          "symbol": "circle"
         },
         "mode": "markers",
         "name": "idStoLuna1_1",
         "orientation": "v",
         "showlegend": true,
         "type": "scatter",
         "x": [
          728.083889
         ],
         "xaxis": "x",
         "y": [
          179
         ],
         "yaxis": "y"
        },
        {
         "hovertemplate": "sample_id=idSyrPipi1_1<br>Genome Size post-curation (mbp)=%{x}<br>Number of manual interventions=%{y}<extra></extra>",
         "legendgroup": "idSyrPipi1_1",
         "marker": {
          "color": "#B6E880",
          "symbol": "circle"
         },
         "mode": "markers",
         "name": "idSyrPipi1_1",
         "orientation": "v",
         "showlegend": true,
         "type": "scatter",
         "x": [
          318.506762
         ],
         "xaxis": "x",
         "y": [
          16
         ],
         "yaxis": "y"
        },
        {
         "hovertemplate": "sample_id=idTacFera2_1<br>Genome Size post-curation (mbp)=%{x}<br>Number of manual interventions=%{y}<extra></extra>",
         "legendgroup": "idTacFera2_1",
         "marker": {
          "color": "#FF97FF",
          "symbol": "circle"
         },
         "mode": "markers",
         "name": "idTacFera2_1",
         "orientation": "v",
         "showlegend": true,
         "type": "scatter",
         "x": [
          751.720058
         ],
         "xaxis": "x",
         "y": [
          306
         ],
         "yaxis": "y"
        },
        {
         "hovertemplate": "sample_id=idTacLuri1_1.0<br>Genome Size post-curation (mbp)=%{x}<br>Number of manual interventions=%{y}<extra></extra>",
         "legendgroup": "idTacLuri1_1.0",
         "marker": {
          "color": "#FECB52",
          "symbol": "circle"
         },
         "mode": "markers",
         "name": "idTacLuri1_1.0",
         "orientation": "v",
         "showlegend": true,
         "type": "scatter",
         "x": [
          899.158429
         ],
         "xaxis": "x",
         "y": [
          164
         ],
         "yaxis": "y"
        },
        {
         "hovertemplate": "sample_id=idTheAcut1_1.0<br>Genome Size post-curation (mbp)=%{x}<br>Number of manual interventions=%{y}<extra></extra>",
         "legendgroup": "idTheAcut1_1.0",
         "marker": {
          "color": "#636efa",
          "symbol": "circle"
         },
         "mode": "markers",
         "name": "idTheAcut1_1.0",
         "orientation": "v",
         "showlegend": true,
         "type": "scatter",
         "x": [
          692.880428
         ],
         "xaxis": "x",
         "y": [
          38
         ],
         "yaxis": "y"
        },
        {
         "hovertemplate": "sample_id=idTheAtra2_1.0<br>Genome Size post-curation (mbp)=%{x}<br>Number of manual interventions=%{y}<extra></extra>",
         "legendgroup": "idTheAtra2_1.0",
         "marker": {
          "color": "#EF553B",
          "symbol": "circle"
         },
         "mode": "markers",
         "name": "idTheAtra2_1.0",
         "orientation": "v",
         "showlegend": true,
         "type": "scatter",
         "x": [
          354.229183
         ],
         "xaxis": "x",
         "y": [
          48
         ],
         "yaxis": "y"
        },
        {
         "hovertemplate": "sample_id=idVolInan1_1<br>Genome Size post-curation (mbp)=%{x}<br>Number of manual interventions=%{y}<extra></extra>",
         "legendgroup": "idVolInan1_1",
         "marker": {
          "color": "#00cc96",
          "symbol": "circle"
         },
         "mode": "markers",
         "name": "idVolInan1_1",
         "orientation": "v",
         "showlegend": true,
         "type": "scatter",
         "x": [
          961.446857
         ],
         "xaxis": "x",
         "y": [
          216
         ],
         "yaxis": "y"
        },
        {
         "hovertemplate": "sample_id=idVolInfl1_1.0<br>Genome Size post-curation (mbp)=%{x}<br>Number of manual interventions=%{y}<extra></extra>",
         "legendgroup": "idVolInfl1_1.0",
         "marker": {
          "color": "#ab63fa",
          "symbol": "circle"
         },
         "mode": "markers",
         "name": "idVolInfl1_1.0",
         "orientation": "v",
         "showlegend": true,
         "type": "scatter",
         "x": [
          753.463946
         ],
         "xaxis": "x",
         "y": [
          180
         ],
         "yaxis": "y"
        },
        {
         "hovertemplate": "sample_id=idXanPedi1_1<br>Genome Size post-curation (mbp)=%{x}<br>Number of manual interventions=%{y}<extra></extra>",
         "legendgroup": "idXanPedi1_1",
         "marker": {
          "color": "#FFA15A",
          "symbol": "circle"
         },
         "mode": "markers",
         "name": "idXanPedi1_1",
         "orientation": "v",
         "showlegend": true,
         "type": "scatter",
         "x": [
          977.153996
         ],
         "xaxis": "x",
         "y": [
          515
         ],
         "yaxis": "y"
        },
        {
         "hovertemplate": "sample_id=idXylSylv2_1<br>Genome Size post-curation (mbp)=%{x}<br>Number of manual interventions=%{y}<extra></extra>",
         "legendgroup": "idXylSylv2_1",
         "marker": {
          "color": "#19d3f3",
          "symbol": "circle"
         },
         "mode": "markers",
         "name": "idXylSylv2_1",
         "orientation": "v",
         "showlegend": true,
         "type": "scatter",
         "x": [
          534.819879
         ],
         "xaxis": "x",
         "y": [
          43
         ],
         "yaxis": "y"
        },
        {
         "name": "Regression Fit",
         "type": "scatter",
         "x": [
          249.257482,
          260.58307517171716,
          271.90866834343433,
          283.2342615151515,
          294.5598546868687,
          305.88544785858585,
          317.211041030303,
          328.5366342020202,
          339.86222737373737,
          351.18782054545454,
          362.5134137171717,
          373.8390068888889,
          385.16460006060606,
          396.49019323232324,
          407.8157864040404,
          419.1413795757576,
          430.46697274747476,
          441.79256591919193,
          453.1181590909091,
          464.4437522626263,
          475.76934543434345,
          487.0949386060606,
          498.4205317777778,
          509.74612494949497,
          521.0717181212121,
          532.3973112929293,
          543.7229044646465,
          555.0484976363637,
          566.3740908080808,
          577.699683979798,
          589.0252771515152,
          600.3508703232324,
          611.6764634949495,
          623.0020566666667,
          634.3276498383839,
          645.653243010101,
          656.9788361818182,
          668.3044293535354,
          679.6300225252526,
          690.9556156969697,
          702.2812088686869,
          713.6068020404041,
          724.9323952121213,
          736.2579883838384,
          747.5835815555556,
          758.9091747272728,
          770.2347678989898,
          781.560361070707,
          792.8859542424242,
          804.2115474141414,
          815.5371405858585,
          826.8627337575757,
          838.1883269292929,
          849.5139201010101,
          860.8395132727272,
          872.1651064444444,
          883.4906996161616,
          894.8162927878788,
          906.1418859595959,
          917.4674791313131,
          928.7930723030303,
          940.1186654747474,
          951.4442586464646,
          962.7698518181818,
          974.095444989899,
          985.4210381616161,
          996.7466313333333,
          1008.0722245050505,
          1019.3978176767677,
          1030.723410848485,
          1042.0490040202021,
          1053.3745971919193,
          1064.7001903636365,
          1076.0257835353536,
          1087.3513767070708,
          1098.676969878788,
          1110.0025630505052,
          1121.3281562222223,
          1132.6537493939395,
          1143.9793425656567,
          1155.3049357373739,
          1166.630528909091,
          1177.9561220808082,
          1189.2817152525254,
          1200.6073084242425,
          1211.9329015959597,
          1223.258494767677,
          1234.584087939394,
          1245.9096811111112,
          1257.2352742828284,
          1268.5608674545456,
          1279.8864606262625,
          1291.2120537979797,
          1302.5376469696969,
          1313.863240141414,
          1325.1888333131312,
          1336.5144264848484,
          1347.8400196565656,
          1359.1656128282827,
          1370.491206
         ],
         "y": [
          85.8930295109938,
          88.52837308359996,
          91.16371665620613,
          93.7990602288123,
          96.43440380141845,
          99.06974737402463,
          101.70509094663079,
          104.34043451923696,
          106.97577809184313,
          109.6111216644493,
          112.24646523705546,
          114.88180880966163,
          117.5171523822678,
          120.15249595487397,
          122.78783952748013,
          125.4231831000863,
          128.05852667269247,
          130.69387024529863,
          133.32921381790482,
          135.96455739051098,
          138.59990096311714,
          141.23524453572333,
          143.87058810832946,
          146.50593168093565,
          149.1412752535418,
          151.77661882614797,
          154.41196239875416,
          157.04730597136032,
          159.68264954396648,
          162.31799311657267,
          164.95333668917883,
          167.588680261785,
          170.22402383439115,
          172.85936740699734,
          175.4947109796035,
          178.13005455220966,
          180.76539812481582,
          183.400741697422,
          186.03608527002817,
          188.67142884263433,
          191.3067724152405,
          193.94211598784668,
          196.57745956045284,
          199.212803133059,
          201.84814670566516,
          204.48349027827135,
          207.11883385087748,
          209.75417742348364,
          212.3895209960898,
          215.024864568696,
          217.66020814130215,
          220.2955517139083,
          222.93089528651447,
          225.56623885912066,
          228.20158243172682,
          230.83692600433298,
          233.47226957693914,
          236.10761314954533,
          238.7429567221515,
          241.37830029475765,
          244.0136438673638,
          246.64898743997,
          249.28433101257616,
          251.91967458518232,
          254.55501815778848,
          257.19036173039467,
          259.82570530300086,
          262.461048875607,
          265.0963924482131,
          267.73173602081937,
          270.3670795934255,
          273.0024231660317,
          275.6377667386379,
          278.27311031124407,
          280.9084538838502,
          283.54379745645633,
          286.1791410290625,
          288.8144846016687,
          291.44982817427484,
          294.08517174688103,
          296.7205153194872,
          299.35585889209335,
          301.99120246469954,
          304.62654603730573,
          307.26188960991186,
          309.89723318251805,
          312.5325767551242,
          315.16792032773037,
          317.80326390033656,
          320.4386074729427,
          323.0739510455489,
          325.709294618155,
          328.34463819076115,
          330.97998176336733,
          333.61532533597347,
          336.25066890857966,
          338.88601248118584,
          341.521356053792,
          344.15669962639817,
          346.79204319900435
         ]
        }
       ],
       "layout": {
        "legend": {
         "title": {
          "text": "sample_id"
         },
         "tracegroupgap": 0
        },
        "template": {
         "data": {
          "bar": [
           {
            "error_x": {
             "color": "#2a3f5f"
            },
            "error_y": {
             "color": "#2a3f5f"
            },
            "marker": {
             "line": {
              "color": "#E5ECF6",
              "width": 0.5
             },
             "pattern": {
              "fillmode": "overlay",
              "size": 10,
              "solidity": 0.2
             }
            },
            "type": "bar"
           }
          ],
          "barpolar": [
           {
            "marker": {
             "line": {
              "color": "#E5ECF6",
              "width": 0.5
             },
             "pattern": {
              "fillmode": "overlay",
              "size": 10,
              "solidity": 0.2
             }
            },
            "type": "barpolar"
           }
          ],
          "carpet": [
           {
            "aaxis": {
             "endlinecolor": "#2a3f5f",
             "gridcolor": "white",
             "linecolor": "white",
             "minorgridcolor": "white",
             "startlinecolor": "#2a3f5f"
            },
            "baxis": {
             "endlinecolor": "#2a3f5f",
             "gridcolor": "white",
             "linecolor": "white",
             "minorgridcolor": "white",
             "startlinecolor": "#2a3f5f"
            },
            "type": "carpet"
           }
          ],
          "choropleth": [
           {
            "colorbar": {
             "outlinewidth": 0,
             "ticks": ""
            },
            "type": "choropleth"
           }
          ],
          "contour": [
           {
            "colorbar": {
             "outlinewidth": 0,
             "ticks": ""
            },
            "colorscale": [
             [
              0,
              "#0d0887"
             ],
             [
              0.1111111111111111,
              "#46039f"
             ],
             [
              0.2222222222222222,
              "#7201a8"
             ],
             [
              0.3333333333333333,
              "#9c179e"
             ],
             [
              0.4444444444444444,
              "#bd3786"
             ],
             [
              0.5555555555555556,
              "#d8576b"
             ],
             [
              0.6666666666666666,
              "#ed7953"
             ],
             [
              0.7777777777777778,
              "#fb9f3a"
             ],
             [
              0.8888888888888888,
              "#fdca26"
             ],
             [
              1,
              "#f0f921"
             ]
            ],
            "type": "contour"
           }
          ],
          "contourcarpet": [
           {
            "colorbar": {
             "outlinewidth": 0,
             "ticks": ""
            },
            "type": "contourcarpet"
           }
          ],
          "heatmap": [
           {
            "colorbar": {
             "outlinewidth": 0,
             "ticks": ""
            },
            "colorscale": [
             [
              0,
              "#0d0887"
             ],
             [
              0.1111111111111111,
              "#46039f"
             ],
             [
              0.2222222222222222,
              "#7201a8"
             ],
             [
              0.3333333333333333,
              "#9c179e"
             ],
             [
              0.4444444444444444,
              "#bd3786"
             ],
             [
              0.5555555555555556,
              "#d8576b"
             ],
             [
              0.6666666666666666,
              "#ed7953"
             ],
             [
              0.7777777777777778,
              "#fb9f3a"
             ],
             [
              0.8888888888888888,
              "#fdca26"
             ],
             [
              1,
              "#f0f921"
             ]
            ],
            "type": "heatmap"
           }
          ],
          "heatmapgl": [
           {
            "colorbar": {
             "outlinewidth": 0,
             "ticks": ""
            },
            "colorscale": [
             [
              0,
              "#0d0887"
             ],
             [
              0.1111111111111111,
              "#46039f"
             ],
             [
              0.2222222222222222,
              "#7201a8"
             ],
             [
              0.3333333333333333,
              "#9c179e"
             ],
             [
              0.4444444444444444,
              "#bd3786"
             ],
             [
              0.5555555555555556,
              "#d8576b"
             ],
             [
              0.6666666666666666,
              "#ed7953"
             ],
             [
              0.7777777777777778,
              "#fb9f3a"
             ],
             [
              0.8888888888888888,
              "#fdca26"
             ],
             [
              1,
              "#f0f921"
             ]
            ],
            "type": "heatmapgl"
           }
          ],
          "histogram": [
           {
            "marker": {
             "pattern": {
              "fillmode": "overlay",
              "size": 10,
              "solidity": 0.2
             }
            },
            "type": "histogram"
           }
          ],
          "histogram2d": [
           {
            "colorbar": {
             "outlinewidth": 0,
             "ticks": ""
            },
            "colorscale": [
             [
              0,
              "#0d0887"
             ],
             [
              0.1111111111111111,
              "#46039f"
             ],
             [
              0.2222222222222222,
              "#7201a8"
             ],
             [
              0.3333333333333333,
              "#9c179e"
             ],
             [
              0.4444444444444444,
              "#bd3786"
             ],
             [
              0.5555555555555556,
              "#d8576b"
             ],
             [
              0.6666666666666666,
              "#ed7953"
             ],
             [
              0.7777777777777778,
              "#fb9f3a"
             ],
             [
              0.8888888888888888,
              "#fdca26"
             ],
             [
              1,
              "#f0f921"
             ]
            ],
            "type": "histogram2d"
           }
          ],
          "histogram2dcontour": [
           {
            "colorbar": {
             "outlinewidth": 0,
             "ticks": ""
            },
            "colorscale": [
             [
              0,
              "#0d0887"
             ],
             [
              0.1111111111111111,
              "#46039f"
             ],
             [
              0.2222222222222222,
              "#7201a8"
             ],
             [
              0.3333333333333333,
              "#9c179e"
             ],
             [
              0.4444444444444444,
              "#bd3786"
             ],
             [
              0.5555555555555556,
              "#d8576b"
             ],
             [
              0.6666666666666666,
              "#ed7953"
             ],
             [
              0.7777777777777778,
              "#fb9f3a"
             ],
             [
              0.8888888888888888,
              "#fdca26"
             ],
             [
              1,
              "#f0f921"
             ]
            ],
            "type": "histogram2dcontour"
           }
          ],
          "mesh3d": [
           {
            "colorbar": {
             "outlinewidth": 0,
             "ticks": ""
            },
            "type": "mesh3d"
           }
          ],
          "parcoords": [
           {
            "line": {
             "colorbar": {
              "outlinewidth": 0,
              "ticks": ""
             }
            },
            "type": "parcoords"
           }
          ],
          "pie": [
           {
            "automargin": true,
            "type": "pie"
           }
          ],
          "scatter": [
           {
            "fillpattern": {
             "fillmode": "overlay",
             "size": 10,
             "solidity": 0.2
            },
            "type": "scatter"
           }
          ],
          "scatter3d": [
           {
            "line": {
             "colorbar": {
              "outlinewidth": 0,
              "ticks": ""
             }
            },
            "marker": {
             "colorbar": {
              "outlinewidth": 0,
              "ticks": ""
             }
            },
            "type": "scatter3d"
           }
          ],
          "scattercarpet": [
           {
            "marker": {
             "colorbar": {
              "outlinewidth": 0,
              "ticks": ""
             }
            },
            "type": "scattercarpet"
           }
          ],
          "scattergeo": [
           {
            "marker": {
             "colorbar": {
              "outlinewidth": 0,
              "ticks": ""
             }
            },
            "type": "scattergeo"
           }
          ],
          "scattergl": [
           {
            "marker": {
             "colorbar": {
              "outlinewidth": 0,
              "ticks": ""
             }
            },
            "type": "scattergl"
           }
          ],
          "scattermapbox": [
           {
            "marker": {
             "colorbar": {
              "outlinewidth": 0,
              "ticks": ""
             }
            },
            "type": "scattermapbox"
           }
          ],
          "scatterpolar": [
           {
            "marker": {
             "colorbar": {
              "outlinewidth": 0,
              "ticks": ""
             }
            },
            "type": "scatterpolar"
           }
          ],
          "scatterpolargl": [
           {
            "marker": {
             "colorbar": {
              "outlinewidth": 0,
              "ticks": ""
             }
            },
            "type": "scatterpolargl"
           }
          ],
          "scatterternary": [
           {
            "marker": {
             "colorbar": {
              "outlinewidth": 0,
              "ticks": ""
             }
            },
            "type": "scatterternary"
           }
          ],
          "surface": [
           {
            "colorbar": {
             "outlinewidth": 0,
             "ticks": ""
            },
            "colorscale": [
             [
              0,
              "#0d0887"
             ],
             [
              0.1111111111111111,
              "#46039f"
             ],
             [
              0.2222222222222222,
              "#7201a8"
             ],
             [
              0.3333333333333333,
              "#9c179e"
             ],
             [
              0.4444444444444444,
              "#bd3786"
             ],
             [
              0.5555555555555556,
              "#d8576b"
             ],
             [
              0.6666666666666666,
              "#ed7953"
             ],
             [
              0.7777777777777778,
              "#fb9f3a"
             ],
             [
              0.8888888888888888,
              "#fdca26"
             ],
             [
              1,
              "#f0f921"
             ]
            ],
            "type": "surface"
           }
          ],
          "table": [
           {
            "cells": {
             "fill": {
              "color": "#EBF0F8"
             },
             "line": {
              "color": "white"
             }
            },
            "header": {
             "fill": {
              "color": "#C8D4E3"
             },
             "line": {
              "color": "white"
             }
            },
            "type": "table"
           }
          ]
         },
         "layout": {
          "annotationdefaults": {
           "arrowcolor": "#2a3f5f",
           "arrowhead": 0,
           "arrowwidth": 1
          },
          "autotypenumbers": "strict",
          "coloraxis": {
           "colorbar": {
            "outlinewidth": 0,
            "ticks": ""
           }
          },
          "colorscale": {
           "diverging": [
            [
             0,
             "#8e0152"
            ],
            [
             0.1,
             "#c51b7d"
            ],
            [
             0.2,
             "#de77ae"
            ],
            [
             0.3,
             "#f1b6da"
            ],
            [
             0.4,
             "#fde0ef"
            ],
            [
             0.5,
             "#f7f7f7"
            ],
            [
             0.6,
             "#e6f5d0"
            ],
            [
             0.7,
             "#b8e186"
            ],
            [
             0.8,
             "#7fbc41"
            ],
            [
             0.9,
             "#4d9221"
            ],
            [
             1,
             "#276419"
            ]
           ],
           "sequential": [
            [
             0,
             "#0d0887"
            ],
            [
             0.1111111111111111,
             "#46039f"
            ],
            [
             0.2222222222222222,
             "#7201a8"
            ],
            [
             0.3333333333333333,
             "#9c179e"
            ],
            [
             0.4444444444444444,
             "#bd3786"
            ],
            [
             0.5555555555555556,
             "#d8576b"
            ],
            [
             0.6666666666666666,
             "#ed7953"
            ],
            [
             0.7777777777777778,
             "#fb9f3a"
            ],
            [
             0.8888888888888888,
             "#fdca26"
            ],
            [
             1,
             "#f0f921"
            ]
           ],
           "sequentialminus": [
            [
             0,
             "#0d0887"
            ],
            [
             0.1111111111111111,
             "#46039f"
            ],
            [
             0.2222222222222222,
             "#7201a8"
            ],
            [
             0.3333333333333333,
             "#9c179e"
            ],
            [
             0.4444444444444444,
             "#bd3786"
            ],
            [
             0.5555555555555556,
             "#d8576b"
            ],
            [
             0.6666666666666666,
             "#ed7953"
            ],
            [
             0.7777777777777778,
             "#fb9f3a"
            ],
            [
             0.8888888888888888,
             "#fdca26"
            ],
            [
             1,
             "#f0f921"
            ]
           ]
          },
          "colorway": [
           "#636efa",
           "#EF553B",
           "#00cc96",
           "#ab63fa",
           "#FFA15A",
           "#19d3f3",
           "#FF6692",
           "#B6E880",
           "#FF97FF",
           "#FECB52"
          ],
          "font": {
           "color": "#2a3f5f"
          },
          "geo": {
           "bgcolor": "white",
           "lakecolor": "white",
           "landcolor": "#E5ECF6",
           "showlakes": true,
           "showland": true,
           "subunitcolor": "white"
          },
          "hoverlabel": {
           "align": "left"
          },
          "hovermode": "closest",
          "mapbox": {
           "style": "light"
          },
          "paper_bgcolor": "white",
          "plot_bgcolor": "#E5ECF6",
          "polar": {
           "angularaxis": {
            "gridcolor": "white",
            "linecolor": "white",
            "ticks": ""
           },
           "bgcolor": "#E5ECF6",
           "radialaxis": {
            "gridcolor": "white",
            "linecolor": "white",
            "ticks": ""
           }
          },
          "scene": {
           "xaxis": {
            "backgroundcolor": "#E5ECF6",
            "gridcolor": "white",
            "gridwidth": 2,
            "linecolor": "white",
            "showbackground": true,
            "ticks": "",
            "zerolinecolor": "white"
           },
           "yaxis": {
            "backgroundcolor": "#E5ECF6",
            "gridcolor": "white",
            "gridwidth": 2,
            "linecolor": "white",
            "showbackground": true,
            "ticks": "",
            "zerolinecolor": "white"
           },
           "zaxis": {
            "backgroundcolor": "#E5ECF6",
            "gridcolor": "white",
            "gridwidth": 2,
            "linecolor": "white",
            "showbackground": true,
            "ticks": "",
            "zerolinecolor": "white"
           }
          },
          "shapedefaults": {
           "line": {
            "color": "#2a3f5f"
           }
          },
          "ternary": {
           "aaxis": {
            "gridcolor": "white",
            "linecolor": "white",
            "ticks": ""
           },
           "baxis": {
            "gridcolor": "white",
            "linecolor": "white",
            "ticks": ""
           },
           "bgcolor": "#E5ECF6",
           "caxis": {
            "gridcolor": "white",
            "linecolor": "white",
            "ticks": ""
           }
          },
          "title": {
           "x": 0.05
          },
          "xaxis": {
           "automargin": true,
           "gridcolor": "white",
           "linecolor": "white",
           "ticks": "",
           "title": {
            "standoff": 15
           },
           "zerolinecolor": "white",
           "zerolinewidth": 2
          },
          "yaxis": {
           "automargin": true,
           "gridcolor": "white",
           "linecolor": "white",
           "ticks": "",
           "title": {
            "standoff": 15
           },
           "zerolinecolor": "white",
           "zerolinewidth": 2
          }
         }
        },
        "title": {
         "text": "Length of Genome post-curation vs the number of manual interventions"
        },
        "xaxis": {
         "anchor": "y",
         "domain": [
          0,
          1
         ],
         "title": {
          "text": "Genome Size post-curation (mbp)"
         }
        },
        "yaxis": {
         "anchor": "x",
         "domain": [
          0,
          1
         ],
         "title": {
          "text": "Number of manual interventions"
         }
        }
       }
      }
     },
     "metadata": {},
     "output_type": "display_data"
    },
    {
     "name": "stdout",
     "output_type": "stream",
     "text": [
      "\n"
     ]
    },
    {
     "data": {
      "application/vnd.plotly.v1+json": {
       "config": {
        "plotlyServerURL": "https://plot.ly"
       },
       "data": [
        {
         "hovertemplate": "sample_id=idMyoTess1_1.0<br>Heterozygosity of assembly (%) =%{x}<br>Number of manual interventions=%{y}<extra></extra>",
         "legendgroup": "idMyoTess1_1.0",
         "marker": {
          "color": "#636efa",
          "symbol": "circle"
         },
         "mode": "markers",
         "name": "idMyoTess1_1.0",
         "orientation": "v",
         "showlegend": true,
         "type": "scatter",
         "x": [
          0.4
         ],
         "xaxis": "x",
         "y": [
          6
         ],
         "yaxis": "y"
        },
        {
         "hovertemplate": "sample_id=idBomDisc1_1<br>Heterozygosity of assembly (%) =%{x}<br>Number of manual interventions=%{y}<extra></extra>",
         "legendgroup": "idBomDisc1_1",
         "marker": {
          "color": "#EF553B",
          "symbol": "circle"
         },
         "mode": "markers",
         "name": "idBomDisc1_1",
         "orientation": "v",
         "showlegend": true,
         "type": "scatter",
         "x": [
          0.4
         ],
         "xaxis": "x",
         "y": [
          53
         ],
         "yaxis": "y"
        },
        {
         "hovertemplate": "sample_id=idCluTigr1_1.0<br>Heterozygosity of assembly (%) =%{x}<br>Number of manual interventions=%{y}<extra></extra>",
         "legendgroup": "idCluTigr1_1.0",
         "marker": {
          "color": "#00cc96",
          "symbol": "circle"
         },
         "mode": "markers",
         "name": "idCluTigr1_1.0",
         "orientation": "v",
         "showlegend": true,
         "type": "scatter",
         "x": [
          0.6
         ],
         "xaxis": "x",
         "y": [
          276
         ],
         "yaxis": "y"
        },
        {
         "hovertemplate": "sample_id=idBraLaph1_1.0<br>Heterozygosity of assembly (%) =%{x}<br>Number of manual interventions=%{y}<extra></extra>",
         "legendgroup": "idBraLaph1_1.0",
         "marker": {
          "color": "#ab63fa",
          "symbol": "circle"
         },
         "mode": "markers",
         "name": "idBraLaph1_1.0",
         "orientation": "v",
         "showlegend": true,
         "type": "scatter",
         "x": [
          0.6
         ],
         "xaxis": "x",
         "y": [
          40
         ],
         "yaxis": "y"
        },
        {
         "hovertemplate": "sample_id=idVolInan1_1<br>Heterozygosity of assembly (%) =%{x}<br>Number of manual interventions=%{y}<extra></extra>",
         "legendgroup": "idVolInan1_1",
         "marker": {
          "color": "#FFA15A",
          "symbol": "circle"
         },
         "mode": "markers",
         "name": "idVolInan1_1",
         "orientation": "v",
         "showlegend": true,
         "type": "scatter",
         "x": [
          0.6
         ],
         "xaxis": "x",
         "y": [
          216
         ],
         "yaxis": "y"
        },
        {
         "hovertemplate": "sample_id=idCriBerb1_1<br>Heterozygosity of assembly (%) =%{x}<br>Number of manual interventions=%{y}<extra></extra>",
         "legendgroup": "idCriBerb1_1",
         "marker": {
          "color": "#19d3f3",
          "symbol": "circle"
         },
         "mode": "markers",
         "name": "idCriBerb1_1",
         "orientation": "v",
         "showlegend": true,
         "type": "scatter",
         "x": [
          0.7
         ],
         "xaxis": "x",
         "y": [
          29
         ],
         "yaxis": "y"
        },
        {
         "hovertemplate": "sample_id=idCheVulp2_1.0<br>Heterozygosity of assembly (%) =%{x}<br>Number of manual interventions=%{y}<extra></extra>",
         "legendgroup": "idCheVulp2_1.0",
         "marker": {
          "color": "#FF6692",
          "symbol": "circle"
         },
         "mode": "markers",
         "name": "idCheVulp2_1.0",
         "orientation": "v",
         "showlegend": true,
         "type": "scatter",
         "x": [
          0.7
         ],
         "xaxis": "x",
         "y": [
          17
         ],
         "yaxis": "y"
        },
        {
         "hovertemplate": "sample_id=idPhyMeln1_1.0<br>Heterozygosity of assembly (%) =%{x}<br>Number of manual interventions=%{y}<extra></extra>",
         "legendgroup": "idPhyMeln1_1.0",
         "marker": {
          "color": "#B6E880",
          "symbol": "circle"
         },
         "mode": "markers",
         "name": "idPhyMeln1_1.0",
         "orientation": "v",
         "showlegend": true,
         "type": "scatter",
         "x": [
          0.8
         ],
         "xaxis": "x",
         "y": [
          81
         ],
         "yaxis": "y"
        },
        {
         "hovertemplate": "sample_id=idXylSylv2_1<br>Heterozygosity of assembly (%) =%{x}<br>Number of manual interventions=%{y}<extra></extra>",
         "legendgroup": "idXylSylv2_1",
         "marker": {
          "color": "#FF97FF",
          "symbol": "circle"
         },
         "mode": "markers",
         "name": "idXylSylv2_1",
         "orientation": "v",
         "showlegend": true,
         "type": "scatter",
         "x": [
          0.8
         ],
         "xaxis": "x",
         "y": [
          43
         ],
         "yaxis": "y"
        },
        {
         "hovertemplate": "sample_id=idTheAcut1_1.0<br>Heterozygosity of assembly (%) =%{x}<br>Number of manual interventions=%{y}<extra></extra>",
         "legendgroup": "idTheAcut1_1.0",
         "marker": {
          "color": "#FECB52",
          "symbol": "circle"
         },
         "mode": "markers",
         "name": "idTheAcut1_1.0",
         "orientation": "v",
         "showlegend": true,
         "type": "scatter",
         "x": [
          0.8
         ],
         "xaxis": "x",
         "y": [
          38
         ],
         "yaxis": "y"
        },
        {
         "hovertemplate": "sample_id=idTacLuri1_1.0<br>Heterozygosity of assembly (%) =%{x}<br>Number of manual interventions=%{y}<extra></extra>",
         "legendgroup": "idTacLuri1_1.0",
         "marker": {
          "color": "#636efa",
          "symbol": "circle"
         },
         "mode": "markers",
         "name": "idTacLuri1_1.0",
         "orientation": "v",
         "showlegend": true,
         "type": "scatter",
         "x": [
          0.9
         ],
         "xaxis": "x",
         "y": [
          164
         ],
         "yaxis": "y"
        },
        {
         "hovertemplate": "sample_id=idCorMarg1_1<br>Heterozygosity of assembly (%) =%{x}<br>Number of manual interventions=%{y}<extra></extra>",
         "legendgroup": "idCorMarg1_1",
         "marker": {
          "color": "#EF553B",
          "symbol": "circle"
         },
         "mode": "markers",
         "name": "idCorMarg1_1",
         "orientation": "v",
         "showlegend": true,
         "type": "scatter",
         "x": [
          0.9
         ],
         "xaxis": "x",
         "y": [
          625
         ],
         "yaxis": "y"
        },
        {
         "hovertemplate": "sample_id=idVolInfl1_1.0<br>Heterozygosity of assembly (%) =%{x}<br>Number of manual interventions=%{y}<extra></extra>",
         "legendgroup": "idVolInfl1_1.0",
         "marker": {
          "color": "#00cc96",
          "symbol": "circle"
         },
         "mode": "markers",
         "name": "idVolInfl1_1.0",
         "orientation": "v",
         "showlegend": true,
         "type": "scatter",
         "x": [
          0.9
         ],
         "xaxis": "x",
         "y": [
          180
         ],
         "yaxis": "y"
        },
        {
         "hovertemplate": "sample_id=idPolAngu1_1.0<br>Heterozygosity of assembly (%) =%{x}<br>Number of manual interventions=%{y}<extra></extra>",
         "legendgroup": "idPolAngu1_1.0",
         "marker": {
          "color": "#ab63fa",
          "symbol": "circle"
         },
         "mode": "markers",
         "name": "idPolAngu1_1.0",
         "orientation": "v",
         "showlegend": true,
         "type": "scatter",
         "x": [
          0.9
         ],
         "xaxis": "x",
         "y": [
          62
         ],
         "yaxis": "y"
        },
        {
         "hovertemplate": "sample_id=idBomMajo1_1.0<br>Heterozygosity of assembly (%) =%{x}<br>Number of manual interventions=%{y}<extra></extra>",
         "legendgroup": "idBomMajo1_1.0",
         "marker": {
          "color": "#FFA15A",
          "symbol": "circle"
         },
         "mode": "markers",
         "name": "idBomMajo1_1.0",
         "orientation": "v",
         "showlegend": true,
         "type": "scatter",
         "x": [
          1
         ],
         "xaxis": "x",
         "y": [
          102
         ],
         "yaxis": "y"
        },
        {
         "hovertemplate": "sample_id=idMyaFlor2_1.0<br>Heterozygosity of assembly (%) =%{x}<br>Number of manual interventions=%{y}<extra></extra>",
         "legendgroup": "idMyaFlor2_1.0",
         "marker": {
          "color": "#19d3f3",
          "symbol": "circle"
         },
         "mode": "markers",
         "name": "idMyaFlor2_1.0",
         "orientation": "v",
         "showlegend": true,
         "type": "scatter",
         "x": [
          1
         ],
         "xaxis": "x",
         "y": [
          89
         ],
         "yaxis": "y"
        },
        {
         "hovertemplate": "sample_id=idMacAtri3_1.0<br>Heterozygosity of assembly (%) =%{x}<br>Number of manual interventions=%{y}<extra></extra>",
         "legendgroup": "idMacAtri3_1.0",
         "marker": {
          "color": "#FF6692",
          "symbol": "circle"
         },
         "mode": "markers",
         "name": "idMacAtri3_1.0",
         "orientation": "v",
         "showlegend": true,
         "type": "scatter",
         "x": [
          1.1
         ],
         "xaxis": "x",
         "y": [
          17
         ],
         "yaxis": "y"
        },
        {
         "hovertemplate": "sample_id=idPolAmen1_1.0<br>Heterozygosity of assembly (%) =%{x}<br>Number of manual interventions=%{y}<extra></extra>",
         "legendgroup": "idPolAmen1_1.0",
         "marker": {
          "color": "#B6E880",
          "symbol": "circle"
         },
         "mode": "markers",
         "name": "idPolAmen1_1.0",
         "orientation": "v",
         "showlegend": true,
         "type": "scatter",
         "x": [
          1.1
         ],
         "xaxis": "x",
         "y": [
          102
         ],
         "yaxis": "y"
        },
        {
         "hovertemplate": "sample_id=idEriPert2_1<br>Heterozygosity of assembly (%) =%{x}<br>Number of manual interventions=%{y}<extra></extra>",
         "legendgroup": "idEriPert2_1",
         "marker": {
          "color": "#FF97FF",
          "symbol": "circle"
         },
         "mode": "markers",
         "name": "idEriPert2_1",
         "orientation": "v",
         "showlegend": true,
         "type": "scatter",
         "x": [
          1.1
         ],
         "xaxis": "x",
         "y": [
          181
         ],
         "yaxis": "y"
        },
        {
         "hovertemplate": "sample_id=idLeuLate1_1.0<br>Heterozygosity of assembly (%) =%{x}<br>Number of manual interventions=%{y}<extra></extra>",
         "legendgroup": "idLeuLate1_1.0",
         "marker": {
          "color": "#FECB52",
          "symbol": "circle"
         },
         "mode": "markers",
         "name": "idLeuLate1_1.0",
         "orientation": "v",
         "showlegend": true,
         "type": "scatter",
         "x": [
          1.1
         ],
         "xaxis": "x",
         "y": [
          137
         ],
         "yaxis": "y"
        },
        {
         "hovertemplate": "sample_id=idProAzur1_1.0<br>Heterozygosity of assembly (%) =%{x}<br>Number of manual interventions=%{y}<extra></extra>",
         "legendgroup": "idProAzur1_1.0",
         "marker": {
          "color": "#636efa",
          "symbol": "circle"
         },
         "mode": "markers",
         "name": "idProAzur1_1.0",
         "orientation": "v",
         "showlegend": true,
         "type": "scatter",
         "x": [
          1.2
         ],
         "xaxis": "x",
         "y": [
          191
         ],
         "yaxis": "y"
        },
        {
         "hovertemplate": "sample_id=idBibMarc1_1<br>Heterozygosity of assembly (%) =%{x}<br>Number of manual interventions=%{y}<extra></extra>",
         "legendgroup": "idBibMarc1_1",
         "marker": {
          "color": "#EF553B",
          "symbol": "circle"
         },
         "mode": "markers",
         "name": "idBibMarc1_1",
         "orientation": "v",
         "showlegend": true,
         "type": "scatter",
         "x": [
          1.2
         ],
         "xaxis": "x",
         "y": [
          14
         ],
         "yaxis": "y"
        },
        {
         "hovertemplate": "sample_id=idNowFero1_1.0<br>Heterozygosity of assembly (%) =%{x}<br>Number of manual interventions=%{y}<extra></extra>",
         "legendgroup": "idNowFero1_1.0",
         "marker": {
          "color": "#00cc96",
          "symbol": "circle"
         },
         "mode": "markers",
         "name": "idNowFero1_1.0",
         "orientation": "v",
         "showlegend": true,
         "type": "scatter",
         "x": [
          1.3
         ],
         "xaxis": "x",
         "y": [
          86
         ],
         "yaxis": "y"
        },
        {
         "hovertemplate": "sample_id=idBelPand1_2.0<br>Heterozygosity of assembly (%) =%{x}<br>Number of manual interventions=%{y}<extra></extra>",
         "legendgroup": "idBelPand1_2.0",
         "marker": {
          "color": "#ab63fa",
          "symbol": "circle"
         },
         "mode": "markers",
         "name": "idBelPand1_2.0",
         "orientation": "v",
         "showlegend": true,
         "type": "scatter",
         "x": [
          1.3
         ],
         "xaxis": "x",
         "y": [
          24
         ],
         "yaxis": "y"
        },
        {
         "hovertemplate": "sample_id=idEpiGros1_1.0<br>Heterozygosity of assembly (%) =%{x}<br>Number of manual interventions=%{y}<extra></extra>",
         "legendgroup": "idEpiGros1_1.0",
         "marker": {
          "color": "#FFA15A",
          "symbol": "circle"
         },
         "mode": "markers",
         "name": "idEpiGros1_1.0",
         "orientation": "v",
         "showlegend": true,
         "type": "scatter",
         "x": [
          1.3
         ],
         "xaxis": "x",
         "y": [
          272
         ],
         "yaxis": "y"
        },
        {
         "hovertemplate": "sample_id=idEriTena2_1<br>Heterozygosity of assembly (%) =%{x}<br>Number of manual interventions=%{y}<extra></extra>",
         "legendgroup": "idEriTena2_1",
         "marker": {
          "color": "#19d3f3",
          "symbol": "circle"
         },
         "mode": "markers",
         "name": "idEriTena2_1",
         "orientation": "v",
         "showlegend": true,
         "type": "scatter",
         "x": [
          1.3
         ],
         "xaxis": "x",
         "y": [
          82
         ],
         "yaxis": "y"
        },
        {
         "hovertemplate": "sample_id=idEpiSucc1_1.0<br>Heterozygosity of assembly (%) =%{x}<br>Number of manual interventions=%{y}<extra></extra>",
         "legendgroup": "idEpiSucc1_1.0",
         "marker": {
          "color": "#FF6692",
          "symbol": "circle"
         },
         "mode": "markers",
         "name": "idEpiSucc1_1.0",
         "orientation": "v",
         "showlegend": true,
         "type": "scatter",
         "x": [
          1.3
         ],
         "xaxis": "x",
         "y": [
          76
         ],
         "yaxis": "y"
        },
        {
         "hovertemplate": "sample_id=idXanPedi1_1<br>Heterozygosity of assembly (%) =%{x}<br>Number of manual interventions=%{y}<extra></extra>",
         "legendgroup": "idXanPedi1_1",
         "marker": {
          "color": "#B6E880",
          "symbol": "circle"
         },
         "mode": "markers",
         "name": "idXanPedi1_1",
         "orientation": "v",
         "showlegend": true,
         "type": "scatter",
         "x": [
          1.4
         ],
         "xaxis": "x",
         "y": [
          515
         ],
         "yaxis": "y"
        },
        {
         "hovertemplate": "sample_id=idSyrPipi1_1<br>Heterozygosity of assembly (%) =%{x}<br>Number of manual interventions=%{y}<extra></extra>",
         "legendgroup": "idSyrPipi1_1",
         "marker": {
          "color": "#FF97FF",
          "symbol": "circle"
         },
         "mode": "markers",
         "name": "idSyrPipi1_1",
         "orientation": "v",
         "showlegend": true,
         "type": "scatter",
         "x": [
          1.4
         ],
         "xaxis": "x",
         "y": [
          16
         ],
         "yaxis": "y"
        },
        {
         "hovertemplate": "sample_id=idSicFerr1_1<br>Heterozygosity of assembly (%) =%{x}<br>Number of manual interventions=%{y}<extra></extra>",
         "legendgroup": "idSicFerr1_1",
         "marker": {
          "color": "#FECB52",
          "symbol": "circle"
         },
         "mode": "markers",
         "name": "idSicFerr1_1",
         "orientation": "v",
         "showlegend": true,
         "type": "scatter",
         "x": [
          1.4
         ],
         "xaxis": "x",
         "y": [
          103
         ],
         "yaxis": "y"
        },
        {
         "hovertemplate": "sample_id=idStoLuna1_1<br>Heterozygosity of assembly (%) =%{x}<br>Number of manual interventions=%{y}<extra></extra>",
         "legendgroup": "idStoLuna1_1",
         "marker": {
          "color": "#636efa",
          "symbol": "circle"
         },
         "mode": "markers",
         "name": "idStoLuna1_1",
         "orientation": "v",
         "showlegend": true,
         "type": "scatter",
         "x": [
          1.7
         ],
         "xaxis": "x",
         "y": [
          179
         ],
         "yaxis": "y"
        },
        {
         "hovertemplate": "sample_id=idTacFera2_1<br>Heterozygosity of assembly (%) =%{x}<br>Number of manual interventions=%{y}<extra></extra>",
         "legendgroup": "idTacFera2_1",
         "marker": {
          "color": "#EF553B",
          "symbol": "circle"
         },
         "mode": "markers",
         "name": "idTacFera2_1",
         "orientation": "v",
         "showlegend": true,
         "type": "scatter",
         "x": [
          1.7
         ],
         "xaxis": "x",
         "y": [
          306
         ],
         "yaxis": "y"
        },
        {
         "hovertemplate": "sample_id=idEupLati1_1.0<br>Heterozygosity of assembly (%) =%{x}<br>Number of manual interventions=%{y}<extra></extra>",
         "legendgroup": "idEupLati1_1.0",
         "marker": {
          "color": "#00cc96",
          "symbol": "circle"
         },
         "mode": "markers",
         "name": "idEupLati1_1.0",
         "orientation": "v",
         "showlegend": true,
         "type": "scatter",
         "x": [
          1.8
         ],
         "xaxis": "x",
         "y": [
          509
         ],
         "yaxis": "y"
        },
        {
         "hovertemplate": "sample_id=idSphTaen1_1.0<br>Heterozygosity of assembly (%) =%{x}<br>Number of manual interventions=%{y}<extra></extra>",
         "legendgroup": "idSphTaen1_1.0",
         "marker": {
          "color": "#ab63fa",
          "symbol": "circle"
         },
         "mode": "markers",
         "name": "idSphTaen1_1.0",
         "orientation": "v",
         "showlegend": true,
         "type": "scatter",
         "x": [
          2
         ],
         "xaxis": "x",
         "y": [
          85
         ],
         "yaxis": "y"
        },
        {
         "hovertemplate": "sample_id=idGymRotn1_2.0<br>Heterozygosity of assembly (%) =%{x}<br>Number of manual interventions=%{y}<extra></extra>",
         "legendgroup": "idGymRotn1_2.0",
         "marker": {
          "color": "#FFA15A",
          "symbol": "circle"
         },
         "mode": "markers",
         "name": "idGymRotn1_2.0",
         "orientation": "v",
         "showlegend": true,
         "type": "scatter",
         "x": [
          2
         ],
         "xaxis": "x",
         "y": [
          194
         ],
         "yaxis": "y"
        },
        {
         "hovertemplate": "sample_id=idScaPyra1_1<br>Heterozygosity of assembly (%) =%{x}<br>Number of manual interventions=%{y}<extra></extra>",
         "legendgroup": "idScaPyra1_1",
         "marker": {
          "color": "#19d3f3",
          "symbol": "circle"
         },
         "mode": "markers",
         "name": "idScaPyra1_1",
         "orientation": "v",
         "showlegend": true,
         "type": "scatter",
         "x": [
          2.1
         ],
         "xaxis": "x",
         "y": [
          123
         ],
         "yaxis": "y"
        },
        {
         "hovertemplate": "sample_id=idDasAlbo1_1.0<br>Heterozygosity of assembly (%) =%{x}<br>Number of manual interventions=%{y}<extra></extra>",
         "legendgroup": "idDasAlbo1_1.0",
         "marker": {
          "color": "#FF6692",
          "symbol": "circle"
         },
         "mode": "markers",
         "name": "idDasAlbo1_1.0",
         "orientation": "v",
         "showlegend": true,
         "type": "scatter",
         "x": [
          2.2
         ],
         "xaxis": "x",
         "y": [
          145
         ],
         "yaxis": "y"
        },
        {
         "hovertemplate": "sample_id=idRhiCamp1_1.0<br>Heterozygosity of assembly (%) =%{x}<br>Number of manual interventions=%{y}<extra></extra>",
         "legendgroup": "idRhiCamp1_1.0",
         "marker": {
          "color": "#B6E880",
          "symbol": "circle"
         },
         "mode": "markers",
         "name": "idRhiCamp1_1.0",
         "orientation": "v",
         "showlegend": true,
         "type": "scatter",
         "x": [
          2.2
         ],
         "xaxis": "x",
         "y": [
          174
         ],
         "yaxis": "y"
        },
        {
         "hovertemplate": "sample_id=idNepFlae1_1.0<br>Heterozygosity of assembly (%) =%{x}<br>Number of manual interventions=%{y}<extra></extra>",
         "legendgroup": "idNepFlae1_1.0",
         "marker": {
          "color": "#FF97FF",
          "symbol": "circle"
         },
         "mode": "markers",
         "name": "idNepFlae1_1.0",
         "orientation": "v",
         "showlegend": true,
         "type": "scatter",
         "x": [
          2.2
         ],
         "xaxis": "x",
         "y": [
          222
         ],
         "yaxis": "y"
        },
        {
         "hovertemplate": "sample_id=idEpiBalt1_1.0<br>Heterozygosity of assembly (%) =%{x}<br>Number of manual interventions=%{y}<extra></extra>",
         "legendgroup": "idEpiBalt1_1.0",
         "marker": {
          "color": "#FECB52",
          "symbol": "circle"
         },
         "mode": "markers",
         "name": "idEpiBalt1_1.0",
         "orientation": "v",
         "showlegend": true,
         "type": "scatter",
         "x": [
          2.3
         ],
         "xaxis": "x",
         "y": [
          72
         ],
         "yaxis": "y"
        },
        {
         "hovertemplate": "sample_id=idTheAtra2_1.0<br>Heterozygosity of assembly (%) =%{x}<br>Number of manual interventions=%{y}<extra></extra>",
         "legendgroup": "idTheAtra2_1.0",
         "marker": {
          "color": "#636efa",
          "symbol": "circle"
         },
         "mode": "markers",
         "name": "idTheAtra2_1.0",
         "orientation": "v",
         "showlegend": true,
         "type": "scatter",
         "x": [
          2.3
         ],
         "xaxis": "x",
         "y": [
          48
         ],
         "yaxis": "y"
        },
        {
         "hovertemplate": "sample_id=idPlaAlba1_1<br>Heterozygosity of assembly (%) =%{x}<br>Number of manual interventions=%{y}<extra></extra>",
         "legendgroup": "idPlaAlba1_1",
         "marker": {
          "color": "#EF553B",
          "symbol": "circle"
         },
         "mode": "markers",
         "name": "idPlaAlba1_1",
         "orientation": "v",
         "showlegend": true,
         "type": "scatter",
         "x": [
          2.3
         ],
         "xaxis": "x",
         "y": [
          512
         ],
         "yaxis": "y"
        },
        {
         "hovertemplate": "sample_id=idPheCory1_1.0<br>Heterozygosity of assembly (%) =%{x}<br>Number of manual interventions=%{y}<extra></extra>",
         "legendgroup": "idPheCory1_1.0",
         "marker": {
          "color": "#00cc96",
          "symbol": "circle"
         },
         "mode": "markers",
         "name": "idPheCory1_1.0",
         "orientation": "v",
         "showlegend": true,
         "type": "scatter",
         "x": [
          2.4
         ],
         "xaxis": "x",
         "y": [
          430
         ],
         "yaxis": "y"
        },
        {
         "hovertemplate": "sample_id=idCheUrba1_1.0<br>Heterozygosity of assembly (%) =%{x}<br>Number of manual interventions=%{y}<extra></extra>",
         "legendgroup": "idCheUrba1_1.0",
         "marker": {
          "color": "#ab63fa",
          "symbol": "circle"
         },
         "mode": "markers",
         "name": "idCheUrba1_1.0",
         "orientation": "v",
         "showlegend": true,
         "type": "scatter",
         "x": [
          2.4
         ],
         "xaxis": "x",
         "y": [
          54
         ],
         "yaxis": "y"
        },
        {
         "hovertemplate": "sample_id=idSarCaer1_1.0<br>Heterozygosity of assembly (%) =%{x}<br>Number of manual interventions=%{y}<extra></extra>",
         "legendgroup": "idSarCaer1_1.0",
         "marker": {
          "color": "#FFA15A",
          "symbol": "circle"
         },
         "mode": "markers",
         "name": "idSarCaer1_1.0",
         "orientation": "v",
         "showlegend": true,
         "type": "scatter",
         "x": [
          2.5
         ],
         "xaxis": "x",
         "y": [
          245
         ],
         "yaxis": "y"
        },
        {
         "hovertemplate": "sample_id=idEriArbu1_1.0<br>Heterozygosity of assembly (%) =%{x}<br>Number of manual interventions=%{y}<extra></extra>",
         "legendgroup": "idEriArbu1_1.0",
         "marker": {
          "color": "#19d3f3",
          "symbol": "circle"
         },
         "mode": "markers",
         "name": "idEriArbu1_1.0",
         "orientation": "v",
         "showlegend": true,
         "type": "scatter",
         "x": [
          2.5
         ],
         "xaxis": "x",
         "y": [
          365
         ],
         "yaxis": "y"
        },
        {
         "hovertemplate": "sample_id=idEriSepu1_1.0<br>Heterozygosity of assembly (%) =%{x}<br>Number of manual interventions=%{y}<extra></extra>",
         "legendgroup": "idEriSepu1_1.0",
         "marker": {
          "color": "#FF6692",
          "symbol": "circle"
         },
         "mode": "markers",
         "name": "idEriSepu1_1.0",
         "orientation": "v",
         "showlegend": true,
         "type": "scatter",
         "x": [
          2.6
         ],
         "xaxis": "x",
         "y": [
          305
         ],
         "yaxis": "y"
        },
        {
         "hovertemplate": "sample_id=idCalVomi1_1.0<br>Heterozygosity of assembly (%) =%{x}<br>Number of manual interventions=%{y}<extra></extra>",
         "legendgroup": "idCalVomi1_1.0",
         "marker": {
          "color": "#B6E880",
          "symbol": "circle"
         },
         "mode": "markers",
         "name": "idCalVomi1_1.0",
         "orientation": "v",
         "showlegend": true,
         "type": "scatter",
         "x": [
          2.6
         ],
         "xaxis": "x",
         "y": [
          56
         ],
         "yaxis": "y"
        },
        {
         "hovertemplate": "sample_id=idMelMell2_2.0<br>Heterozygosity of assembly (%) =%{x}<br>Number of manual interventions=%{y}<extra></extra>",
         "legendgroup": "idMelMell2_2.0",
         "marker": {
          "color": "#FF97FF",
          "symbol": "circle"
         },
         "mode": "markers",
         "name": "idMelMell2_2.0",
         "orientation": "v",
         "showlegend": true,
         "type": "scatter",
         "x": [
          2.6
         ],
         "xaxis": "x",
         "y": [
          367
         ],
         "yaxis": "y"
        },
        {
         "hovertemplate": "sample_id=idChrBici1_1<br>Heterozygosity of assembly (%) =%{x}<br>Number of manual interventions=%{y}<extra></extra>",
         "legendgroup": "idChrBici1_1",
         "marker": {
          "color": "#FECB52",
          "symbol": "circle"
         },
         "mode": "markers",
         "name": "idChrBici1_1",
         "orientation": "v",
         "showlegend": true,
         "type": "scatter",
         "x": [
          2.7
         ],
         "xaxis": "x",
         "y": [
          413
         ],
         "yaxis": "y"
        },
        {
         "hovertemplate": "sample_id=idSarVari1_1.0<br>Heterozygosity of assembly (%) =%{x}<br>Number of manual interventions=%{y}<extra></extra>",
         "legendgroup": "idSarVari1_1.0",
         "marker": {
          "color": "#636efa",
          "symbol": "circle"
         },
         "mode": "markers",
         "name": "idSarVari1_1.0",
         "orientation": "v",
         "showlegend": true,
         "type": "scatter",
         "x": [
          2.7
         ],
         "xaxis": "x",
         "y": [
          411
         ],
         "yaxis": "y"
        },
        {
         "hovertemplate": "sample_id=idChePaga1_1.0<br>Heterozygosity of assembly (%) =%{x}<br>Number of manual interventions=%{y}<extra></extra>",
         "legendgroup": "idChePaga1_1.0",
         "marker": {
          "color": "#EF553B",
          "symbol": "circle"
         },
         "mode": "markers",
         "name": "idChePaga1_1.0",
         "orientation": "v",
         "showlegend": true,
         "type": "scatter",
         "x": [
          2.8
         ],
         "xaxis": "x",
         "y": [
          10
         ],
         "yaxis": "y"
        },
        {
         "hovertemplate": "sample_id=idSarRose1_1.0<br>Heterozygosity of assembly (%) =%{x}<br>Number of manual interventions=%{y}<extra></extra>",
         "legendgroup": "idSarRose1_1.0",
         "marker": {
          "color": "#00cc96",
          "symbol": "circle"
         },
         "mode": "markers",
         "name": "idSarRose1_1.0",
         "orientation": "v",
         "showlegend": true,
         "type": "scatter",
         "x": [
          3
         ],
         "xaxis": "x",
         "y": [
          22
         ],
         "yaxis": "y"
        },
        {
         "hovertemplate": "sample_id=idCisGlob1_1.0<br>Heterozygosity of assembly (%) =%{x}<br>Number of manual interventions=%{y}<extra></extra>",
         "legendgroup": "idCisGlob1_1.0",
         "marker": {
          "color": "#ab63fa",
          "symbol": "circle"
         },
         "mode": "markers",
         "name": "idCisGlob1_1.0",
         "orientation": "v",
         "showlegend": true,
         "type": "scatter",
         "x": [
          3.1
         ],
         "xaxis": "x",
         "y": [
          67
         ],
         "yaxis": "y"
        },
        {
         "hovertemplate": "sample_id=idSarSubv1_1.0<br>Heterozygosity of assembly (%) =%{x}<br>Number of manual interventions=%{y}<extra></extra>",
         "legendgroup": "idSarSubv1_1.0",
         "marker": {
          "color": "#FFA15A",
          "symbol": "circle"
         },
         "mode": "markers",
         "name": "idSarSubv1_1.0",
         "orientation": "v",
         "showlegend": true,
         "type": "scatter",
         "x": [
          3.3
         ],
         "xaxis": "x",
         "y": [
          218
         ],
         "yaxis": "y"
        },
        {
         "hovertemplate": "sample_id=idEupCoro1_1.0<br>Heterozygosity of assembly (%) =%{x}<br>Number of manual interventions=%{y}<extra></extra>",
         "legendgroup": "idEupCoro1_1.0",
         "marker": {
          "color": "#19d3f3",
          "symbol": "circle"
         },
         "mode": "markers",
         "name": "idEupCoro1_1.0",
         "orientation": "v",
         "showlegend": true,
         "type": "scatter",
         "x": [
          3.3
         ],
         "xaxis": "x",
         "y": [
          703
         ],
         "yaxis": "y"
        },
        {
         "name": "Regression Fit",
         "type": "scatter",
         "x": [
          0.4,
          0.42929292929292934,
          0.4585858585858586,
          0.4878787878787879,
          0.5171717171717172,
          0.5464646464646465,
          0.5757575757575758,
          0.6050505050505051,
          0.6343434343434343,
          0.6636363636363636,
          0.692929292929293,
          0.7222222222222222,
          0.7515151515151515,
          0.7808080808080808,
          0.8101010101010101,
          0.8393939393939394,
          0.8686868686868687,
          0.897979797979798,
          0.9272727272727272,
          0.9565656565656565,
          0.9858585858585859,
          1.0151515151515151,
          1.0444444444444443,
          1.0737373737373737,
          1.103030303030303,
          1.1323232323232322,
          1.1616161616161615,
          1.190909090909091,
          1.22020202020202,
          1.2494949494949494,
          1.2787878787878788,
          1.308080808080808,
          1.3373737373737373,
          1.3666666666666667,
          1.3959595959595958,
          1.425252525252525,
          1.4545454545454546,
          1.4838383838383837,
          1.5131313131313129,
          1.5424242424242425,
          1.5717171717171716,
          1.6010101010101008,
          1.6303030303030304,
          1.6595959595959595,
          1.6888888888888887,
          1.7181818181818183,
          1.7474747474747474,
          1.7767676767676766,
          1.8060606060606061,
          1.8353535353535353,
          1.8646464646464644,
          1.893939393939394,
          1.9232323232323232,
          1.9525252525252523,
          1.981818181818182,
          2.011111111111111,
          2.04040404040404,
          2.06969696969697,
          2.098989898989899,
          2.128282828282828,
          2.1575757575757573,
          2.186868686868687,
          2.216161616161616,
          2.245454545454545,
          2.2747474747474747,
          2.304040404040404,
          2.333333333333333,
          2.3626262626262626,
          2.391919191919192,
          2.421212121212121,
          2.45050505050505,
          2.4797979797979797,
          2.509090909090909,
          2.538383838383838,
          2.5676767676767676,
          2.5969696969696967,
          2.626262626262626,
          2.6555555555555554,
          2.6848484848484846,
          2.7141414141414137,
          2.7434343434343433,
          2.7727272727272725,
          2.8020202020202016,
          2.8313131313131312,
          2.8606060606060604,
          2.8898989898989895,
          2.919191919191919,
          2.9484848484848483,
          2.9777777777777774,
          3.007070707070707,
          3.036363636363636,
          3.0656565656565653,
          3.0949494949494945,
          3.124242424242424,
          3.153535353535353,
          3.1828282828282823,
          3.212121212121212,
          3.241414141414141,
          3.2707070707070702,
          3.3
         ],
         "y": [
          91.05444081505676,
          93.12364978137259,
          95.1928587476884,
          97.26206771400425,
          99.33127668032006,
          101.4004856466359,
          103.46969461295171,
          105.53890357926755,
          107.60811254558337,
          109.6773215118992,
          111.74653047821502,
          113.81573944453085,
          115.88494841084668,
          117.9541573771625,
          120.02336634347833,
          122.09257530979414,
          124.16178427610998,
          126.23099324242581,
          128.30020220874164,
          130.36941117505745,
          132.4386201413733,
          134.5078291076891,
          136.57703807400492,
          138.64624704032076,
          140.7154560066366,
          142.7846649729524,
          144.85387393926823,
          146.92308290558407,
          148.9922918718999,
          151.06150083821572,
          153.13070980453153,
          155.19991877084738,
          157.26912773716322,
          159.33833670347903,
          161.40754566979484,
          163.47675463611068,
          165.54596360242653,
          167.6151725687423,
          169.68438153505815,
          171.753590501374,
          173.8227994676898,
          175.89200843400562,
          177.96121740032146,
          180.0304263666373,
          182.09963533295308,
          184.16884429926895,
          186.23805326558477,
          188.30726223190058,
          190.37647119821645,
          192.44568016453223,
          194.51488913084808,
          196.58409809716392,
          198.6533070634797,
          200.72251602979554,
          202.79172499611138,
          204.86093396242723,
          206.930142928743,
          208.99935189505885,
          211.0685608613747,
          213.13776982769048,
          215.20697879400632,
          217.27618776032216,
          219.345396726638,
          221.41460569295378,
          223.48381465926963,
          225.55302362558547,
          227.62223259190125,
          229.69144155821715,
          231.76065052453293,
          233.82985949084878,
          235.89906845716456,
          237.9682774234804,
          240.03748638979624,
          242.10669535611203,
          244.17590432242793,
          246.2451132887437,
          248.31432225505955,
          250.3835312213754,
          252.45274018769118,
          254.52194915400702,
          256.59115812032286,
          258.6603670866387,
          260.7295760529545,
          262.7987850192703,
          264.86799398558617,
          266.93720295190195,
          269.0064119182178,
          271.07562088453363,
          273.1448298508495,
          275.2140388171653,
          277.2832477834811,
          279.35245674979694,
          281.4216657161127,
          283.4908746824286,
          285.5600836487444,
          287.62929261506025,
          289.6985015813761,
          291.7677105476919,
          293.8369195140077,
          295.90612848032356
         ]
        }
       ],
       "layout": {
        "legend": {
         "title": {
          "text": "sample_id"
         },
         "tracegroupgap": 0
        },
        "template": {
         "data": {
          "bar": [
           {
            "error_x": {
             "color": "#2a3f5f"
            },
            "error_y": {
             "color": "#2a3f5f"
            },
            "marker": {
             "line": {
              "color": "#E5ECF6",
              "width": 0.5
             },
             "pattern": {
              "fillmode": "overlay",
              "size": 10,
              "solidity": 0.2
             }
            },
            "type": "bar"
           }
          ],
          "barpolar": [
           {
            "marker": {
             "line": {
              "color": "#E5ECF6",
              "width": 0.5
             },
             "pattern": {
              "fillmode": "overlay",
              "size": 10,
              "solidity": 0.2
             }
            },
            "type": "barpolar"
           }
          ],
          "carpet": [
           {
            "aaxis": {
             "endlinecolor": "#2a3f5f",
             "gridcolor": "white",
             "linecolor": "white",
             "minorgridcolor": "white",
             "startlinecolor": "#2a3f5f"
            },
            "baxis": {
             "endlinecolor": "#2a3f5f",
             "gridcolor": "white",
             "linecolor": "white",
             "minorgridcolor": "white",
             "startlinecolor": "#2a3f5f"
            },
            "type": "carpet"
           }
          ],
          "choropleth": [
           {
            "colorbar": {
             "outlinewidth": 0,
             "ticks": ""
            },
            "type": "choropleth"
           }
          ],
          "contour": [
           {
            "colorbar": {
             "outlinewidth": 0,
             "ticks": ""
            },
            "colorscale": [
             [
              0,
              "#0d0887"
             ],
             [
              0.1111111111111111,
              "#46039f"
             ],
             [
              0.2222222222222222,
              "#7201a8"
             ],
             [
              0.3333333333333333,
              "#9c179e"
             ],
             [
              0.4444444444444444,
              "#bd3786"
             ],
             [
              0.5555555555555556,
              "#d8576b"
             ],
             [
              0.6666666666666666,
              "#ed7953"
             ],
             [
              0.7777777777777778,
              "#fb9f3a"
             ],
             [
              0.8888888888888888,
              "#fdca26"
             ],
             [
              1,
              "#f0f921"
             ]
            ],
            "type": "contour"
           }
          ],
          "contourcarpet": [
           {
            "colorbar": {
             "outlinewidth": 0,
             "ticks": ""
            },
            "type": "contourcarpet"
           }
          ],
          "heatmap": [
           {
            "colorbar": {
             "outlinewidth": 0,
             "ticks": ""
            },
            "colorscale": [
             [
              0,
              "#0d0887"
             ],
             [
              0.1111111111111111,
              "#46039f"
             ],
             [
              0.2222222222222222,
              "#7201a8"
             ],
             [
              0.3333333333333333,
              "#9c179e"
             ],
             [
              0.4444444444444444,
              "#bd3786"
             ],
             [
              0.5555555555555556,
              "#d8576b"
             ],
             [
              0.6666666666666666,
              "#ed7953"
             ],
             [
              0.7777777777777778,
              "#fb9f3a"
             ],
             [
              0.8888888888888888,
              "#fdca26"
             ],
             [
              1,
              "#f0f921"
             ]
            ],
            "type": "heatmap"
           }
          ],
          "heatmapgl": [
           {
            "colorbar": {
             "outlinewidth": 0,
             "ticks": ""
            },
            "colorscale": [
             [
              0,
              "#0d0887"
             ],
             [
              0.1111111111111111,
              "#46039f"
             ],
             [
              0.2222222222222222,
              "#7201a8"
             ],
             [
              0.3333333333333333,
              "#9c179e"
             ],
             [
              0.4444444444444444,
              "#bd3786"
             ],
             [
              0.5555555555555556,
              "#d8576b"
             ],
             [
              0.6666666666666666,
              "#ed7953"
             ],
             [
              0.7777777777777778,
              "#fb9f3a"
             ],
             [
              0.8888888888888888,
              "#fdca26"
             ],
             [
              1,
              "#f0f921"
             ]
            ],
            "type": "heatmapgl"
           }
          ],
          "histogram": [
           {
            "marker": {
             "pattern": {
              "fillmode": "overlay",
              "size": 10,
              "solidity": 0.2
             }
            },
            "type": "histogram"
           }
          ],
          "histogram2d": [
           {
            "colorbar": {
             "outlinewidth": 0,
             "ticks": ""
            },
            "colorscale": [
             [
              0,
              "#0d0887"
             ],
             [
              0.1111111111111111,
              "#46039f"
             ],
             [
              0.2222222222222222,
              "#7201a8"
             ],
             [
              0.3333333333333333,
              "#9c179e"
             ],
             [
              0.4444444444444444,
              "#bd3786"
             ],
             [
              0.5555555555555556,
              "#d8576b"
             ],
             [
              0.6666666666666666,
              "#ed7953"
             ],
             [
              0.7777777777777778,
              "#fb9f3a"
             ],
             [
              0.8888888888888888,
              "#fdca26"
             ],
             [
              1,
              "#f0f921"
             ]
            ],
            "type": "histogram2d"
           }
          ],
          "histogram2dcontour": [
           {
            "colorbar": {
             "outlinewidth": 0,
             "ticks": ""
            },
            "colorscale": [
             [
              0,
              "#0d0887"
             ],
             [
              0.1111111111111111,
              "#46039f"
             ],
             [
              0.2222222222222222,
              "#7201a8"
             ],
             [
              0.3333333333333333,
              "#9c179e"
             ],
             [
              0.4444444444444444,
              "#bd3786"
             ],
             [
              0.5555555555555556,
              "#d8576b"
             ],
             [
              0.6666666666666666,
              "#ed7953"
             ],
             [
              0.7777777777777778,
              "#fb9f3a"
             ],
             [
              0.8888888888888888,
              "#fdca26"
             ],
             [
              1,
              "#f0f921"
             ]
            ],
            "type": "histogram2dcontour"
           }
          ],
          "mesh3d": [
           {
            "colorbar": {
             "outlinewidth": 0,
             "ticks": ""
            },
            "type": "mesh3d"
           }
          ],
          "parcoords": [
           {
            "line": {
             "colorbar": {
              "outlinewidth": 0,
              "ticks": ""
             }
            },
            "type": "parcoords"
           }
          ],
          "pie": [
           {
            "automargin": true,
            "type": "pie"
           }
          ],
          "scatter": [
           {
            "fillpattern": {
             "fillmode": "overlay",
             "size": 10,
             "solidity": 0.2
            },
            "type": "scatter"
           }
          ],
          "scatter3d": [
           {
            "line": {
             "colorbar": {
              "outlinewidth": 0,
              "ticks": ""
             }
            },
            "marker": {
             "colorbar": {
              "outlinewidth": 0,
              "ticks": ""
             }
            },
            "type": "scatter3d"
           }
          ],
          "scattercarpet": [
           {
            "marker": {
             "colorbar": {
              "outlinewidth": 0,
              "ticks": ""
             }
            },
            "type": "scattercarpet"
           }
          ],
          "scattergeo": [
           {
            "marker": {
             "colorbar": {
              "outlinewidth": 0,
              "ticks": ""
             }
            },
            "type": "scattergeo"
           }
          ],
          "scattergl": [
           {
            "marker": {
             "colorbar": {
              "outlinewidth": 0,
              "ticks": ""
             }
            },
            "type": "scattergl"
           }
          ],
          "scattermapbox": [
           {
            "marker": {
             "colorbar": {
              "outlinewidth": 0,
              "ticks": ""
             }
            },
            "type": "scattermapbox"
           }
          ],
          "scatterpolar": [
           {
            "marker": {
             "colorbar": {
              "outlinewidth": 0,
              "ticks": ""
             }
            },
            "type": "scatterpolar"
           }
          ],
          "scatterpolargl": [
           {
            "marker": {
             "colorbar": {
              "outlinewidth": 0,
              "ticks": ""
             }
            },
            "type": "scatterpolargl"
           }
          ],
          "scatterternary": [
           {
            "marker": {
             "colorbar": {
              "outlinewidth": 0,
              "ticks": ""
             }
            },
            "type": "scatterternary"
           }
          ],
          "surface": [
           {
            "colorbar": {
             "outlinewidth": 0,
             "ticks": ""
            },
            "colorscale": [
             [
              0,
              "#0d0887"
             ],
             [
              0.1111111111111111,
              "#46039f"
             ],
             [
              0.2222222222222222,
              "#7201a8"
             ],
             [
              0.3333333333333333,
              "#9c179e"
             ],
             [
              0.4444444444444444,
              "#bd3786"
             ],
             [
              0.5555555555555556,
              "#d8576b"
             ],
             [
              0.6666666666666666,
              "#ed7953"
             ],
             [
              0.7777777777777778,
              "#fb9f3a"
             ],
             [
              0.8888888888888888,
              "#fdca26"
             ],
             [
              1,
              "#f0f921"
             ]
            ],
            "type": "surface"
           }
          ],
          "table": [
           {
            "cells": {
             "fill": {
              "color": "#EBF0F8"
             },
             "line": {
              "color": "white"
             }
            },
            "header": {
             "fill": {
              "color": "#C8D4E3"
             },
             "line": {
              "color": "white"
             }
            },
            "type": "table"
           }
          ]
         },
         "layout": {
          "annotationdefaults": {
           "arrowcolor": "#2a3f5f",
           "arrowhead": 0,
           "arrowwidth": 1
          },
          "autotypenumbers": "strict",
          "coloraxis": {
           "colorbar": {
            "outlinewidth": 0,
            "ticks": ""
           }
          },
          "colorscale": {
           "diverging": [
            [
             0,
             "#8e0152"
            ],
            [
             0.1,
             "#c51b7d"
            ],
            [
             0.2,
             "#de77ae"
            ],
            [
             0.3,
             "#f1b6da"
            ],
            [
             0.4,
             "#fde0ef"
            ],
            [
             0.5,
             "#f7f7f7"
            ],
            [
             0.6,
             "#e6f5d0"
            ],
            [
             0.7,
             "#b8e186"
            ],
            [
             0.8,
             "#7fbc41"
            ],
            [
             0.9,
             "#4d9221"
            ],
            [
             1,
             "#276419"
            ]
           ],
           "sequential": [
            [
             0,
             "#0d0887"
            ],
            [
             0.1111111111111111,
             "#46039f"
            ],
            [
             0.2222222222222222,
             "#7201a8"
            ],
            [
             0.3333333333333333,
             "#9c179e"
            ],
            [
             0.4444444444444444,
             "#bd3786"
            ],
            [
             0.5555555555555556,
             "#d8576b"
            ],
            [
             0.6666666666666666,
             "#ed7953"
            ],
            [
             0.7777777777777778,
             "#fb9f3a"
            ],
            [
             0.8888888888888888,
             "#fdca26"
            ],
            [
             1,
             "#f0f921"
            ]
           ],
           "sequentialminus": [
            [
             0,
             "#0d0887"
            ],
            [
             0.1111111111111111,
             "#46039f"
            ],
            [
             0.2222222222222222,
             "#7201a8"
            ],
            [
             0.3333333333333333,
             "#9c179e"
            ],
            [
             0.4444444444444444,
             "#bd3786"
            ],
            [
             0.5555555555555556,
             "#d8576b"
            ],
            [
             0.6666666666666666,
             "#ed7953"
            ],
            [
             0.7777777777777778,
             "#fb9f3a"
            ],
            [
             0.8888888888888888,
             "#fdca26"
            ],
            [
             1,
             "#f0f921"
            ]
           ]
          },
          "colorway": [
           "#636efa",
           "#EF553B",
           "#00cc96",
           "#ab63fa",
           "#FFA15A",
           "#19d3f3",
           "#FF6692",
           "#B6E880",
           "#FF97FF",
           "#FECB52"
          ],
          "font": {
           "color": "#2a3f5f"
          },
          "geo": {
           "bgcolor": "white",
           "lakecolor": "white",
           "landcolor": "#E5ECF6",
           "showlakes": true,
           "showland": true,
           "subunitcolor": "white"
          },
          "hoverlabel": {
           "align": "left"
          },
          "hovermode": "closest",
          "mapbox": {
           "style": "light"
          },
          "paper_bgcolor": "white",
          "plot_bgcolor": "#E5ECF6",
          "polar": {
           "angularaxis": {
            "gridcolor": "white",
            "linecolor": "white",
            "ticks": ""
           },
           "bgcolor": "#E5ECF6",
           "radialaxis": {
            "gridcolor": "white",
            "linecolor": "white",
            "ticks": ""
           }
          },
          "scene": {
           "xaxis": {
            "backgroundcolor": "#E5ECF6",
            "gridcolor": "white",
            "gridwidth": 2,
            "linecolor": "white",
            "showbackground": true,
            "ticks": "",
            "zerolinecolor": "white"
           },
           "yaxis": {
            "backgroundcolor": "#E5ECF6",
            "gridcolor": "white",
            "gridwidth": 2,
            "linecolor": "white",
            "showbackground": true,
            "ticks": "",
            "zerolinecolor": "white"
           },
           "zaxis": {
            "backgroundcolor": "#E5ECF6",
            "gridcolor": "white",
            "gridwidth": 2,
            "linecolor": "white",
            "showbackground": true,
            "ticks": "",
            "zerolinecolor": "white"
           }
          },
          "shapedefaults": {
           "line": {
            "color": "#2a3f5f"
           }
          },
          "ternary": {
           "aaxis": {
            "gridcolor": "white",
            "linecolor": "white",
            "ticks": ""
           },
           "baxis": {
            "gridcolor": "white",
            "linecolor": "white",
            "ticks": ""
           },
           "bgcolor": "#E5ECF6",
           "caxis": {
            "gridcolor": "white",
            "linecolor": "white",
            "ticks": ""
           }
          },
          "title": {
           "x": 0.05
          },
          "xaxis": {
           "automargin": true,
           "gridcolor": "white",
           "linecolor": "white",
           "ticks": "",
           "title": {
            "standoff": 15
           },
           "zerolinecolor": "white",
           "zerolinewidth": 2
          },
          "yaxis": {
           "automargin": true,
           "gridcolor": "white",
           "linecolor": "white",
           "ticks": "",
           "title": {
            "standoff": 15
           },
           "zerolinecolor": "white",
           "zerolinewidth": 2
          }
         }
        },
        "title": {
         "text": "Heterozygosity of assembly (pre-curation) vs the number of manual interventions"
        },
        "xaxis": {
         "anchor": "y",
         "domain": [
          0,
          1
         ],
         "title": {
          "text": "Heterozygosity of assembly (%) "
         }
        },
        "yaxis": {
         "anchor": "x",
         "domain": [
          0,
          1
         ],
         "title": {
          "text": "Number of manual interventions"
         }
        }
       }
      }
     },
     "metadata": {},
     "output_type": "display_data"
    },
    {
     "name": "stdout",
     "output_type": "stream",
     "text": [
      "\n"
     ]
    },
    {
     "data": {
      "application/vnd.plotly.v1+json": {
       "config": {
        "plotlyServerURL": "https://plot.ly"
       },
       "data": [
        {
         "hovertemplate": "sample_id=idSyrPipi1_1<br>Repeat content of assembly (%) =%{x}<br>Number of manual interventions=%{y}<extra></extra>",
         "legendgroup": "idSyrPipi1_1",
         "marker": {
          "color": "#636efa",
          "symbol": "circle"
         },
         "mode": "markers",
         "name": "idSyrPipi1_1",
         "orientation": "v",
         "showlegend": true,
         "type": "scatter",
         "x": [
          12
         ],
         "xaxis": "x",
         "y": [
          16
         ],
         "yaxis": "y"
        },
        {
         "hovertemplate": "sample_id=idScaPyra1_1<br>Repeat content of assembly (%) =%{x}<br>Number of manual interventions=%{y}<extra></extra>",
         "legendgroup": "idScaPyra1_1",
         "marker": {
          "color": "#EF553B",
          "symbol": "circle"
         },
         "mode": "markers",
         "name": "idScaPyra1_1",
         "orientation": "v",
         "showlegend": true,
         "type": "scatter",
         "x": [
          15
         ],
         "xaxis": "x",
         "y": [
          123
         ],
         "yaxis": "y"
        },
        {
         "hovertemplate": "sample_id=idEriSepu1_1.0<br>Repeat content of assembly (%) =%{x}<br>Number of manual interventions=%{y}<extra></extra>",
         "legendgroup": "idEriSepu1_1.0",
         "marker": {
          "color": "#00cc96",
          "symbol": "circle"
         },
         "mode": "markers",
         "name": "idEriSepu1_1.0",
         "orientation": "v",
         "showlegend": true,
         "type": "scatter",
         "x": [
          15
         ],
         "xaxis": "x",
         "y": [
          305
         ],
         "yaxis": "y"
        },
        {
         "hovertemplate": "sample_id=idBibMarc1_1<br>Repeat content of assembly (%) =%{x}<br>Number of manual interventions=%{y}<extra></extra>",
         "legendgroup": "idBibMarc1_1",
         "marker": {
          "color": "#ab63fa",
          "symbol": "circle"
         },
         "mode": "markers",
         "name": "idBibMarc1_1",
         "orientation": "v",
         "showlegend": true,
         "type": "scatter",
         "x": [
          16
         ],
         "xaxis": "x",
         "y": [
          14
         ],
         "yaxis": "y"
        },
        {
         "hovertemplate": "sample_id=idEpiSucc1_1.0<br>Repeat content of assembly (%) =%{x}<br>Number of manual interventions=%{y}<extra></extra>",
         "legendgroup": "idEpiSucc1_1.0",
         "marker": {
          "color": "#FFA15A",
          "symbol": "circle"
         },
         "mode": "markers",
         "name": "idEpiSucc1_1.0",
         "orientation": "v",
         "showlegend": true,
         "type": "scatter",
         "x": [
          21
         ],
         "xaxis": "x",
         "y": [
          76
         ],
         "yaxis": "y"
        },
        {
         "hovertemplate": "sample_id=idVolInan1_1<br>Repeat content of assembly (%) =%{x}<br>Number of manual interventions=%{y}<extra></extra>",
         "legendgroup": "idVolInan1_1",
         "marker": {
          "color": "#19d3f3",
          "symbol": "circle"
         },
         "mode": "markers",
         "name": "idVolInan1_1",
         "orientation": "v",
         "showlegend": true,
         "type": "scatter",
         "x": [
          21
         ],
         "xaxis": "x",
         "y": [
          216
         ],
         "yaxis": "y"
        },
        {
         "hovertemplate": "sample_id=idVolInfl1_1.0<br>Repeat content of assembly (%) =%{x}<br>Number of manual interventions=%{y}<extra></extra>",
         "legendgroup": "idVolInfl1_1.0",
         "marker": {
          "color": "#FF6692",
          "symbol": "circle"
         },
         "mode": "markers",
         "name": "idVolInfl1_1.0",
         "orientation": "v",
         "showlegend": true,
         "type": "scatter",
         "x": [
          22
         ],
         "xaxis": "x",
         "y": [
          180
         ],
         "yaxis": "y"
        },
        {
         "hovertemplate": "sample_id=idChePaga1_1.0<br>Repeat content of assembly (%) =%{x}<br>Number of manual interventions=%{y}<extra></extra>",
         "legendgroup": "idChePaga1_1.0",
         "marker": {
          "color": "#B6E880",
          "symbol": "circle"
         },
         "mode": "markers",
         "name": "idChePaga1_1.0",
         "orientation": "v",
         "showlegend": true,
         "type": "scatter",
         "x": [
          23
         ],
         "xaxis": "x",
         "y": [
          10
         ],
         "yaxis": "y"
        },
        {
         "hovertemplate": "sample_id=idCriBerb1_1<br>Repeat content of assembly (%) =%{x}<br>Number of manual interventions=%{y}<extra></extra>",
         "legendgroup": "idCriBerb1_1",
         "marker": {
          "color": "#FF97FF",
          "symbol": "circle"
         },
         "mode": "markers",
         "name": "idCriBerb1_1",
         "orientation": "v",
         "showlegend": true,
         "type": "scatter",
         "x": [
          23
         ],
         "xaxis": "x",
         "y": [
          29
         ],
         "yaxis": "y"
        },
        {
         "hovertemplate": "sample_id=idCheVulp2_1.0<br>Repeat content of assembly (%) =%{x}<br>Number of manual interventions=%{y}<extra></extra>",
         "legendgroup": "idCheVulp2_1.0",
         "marker": {
          "color": "#FECB52",
          "symbol": "circle"
         },
         "mode": "markers",
         "name": "idCheVulp2_1.0",
         "orientation": "v",
         "showlegend": true,
         "type": "scatter",
         "x": [
          25
         ],
         "xaxis": "x",
         "y": [
          17
         ],
         "yaxis": "y"
        },
        {
         "hovertemplate": "sample_id=idProAzur1_1.0<br>Repeat content of assembly (%) =%{x}<br>Number of manual interventions=%{y}<extra></extra>",
         "legendgroup": "idProAzur1_1.0",
         "marker": {
          "color": "#636efa",
          "symbol": "circle"
         },
         "mode": "markers",
         "name": "idProAzur1_1.0",
         "orientation": "v",
         "showlegend": true,
         "type": "scatter",
         "x": [
          26
         ],
         "xaxis": "x",
         "y": [
          191
         ],
         "yaxis": "y"
        },
        {
         "hovertemplate": "sample_id=idEriPert2_1<br>Repeat content of assembly (%) =%{x}<br>Number of manual interventions=%{y}<extra></extra>",
         "legendgroup": "idEriPert2_1",
         "marker": {
          "color": "#EF553B",
          "symbol": "circle"
         },
         "mode": "markers",
         "name": "idEriPert2_1",
         "orientation": "v",
         "showlegend": true,
         "type": "scatter",
         "x": [
          27
         ],
         "xaxis": "x",
         "y": [
          181
         ],
         "yaxis": "y"
        },
        {
         "hovertemplate": "sample_id=idEriTena2_1<br>Repeat content of assembly (%) =%{x}<br>Number of manual interventions=%{y}<extra></extra>",
         "legendgroup": "idEriTena2_1",
         "marker": {
          "color": "#00cc96",
          "symbol": "circle"
         },
         "mode": "markers",
         "name": "idEriTena2_1",
         "orientation": "v",
         "showlegend": true,
         "type": "scatter",
         "x": [
          27
         ],
         "xaxis": "x",
         "y": [
          82
         ],
         "yaxis": "y"
        },
        {
         "hovertemplate": "sample_id=idXylSylv2_1<br>Repeat content of assembly (%) =%{x}<br>Number of manual interventions=%{y}<extra></extra>",
         "legendgroup": "idXylSylv2_1",
         "marker": {
          "color": "#ab63fa",
          "symbol": "circle"
         },
         "mode": "markers",
         "name": "idXylSylv2_1",
         "orientation": "v",
         "showlegend": true,
         "type": "scatter",
         "x": [
          27
         ],
         "xaxis": "x",
         "y": [
          43
         ],
         "yaxis": "y"
        },
        {
         "hovertemplate": "sample_id=idSarRose1_1.0<br>Repeat content of assembly (%) =%{x}<br>Number of manual interventions=%{y}<extra></extra>",
         "legendgroup": "idSarRose1_1.0",
         "marker": {
          "color": "#FFA15A",
          "symbol": "circle"
         },
         "mode": "markers",
         "name": "idSarRose1_1.0",
         "orientation": "v",
         "showlegend": true,
         "type": "scatter",
         "x": [
          28
         ],
         "xaxis": "x",
         "y": [
          22
         ],
         "yaxis": "y"
        },
        {
         "hovertemplate": "sample_id=idMacAtri3_1.0<br>Repeat content of assembly (%) =%{x}<br>Number of manual interventions=%{y}<extra></extra>",
         "legendgroup": "idMacAtri3_1.0",
         "marker": {
          "color": "#19d3f3",
          "symbol": "circle"
         },
         "mode": "markers",
         "name": "idMacAtri3_1.0",
         "orientation": "v",
         "showlegend": true,
         "type": "scatter",
         "x": [
          29
         ],
         "xaxis": "x",
         "y": [
          17
         ],
         "yaxis": "y"
        },
        {
         "hovertemplate": "sample_id=idTheAcut1_1.0<br>Repeat content of assembly (%) =%{x}<br>Number of manual interventions=%{y}<extra></extra>",
         "legendgroup": "idTheAcut1_1.0",
         "marker": {
          "color": "#FF6692",
          "symbol": "circle"
         },
         "mode": "markers",
         "name": "idTheAcut1_1.0",
         "orientation": "v",
         "showlegend": true,
         "type": "scatter",
         "x": [
          29
         ],
         "xaxis": "x",
         "y": [
          38
         ],
         "yaxis": "y"
        },
        {
         "hovertemplate": "sample_id=idBomDisc1_1<br>Repeat content of assembly (%) =%{x}<br>Number of manual interventions=%{y}<extra></extra>",
         "legendgroup": "idBomDisc1_1",
         "marker": {
          "color": "#B6E880",
          "symbol": "circle"
         },
         "mode": "markers",
         "name": "idBomDisc1_1",
         "orientation": "v",
         "showlegend": true,
         "type": "scatter",
         "x": [
          29
         ],
         "xaxis": "x",
         "y": [
          53
         ],
         "yaxis": "y"
        },
        {
         "hovertemplate": "sample_id=idBomMajo1_1.0<br>Repeat content of assembly (%) =%{x}<br>Number of manual interventions=%{y}<extra></extra>",
         "legendgroup": "idBomMajo1_1.0",
         "marker": {
          "color": "#FF97FF",
          "symbol": "circle"
         },
         "mode": "markers",
         "name": "idBomMajo1_1.0",
         "orientation": "v",
         "showlegend": true,
         "type": "scatter",
         "x": [
          30
         ],
         "xaxis": "x",
         "y": [
          102
         ],
         "yaxis": "y"
        },
        {
         "hovertemplate": "sample_id=idSarCaer1_1.0<br>Repeat content of assembly (%) =%{x}<br>Number of manual interventions=%{y}<extra></extra>",
         "legendgroup": "idSarCaer1_1.0",
         "marker": {
          "color": "#FECB52",
          "symbol": "circle"
         },
         "mode": "markers",
         "name": "idSarCaer1_1.0",
         "orientation": "v",
         "showlegend": true,
         "type": "scatter",
         "x": [
          31
         ],
         "xaxis": "x",
         "y": [
          245
         ],
         "yaxis": "y"
        },
        {
         "hovertemplate": "sample_id=idEpiGros1_1.0<br>Repeat content of assembly (%) =%{x}<br>Number of manual interventions=%{y}<extra></extra>",
         "legendgroup": "idEpiGros1_1.0",
         "marker": {
          "color": "#636efa",
          "symbol": "circle"
         },
         "mode": "markers",
         "name": "idEpiGros1_1.0",
         "orientation": "v",
         "showlegend": true,
         "type": "scatter",
         "x": [
          31
         ],
         "xaxis": "x",
         "y": [
          272
         ],
         "yaxis": "y"
        },
        {
         "hovertemplate": "sample_id=idMyaFlor2_1.0<br>Repeat content of assembly (%) =%{x}<br>Number of manual interventions=%{y}<extra></extra>",
         "legendgroup": "idMyaFlor2_1.0",
         "marker": {
          "color": "#EF553B",
          "symbol": "circle"
         },
         "mode": "markers",
         "name": "idMyaFlor2_1.0",
         "orientation": "v",
         "showlegend": true,
         "type": "scatter",
         "x": [
          32
         ],
         "xaxis": "x",
         "y": [
          89
         ],
         "yaxis": "y"
        },
        {
         "hovertemplate": "sample_id=idPhyMeln1_1.0<br>Repeat content of assembly (%) =%{x}<br>Number of manual interventions=%{y}<extra></extra>",
         "legendgroup": "idPhyMeln1_1.0",
         "marker": {
          "color": "#00cc96",
          "symbol": "circle"
         },
         "mode": "markers",
         "name": "idPhyMeln1_1.0",
         "orientation": "v",
         "showlegend": true,
         "type": "scatter",
         "x": [
          32
         ],
         "xaxis": "x",
         "y": [
          81
         ],
         "yaxis": "y"
        },
        {
         "hovertemplate": "sample_id=idEupCoro1_1.0<br>Repeat content of assembly (%) =%{x}<br>Number of manual interventions=%{y}<extra></extra>",
         "legendgroup": "idEupCoro1_1.0",
         "marker": {
          "color": "#ab63fa",
          "symbol": "circle"
         },
         "mode": "markers",
         "name": "idEupCoro1_1.0",
         "orientation": "v",
         "showlegend": true,
         "type": "scatter",
         "x": [
          32
         ],
         "xaxis": "x",
         "y": [
          703
         ],
         "yaxis": "y"
        },
        {
         "hovertemplate": "sample_id=idDasAlbo1_1.0<br>Repeat content of assembly (%) =%{x}<br>Number of manual interventions=%{y}<extra></extra>",
         "legendgroup": "idDasAlbo1_1.0",
         "marker": {
          "color": "#FFA15A",
          "symbol": "circle"
         },
         "mode": "markers",
         "name": "idDasAlbo1_1.0",
         "orientation": "v",
         "showlegend": true,
         "type": "scatter",
         "x": [
          33
         ],
         "xaxis": "x",
         "y": [
          145
         ],
         "yaxis": "y"
        },
        {
         "hovertemplate": "sample_id=idEriArbu1_1.0<br>Repeat content of assembly (%) =%{x}<br>Number of manual interventions=%{y}<extra></extra>",
         "legendgroup": "idEriArbu1_1.0",
         "marker": {
          "color": "#19d3f3",
          "symbol": "circle"
         },
         "mode": "markers",
         "name": "idEriArbu1_1.0",
         "orientation": "v",
         "showlegend": true,
         "type": "scatter",
         "x": [
          33
         ],
         "xaxis": "x",
         "y": [
          365
         ],
         "yaxis": "y"
        },
        {
         "hovertemplate": "sample_id=idMyoTess1_1.0<br>Repeat content of assembly (%) =%{x}<br>Number of manual interventions=%{y}<extra></extra>",
         "legendgroup": "idMyoTess1_1.0",
         "marker": {
          "color": "#FF6692",
          "symbol": "circle"
         },
         "mode": "markers",
         "name": "idMyoTess1_1.0",
         "orientation": "v",
         "showlegend": true,
         "type": "scatter",
         "x": [
          33
         ],
         "xaxis": "x",
         "y": [
          6
         ],
         "yaxis": "y"
        },
        {
         "hovertemplate": "sample_id=idSarSubv1_1.0<br>Repeat content of assembly (%) =%{x}<br>Number of manual interventions=%{y}<extra></extra>",
         "legendgroup": "idSarSubv1_1.0",
         "marker": {
          "color": "#B6E880",
          "symbol": "circle"
         },
         "mode": "markers",
         "name": "idSarSubv1_1.0",
         "orientation": "v",
         "showlegend": true,
         "type": "scatter",
         "x": [
          34
         ],
         "xaxis": "x",
         "y": [
          218
         ],
         "yaxis": "y"
        },
        {
         "hovertemplate": "sample_id=idSarVari1_1.0<br>Repeat content of assembly (%) =%{x}<br>Number of manual interventions=%{y}<extra></extra>",
         "legendgroup": "idSarVari1_1.0",
         "marker": {
          "color": "#FF97FF",
          "symbol": "circle"
         },
         "mode": "markers",
         "name": "idSarVari1_1.0",
         "orientation": "v",
         "showlegend": true,
         "type": "scatter",
         "x": [
          34
         ],
         "xaxis": "x",
         "y": [
          411
         ],
         "yaxis": "y"
        },
        {
         "hovertemplate": "sample_id=idTacFera2_1<br>Repeat content of assembly (%) =%{x}<br>Number of manual interventions=%{y}<extra></extra>",
         "legendgroup": "idTacFera2_1",
         "marker": {
          "color": "#FECB52",
          "symbol": "circle"
         },
         "mode": "markers",
         "name": "idTacFera2_1",
         "orientation": "v",
         "showlegend": true,
         "type": "scatter",
         "x": [
          34
         ],
         "xaxis": "x",
         "y": [
          306
         ],
         "yaxis": "y"
        },
        {
         "hovertemplate": "sample_id=idLeuLate1_1.0<br>Repeat content of assembly (%) =%{x}<br>Number of manual interventions=%{y}<extra></extra>",
         "legendgroup": "idLeuLate1_1.0",
         "marker": {
          "color": "#636efa",
          "symbol": "circle"
         },
         "mode": "markers",
         "name": "idLeuLate1_1.0",
         "orientation": "v",
         "showlegend": true,
         "type": "scatter",
         "x": [
          35
         ],
         "xaxis": "x",
         "y": [
          137
         ],
         "yaxis": "y"
        },
        {
         "hovertemplate": "sample_id=idNowFero1_1.0<br>Repeat content of assembly (%) =%{x}<br>Number of manual interventions=%{y}<extra></extra>",
         "legendgroup": "idNowFero1_1.0",
         "marker": {
          "color": "#EF553B",
          "symbol": "circle"
         },
         "mode": "markers",
         "name": "idNowFero1_1.0",
         "orientation": "v",
         "showlegend": true,
         "type": "scatter",
         "x": [
          36
         ],
         "xaxis": "x",
         "y": [
          86
         ],
         "yaxis": "y"
        },
        {
         "hovertemplate": "sample_id=idGymRotn1_2.0<br>Repeat content of assembly (%) =%{x}<br>Number of manual interventions=%{y}<extra></extra>",
         "legendgroup": "idGymRotn1_2.0",
         "marker": {
          "color": "#00cc96",
          "symbol": "circle"
         },
         "mode": "markers",
         "name": "idGymRotn1_2.0",
         "orientation": "v",
         "showlegend": true,
         "type": "scatter",
         "x": [
          36
         ],
         "xaxis": "x",
         "y": [
          194
         ],
         "yaxis": "y"
        },
        {
         "hovertemplate": "sample_id=idBelPand1_2.0<br>Repeat content of assembly (%) =%{x}<br>Number of manual interventions=%{y}<extra></extra>",
         "legendgroup": "idBelPand1_2.0",
         "marker": {
          "color": "#ab63fa",
          "symbol": "circle"
         },
         "mode": "markers",
         "name": "idBelPand1_2.0",
         "orientation": "v",
         "showlegend": true,
         "type": "scatter",
         "x": [
          37
         ],
         "xaxis": "x",
         "y": [
          24
         ],
         "yaxis": "y"
        },
        {
         "hovertemplate": "sample_id=idRhiCamp1_1.0<br>Repeat content of assembly (%) =%{x}<br>Number of manual interventions=%{y}<extra></extra>",
         "legendgroup": "idRhiCamp1_1.0",
         "marker": {
          "color": "#FFA15A",
          "symbol": "circle"
         },
         "mode": "markers",
         "name": "idRhiCamp1_1.0",
         "orientation": "v",
         "showlegend": true,
         "type": "scatter",
         "x": [
          39
         ],
         "xaxis": "x",
         "y": [
          174
         ],
         "yaxis": "y"
        },
        {
         "hovertemplate": "sample_id=idCisGlob1_1.0<br>Repeat content of assembly (%) =%{x}<br>Number of manual interventions=%{y}<extra></extra>",
         "legendgroup": "idCisGlob1_1.0",
         "marker": {
          "color": "#19d3f3",
          "symbol": "circle"
         },
         "mode": "markers",
         "name": "idCisGlob1_1.0",
         "orientation": "v",
         "showlegend": true,
         "type": "scatter",
         "x": [
          41
         ],
         "xaxis": "x",
         "y": [
          67
         ],
         "yaxis": "y"
        },
        {
         "hovertemplate": "sample_id=idCalVomi1_1.0<br>Repeat content of assembly (%) =%{x}<br>Number of manual interventions=%{y}<extra></extra>",
         "legendgroup": "idCalVomi1_1.0",
         "marker": {
          "color": "#FF6692",
          "symbol": "circle"
         },
         "mode": "markers",
         "name": "idCalVomi1_1.0",
         "orientation": "v",
         "showlegend": true,
         "type": "scatter",
         "x": [
          41
         ],
         "xaxis": "x",
         "y": [
          56
         ],
         "yaxis": "y"
        },
        {
         "hovertemplate": "sample_id=idNepFlae1_1.0<br>Repeat content of assembly (%) =%{x}<br>Number of manual interventions=%{y}<extra></extra>",
         "legendgroup": "idNepFlae1_1.0",
         "marker": {
          "color": "#B6E880",
          "symbol": "circle"
         },
         "mode": "markers",
         "name": "idNepFlae1_1.0",
         "orientation": "v",
         "showlegend": true,
         "type": "scatter",
         "x": [
          41
         ],
         "xaxis": "x",
         "y": [
          222
         ],
         "yaxis": "y"
        },
        {
         "hovertemplate": "sample_id=idXanPedi1_1<br>Repeat content of assembly (%) =%{x}<br>Number of manual interventions=%{y}<extra></extra>",
         "legendgroup": "idXanPedi1_1",
         "marker": {
          "color": "#FF97FF",
          "symbol": "circle"
         },
         "mode": "markers",
         "name": "idXanPedi1_1",
         "orientation": "v",
         "showlegend": true,
         "type": "scatter",
         "x": [
          41
         ],
         "xaxis": "x",
         "y": [
          515
         ],
         "yaxis": "y"
        },
        {
         "hovertemplate": "sample_id=idPlaAlba1_1<br>Repeat content of assembly (%) =%{x}<br>Number of manual interventions=%{y}<extra></extra>",
         "legendgroup": "idPlaAlba1_1",
         "marker": {
          "color": "#FECB52",
          "symbol": "circle"
         },
         "mode": "markers",
         "name": "idPlaAlba1_1",
         "orientation": "v",
         "showlegend": true,
         "type": "scatter",
         "x": [
          42
         ],
         "xaxis": "x",
         "y": [
          512
         ],
         "yaxis": "y"
        },
        {
         "hovertemplate": "sample_id=idCheUrba1_1.0<br>Repeat content of assembly (%) =%{x}<br>Number of manual interventions=%{y}<extra></extra>",
         "legendgroup": "idCheUrba1_1.0",
         "marker": {
          "color": "#636efa",
          "symbol": "circle"
         },
         "mode": "markers",
         "name": "idCheUrba1_1.0",
         "orientation": "v",
         "showlegend": true,
         "type": "scatter",
         "x": [
          42
         ],
         "xaxis": "x",
         "y": [
          54
         ],
         "yaxis": "y"
        },
        {
         "hovertemplate": "sample_id=idPolAmen1_1.0<br>Repeat content of assembly (%) =%{x}<br>Number of manual interventions=%{y}<extra></extra>",
         "legendgroup": "idPolAmen1_1.0",
         "marker": {
          "color": "#EF553B",
          "symbol": "circle"
         },
         "mode": "markers",
         "name": "idPolAmen1_1.0",
         "orientation": "v",
         "showlegend": true,
         "type": "scatter",
         "x": [
          42
         ],
         "xaxis": "x",
         "y": [
          102
         ],
         "yaxis": "y"
        },
        {
         "hovertemplate": "sample_id=idStoLuna1_1<br>Repeat content of assembly (%) =%{x}<br>Number of manual interventions=%{y}<extra></extra>",
         "legendgroup": "idStoLuna1_1",
         "marker": {
          "color": "#00cc96",
          "symbol": "circle"
         },
         "mode": "markers",
         "name": "idStoLuna1_1",
         "orientation": "v",
         "showlegend": true,
         "type": "scatter",
         "x": [
          44
         ],
         "xaxis": "x",
         "y": [
          179
         ],
         "yaxis": "y"
        },
        {
         "hovertemplate": "sample_id=idBraLaph1_1.0<br>Repeat content of assembly (%) =%{x}<br>Number of manual interventions=%{y}<extra></extra>",
         "legendgroup": "idBraLaph1_1.0",
         "marker": {
          "color": "#ab63fa",
          "symbol": "circle"
         },
         "mode": "markers",
         "name": "idBraLaph1_1.0",
         "orientation": "v",
         "showlegend": true,
         "type": "scatter",
         "x": [
          45
         ],
         "xaxis": "x",
         "y": [
          40
         ],
         "yaxis": "y"
        },
        {
         "hovertemplate": "sample_id=idMelMell2_2.0<br>Repeat content of assembly (%) =%{x}<br>Number of manual interventions=%{y}<extra></extra>",
         "legendgroup": "idMelMell2_2.0",
         "marker": {
          "color": "#FFA15A",
          "symbol": "circle"
         },
         "mode": "markers",
         "name": "idMelMell2_2.0",
         "orientation": "v",
         "showlegend": true,
         "type": "scatter",
         "x": [
          45
         ],
         "xaxis": "x",
         "y": [
          367
         ],
         "yaxis": "y"
        },
        {
         "hovertemplate": "sample_id=idEpiBalt1_1.0<br>Repeat content of assembly (%) =%{x}<br>Number of manual interventions=%{y}<extra></extra>",
         "legendgroup": "idEpiBalt1_1.0",
         "marker": {
          "color": "#19d3f3",
          "symbol": "circle"
         },
         "mode": "markers",
         "name": "idEpiBalt1_1.0",
         "orientation": "v",
         "showlegend": true,
         "type": "scatter",
         "x": [
          46
         ],
         "xaxis": "x",
         "y": [
          72
         ],
         "yaxis": "y"
        },
        {
         "hovertemplate": "sample_id=idPheCory1_1.0<br>Repeat content of assembly (%) =%{x}<br>Number of manual interventions=%{y}<extra></extra>",
         "legendgroup": "idPheCory1_1.0",
         "marker": {
          "color": "#FF6692",
          "symbol": "circle"
         },
         "mode": "markers",
         "name": "idPheCory1_1.0",
         "orientation": "v",
         "showlegend": true,
         "type": "scatter",
         "x": [
          49
         ],
         "xaxis": "x",
         "y": [
          430
         ],
         "yaxis": "y"
        },
        {
         "hovertemplate": "sample_id=idTacLuri1_1.0<br>Repeat content of assembly (%) =%{x}<br>Number of manual interventions=%{y}<extra></extra>",
         "legendgroup": "idTacLuri1_1.0",
         "marker": {
          "color": "#B6E880",
          "symbol": "circle"
         },
         "mode": "markers",
         "name": "idTacLuri1_1.0",
         "orientation": "v",
         "showlegend": true,
         "type": "scatter",
         "x": [
          50
         ],
         "xaxis": "x",
         "y": [
          164
         ],
         "yaxis": "y"
        },
        {
         "hovertemplate": "sample_id=idSphTaen1_1.0<br>Repeat content of assembly (%) =%{x}<br>Number of manual interventions=%{y}<extra></extra>",
         "legendgroup": "idSphTaen1_1.0",
         "marker": {
          "color": "#FF97FF",
          "symbol": "circle"
         },
         "mode": "markers",
         "name": "idSphTaen1_1.0",
         "orientation": "v",
         "showlegend": true,
         "type": "scatter",
         "x": [
          50
         ],
         "xaxis": "x",
         "y": [
          85
         ],
         "yaxis": "y"
        },
        {
         "hovertemplate": "sample_id=idPolAngu1_1.0<br>Repeat content of assembly (%) =%{x}<br>Number of manual interventions=%{y}<extra></extra>",
         "legendgroup": "idPolAngu1_1.0",
         "marker": {
          "color": "#FECB52",
          "symbol": "circle"
         },
         "mode": "markers",
         "name": "idPolAngu1_1.0",
         "orientation": "v",
         "showlegend": true,
         "type": "scatter",
         "x": [
          51
         ],
         "xaxis": "x",
         "y": [
          62
         ],
         "yaxis": "y"
        },
        {
         "hovertemplate": "sample_id=idEupLati1_1.0<br>Repeat content of assembly (%) =%{x}<br>Number of manual interventions=%{y}<extra></extra>",
         "legendgroup": "idEupLati1_1.0",
         "marker": {
          "color": "#636efa",
          "symbol": "circle"
         },
         "mode": "markers",
         "name": "idEupLati1_1.0",
         "orientation": "v",
         "showlegend": true,
         "type": "scatter",
         "x": [
          51
         ],
         "xaxis": "x",
         "y": [
          509
         ],
         "yaxis": "y"
        },
        {
         "hovertemplate": "sample_id=idTheAtra2_1.0<br>Repeat content of assembly (%) =%{x}<br>Number of manual interventions=%{y}<extra></extra>",
         "legendgroup": "idTheAtra2_1.0",
         "marker": {
          "color": "#EF553B",
          "symbol": "circle"
         },
         "mode": "markers",
         "name": "idTheAtra2_1.0",
         "orientation": "v",
         "showlegend": true,
         "type": "scatter",
         "x": [
          52
         ],
         "xaxis": "x",
         "y": [
          48
         ],
         "yaxis": "y"
        },
        {
         "hovertemplate": "sample_id=idSicFerr1_1<br>Repeat content of assembly (%) =%{x}<br>Number of manual interventions=%{y}<extra></extra>",
         "legendgroup": "idSicFerr1_1",
         "marker": {
          "color": "#00cc96",
          "symbol": "circle"
         },
         "mode": "markers",
         "name": "idSicFerr1_1",
         "orientation": "v",
         "showlegend": true,
         "type": "scatter",
         "x": [
          52
         ],
         "xaxis": "x",
         "y": [
          103
         ],
         "yaxis": "y"
        },
        {
         "hovertemplate": "sample_id=idCorMarg1_1<br>Repeat content of assembly (%) =%{x}<br>Number of manual interventions=%{y}<extra></extra>",
         "legendgroup": "idCorMarg1_1",
         "marker": {
          "color": "#ab63fa",
          "symbol": "circle"
         },
         "mode": "markers",
         "name": "idCorMarg1_1",
         "orientation": "v",
         "showlegend": true,
         "type": "scatter",
         "x": [
          53
         ],
         "xaxis": "x",
         "y": [
          625
         ],
         "yaxis": "y"
        },
        {
         "hovertemplate": "sample_id=idChrBici1_1<br>Repeat content of assembly (%) =%{x}<br>Number of manual interventions=%{y}<extra></extra>",
         "legendgroup": "idChrBici1_1",
         "marker": {
          "color": "#FFA15A",
          "symbol": "circle"
         },
         "mode": "markers",
         "name": "idChrBici1_1",
         "orientation": "v",
         "showlegend": true,
         "type": "scatter",
         "x": [
          54
         ],
         "xaxis": "x",
         "y": [
          413
         ],
         "yaxis": "y"
        },
        {
         "hovertemplate": "sample_id=idCluTigr1_1.0<br>Repeat content of assembly (%) =%{x}<br>Number of manual interventions=%{y}<extra></extra>",
         "legendgroup": "idCluTigr1_1.0",
         "marker": {
          "color": "#19d3f3",
          "symbol": "circle"
         },
         "mode": "markers",
         "name": "idCluTigr1_1.0",
         "orientation": "v",
         "showlegend": true,
         "type": "scatter",
         "x": [
          56
         ],
         "xaxis": "x",
         "y": [
          276
         ],
         "yaxis": "y"
        },
        {
         "name": "Regression Fit",
         "type": "scatter",
         "x": [
          12,
          12.444444444444445,
          12.88888888888889,
          13.333333333333334,
          13.777777777777779,
          14.222222222222221,
          14.666666666666666,
          15.11111111111111,
          15.555555555555555,
          16,
          16.444444444444443,
          16.88888888888889,
          17.333333333333332,
          17.77777777777778,
          18.22222222222222,
          18.666666666666664,
          19.11111111111111,
          19.555555555555557,
          20,
          20.444444444444443,
          20.88888888888889,
          21.333333333333332,
          21.77777777777778,
          22.22222222222222,
          22.666666666666664,
          23.11111111111111,
          23.555555555555557,
          24,
          24.444444444444443,
          24.888888888888886,
          25.333333333333332,
          25.77777777777778,
          26.22222222222222,
          26.666666666666664,
          27.11111111111111,
          27.555555555555557,
          28,
          28.444444444444443,
          28.88888888888889,
          29.333333333333332,
          29.77777777777778,
          30.22222222222222,
          30.666666666666664,
          31.11111111111111,
          31.555555555555554,
          32,
          32.44444444444444,
          32.888888888888886,
          33.33333333333333,
          33.77777777777777,
          34.22222222222222,
          34.666666666666664,
          35.111111111111114,
          35.55555555555556,
          36,
          36.44444444444444,
          36.888888888888886,
          37.33333333333333,
          37.77777777777777,
          38.22222222222222,
          38.666666666666664,
          39.111111111111114,
          39.55555555555556,
          40,
          40.44444444444444,
          40.888888888888886,
          41.33333333333333,
          41.77777777777777,
          42.22222222222222,
          42.666666666666664,
          43.111111111111114,
          43.55555555555556,
          44,
          44.44444444444444,
          44.888888888888886,
          45.33333333333333,
          45.77777777777778,
          46.22222222222222,
          46.666666666666664,
          47.11111111111111,
          47.55555555555556,
          48,
          48.44444444444444,
          48.888888888888886,
          49.33333333333333,
          49.77777777777778,
          50.22222222222222,
          50.666666666666664,
          51.11111111111111,
          51.55555555555555,
          52,
          52.44444444444444,
          52.888888888888886,
          53.33333333333333,
          53.77777777777778,
          54.22222222222222,
          54.666666666666664,
          55.11111111111111,
          55.55555555555555,
          56
         ],
         "y": [
          67.35534775295037,
          69.50426922505228,
          71.6531906971542,
          73.8021121692561,
          75.95103364135802,
          78.09995511345993,
          80.24887658556183,
          82.39779805766375,
          84.54671952976565,
          86.69564100186757,
          88.84456247396948,
          90.9934839460714,
          93.1424054181733,
          95.29132689027522,
          97.44024836237712,
          99.58916983447902,
          101.73809130658096,
          103.88701277868287,
          106.03593425078478,
          108.18485572288668,
          110.3337771949886,
          112.4826986670905,
          114.63162013919242,
          116.78054161129432,
          118.92946308339623,
          121.07838455549815,
          123.22730602760008,
          125.37622749970197,
          127.52514897180387,
          129.67407044390578,
          131.8229919160077,
          133.9719133881096,
          136.12083486021152,
          138.26975633231342,
          140.41867780441535,
          142.56759927651729,
          144.7165207486192,
          146.8654422207211,
          149.014363692823,
          151.1632851649249,
          153.31220663702683,
          155.46112810912874,
          157.61004958123064,
          159.75897105333254,
          161.90789252543445,
          164.05681399753638,
          166.20573546963828,
          168.3546569417402,
          170.5035784138421,
          172.652499885944,
          174.80142135804593,
          176.95034283014783,
          179.09926430224976,
          181.24818577435167,
          183.39710724645357,
          185.54602871855548,
          187.69495019065738,
          189.84387166275928,
          191.9927931348612,
          194.14171460696315,
          196.29063607906505,
          198.43955755116698,
          200.5884790232689,
          202.7374004953708,
          204.8863219674727,
          207.0352434395746,
          209.1841649116765,
          211.3330863837784,
          213.48200785588034,
          215.63092932798224,
          217.77985080008418,
          219.92877227218608,
          222.07769374428798,
          224.2266152163899,
          226.3755366884918,
          228.5244581605937,
          230.67337963269563,
          232.82230110479753,
          234.97122257689944,
          237.12014404900134,
          239.2690655211033,
          241.41798699320518,
          243.56690846530708,
          245.71582993740898,
          247.8647514095109,
          250.01367288161285,
          252.16259435371475,
          254.31151582581666,
          256.4604372979186,
          258.60935877002044,
          260.7582802421224,
          262.9072017142243,
          265.0561231863262,
          267.20504465842805,
          269.35396613053,
          271.502887602632,
          273.6518090747338,
          275.8007305468358,
          277.9496520189376,
          280.0985734910396
         ]
        }
       ],
       "layout": {
        "legend": {
         "title": {
          "text": "sample_id"
         },
         "tracegroupgap": 0
        },
        "template": {
         "data": {
          "bar": [
           {
            "error_x": {
             "color": "#2a3f5f"
            },
            "error_y": {
             "color": "#2a3f5f"
            },
            "marker": {
             "line": {
              "color": "#E5ECF6",
              "width": 0.5
             },
             "pattern": {
              "fillmode": "overlay",
              "size": 10,
              "solidity": 0.2
             }
            },
            "type": "bar"
           }
          ],
          "barpolar": [
           {
            "marker": {
             "line": {
              "color": "#E5ECF6",
              "width": 0.5
             },
             "pattern": {
              "fillmode": "overlay",
              "size": 10,
              "solidity": 0.2
             }
            },
            "type": "barpolar"
           }
          ],
          "carpet": [
           {
            "aaxis": {
             "endlinecolor": "#2a3f5f",
             "gridcolor": "white",
             "linecolor": "white",
             "minorgridcolor": "white",
             "startlinecolor": "#2a3f5f"
            },
            "baxis": {
             "endlinecolor": "#2a3f5f",
             "gridcolor": "white",
             "linecolor": "white",
             "minorgridcolor": "white",
             "startlinecolor": "#2a3f5f"
            },
            "type": "carpet"
           }
          ],
          "choropleth": [
           {
            "colorbar": {
             "outlinewidth": 0,
             "ticks": ""
            },
            "type": "choropleth"
           }
          ],
          "contour": [
           {
            "colorbar": {
             "outlinewidth": 0,
             "ticks": ""
            },
            "colorscale": [
             [
              0,
              "#0d0887"
             ],
             [
              0.1111111111111111,
              "#46039f"
             ],
             [
              0.2222222222222222,
              "#7201a8"
             ],
             [
              0.3333333333333333,
              "#9c179e"
             ],
             [
              0.4444444444444444,
              "#bd3786"
             ],
             [
              0.5555555555555556,
              "#d8576b"
             ],
             [
              0.6666666666666666,
              "#ed7953"
             ],
             [
              0.7777777777777778,
              "#fb9f3a"
             ],
             [
              0.8888888888888888,
              "#fdca26"
             ],
             [
              1,
              "#f0f921"
             ]
            ],
            "type": "contour"
           }
          ],
          "contourcarpet": [
           {
            "colorbar": {
             "outlinewidth": 0,
             "ticks": ""
            },
            "type": "contourcarpet"
           }
          ],
          "heatmap": [
           {
            "colorbar": {
             "outlinewidth": 0,
             "ticks": ""
            },
            "colorscale": [
             [
              0,
              "#0d0887"
             ],
             [
              0.1111111111111111,
              "#46039f"
             ],
             [
              0.2222222222222222,
              "#7201a8"
             ],
             [
              0.3333333333333333,
              "#9c179e"
             ],
             [
              0.4444444444444444,
              "#bd3786"
             ],
             [
              0.5555555555555556,
              "#d8576b"
             ],
             [
              0.6666666666666666,
              "#ed7953"
             ],
             [
              0.7777777777777778,
              "#fb9f3a"
             ],
             [
              0.8888888888888888,
              "#fdca26"
             ],
             [
              1,
              "#f0f921"
             ]
            ],
            "type": "heatmap"
           }
          ],
          "heatmapgl": [
           {
            "colorbar": {
             "outlinewidth": 0,
             "ticks": ""
            },
            "colorscale": [
             [
              0,
              "#0d0887"
             ],
             [
              0.1111111111111111,
              "#46039f"
             ],
             [
              0.2222222222222222,
              "#7201a8"
             ],
             [
              0.3333333333333333,
              "#9c179e"
             ],
             [
              0.4444444444444444,
              "#bd3786"
             ],
             [
              0.5555555555555556,
              "#d8576b"
             ],
             [
              0.6666666666666666,
              "#ed7953"
             ],
             [
              0.7777777777777778,
              "#fb9f3a"
             ],
             [
              0.8888888888888888,
              "#fdca26"
             ],
             [
              1,
              "#f0f921"
             ]
            ],
            "type": "heatmapgl"
           }
          ],
          "histogram": [
           {
            "marker": {
             "pattern": {
              "fillmode": "overlay",
              "size": 10,
              "solidity": 0.2
             }
            },
            "type": "histogram"
           }
          ],
          "histogram2d": [
           {
            "colorbar": {
             "outlinewidth": 0,
             "ticks": ""
            },
            "colorscale": [
             [
              0,
              "#0d0887"
             ],
             [
              0.1111111111111111,
              "#46039f"
             ],
             [
              0.2222222222222222,
              "#7201a8"
             ],
             [
              0.3333333333333333,
              "#9c179e"
             ],
             [
              0.4444444444444444,
              "#bd3786"
             ],
             [
              0.5555555555555556,
              "#d8576b"
             ],
             [
              0.6666666666666666,
              "#ed7953"
             ],
             [
              0.7777777777777778,
              "#fb9f3a"
             ],
             [
              0.8888888888888888,
              "#fdca26"
             ],
             [
              1,
              "#f0f921"
             ]
            ],
            "type": "histogram2d"
           }
          ],
          "histogram2dcontour": [
           {
            "colorbar": {
             "outlinewidth": 0,
             "ticks": ""
            },
            "colorscale": [
             [
              0,
              "#0d0887"
             ],
             [
              0.1111111111111111,
              "#46039f"
             ],
             [
              0.2222222222222222,
              "#7201a8"
             ],
             [
              0.3333333333333333,
              "#9c179e"
             ],
             [
              0.4444444444444444,
              "#bd3786"
             ],
             [
              0.5555555555555556,
              "#d8576b"
             ],
             [
              0.6666666666666666,
              "#ed7953"
             ],
             [
              0.7777777777777778,
              "#fb9f3a"
             ],
             [
              0.8888888888888888,
              "#fdca26"
             ],
             [
              1,
              "#f0f921"
             ]
            ],
            "type": "histogram2dcontour"
           }
          ],
          "mesh3d": [
           {
            "colorbar": {
             "outlinewidth": 0,
             "ticks": ""
            },
            "type": "mesh3d"
           }
          ],
          "parcoords": [
           {
            "line": {
             "colorbar": {
              "outlinewidth": 0,
              "ticks": ""
             }
            },
            "type": "parcoords"
           }
          ],
          "pie": [
           {
            "automargin": true,
            "type": "pie"
           }
          ],
          "scatter": [
           {
            "fillpattern": {
             "fillmode": "overlay",
             "size": 10,
             "solidity": 0.2
            },
            "type": "scatter"
           }
          ],
          "scatter3d": [
           {
            "line": {
             "colorbar": {
              "outlinewidth": 0,
              "ticks": ""
             }
            },
            "marker": {
             "colorbar": {
              "outlinewidth": 0,
              "ticks": ""
             }
            },
            "type": "scatter3d"
           }
          ],
          "scattercarpet": [
           {
            "marker": {
             "colorbar": {
              "outlinewidth": 0,
              "ticks": ""
             }
            },
            "type": "scattercarpet"
           }
          ],
          "scattergeo": [
           {
            "marker": {
             "colorbar": {
              "outlinewidth": 0,
              "ticks": ""
             }
            },
            "type": "scattergeo"
           }
          ],
          "scattergl": [
           {
            "marker": {
             "colorbar": {
              "outlinewidth": 0,
              "ticks": ""
             }
            },
            "type": "scattergl"
           }
          ],
          "scattermapbox": [
           {
            "marker": {
             "colorbar": {
              "outlinewidth": 0,
              "ticks": ""
             }
            },
            "type": "scattermapbox"
           }
          ],
          "scatterpolar": [
           {
            "marker": {
             "colorbar": {
              "outlinewidth": 0,
              "ticks": ""
             }
            },
            "type": "scatterpolar"
           }
          ],
          "scatterpolargl": [
           {
            "marker": {
             "colorbar": {
              "outlinewidth": 0,
              "ticks": ""
             }
            },
            "type": "scatterpolargl"
           }
          ],
          "scatterternary": [
           {
            "marker": {
             "colorbar": {
              "outlinewidth": 0,
              "ticks": ""
             }
            },
            "type": "scatterternary"
           }
          ],
          "surface": [
           {
            "colorbar": {
             "outlinewidth": 0,
             "ticks": ""
            },
            "colorscale": [
             [
              0,
              "#0d0887"
             ],
             [
              0.1111111111111111,
              "#46039f"
             ],
             [
              0.2222222222222222,
              "#7201a8"
             ],
             [
              0.3333333333333333,
              "#9c179e"
             ],
             [
              0.4444444444444444,
              "#bd3786"
             ],
             [
              0.5555555555555556,
              "#d8576b"
             ],
             [
              0.6666666666666666,
              "#ed7953"
             ],
             [
              0.7777777777777778,
              "#fb9f3a"
             ],
             [
              0.8888888888888888,
              "#fdca26"
             ],
             [
              1,
              "#f0f921"
             ]
            ],
            "type": "surface"
           }
          ],
          "table": [
           {
            "cells": {
             "fill": {
              "color": "#EBF0F8"
             },
             "line": {
              "color": "white"
             }
            },
            "header": {
             "fill": {
              "color": "#C8D4E3"
             },
             "line": {
              "color": "white"
             }
            },
            "type": "table"
           }
          ]
         },
         "layout": {
          "annotationdefaults": {
           "arrowcolor": "#2a3f5f",
           "arrowhead": 0,
           "arrowwidth": 1
          },
          "autotypenumbers": "strict",
          "coloraxis": {
           "colorbar": {
            "outlinewidth": 0,
            "ticks": ""
           }
          },
          "colorscale": {
           "diverging": [
            [
             0,
             "#8e0152"
            ],
            [
             0.1,
             "#c51b7d"
            ],
            [
             0.2,
             "#de77ae"
            ],
            [
             0.3,
             "#f1b6da"
            ],
            [
             0.4,
             "#fde0ef"
            ],
            [
             0.5,
             "#f7f7f7"
            ],
            [
             0.6,
             "#e6f5d0"
            ],
            [
             0.7,
             "#b8e186"
            ],
            [
             0.8,
             "#7fbc41"
            ],
            [
             0.9,
             "#4d9221"
            ],
            [
             1,
             "#276419"
            ]
           ],
           "sequential": [
            [
             0,
             "#0d0887"
            ],
            [
             0.1111111111111111,
             "#46039f"
            ],
            [
             0.2222222222222222,
             "#7201a8"
            ],
            [
             0.3333333333333333,
             "#9c179e"
            ],
            [
             0.4444444444444444,
             "#bd3786"
            ],
            [
             0.5555555555555556,
             "#d8576b"
            ],
            [
             0.6666666666666666,
             "#ed7953"
            ],
            [
             0.7777777777777778,
             "#fb9f3a"
            ],
            [
             0.8888888888888888,
             "#fdca26"
            ],
            [
             1,
             "#f0f921"
            ]
           ],
           "sequentialminus": [
            [
             0,
             "#0d0887"
            ],
            [
             0.1111111111111111,
             "#46039f"
            ],
            [
             0.2222222222222222,
             "#7201a8"
            ],
            [
             0.3333333333333333,
             "#9c179e"
            ],
            [
             0.4444444444444444,
             "#bd3786"
            ],
            [
             0.5555555555555556,
             "#d8576b"
            ],
            [
             0.6666666666666666,
             "#ed7953"
            ],
            [
             0.7777777777777778,
             "#fb9f3a"
            ],
            [
             0.8888888888888888,
             "#fdca26"
            ],
            [
             1,
             "#f0f921"
            ]
           ]
          },
          "colorway": [
           "#636efa",
           "#EF553B",
           "#00cc96",
           "#ab63fa",
           "#FFA15A",
           "#19d3f3",
           "#FF6692",
           "#B6E880",
           "#FF97FF",
           "#FECB52"
          ],
          "font": {
           "color": "#2a3f5f"
          },
          "geo": {
           "bgcolor": "white",
           "lakecolor": "white",
           "landcolor": "#E5ECF6",
           "showlakes": true,
           "showland": true,
           "subunitcolor": "white"
          },
          "hoverlabel": {
           "align": "left"
          },
          "hovermode": "closest",
          "mapbox": {
           "style": "light"
          },
          "paper_bgcolor": "white",
          "plot_bgcolor": "#E5ECF6",
          "polar": {
           "angularaxis": {
            "gridcolor": "white",
            "linecolor": "white",
            "ticks": ""
           },
           "bgcolor": "#E5ECF6",
           "radialaxis": {
            "gridcolor": "white",
            "linecolor": "white",
            "ticks": ""
           }
          },
          "scene": {
           "xaxis": {
            "backgroundcolor": "#E5ECF6",
            "gridcolor": "white",
            "gridwidth": 2,
            "linecolor": "white",
            "showbackground": true,
            "ticks": "",
            "zerolinecolor": "white"
           },
           "yaxis": {
            "backgroundcolor": "#E5ECF6",
            "gridcolor": "white",
            "gridwidth": 2,
            "linecolor": "white",
            "showbackground": true,
            "ticks": "",
            "zerolinecolor": "white"
           },
           "zaxis": {
            "backgroundcolor": "#E5ECF6",
            "gridcolor": "white",
            "gridwidth": 2,
            "linecolor": "white",
            "showbackground": true,
            "ticks": "",
            "zerolinecolor": "white"
           }
          },
          "shapedefaults": {
           "line": {
            "color": "#2a3f5f"
           }
          },
          "ternary": {
           "aaxis": {
            "gridcolor": "white",
            "linecolor": "white",
            "ticks": ""
           },
           "baxis": {
            "gridcolor": "white",
            "linecolor": "white",
            "ticks": ""
           },
           "bgcolor": "#E5ECF6",
           "caxis": {
            "gridcolor": "white",
            "linecolor": "white",
            "ticks": ""
           }
          },
          "title": {
           "x": 0.05
          },
          "xaxis": {
           "automargin": true,
           "gridcolor": "white",
           "linecolor": "white",
           "ticks": "",
           "title": {
            "standoff": 15
           },
           "zerolinecolor": "white",
           "zerolinewidth": 2
          },
          "yaxis": {
           "automargin": true,
           "gridcolor": "white",
           "linecolor": "white",
           "ticks": "",
           "title": {
            "standoff": 15
           },
           "zerolinecolor": "white",
           "zerolinewidth": 2
          }
         }
        },
        "title": {
         "text": "Repeat content of assembly (%) vs the number of manual interventions"
        },
        "xaxis": {
         "anchor": "y",
         "domain": [
          0,
          1
         ],
         "title": {
          "text": "Repeat content of assembly (%) "
         }
        },
        "yaxis": {
         "anchor": "x",
         "domain": [
          0,
          1
         ],
         "title": {
          "text": "Number of manual interventions"
         }
        }
       }
      }
     },
     "metadata": {},
     "output_type": "display_data"
    },
    {
     "name": "stdout",
     "output_type": "stream",
     "text": [
      "\n"
     ]
    }
   ],
   "source": [
    "import pandas as pd\n",
    "import plotly.express as px\n",
    "import plotly.graph_objects as go\n",
    "import statsmodels\n",
    "from sklearn.linear_model import LinearRegression\n",
    "import numpy as np\n",
    "\n",
    "pd.options.plotting.backend = \"plotly\"\n",
    "\n",
    "def read_in_realtime():\n",
    "    return pd.read_json('./data/realtime.json')\n",
    "\n",
    "def fix_realtime(df):\n",
    "    df['int_tolid'] = df['sample_id'].astype(str).str.split('_',n=1).str[0]\n",
    "    return df\n",
    "\n",
    "def read_in_informatics():\n",
    "    informatics = pd.read_csv('./data/informatics.tsv', delimiter='\\t')\n",
    "    informatics.drop(columns=['statussummary','status','asm', 'jira', 'accession', 'organelle', 'uli', 'common name',\n",
    "                        'sex', 'genomic sex', 'ploidy', 'taxon', 'family', 'genus', 'order', 'phylum', 'BioSample',\n",
    "                        'BioProject', 'vgp_orders', 'vgp_plus', 'asg', 'erga', '25g', 'britain&ireland', 'dnazoo',\n",
    "                        'cichlids', 'BADASS', 'rodents', 'jiggins', 'murchison', 'R&D', 'protist-microalgae', 'UKbutterflies',\n",
    "                        '10XG cov (gscope)', '10XG cov (sts)', 'last_data', 'sts pacbio status (new)','sts hic status (new)',\n",
    "                        'hic_from', 'PacBio','ONT','10XG','Htag','BioNano','HiC','RNAseq','IsoSeq','note or paper','raw data sub',\n",
    "                        'submission todo','contig N50 (Mb)','contig count','scaffold N50 (Mb)','scaffold count','longest (Mb)',\n",
    "                        'length (Mb)','BUSCO','QV','runs','notes','pipeline status','Unnamed: 0', 'coi', 'completeness',\n",
    "                        'darwin', 'sts size (Mb)', 'est. size (Mb)', 'long read cov (gscope)', 'long read cov (sts)'], inplace=True)\n",
    "    return informatics\n",
    "\n",
    "def fix_informatics(informatics):\n",
    "    informatics['prefix'] = informatics['sample'].astype(str).str[:2]\n",
    "    informatics = informatics.rename(columns={'sample':'int_tolid'})\n",
    "    return informatics.query(\"`prefix` == 'id' \")\n",
    "\n",
    "def read_in_tolqc():\n",
    "    return pd.read_json('./data/tolqc.json')\n",
    "\n",
    "def fix_tolqc(df):\n",
    "    new_df = df[['specimen','N50','N90',\"plot-ccs_readlength_hist\", 'group']]\n",
    "    new_df['project'] = new_df['group'].astype(str).str.split('/').str[0]\n",
    "    new_df['prefix'] = new_df['specimen'].astype(str).str[:2]\n",
    "    new_df = new_df.rename(columns={'sample':'int_tolid'})\n",
    "    return new_df.query(\"`prefix` == 'id' & `project` == 'darwin'\")\n",
    "\n",
    "def subset_tolqc(realtime, tolqc):\n",
    "    return tolqc[tolqc['specimen'].isin(realtime['int_tolid'].tolist())]\n",
    "\n",
    "def merge_frames(df1, df2):\n",
    "    merged = pd.merge(df1,\n",
    "                df2[['int_tolid','htzgy (%)', 'rep frac (%)']],\n",
    "                on='int_tolid',\n",
    "                how='left')\n",
    "    return merged\n",
    "\n",
    "def graph_hetero(df):\n",
    "    df.sort_values('htzgy (%)',inplace=True)\n",
    "    fig = px.scatter(x=df['length_after'],\n",
    "                    y=df['htzgy (%)'],\n",
    "                    title='Length after curation by Heterozygosity (%)',\n",
    "                    color=df['sample_id'])\n",
    "    fig.show()\n",
    "    fig.write_image(\"images/fig1.png\")\n",
    "\n",
    "def graph_length_change(df):\n",
    "    new = df.query(\"`sample_id` != 'idPheCory1_1.0' and `sample_id` != 'idNowFero1_1.0'\")\n",
    "    fig = px.scatter(x=new['sample_id'],\n",
    "                    y=new['length_change'],\n",
    "                    title='Sample_id by Change in length (%)',\n",
    "                    color=new['sample_id'])\n",
    "    fig.show()\n",
    "    fig.write_image(\"images/fig2.png\")\n",
    "    print(f'OUTLIERS = graph_length_change: idPheCory1_1.0 = -5.5 | idNowFero1_1.0 = +2.4')\n",
    "\n",
    "def graph_rep(df):\n",
    "    df.sort_values('rep frac (%)',inplace=True)\n",
    "    fig = px.scatter(x=df['length_after'],\n",
    "                    y=df['rep frac (%)'],\n",
    "                    title='Length (post-curation) by Repeat Fraction (%)',\n",
    "                    color=df['sample_id'])\n",
    "    fig.show()\n",
    "    fig.write_image(\"images/fig3.png\")\n",
    "    print(f'')\n",
    "\n",
    "def graph_rep_change(df):\n",
    "    df.sort_values('rep frac (%)',inplace=True)\n",
    "    fig = px.scatter(x=df['rep frac (%)'],\n",
    "                    y=df['length_change'],\n",
    "                    title='Length change(%) by Repeat Fraction (%)',\n",
    "                    color=df['sample_id'],\n",
    "                    trendline=\"ols\") # Clearly a trend here, but line doesn't work\n",
    "    fig.show()\n",
    "    fig.write_image(\"images/fig4.png\")\n",
    "\n",
    "def graph_scaff_change(df):\n",
    "    fig = px.scatter(x=df['sample_id'],\n",
    "                    y=(df['scaff_count_after']-df['scaff_count_before'])/df['scaff_count_before']*100,\n",
    "                    title='Sample_id by Change in scaffold count (%)',\n",
    "                    color=df['sample_id'])\n",
    "    fig.show()\n",
    "    fig.write_image(\"images/fig5.png\")\n",
    "    print(f'')\n",
    "\n",
    "def graph_n50(df):\n",
    "    fig = px.scatter(x=df['specimen'],\n",
    "                y=df['N50'],\n",
    "                title='Specimen by N50 (no. of reads that contain 50% of estimated genome)',\n",
    "                color=df['specimen'])\n",
    "    fig.show()\n",
    "    fig.write_image(\"images/fig6.png\")\n",
    "    print(f'')\n",
    "\n",
    "def graph_n90(df):\n",
    "    fig = px.scatter(x=df['specimen'],\n",
    "                y=df['N90'],\n",
    "                title='Specimen by N90 (no. of reads that contain 90% of estimated genome)',\n",
    "                color=df['specimen'])\n",
    "    fig.show()\n",
    "    print(f'')\n",
    "    fig.write_image(\"images/fig7.png\")\n",
    "\n",
    "def graph_size_interventions(df):\n",
    "    model = LinearRegression()\n",
    "    df['mbp'] = df['length_after']/1000000\n",
    "    X = df['mbp'].values.reshape(-1, 1)\n",
    "    Y = df['manual_interventions']\n",
    "    model.fit(X, Y)\n",
    "\n",
    "    x_range = np.linspace(X.min(), X.max(), 100)\n",
    "    y_range = model.predict(x_range.reshape(-1, 1))\n",
    "\n",
    "    fig = px.scatter(df, x=df['length_after']/1000000,\n",
    "                y='manual_interventions',\n",
    "                title='Length of Genome post-curation vs the number of manual interventions',\n",
    "                color=df['sample_id'],\n",
    "                labels= {\n",
    "                    'x':'Genome Size post-curation (mbp)',\n",
    "                    'manual_interventions':'Number of manual interventions'\n",
    "                })\n",
    "    \n",
    "    fig.add_traces(go.Scatter(x=x_range, y=y_range, name='Regression Fit'))\n",
    "\n",
    "    fig.show()\n",
    "    print(f'')\n",
    "    fig.write_image(\"images/fig_size_interventions.png\")\n",
    "\n",
    "def graph_hetero_interventions(df):\n",
    "    model = LinearRegression()\n",
    "    X = df['htzgy (%)'].values.reshape(-1, 1)\n",
    "    Y = df['manual_interventions']\n",
    "    model.fit(X, Y)\n",
    "\n",
    "    x_range = np.linspace(X.min(), X.max(), 100)\n",
    "    y_range = model.predict(x_range.reshape(-1, 1))\n",
    "\n",
    "    df.sort_values('htzgy (%)',inplace=True)\n",
    "    fig = px.scatter(df, x='htzgy (%)',\n",
    "                    y='manual_interventions',\n",
    "                    title='Heterozygosity of assembly (pre-curation) vs the number of manual interventions',\n",
    "                    color=df['sample_id'],\n",
    "                    labels= {\n",
    "                        'htzgy (%)':'Heterozygosity of assembly (%) ',\n",
    "                        'manual_interventions':'Number of manual interventions'\n",
    "                    })\n",
    "\n",
    "    fig.add_traces(go.Scatter(x=x_range, y=y_range, name='Regression Fit'))\n",
    "\n",
    "    fig.show()\n",
    "    print(f'')\n",
    "    fig.write_image(\"images/fig_hetero_interventions.png\")\n",
    "\n",
    "def graph_rep_interventions(df):\n",
    "    model = LinearRegression()\n",
    "    X = df['rep frac (%)'].values.reshape(-1, 1)\n",
    "    Y = df['manual_interventions']\n",
    "    model.fit(X, Y)\n",
    "\n",
    "    x_range = np.linspace(X.min(), X.max(), 100)\n",
    "    y_range = model.predict(x_range.reshape(-1, 1))\n",
    "\n",
    "    df.sort_values('rep frac (%)',inplace=True)\n",
    "    fig = px.scatter(df, x=df['rep frac (%)'],\n",
    "                    y='manual_interventions',\n",
    "                    title='Repeat content of assembly (%) vs the number of manual interventions',\n",
    "                    color=df['sample_id'],\n",
    "                    labels= {\n",
    "                        'rep frac (%)':'Repeat content of assembly (%) ',\n",
    "                        'manual_interventions':'Number of manual interventions'\n",
    "                    })\n",
    "    \n",
    "    fig.add_traces(go.Scatter(x=x_range, y=y_range, name='Regression Fit'))\n",
    "\n",
    "    fig.show()\n",
    "    print(f'')\n",
    "    fig.write_image(\"images/fig_rep_interventions.png\")\n",
    "\n",
    "def main():\n",
    "    realtime = read_in_realtime()\n",
    "    fixed_realtime = fix_realtime(realtime)\n",
    "\n",
    "    informatics = read_in_informatics()\n",
    "    fixed_informatics = fix_informatics(informatics)\n",
    "\n",
    "    tolqc = read_in_tolqc()\n",
    "    fixed_tolqc = fix_tolqc(tolqc)\n",
    "    s_tolqc = subset_tolqc(fixed_realtime, fixed_tolqc)\n",
    "    merged = merge_frames(fixed_realtime, fixed_informatics)\n",
    "    merged.to_csv(f'out_data/realtime_and_informatics.tsv', sep='\\t')\n",
    "    s_tolqc.to_csv(f'out_data/tolqc.tsv', sep='\\t')\n",
    "\n",
    "    merged[['rep frac (%)', 'htzgy (%)']] = merged[['rep frac (%)', 'htzgy (%)']].apply(pd.to_numeric)\n",
    "\n",
    "    #graph_hetero(merged)\n",
    "    #graph_length_change(merged)\n",
    "    #graph_rep(merged)\n",
    "    #graph_rep_change(merged)\n",
    "    #graph_length_change(merged)\n",
    "    #graph_n50(s_tolqc)\n",
    "    #graph_n90(s_tolqc)\n",
    "    graph_size_interventions(merged)\n",
    "    graph_hetero_interventions(merged)\n",
    "    graph_rep_interventions(merged)\n",
    "\n",
    "if __name__ == '__main__':\n",
    "    main()"
   ]
  },
  {
   "cell_type": "code",
   "execution_count": null,
   "metadata": {},
   "outputs": [],
   "source": []
  },
  {
   "cell_type": "code",
   "execution_count": null,
   "metadata": {},
   "outputs": [],
   "source": []
  },
  {
   "cell_type": "code",
   "execution_count": null,
   "metadata": {},
   "outputs": [],
   "source": []
  }
 ],
 "metadata": {
  "kernelspec": {
   "display_name": "Python 3.8.2 64-bit",
   "language": "python",
   "name": "python3"
  },
  "language_info": {
   "codemirror_mode": {
    "name": "ipython",
    "version": 3
   },
   "file_extension": ".py",
   "mimetype": "text/x-python",
   "name": "python",
   "nbconvert_exporter": "python",
   "pygments_lexer": "ipython3",
   "version": "3.8.2"
  },
  "orig_nbformat": 4,
  "vscode": {
   "interpreter": {
    "hash": "31f2aee4e71d21fbe5cf8b01ff0e069b9275f58929596ceb00d14d90e3e16cd6"
   }
  }
 },
 "nbformat": 4,
 "nbformat_minor": 2
}
